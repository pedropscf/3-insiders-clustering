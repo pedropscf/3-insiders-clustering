{
 "cells": [
  {
   "cell_type": "markdown",
   "metadata": {
    "papermill": {
     "duration": 0.083082,
     "end_time": "2021-09-18T14:05:45.007338",
     "exception": false,
     "start_time": "2021-09-18T14:05:44.924256",
     "status": "completed"
    },
    "tags": []
   },
   "source": [
    "# 0. Imports packages, modules and functions"
   ]
  },
  {
   "cell_type": "markdown",
   "metadata": {
    "heading_collapsed": true,
    "papermill": {
     "duration": 0.069178,
     "end_time": "2021-09-18T14:05:45.141224",
     "exception": false,
     "start_time": "2021-09-18T14:05:45.072046",
     "status": "completed"
    },
    "tags": []
   },
   "source": [
    "## 0.1. Import modules"
   ]
  },
  {
   "cell_type": "code",
   "execution_count": 1,
   "metadata": {
    "ExecuteTime": {
     "end_time": "2022-01-26T21:34:17.300142Z",
     "start_time": "2022-01-26T21:34:05.357238Z"
    },
    "execution": {
     "iopub.execute_input": "2021-09-18T14:05:45.287180Z",
     "iopub.status.busy": "2021-09-18T14:05:45.282075Z",
     "iopub.status.idle": "2021-09-18T14:06:00.122515Z",
     "shell.execute_reply": "2021-09-18T14:06:00.121970Z"
    },
    "hidden": true,
    "papermill": {
     "duration": 14.91665,
     "end_time": "2021-09-18T14:06:00.122788",
     "exception": false,
     "start_time": "2021-09-18T14:05:45.206138",
     "status": "completed"
    },
    "tags": []
   },
   "outputs": [
    {
     "ename": "ModuleNotFoundError",
     "evalue": "No module named 'umap.umap_'",
     "output_type": "error",
     "traceback": [
      "\u001b[0;31m---------------------------------------------------------------------------\u001b[0m",
      "\u001b[0;31mModuleNotFoundError\u001b[0m                       Traceback (most recent call last)",
      "\u001b[0;32m<ipython-input-1-d3efc6b263a5>\u001b[0m in \u001b[0;36m<module>\u001b[0;34m()\u001b[0m\n\u001b[1;32m      3\u001b[0m \u001b[0;32mimport\u001b[0m \u001b[0mseaborn\u001b[0m                  \u001b[0;32mas\u001b[0m \u001b[0msns\u001b[0m\u001b[0;34m\u001b[0m\u001b[0;34m\u001b[0m\u001b[0m\n\u001b[1;32m      4\u001b[0m \u001b[0;32mimport\u001b[0m \u001b[0mmatplotlib\u001b[0m\u001b[0;34m.\u001b[0m\u001b[0mpyplot\u001b[0m        \u001b[0;32mas\u001b[0m \u001b[0mplt\u001b[0m\u001b[0;34m\u001b[0m\u001b[0;34m\u001b[0m\u001b[0m\n\u001b[0;32m----> 5\u001b[0;31m \u001b[0;32mimport\u001b[0m \u001b[0mumap\u001b[0m\u001b[0;34m.\u001b[0m\u001b[0mumap_\u001b[0m               \u001b[0;32mas\u001b[0m \u001b[0mump\u001b[0m\u001b[0;34m\u001b[0m\u001b[0;34m\u001b[0m\u001b[0m\n\u001b[0m\u001b[1;32m      6\u001b[0m \u001b[0;34m\u001b[0m\u001b[0m\n\u001b[1;32m      7\u001b[0m \u001b[0;34m\u001b[0m\u001b[0m\n",
      "\u001b[0;31mModuleNotFoundError\u001b[0m: No module named 'umap.umap_'"
     ]
    }
   ],
   "source": [
    "import pandas                   as pd\n",
    "import numpy                    as np\n",
    "import seaborn                  as sns\n",
    "import matplotlib.pyplot        as plt\n",
    "import umap.umap_               as ump\n",
    "\n",
    "\n",
    "from plotly      import express as px\n",
    "\n",
    "from scipy                      import stats\n",
    "from scipy.cluster              import hierarchy    as hc\n",
    "from sqlalchemy                 import create_engine\n",
    "from sklearn                    import cluster\n",
    "from sklearn                    import decomposition\n",
    "from sklearn                    import metrics\n",
    "from sklearn.ensemble           import RandomForestRegressor\n",
    "from sklearn.preprocessing      import RobustScaler, MinMaxScaler, StandardScaler\n",
    "\n",
    "import datetime\n",
    "import inflection\n",
    "import math\n",
    "import random\n",
    "import warnings\n",
    "import re\n",
    "import sqlite3\n",
    "\n",
    "warnings.filterwarnings('ignore')\n",
    "%matplotlib inline"
   ]
  },
  {
   "cell_type": "markdown",
   "metadata": {
    "papermill": {
     "duration": 0.064419,
     "end_time": "2021-09-18T14:06:00.251968",
     "exception": false,
     "start_time": "2021-09-18T14:06:00.187549",
     "status": "completed"
    },
    "tags": []
   },
   "source": [
    "## 0.2. Helper functions"
   ]
  },
  {
   "cell_type": "code",
   "execution_count": 2,
   "metadata": {
    "ExecuteTime": {
     "end_time": "2022-01-26T21:34:17.416951Z",
     "start_time": "2022-01-26T21:34:17.301865Z"
    },
    "code_folding": [
     0,
     12,
     17,
     22,
     39,
     63
    ],
    "execution": {
     "iopub.execute_input": "2021-09-18T14:06:00.495010Z",
     "iopub.status.busy": "2021-09-18T14:06:00.489646Z",
     "iopub.status.idle": "2021-09-18T14:06:00.509151Z",
     "shell.execute_reply": "2021-09-18T14:06:00.508499Z"
    },
    "papermill": {
     "duration": 0.190845,
     "end_time": "2021-09-18T14:06:00.509332",
     "exception": false,
     "start_time": "2021-09-18T14:06:00.318487",
     "status": "completed"
    },
    "tags": []
   },
   "outputs": [],
   "source": [
    "def cramer_v(x, y):\n",
    "    cm = pd.crosstab(x, y).as_matrix()\n",
    "    n = cm.sum()\n",
    "    r, k = cm.shape\n",
    "    \n",
    "    chi2 = stats.chi2_contingency(cm)[0]\n",
    "    chi2_corrected = chi2 - ((k - 1)*(r - 1))/(n - 1)\n",
    "    k_corrected = k - ((k - 1)**2)/(n - 1)\n",
    "    r_corrected = r - ((r - 1)**2)/(n - 1)\n",
    "    \n",
    "    return np.sqrt((chi2_corrected/n) / (min(k_corrected - 1, r_corrected - 1)))\n",
    "\n",
    "def get_class_count(df, identification, target_var):\n",
    "    \n",
    "    class_count = df.groupby([target_var])[identification].nunique()\n",
    "    return {key: class_count[key] for key in list(class_count.keys())}\n",
    "\n",
    "def get_class_proportion(df, identification, target_var):\n",
    "    \n",
    "    class_counts = get_class_count(df, identification , target_var)\n",
    "    return {val[0]: round(100 * val[1]/df.shape[0], 2) for val in class_counts.items()}\n",
    "\n",
    "def performance(model, x_train, y_train):\n",
    "    # define scoring metrics\n",
    "    scoring = {'accuracy': 'accuracy',\n",
    "               'precision': make_scorer(precision_score),\n",
    "               'recall': make_scorer(recall_score),\n",
    "               'f1_score': make_scorer(f1_score),\n",
    "               'roc_auc_score': make_scorer(roc_auc_score),\n",
    "               'mcc': make_scorer(matthews_corrcoef)}\n",
    "\n",
    "    # calculate scores with cross_validate\n",
    "    scores = cross_validate(model, x_train, y_train, cv=10, scoring=scoring)\n",
    "\n",
    "    # performance data frame\n",
    "    performance = pd.DataFrame.from_dict(scores).drop(['fit_time', 'score_time'], axis=1)\n",
    "    performance = pd.DataFrame(performance.mean()).T\n",
    "    return performance\n",
    "\n",
    "def performance_test(model_name, model, x_test, y_test):\n",
    "    # predcitions\n",
    "    yhat = model.predict(x_test)\n",
    "    \n",
    "    # Performance metrics\n",
    "    precision = precision_score(y_test, yhat)\n",
    "    recall = recall_score(y_test, yhat)\n",
    "    f1 = f1_score(y_test, yhat)\n",
    "    roc_auc = roc_auc_score(y_test, yhat)\n",
    "    mcc = matthews_corrcoef(y_test, yhat)\n",
    "\n",
    "    # Performance dataframe\n",
    "    performance_df = pd.DataFrame({'precision': precision, 'recall': recall, 'f1_score': f1, \n",
    "                               'roc_auc_score': roc_auc, 'mcc': mcc}, index=[model_name])\n",
    "\n",
    "    # confusion matrix\n",
    "    cm = confusion_matrix(y_test, yhat)\n",
    "\n",
    "    # dataframe for heatmap\n",
    "    cm_df = pd.DataFrame(cm, columns=['predicted_not_churn', 'predicted_churn'], \n",
    "                         index=['actual_not_churn', 'actual_churn'])\n",
    "    \n",
    "    return performance_df, cm_df\n",
    "\n",
    "def silhouette_analysis(n_clusters, labels, data):\n",
    "    '''\n",
    "    Functions that analyzes the silhouette of a previous trained clustering model, for n chosen clusters and data.\n",
    "    \n",
    "    param n_clusters\n",
    "    List of integers representing the number of clusters that will be analyzed.\n",
    "    \n",
    "    param labels\n",
    "    Array of labels obtained from the model prediction. Attention that the data used to create the labels, must be coherent with the data used in this function.\n",
    "    \n",
    "    param data\n",
    "    The dataframe used to generate the labels.\n",
    "    '''\n",
    "    from sklearn.metrics import silhouette_samples\n",
    "    \n",
    "    fig, ax = plt.subplots( int(len(n_clusters)/2.0) + 1, 2 )\n",
    "    fig.set_size_inches(25,20)\n",
    "    \n",
    "    for k in n_clusters:\n",
    "        \n",
    "        q,mod = divmod(k, 2)\n",
    "        \n",
    "        ax[q-1, mod].set_xlim([-0.1, 1])\n",
    "        ax[q-1, mod].set_ylim([0, len(data)])\n",
    "        \n",
    "        silhouette_samples_values = silhouette_samples(data, labels)\n",
    "        \n",
    "        y_start = 0\n",
    "        \n",
    "        for i in range(k):\n",
    "            \n",
    "            # selecting the cluster i\n",
    "            i_th_samples = silhouette_samples_values[labels == i]\n",
    "            \n",
    "            # sorting the values\n",
    "            i_th_samples.sort()\n",
    "            \n",
    "            # sizing the cluster i\n",
    "            size_cluster_i = i_th_samples.shape[0]\n",
    "            y_end = y_start + size_cluster_i\n",
    "            \n",
    "            # updating the color\n",
    "            cmap = cm.get_cmap('Spectral')\n",
    "            color = cmap(i / k)\n",
    "            \n",
    "            # ploting the silhouette for cluster i\n",
    "            ax[q-1,mod].fill_betweenx(np.arange(y_start, y_end), 0, i_th_samples)\n",
    "            \n",
    "            # updating y axis\n",
    "            y_start = y_end\n",
    "            \n",
    "        ax[q-1,mod].set_yticks([])\n",
    "        ax[q-1,mod].set_xticks([-0.1, 0, 0.2, 0.4, 0.6, 0.8, 1])\n",
    "        \n",
    "    plt.show()"
   ]
  },
  {
   "cell_type": "markdown",
   "metadata": {
    "papermill": {
     "duration": 0.061367,
     "end_time": "2021-09-18T14:06:00.631207",
     "exception": false,
     "start_time": "2021-09-18T14:06:00.569840",
     "status": "completed"
    },
    "tags": []
   },
   "source": [
    "## 0.3. Loading data"
   ]
  },
  {
   "cell_type": "code",
   "execution_count": 3,
   "metadata": {
    "ExecuteTime": {
     "end_time": "2022-01-26T21:34:17.961396Z",
     "start_time": "2022-01-26T21:34:17.419521Z"
    },
    "execution": {
     "iopub.execute_input": "2021-09-18T14:06:00.763729Z",
     "iopub.status.busy": "2021-09-18T14:06:00.763093Z",
     "iopub.status.idle": "2021-09-18T14:06:01.342637Z",
     "shell.execute_reply": "2021-09-18T14:06:01.342074Z"
    },
    "papermill": {
     "duration": 0.648034,
     "end_time": "2021-09-18T14:06:01.342808",
     "exception": false,
     "start_time": "2021-09-18T14:06:00.694774",
     "status": "completed"
    },
    "tags": []
   },
   "outputs": [],
   "source": [
    "# load data\n",
    "path = '/home/pedro/Documentos/repositories/3-insiders-clustering'\n",
    "df_raw = pd.read_csv(path + '/data/raw/Ecommerce.csv', encoding = \"ISO-8859-1\" )\n",
    "\n",
    "# drop extra column\n",
    "df_raw = df_raw.drop( columns=['Unnamed: 8'], axis=1 )"
   ]
  },
  {
   "cell_type": "markdown",
   "metadata": {
    "heading_collapsed": true,
    "papermill": {
     "duration": 0.066097,
     "end_time": "2021-09-18T14:06:01.476057",
     "exception": false,
     "start_time": "2021-09-18T14:06:01.409960",
     "status": "completed"
    },
    "tags": []
   },
   "source": [
    "## 0.4. Image controls"
   ]
  },
  {
   "cell_type": "code",
   "execution_count": 4,
   "metadata": {
    "ExecuteTime": {
     "end_time": "2022-01-26T21:34:17.969159Z",
     "start_time": "2022-01-26T21:34:17.962827Z"
    },
    "execution": {
     "iopub.execute_input": "2021-09-18T14:06:01.606902Z",
     "iopub.status.busy": "2021-09-18T14:06:01.606381Z",
     "iopub.status.idle": "2021-09-18T14:06:01.609292Z",
     "shell.execute_reply": "2021-09-18T14:06:01.609677Z"
    },
    "hidden": true,
    "papermill": {
     "duration": 0.072636,
     "end_time": "2021-09-18T14:06:01.609892",
     "exception": false,
     "start_time": "2021-09-18T14:06:01.537256",
     "status": "completed"
    },
    "tags": []
   },
   "outputs": [],
   "source": [
    " def jupyter_settings():\n",
    "    %matplotlib inline\n",
    "    %pylab inline\n",
    "    \n",
    "    plt.style.use( 'ggplot')\n",
    "    plt.rcParams['figure.figsize'] = [24, 15]\n",
    "    plt.rcParams['font.size'] = 24\n",
    "    \n",
    "    display( HTML( '<style>.container { width:100% !important; }</style>') )\n",
    "    pd.options.display.max_columns = None\n",
    "    pd.options.display.max_rows = None\n",
    "    pd.set_option( 'display.expand_frame_repr', False )\n",
    "    \n",
    "    sns.set()"
   ]
  },
  {
   "cell_type": "markdown",
   "metadata": {
    "papermill": {
     "duration": 0.064504,
     "end_time": "2021-09-18T14:06:01.735175",
     "exception": false,
     "start_time": "2021-09-18T14:06:01.670671",
     "status": "completed"
    },
    "tags": []
   },
   "source": [
    "# 1. Data description"
   ]
  },
  {
   "cell_type": "code",
   "execution_count": 5,
   "metadata": {
    "ExecuteTime": {
     "end_time": "2022-01-26T21:34:17.989720Z",
     "start_time": "2022-01-26T21:34:17.970857Z"
    },
    "execution": {
     "iopub.execute_input": "2021-09-18T14:06:01.997303Z",
     "iopub.status.busy": "2021-09-18T14:06:01.996783Z",
     "iopub.status.idle": "2021-09-18T14:06:02.016983Z",
     "shell.execute_reply": "2021-09-18T14:06:02.016496Z"
    },
    "papermill": {
     "duration": 0.087081,
     "end_time": "2021-09-18T14:06:02.017153",
     "exception": false,
     "start_time": "2021-09-18T14:06:01.930072",
     "status": "completed"
    },
    "tags": []
   },
   "outputs": [],
   "source": [
    "df1 = df_raw.copy()"
   ]
  },
  {
   "cell_type": "markdown",
   "metadata": {
    "papermill": {
     "duration": 0.063684,
     "end_time": "2021-09-18T14:06:02.146646",
     "exception": false,
     "start_time": "2021-09-18T14:06:02.082962",
     "status": "completed"
    },
    "tags": []
   },
   "source": [
    "## 1.1. Rename columns"
   ]
  },
  {
   "cell_type": "code",
   "execution_count": 6,
   "metadata": {
    "ExecuteTime": {
     "end_time": "2022-01-26T21:34:17.995779Z",
     "start_time": "2022-01-26T21:34:17.991014Z"
    },
    "execution": {
     "iopub.execute_input": "2021-09-18T14:06:02.287566Z",
     "iopub.status.busy": "2021-09-18T14:06:02.287013Z",
     "iopub.status.idle": "2021-09-18T14:06:02.296608Z",
     "shell.execute_reply": "2021-09-18T14:06:02.297315Z"
    },
    "papermill": {
     "duration": 0.086486,
     "end_time": "2021-09-18T14:06:02.297569",
     "exception": false,
     "start_time": "2021-09-18T14:06:02.211083",
     "status": "completed"
    },
    "tags": []
   },
   "outputs": [
    {
     "data": {
      "text/plain": [
       "Index(['InvoiceNo', 'StockCode', 'Description', 'Quantity', 'InvoiceDate',\n",
       "       'UnitPrice', 'CustomerID', 'Country'],\n",
       "      dtype='object')"
      ]
     },
     "execution_count": 6,
     "metadata": {},
     "output_type": "execute_result"
    }
   ],
   "source": [
    "df1.columns"
   ]
  },
  {
   "cell_type": "code",
   "execution_count": 7,
   "metadata": {
    "ExecuteTime": {
     "end_time": "2022-01-26T21:34:18.010940Z",
     "start_time": "2022-01-26T21:34:17.997479Z"
    },
    "execution": {
     "iopub.execute_input": "2021-09-18T14:06:02.444918Z",
     "iopub.status.busy": "2021-09-18T14:06:02.444352Z",
     "iopub.status.idle": "2021-09-18T14:06:02.447525Z",
     "shell.execute_reply": "2021-09-18T14:06:02.446992Z"
    },
    "papermill": {
     "duration": 0.083364,
     "end_time": "2021-09-18T14:06:02.447740",
     "exception": false,
     "start_time": "2021-09-18T14:06:02.364376",
     "status": "completed"
    },
    "tags": []
   },
   "outputs": [
    {
     "data": {
      "text/html": [
       "<div>\n",
       "<style scoped>\n",
       "    .dataframe tbody tr th:only-of-type {\n",
       "        vertical-align: middle;\n",
       "    }\n",
       "\n",
       "    .dataframe tbody tr th {\n",
       "        vertical-align: top;\n",
       "    }\n",
       "\n",
       "    .dataframe thead th {\n",
       "        text-align: right;\n",
       "    }\n",
       "</style>\n",
       "<table border=\"1\" class=\"dataframe\">\n",
       "  <thead>\n",
       "    <tr style=\"text-align: right;\">\n",
       "      <th></th>\n",
       "      <th>invoice_no</th>\n",
       "      <th>stock_code</th>\n",
       "      <th>description</th>\n",
       "      <th>quantity</th>\n",
       "      <th>invoice_date</th>\n",
       "      <th>unit_price</th>\n",
       "      <th>customer_id</th>\n",
       "      <th>country</th>\n",
       "    </tr>\n",
       "  </thead>\n",
       "  <tbody>\n",
       "    <tr>\n",
       "      <th>0</th>\n",
       "      <td>536365</td>\n",
       "      <td>85123A</td>\n",
       "      <td>WHITE HANGING HEART T-LIGHT HOLDER</td>\n",
       "      <td>6</td>\n",
       "      <td>29-Nov-16</td>\n",
       "      <td>2.55</td>\n",
       "      <td>17850.0</td>\n",
       "      <td>United Kingdom</td>\n",
       "    </tr>\n",
       "    <tr>\n",
       "      <th>1</th>\n",
       "      <td>536365</td>\n",
       "      <td>71053</td>\n",
       "      <td>WHITE METAL LANTERN</td>\n",
       "      <td>6</td>\n",
       "      <td>29-Nov-16</td>\n",
       "      <td>3.39</td>\n",
       "      <td>17850.0</td>\n",
       "      <td>United Kingdom</td>\n",
       "    </tr>\n",
       "    <tr>\n",
       "      <th>2</th>\n",
       "      <td>536365</td>\n",
       "      <td>84406B</td>\n",
       "      <td>CREAM CUPID HEARTS COAT HANGER</td>\n",
       "      <td>8</td>\n",
       "      <td>29-Nov-16</td>\n",
       "      <td>2.75</td>\n",
       "      <td>17850.0</td>\n",
       "      <td>United Kingdom</td>\n",
       "    </tr>\n",
       "    <tr>\n",
       "      <th>3</th>\n",
       "      <td>536365</td>\n",
       "      <td>84029G</td>\n",
       "      <td>KNITTED UNION FLAG HOT WATER BOTTLE</td>\n",
       "      <td>6</td>\n",
       "      <td>29-Nov-16</td>\n",
       "      <td>3.39</td>\n",
       "      <td>17850.0</td>\n",
       "      <td>United Kingdom</td>\n",
       "    </tr>\n",
       "    <tr>\n",
       "      <th>4</th>\n",
       "      <td>536365</td>\n",
       "      <td>84029E</td>\n",
       "      <td>RED WOOLLY HOTTIE WHITE HEART.</td>\n",
       "      <td>6</td>\n",
       "      <td>29-Nov-16</td>\n",
       "      <td>3.39</td>\n",
       "      <td>17850.0</td>\n",
       "      <td>United Kingdom</td>\n",
       "    </tr>\n",
       "  </tbody>\n",
       "</table>\n",
       "</div>"
      ],
      "text/plain": [
       "  invoice_no stock_code                          description  quantity  \\\n",
       "0     536365     85123A   WHITE HANGING HEART T-LIGHT HOLDER         6   \n",
       "1     536365      71053                  WHITE METAL LANTERN         6   \n",
       "2     536365     84406B       CREAM CUPID HEARTS COAT HANGER         8   \n",
       "3     536365     84029G  KNITTED UNION FLAG HOT WATER BOTTLE         6   \n",
       "4     536365     84029E       RED WOOLLY HOTTIE WHITE HEART.         6   \n",
       "\n",
       "  invoice_date  unit_price  customer_id         country  \n",
       "0    29-Nov-16        2.55      17850.0  United Kingdom  \n",
       "1    29-Nov-16        3.39      17850.0  United Kingdom  \n",
       "2    29-Nov-16        2.75      17850.0  United Kingdom  \n",
       "3    29-Nov-16        3.39      17850.0  United Kingdom  \n",
       "4    29-Nov-16        3.39      17850.0  United Kingdom  "
      ]
     },
     "execution_count": 7,
     "metadata": {},
     "output_type": "execute_result"
    }
   ],
   "source": [
    "cols_new = ['invoice_no', 'stock_code', 'description', 'quantity', 'invoice_date', 'unit_price', 'customer_id', 'country']\n",
    "\n",
    "df1.columns = cols_new\n",
    "df1.head()"
   ]
  },
  {
   "cell_type": "markdown",
   "metadata": {
    "papermill": {
     "duration": 0.065522,
     "end_time": "2021-09-18T14:06:02.584073",
     "exception": false,
     "start_time": "2021-09-18T14:06:02.518551",
     "status": "completed"
    },
    "tags": []
   },
   "source": [
    "## 1.2. Data dimensions"
   ]
  },
  {
   "cell_type": "code",
   "execution_count": 8,
   "metadata": {
    "ExecuteTime": {
     "end_time": "2022-01-26T21:34:18.016553Z",
     "start_time": "2022-01-26T21:34:18.013584Z"
    },
    "execution": {
     "iopub.execute_input": "2021-09-18T14:06:02.723506Z",
     "iopub.status.busy": "2021-09-18T14:06:02.722883Z",
     "iopub.status.idle": "2021-09-18T14:06:02.727148Z",
     "shell.execute_reply": "2021-09-18T14:06:02.726582Z"
    },
    "papermill": {
     "duration": 0.077798,
     "end_time": "2021-09-18T14:06:02.727318",
     "exception": false,
     "start_time": "2021-09-18T14:06:02.649520",
     "status": "completed"
    },
    "tags": []
   },
   "outputs": [
    {
     "name": "stdout",
     "output_type": "stream",
     "text": [
      "Number of rows: 541909\n",
      "Number of cols: 8\n"
     ]
    }
   ],
   "source": [
    "print( 'Number of rows: {}'.format( df1.shape[0] ) )\n",
    "print( 'Number of cols: {}'.format( df1.shape[1] ) )"
   ]
  },
  {
   "cell_type": "markdown",
   "metadata": {
    "papermill": {
     "duration": 0.061497,
     "end_time": "2021-09-18T14:06:02.852712",
     "exception": false,
     "start_time": "2021-09-18T14:06:02.791215",
     "status": "completed"
    },
    "tags": []
   },
   "source": [
    "The dataset consist of more than 500,000 items purchases with different purchases must refer to the same purchase order and customer, while it has only 8 columns."
   ]
  },
  {
   "cell_type": "markdown",
   "metadata": {
    "papermill": {
     "duration": 0.062913,
     "end_time": "2021-09-18T14:06:02.980450",
     "exception": false,
     "start_time": "2021-09-18T14:06:02.917537",
     "status": "completed"
    },
    "tags": []
   },
   "source": [
    "## 1.3. Data types"
   ]
  },
  {
   "cell_type": "code",
   "execution_count": 9,
   "metadata": {
    "ExecuteTime": {
     "end_time": "2022-01-26T21:34:18.026777Z",
     "start_time": "2022-01-26T21:34:18.018650Z"
    },
    "execution": {
     "iopub.execute_input": "2021-09-18T14:06:03.135059Z",
     "iopub.status.busy": "2021-09-18T14:06:03.134528Z",
     "iopub.status.idle": "2021-09-18T14:06:03.137286Z",
     "shell.execute_reply": "2021-09-18T14:06:03.137718Z"
    },
    "papermill": {
     "duration": 0.09403,
     "end_time": "2021-09-18T14:06:03.137920",
     "exception": false,
     "start_time": "2021-09-18T14:06:03.043890",
     "status": "completed"
    },
    "tags": []
   },
   "outputs": [
    {
     "data": {
      "text/plain": [
       "invoice_no       object\n",
       "stock_code       object\n",
       "description      object\n",
       "quantity          int64\n",
       "invoice_date     object\n",
       "unit_price      float64\n",
       "customer_id     float64\n",
       "country          object\n",
       "dtype: object"
      ]
     },
     "execution_count": 9,
     "metadata": {},
     "output_type": "execute_result"
    }
   ],
   "source": [
    "df1.dtypes"
   ]
  },
  {
   "cell_type": "markdown",
   "metadata": {
    "papermill": {
     "duration": 0.063952,
     "end_time": "2021-09-18T14:06:03.274847",
     "exception": false,
     "start_time": "2021-09-18T14:06:03.210895",
     "status": "completed"
    },
    "tags": []
   },
   "source": [
    "The types of the invoice number, customer id and invoice date seem to have the wrong type. Customer ID and invoice number should be represented by the int number type, while the invoice date should be represented by a datetime."
   ]
  },
  {
   "cell_type": "markdown",
   "metadata": {
    "papermill": {
     "duration": 0.066202,
     "end_time": "2021-09-18T14:06:03.407122",
     "exception": false,
     "start_time": "2021-09-18T14:06:03.340920",
     "status": "completed"
    },
    "tags": []
   },
   "source": [
    "## 1.4. Check NA"
   ]
  },
  {
   "cell_type": "code",
   "execution_count": 10,
   "metadata": {
    "ExecuteTime": {
     "end_time": "2022-01-26T21:34:18.123007Z",
     "start_time": "2022-01-26T21:34:18.028343Z"
    },
    "execution": {
     "iopub.execute_input": "2021-09-18T14:06:03.638792Z",
     "iopub.status.busy": "2021-09-18T14:06:03.637986Z",
     "iopub.status.idle": "2021-09-18T14:06:03.648963Z",
     "shell.execute_reply": "2021-09-18T14:06:03.649328Z"
    },
    "papermill": {
     "duration": 0.175189,
     "end_time": "2021-09-18T14:06:03.649536",
     "exception": false,
     "start_time": "2021-09-18T14:06:03.474347",
     "status": "completed"
    },
    "tags": []
   },
   "outputs": [
    {
     "data": {
      "text/plain": [
       "invoice_no           0\n",
       "stock_code           0\n",
       "description       1454\n",
       "quantity             0\n",
       "invoice_date         0\n",
       "unit_price           0\n",
       "customer_id     135080\n",
       "country              0\n",
       "dtype: int64"
      ]
     },
     "execution_count": 10,
     "metadata": {},
     "output_type": "execute_result"
    }
   ],
   "source": [
    "df1.isna().sum()"
   ]
  },
  {
   "cell_type": "markdown",
   "metadata": {
    "papermill": {
     "duration": 0.063624,
     "end_time": "2021-09-18T14:06:03.779578",
     "exception": false,
     "start_time": "2021-09-18T14:06:03.715954",
     "status": "completed"
    },
    "tags": []
   },
   "source": [
    "## 1.5. Replacing NA"
   ]
  },
  {
   "cell_type": "code",
   "execution_count": 11,
   "metadata": {
    "ExecuteTime": {
     "end_time": "2022-01-26T21:34:18.392629Z",
     "start_time": "2022-01-26T21:34:18.124031Z"
    },
    "execution": {
     "iopub.execute_input": "2021-09-18T14:06:03.919934Z",
     "iopub.status.busy": "2021-09-18T14:06:03.919322Z",
     "iopub.status.idle": "2021-09-18T14:06:04.220183Z",
     "shell.execute_reply": "2021-09-18T14:06:04.220551Z"
    },
    "papermill": {
     "duration": 0.373875,
     "end_time": "2021-09-18T14:06:04.220774",
     "exception": false,
     "start_time": "2021-09-18T14:06:03.846899",
     "status": "completed"
    },
    "tags": []
   },
   "outputs": [],
   "source": [
    "df_missing = df1.loc[df1['customer_id'].isna(),:]\n",
    "df_not_missing = df1.loc[~df1['customer_id'].isna(),:]\n",
    "\n",
    "# create reference\n",
    "df_backup = pd.DataFrame(df_missing['invoice_no'].drop_duplicates())\n",
    "df_backup['customer_id'] = np.arange(19000, 19000+len(df_backup), 1)\n",
    "\n",
    "# merge original with reference dataframe\n",
    "df1 = pd.merge(df1, df_backup, on='invoice_no', how='left')\n",
    "\n",
    "# Coalescing columns customer_id_x and customer_id_y\n",
    "df1['customer_id'] = df1['customer_id_x'].combine_first(df1['customer_id_y'])\n",
    "\n",
    "# Droping extra customer_id columns\n",
    "df1 = df1.drop(columns=['customer_id_x', 'customer_id_y'], axis=1)"
   ]
  },
  {
   "cell_type": "code",
   "execution_count": 12,
   "metadata": {
    "ExecuteTime": {
     "end_time": "2022-01-26T21:34:18.455526Z",
     "start_time": "2022-01-26T21:34:18.393839Z"
    },
    "execution": {
     "iopub.execute_input": "2021-09-18T14:06:04.356315Z",
     "iopub.status.busy": "2021-09-18T14:06:04.355712Z",
     "iopub.status.idle": "2021-09-18T14:06:04.426434Z",
     "shell.execute_reply": "2021-09-18T14:06:04.425954Z"
    },
    "papermill": {
     "duration": 0.140604,
     "end_time": "2021-09-18T14:06:04.426613",
     "exception": false,
     "start_time": "2021-09-18T14:06:04.286009",
     "status": "completed"
    },
    "tags": []
   },
   "outputs": [
    {
     "name": "stdout",
     "output_type": "stream",
     "text": [
      "Removed data: 0.27%\n"
     ]
    }
   ],
   "source": [
    "df1 = df1.dropna(subset=['description', 'customer_id'])\n",
    "\n",
    "print('Removed data: {:.2f}%'.format(100*(1 - (df1.shape[0]/df_raw.shape[0]))))"
   ]
  },
  {
   "cell_type": "code",
   "execution_count": 13,
   "metadata": {
    "ExecuteTime": {
     "end_time": "2022-01-26T21:34:18.549626Z",
     "start_time": "2022-01-26T21:34:18.456698Z"
    },
    "execution": {
     "iopub.execute_input": "2021-09-18T14:06:04.655548Z",
     "iopub.status.busy": "2021-09-18T14:06:04.654617Z",
     "iopub.status.idle": "2021-09-18T14:06:04.665789Z",
     "shell.execute_reply": "2021-09-18T14:06:04.666137Z"
    },
    "papermill": {
     "duration": 0.174322,
     "end_time": "2021-09-18T14:06:04.666338",
     "exception": false,
     "start_time": "2021-09-18T14:06:04.492016",
     "status": "completed"
    },
    "tags": []
   },
   "outputs": [
    {
     "data": {
      "text/plain": [
       "invoice_no      0\n",
       "stock_code      0\n",
       "description     0\n",
       "quantity        0\n",
       "invoice_date    0\n",
       "unit_price      0\n",
       "country         0\n",
       "customer_id     0\n",
       "dtype: int64"
      ]
     },
     "execution_count": 13,
     "metadata": {},
     "output_type": "execute_result"
    }
   ],
   "source": [
    "df1.isna().sum()"
   ]
  },
  {
   "cell_type": "markdown",
   "metadata": {
    "papermill": {
     "duration": 0.079707,
     "end_time": "2021-09-18T14:06:04.811449",
     "exception": false,
     "start_time": "2021-09-18T14:06:04.731742",
     "status": "completed"
    },
    "tags": []
   },
   "source": [
    "The data has many problems with NA purchase orders, that may be represented by some business problem or relevant information, such as reversed logistics to product change or devolution. It can be represented by both the negative quantities and the letters whitin the invoice number. All those data will be removed from the dataset."
   ]
  },
  {
   "cell_type": "markdown",
   "metadata": {
    "papermill": {
     "duration": 0.064196,
     "end_time": "2021-09-18T14:06:04.940920",
     "exception": false,
     "start_time": "2021-09-18T14:06:04.876724",
     "status": "completed"
    },
    "tags": []
   },
   "source": [
    "## 1.6. Change dtypes"
   ]
  },
  {
   "cell_type": "code",
   "execution_count": 14,
   "metadata": {
    "ExecuteTime": {
     "end_time": "2022-01-26T21:34:18.627045Z",
     "start_time": "2022-01-26T21:34:18.550760Z"
    },
    "execution": {
     "iopub.execute_input": "2021-09-18T14:06:05.100609Z",
     "iopub.status.busy": "2021-09-18T14:06:05.089894Z",
     "iopub.status.idle": "2021-09-18T14:06:05.171254Z",
     "shell.execute_reply": "2021-09-18T14:06:05.171838Z"
    },
    "papermill": {
     "duration": 0.163497,
     "end_time": "2021-09-18T14:06:05.172046",
     "exception": false,
     "start_time": "2021-09-18T14:06:05.008549",
     "status": "completed"
    },
    "tags": []
   },
   "outputs": [
    {
     "data": {
      "text/html": [
       "<div>\n",
       "<style scoped>\n",
       "    .dataframe tbody tr th:only-of-type {\n",
       "        vertical-align: middle;\n",
       "    }\n",
       "\n",
       "    .dataframe tbody tr th {\n",
       "        vertical-align: top;\n",
       "    }\n",
       "\n",
       "    .dataframe thead th {\n",
       "        text-align: right;\n",
       "    }\n",
       "</style>\n",
       "<table border=\"1\" class=\"dataframe\">\n",
       "  <thead>\n",
       "    <tr style=\"text-align: right;\">\n",
       "      <th></th>\n",
       "      <th>invoice_no</th>\n",
       "      <th>stock_code</th>\n",
       "      <th>description</th>\n",
       "      <th>quantity</th>\n",
       "      <th>invoice_date</th>\n",
       "      <th>unit_price</th>\n",
       "      <th>country</th>\n",
       "      <th>customer_id</th>\n",
       "    </tr>\n",
       "  </thead>\n",
       "  <tbody>\n",
       "    <tr>\n",
       "      <th>0</th>\n",
       "      <td>536365</td>\n",
       "      <td>85123A</td>\n",
       "      <td>WHITE HANGING HEART T-LIGHT HOLDER</td>\n",
       "      <td>6</td>\n",
       "      <td>2016-11-29</td>\n",
       "      <td>2.55</td>\n",
       "      <td>United Kingdom</td>\n",
       "      <td>17850</td>\n",
       "    </tr>\n",
       "    <tr>\n",
       "      <th>1</th>\n",
       "      <td>536365</td>\n",
       "      <td>71053</td>\n",
       "      <td>WHITE METAL LANTERN</td>\n",
       "      <td>6</td>\n",
       "      <td>2016-11-29</td>\n",
       "      <td>3.39</td>\n",
       "      <td>United Kingdom</td>\n",
       "      <td>17850</td>\n",
       "    </tr>\n",
       "    <tr>\n",
       "      <th>2</th>\n",
       "      <td>536365</td>\n",
       "      <td>84406B</td>\n",
       "      <td>CREAM CUPID HEARTS COAT HANGER</td>\n",
       "      <td>8</td>\n",
       "      <td>2016-11-29</td>\n",
       "      <td>2.75</td>\n",
       "      <td>United Kingdom</td>\n",
       "      <td>17850</td>\n",
       "    </tr>\n",
       "    <tr>\n",
       "      <th>3</th>\n",
       "      <td>536365</td>\n",
       "      <td>84029G</td>\n",
       "      <td>KNITTED UNION FLAG HOT WATER BOTTLE</td>\n",
       "      <td>6</td>\n",
       "      <td>2016-11-29</td>\n",
       "      <td>3.39</td>\n",
       "      <td>United Kingdom</td>\n",
       "      <td>17850</td>\n",
       "    </tr>\n",
       "    <tr>\n",
       "      <th>4</th>\n",
       "      <td>536365</td>\n",
       "      <td>84029E</td>\n",
       "      <td>RED WOOLLY HOTTIE WHITE HEART.</td>\n",
       "      <td>6</td>\n",
       "      <td>2016-11-29</td>\n",
       "      <td>3.39</td>\n",
       "      <td>United Kingdom</td>\n",
       "      <td>17850</td>\n",
       "    </tr>\n",
       "  </tbody>\n",
       "</table>\n",
       "</div>"
      ],
      "text/plain": [
       "  invoice_no stock_code                          description  quantity  \\\n",
       "0     536365     85123A   WHITE HANGING HEART T-LIGHT HOLDER         6   \n",
       "1     536365      71053                  WHITE METAL LANTERN         6   \n",
       "2     536365     84406B       CREAM CUPID HEARTS COAT HANGER         8   \n",
       "3     536365     84029G  KNITTED UNION FLAG HOT WATER BOTTLE         6   \n",
       "4     536365     84029E       RED WOOLLY HOTTIE WHITE HEART.         6   \n",
       "\n",
       "  invoice_date  unit_price         country  customer_id  \n",
       "0   2016-11-29        2.55  United Kingdom        17850  \n",
       "1   2016-11-29        3.39  United Kingdom        17850  \n",
       "2   2016-11-29        2.75  United Kingdom        17850  \n",
       "3   2016-11-29        3.39  United Kingdom        17850  \n",
       "4   2016-11-29        3.39  United Kingdom        17850  "
      ]
     },
     "execution_count": 14,
     "metadata": {},
     "output_type": "execute_result"
    }
   ],
   "source": [
    " # invoice date\n",
    "df1['invoice_date'] = pd.to_datetime( df1['invoice_date'], format='%d-%b-%y' )\n",
    "\n",
    "# customer id\n",
    "df1['customer_id'] = df1['customer_id'].astype( int )\n",
    "df1.head()"
   ]
  },
  {
   "cell_type": "code",
   "execution_count": 15,
   "metadata": {
    "ExecuteTime": {
     "end_time": "2022-01-26T21:34:18.631709Z",
     "start_time": "2022-01-26T21:34:18.628226Z"
    },
    "execution": {
     "iopub.execute_input": "2021-09-18T14:06:05.314620Z",
     "iopub.status.busy": "2021-09-18T14:06:05.313978Z",
     "iopub.status.idle": "2021-09-18T14:06:05.319735Z",
     "shell.execute_reply": "2021-09-18T14:06:05.320222Z"
    },
    "papermill": {
     "duration": 0.08009,
     "end_time": "2021-09-18T14:06:05.320417",
     "exception": false,
     "start_time": "2021-09-18T14:06:05.240327",
     "status": "completed"
    },
    "tags": []
   },
   "outputs": [
    {
     "data": {
      "text/plain": [
       "invoice_no              object\n",
       "stock_code              object\n",
       "description             object\n",
       "quantity                 int64\n",
       "invoice_date    datetime64[ns]\n",
       "unit_price             float64\n",
       "country                 object\n",
       "customer_id              int64\n",
       "dtype: object"
      ]
     },
     "execution_count": 15,
     "metadata": {},
     "output_type": "execute_result"
    }
   ],
   "source": [
    "df1.dtypes"
   ]
  },
  {
   "cell_type": "markdown",
   "metadata": {
    "papermill": {
     "duration": 0.067868,
     "end_time": "2021-09-18T14:06:05.458186",
     "exception": false,
     "start_time": "2021-09-18T14:06:05.390318",
     "status": "completed"
    },
    "tags": []
   },
   "source": [
    "Even after the removal of NA values, it was not possible to remove all invoice numbers with a letter in it. So, it was not possible to change the invoice number type. Maybe it could be necessary to create features that properly represents the business problem behind the reason of a letter to appear in it. "
   ]
  },
  {
   "cell_type": "markdown",
   "metadata": {
    "papermill": {
     "duration": 0.069108,
     "end_time": "2021-09-18T14:06:05.605641",
     "exception": false,
     "start_time": "2021-09-18T14:06:05.536533",
     "status": "completed"
    },
    "tags": []
   },
   "source": [
    "# 2. Variable filtering"
   ]
  },
  {
   "cell_type": "code",
   "execution_count": 16,
   "metadata": {
    "ExecuteTime": {
     "end_time": "2022-01-26T21:34:18.645274Z",
     "start_time": "2022-01-26T21:34:18.632677Z"
    },
    "execution": {
     "iopub.execute_input": "2021-09-18T14:06:05.751909Z",
     "iopub.status.busy": "2021-09-18T14:06:05.751258Z",
     "iopub.status.idle": "2021-09-18T14:06:05.763783Z",
     "shell.execute_reply": "2021-09-18T14:06:05.764146Z"
    },
    "papermill": {
     "duration": 0.088887,
     "end_time": "2021-09-18T14:06:05.764350",
     "exception": false,
     "start_time": "2021-09-18T14:06:05.675463",
     "status": "completed"
    },
    "tags": []
   },
   "outputs": [],
   "source": [
    "df2 = df1.copy()"
   ]
  },
  {
   "cell_type": "markdown",
   "metadata": {
    "papermill": {
     "duration": 0.067999,
     "end_time": "2021-09-18T14:06:05.902190",
     "exception": false,
     "start_time": "2021-09-18T14:06:05.834191",
     "status": "completed"
    },
    "tags": []
   },
   "source": [
    "All values of clients with a quantity equal or lesser than 0 will be removed from the dataset, since this type of customer will not be elected as a insider anyway. Afterwards, the quantity column will be removed, since its information is contained inside the ticket per product."
   ]
  },
  {
   "cell_type": "code",
   "execution_count": 17,
   "metadata": {
    "ExecuteTime": {
     "end_time": "2022-01-26T21:34:18.794006Z",
     "start_time": "2022-01-26T21:34:18.646553Z"
    },
    "execution": {
     "iopub.execute_input": "2021-09-18T14:06:06.043624Z",
     "iopub.status.busy": "2021-09-18T14:06:06.043057Z",
     "iopub.status.idle": "2021-09-18T14:06:06.229001Z",
     "shell.execute_reply": "2021-09-18T14:06:06.228253Z"
    },
    "papermill": {
     "duration": 0.259032,
     "end_time": "2021-09-18T14:06:06.229173",
     "exception": false,
     "start_time": "2021-09-18T14:06:05.970141",
     "status": "completed"
    },
    "tags": []
   },
   "outputs": [],
   "source": [
    "# prices higher than 1 cent\n",
    "df2 = df2.loc[(df1['unit_price'] > 0.01), :]\n",
    "\n",
    "# customer from a known region\n",
    "df2 = df2[~df2['country'].isin(['European Community', 'Unspecified' ] ) ]\n",
    "\n",
    "# stock code different from not explained codes\n",
    "df2 = df2[~df2['stock_code'].isin( ['POST' 'D' 'DOT' 'M' 'S' 'AMAZONFEE' 'm' 'DCGSSBOY' 'DCGSSGIRL' 'PADS' 'B' 'CRUK'] ) ]\n",
    "\n",
    "# returned products\n",
    "df2_returns = df2.loc[df2['quantity'] < 0, :]\n",
    "df2_returns['gross_returns'] = df2_returns['quantity'] * df2_returns['unit_price'] * (- 1)\n",
    "\n",
    "# positive quantities\n",
    "df2_purchase = df2.loc[(df2['quantity'] > 0), :]\n",
    "df2_purchase.loc[:,'gross_purchases'] = df2_purchase.loc[:,'quantity'] * df2_purchase.loc[:,'unit_price']\n"
   ]
  },
  {
   "cell_type": "markdown",
   "metadata": {
    "papermill": {
     "duration": 0.070968,
     "end_time": "2021-09-18T14:06:06.371591",
     "exception": false,
     "start_time": "2021-09-18T14:06:06.300623",
     "status": "completed"
    },
    "tags": []
   },
   "source": [
    "# 3. Feature engineering"
   ]
  },
  {
   "cell_type": "code",
   "execution_count": 18,
   "metadata": {
    "ExecuteTime": {
     "end_time": "2022-01-26T21:34:18.811370Z",
     "start_time": "2022-01-26T21:34:18.795341Z"
    },
    "execution": {
     "iopub.execute_input": "2021-09-18T14:06:06.532369Z",
     "iopub.status.busy": "2021-09-18T14:06:06.531306Z",
     "iopub.status.idle": "2021-09-18T14:06:06.547251Z",
     "shell.execute_reply": "2021-09-18T14:06:06.546521Z"
    },
    "papermill": {
     "duration": 0.103924,
     "end_time": "2021-09-18T14:06:06.547433",
     "exception": false,
     "start_time": "2021-09-18T14:06:06.443509",
     "status": "completed"
    },
    "tags": []
   },
   "outputs": [],
   "source": [
    "df3 = df2.copy()"
   ]
  },
  {
   "cell_type": "markdown",
   "metadata": {
    "papermill": {
     "duration": 0.067439,
     "end_time": "2021-09-18T14:06:06.684364",
     "exception": false,
     "start_time": "2021-09-18T14:06:06.616925",
     "status": "completed"
    },
    "tags": []
   },
   "source": [
    "## 3.1. Feature creation"
   ]
  },
  {
   "cell_type": "markdown",
   "metadata": {
    "papermill": {
     "duration": 0.069731,
     "end_time": "2021-09-18T14:06:06.819887",
     "exception": false,
     "start_time": "2021-09-18T14:06:06.750156",
     "status": "completed"
    },
    "tags": []
   },
   "source": [
    "The features will be created in order to adjust the clusterization problem with a RFM model solution. For this, the main features within the model will be the monetary, frequency and recency. The monetary consists of the total amount of revenue from a given client, the frequency measures how many different purchases the client has made, while the recency measures the difference between the actual date (highest date within the dataset) and the last purchase date."
   ]
  },
  {
   "cell_type": "code",
   "execution_count": 19,
   "metadata": {
    "ExecuteTime": {
     "end_time": "2022-01-26T21:34:18.830504Z",
     "start_time": "2022-01-26T21:34:18.812656Z"
    },
    "execution": {
     "iopub.execute_input": "2021-09-18T14:06:06.969194Z",
     "iopub.status.busy": "2021-09-18T14:06:06.965116Z",
     "iopub.status.idle": "2021-09-18T14:06:06.979589Z",
     "shell.execute_reply": "2021-09-18T14:06:06.978932Z"
    },
    "papermill": {
     "duration": 0.091356,
     "end_time": "2021-09-18T14:06:06.980108",
     "exception": false,
     "start_time": "2021-09-18T14:06:06.888752",
     "status": "completed"
    },
    "tags": []
   },
   "outputs": [],
   "source": [
    "# data reference\n",
    "df_ref = df3.drop( ['invoice_no', 'stock_code', 'description', 'quantity',\n",
    "                    'invoice_date', 'unit_price', 'country'], axis=1 ).drop_duplicates().reset_index(drop=True)"
   ]
  },
  {
   "cell_type": "markdown",
   "metadata": {
    "papermill": {
     "duration": 0.066546,
     "end_time": "2021-09-18T14:06:07.116119",
     "exception": false,
     "start_time": "2021-09-18T14:06:07.049573",
     "status": "completed"
    },
    "tags": []
   },
   "source": [
    "### 3.1.1. Gross purchases and devolutions"
   ]
  },
  {
   "cell_type": "code",
   "execution_count": 20,
   "metadata": {
    "ExecuteTime": {
     "end_time": "2022-01-26T21:34:18.894326Z",
     "start_time": "2022-01-26T21:34:18.831811Z"
    },
    "execution": {
     "iopub.execute_input": "2021-09-18T14:06:07.261505Z",
     "iopub.status.busy": "2021-09-18T14:06:07.260614Z",
     "iopub.status.idle": "2021-09-18T14:06:07.332388Z",
     "shell.execute_reply": "2021-09-18T14:06:07.331623Z"
    },
    "papermill": {
     "duration": 0.145665,
     "end_time": "2021-09-18T14:06:07.332604",
     "exception": false,
     "start_time": "2021-09-18T14:06:07.186939",
     "status": "completed"
    },
    "tags": []
   },
   "outputs": [
    {
     "data": {
      "text/html": [
       "<div>\n",
       "<style scoped>\n",
       "    .dataframe tbody tr th:only-of-type {\n",
       "        vertical-align: middle;\n",
       "    }\n",
       "\n",
       "    .dataframe tbody tr th {\n",
       "        vertical-align: top;\n",
       "    }\n",
       "\n",
       "    .dataframe thead th {\n",
       "        text-align: right;\n",
       "    }\n",
       "</style>\n",
       "<table border=\"1\" class=\"dataframe\">\n",
       "  <thead>\n",
       "    <tr style=\"text-align: right;\">\n",
       "      <th></th>\n",
       "      <th>customer_id</th>\n",
       "      <th>purchases</th>\n",
       "      <th>devolutions</th>\n",
       "    </tr>\n",
       "  </thead>\n",
       "  <tbody>\n",
       "    <tr>\n",
       "      <th>0</th>\n",
       "      <td>17850</td>\n",
       "      <td>5391.21</td>\n",
       "      <td>-102.58</td>\n",
       "    </tr>\n",
       "    <tr>\n",
       "      <th>1</th>\n",
       "      <td>13047</td>\n",
       "      <td>3237.54</td>\n",
       "      <td>-158.44</td>\n",
       "    </tr>\n",
       "    <tr>\n",
       "      <th>2</th>\n",
       "      <td>12583</td>\n",
       "      <td>7281.38</td>\n",
       "      <td>-94.04</td>\n",
       "    </tr>\n",
       "    <tr>\n",
       "      <th>3</th>\n",
       "      <td>13748</td>\n",
       "      <td>948.25</td>\n",
       "      <td>0.00</td>\n",
       "    </tr>\n",
       "    <tr>\n",
       "      <th>4</th>\n",
       "      <td>15100</td>\n",
       "      <td>876.00</td>\n",
       "      <td>-240.90</td>\n",
       "    </tr>\n",
       "    <tr>\n",
       "      <th>5</th>\n",
       "      <td>15291</td>\n",
       "      <td>4668.30</td>\n",
       "      <td>-71.79</td>\n",
       "    </tr>\n",
       "    <tr>\n",
       "      <th>6</th>\n",
       "      <td>14688</td>\n",
       "      <td>5630.87</td>\n",
       "      <td>-523.49</td>\n",
       "    </tr>\n",
       "    <tr>\n",
       "      <th>7</th>\n",
       "      <td>17809</td>\n",
       "      <td>5411.91</td>\n",
       "      <td>-784.29</td>\n",
       "    </tr>\n",
       "    <tr>\n",
       "      <th>8</th>\n",
       "      <td>15311</td>\n",
       "      <td>60767.90</td>\n",
       "      <td>-1348.56</td>\n",
       "    </tr>\n",
       "    <tr>\n",
       "      <th>9</th>\n",
       "      <td>14527</td>\n",
       "      <td>8508.82</td>\n",
       "      <td>-797.44</td>\n",
       "    </tr>\n",
       "  </tbody>\n",
       "</table>\n",
       "</div>"
      ],
      "text/plain": [
       "   customer_id  purchases  devolutions\n",
       "0        17850    5391.21      -102.58\n",
       "1        13047    3237.54      -158.44\n",
       "2        12583    7281.38       -94.04\n",
       "3        13748     948.25         0.00\n",
       "4        15100     876.00      -240.90\n",
       "5        15291    4668.30       -71.79\n",
       "6        14688    5630.87      -523.49\n",
       "7        17809    5411.91      -784.29\n",
       "8        15311   60767.90     -1348.56\n",
       "9        14527    8508.82      -797.44"
      ]
     },
     "execution_count": 20,
     "metadata": {},
     "output_type": "execute_result"
    }
   ],
   "source": [
    "# Purchases\n",
    "df3['purchases'] = df2_purchase['quantity'] * df2_purchase['unit_price']\n",
    "df3['devolutions'] = df2_returns['quantity'] * df2_returns['unit_price']\n",
    "\n",
    "# Monetary\n",
    "df_monetary = df3[['customer_id', 'purchases', 'devolutions']].groupby( 'customer_id' ).sum().reset_index()\n",
    "df_ref = pd.merge( df_ref, df_monetary, on='customer_id', how='left' )\n",
    "df_ref.head(10)"
   ]
  },
  {
   "cell_type": "markdown",
   "metadata": {
    "papermill": {
     "duration": 0.067864,
     "end_time": "2021-09-18T14:06:07.471246",
     "exception": false,
     "start_time": "2021-09-18T14:06:07.403382",
     "status": "completed"
    },
    "tags": []
   },
   "source": [
    "### 3.1.2. Recency for purchases and devolutions - newest occurence"
   ]
  },
  {
   "cell_type": "code",
   "execution_count": 21,
   "metadata": {
    "ExecuteTime": {
     "end_time": "2022-01-26T21:34:18.941043Z",
     "start_time": "2022-01-26T21:34:18.895723Z"
    },
    "execution": {
     "iopub.execute_input": "2021-09-18T14:06:07.614539Z",
     "iopub.status.busy": "2021-09-18T14:06:07.613625Z",
     "iopub.status.idle": "2021-09-18T14:06:07.660708Z",
     "shell.execute_reply": "2021-09-18T14:06:07.661099Z"
    },
    "papermill": {
     "duration": 0.120619,
     "end_time": "2021-09-18T14:06:07.661301",
     "exception": false,
     "start_time": "2021-09-18T14:06:07.540682",
     "status": "completed"
    },
    "tags": []
   },
   "outputs": [
    {
     "data": {
      "text/html": [
       "<div>\n",
       "<style scoped>\n",
       "    .dataframe tbody tr th:only-of-type {\n",
       "        vertical-align: middle;\n",
       "    }\n",
       "\n",
       "    .dataframe tbody tr th {\n",
       "        vertical-align: top;\n",
       "    }\n",
       "\n",
       "    .dataframe thead th {\n",
       "        text-align: right;\n",
       "    }\n",
       "</style>\n",
       "<table border=\"1\" class=\"dataframe\">\n",
       "  <thead>\n",
       "    <tr style=\"text-align: right;\">\n",
       "      <th></th>\n",
       "      <th>customer_id</th>\n",
       "      <th>purchases</th>\n",
       "      <th>devolutions</th>\n",
       "      <th>recency_p</th>\n",
       "      <th>recency_d</th>\n",
       "    </tr>\n",
       "  </thead>\n",
       "  <tbody>\n",
       "    <tr>\n",
       "      <th>0</th>\n",
       "      <td>17850</td>\n",
       "      <td>5391.21</td>\n",
       "      <td>-102.58</td>\n",
       "      <td>372.0</td>\n",
       "      <td>302.0</td>\n",
       "    </tr>\n",
       "    <tr>\n",
       "      <th>1</th>\n",
       "      <td>13047</td>\n",
       "      <td>3237.54</td>\n",
       "      <td>-158.44</td>\n",
       "      <td>31.0</td>\n",
       "      <td>31.0</td>\n",
       "    </tr>\n",
       "    <tr>\n",
       "      <th>2</th>\n",
       "      <td>12583</td>\n",
       "      <td>7281.38</td>\n",
       "      <td>-94.04</td>\n",
       "      <td>2.0</td>\n",
       "      <td>56.0</td>\n",
       "    </tr>\n",
       "    <tr>\n",
       "      <th>3</th>\n",
       "      <td>13748</td>\n",
       "      <td>948.25</td>\n",
       "      <td>0.00</td>\n",
       "      <td>95.0</td>\n",
       "      <td>NaN</td>\n",
       "    </tr>\n",
       "    <tr>\n",
       "      <th>4</th>\n",
       "      <td>15100</td>\n",
       "      <td>876.00</td>\n",
       "      <td>-240.90</td>\n",
       "      <td>333.0</td>\n",
       "      <td>330.0</td>\n",
       "    </tr>\n",
       "    <tr>\n",
       "      <th>5</th>\n",
       "      <td>15291</td>\n",
       "      <td>4668.30</td>\n",
       "      <td>-71.79</td>\n",
       "      <td>25.0</td>\n",
       "      <td>172.0</td>\n",
       "    </tr>\n",
       "    <tr>\n",
       "      <th>6</th>\n",
       "      <td>14688</td>\n",
       "      <td>5630.87</td>\n",
       "      <td>-523.49</td>\n",
       "      <td>7.0</td>\n",
       "      <td>7.0</td>\n",
       "    </tr>\n",
       "    <tr>\n",
       "      <th>7</th>\n",
       "      <td>17809</td>\n",
       "      <td>5411.91</td>\n",
       "      <td>-784.29</td>\n",
       "      <td>16.0</td>\n",
       "      <td>16.0</td>\n",
       "    </tr>\n",
       "    <tr>\n",
       "      <th>8</th>\n",
       "      <td>15311</td>\n",
       "      <td>60767.90</td>\n",
       "      <td>-1348.56</td>\n",
       "      <td>0.0</td>\n",
       "      <td>0.0</td>\n",
       "    </tr>\n",
       "    <tr>\n",
       "      <th>9</th>\n",
       "      <td>14527</td>\n",
       "      <td>8508.82</td>\n",
       "      <td>-797.44</td>\n",
       "      <td>2.0</td>\n",
       "      <td>8.0</td>\n",
       "    </tr>\n",
       "  </tbody>\n",
       "</table>\n",
       "</div>"
      ],
      "text/plain": [
       "   customer_id  purchases  devolutions  recency_p  recency_d\n",
       "0        17850    5391.21      -102.58      372.0      302.0\n",
       "1        13047    3237.54      -158.44       31.0       31.0\n",
       "2        12583    7281.38       -94.04        2.0       56.0\n",
       "3        13748     948.25         0.00       95.0        NaN\n",
       "4        15100     876.00      -240.90      333.0      330.0\n",
       "5        15291    4668.30       -71.79       25.0      172.0\n",
       "6        14688    5630.87      -523.49        7.0        7.0\n",
       "7        17809    5411.91      -784.29       16.0       16.0\n",
       "8        15311   60767.90     -1348.56        0.0        0.0\n",
       "9        14527    8508.82      -797.44        2.0        8.0"
      ]
     },
     "execution_count": 21,
     "metadata": {},
     "output_type": "execute_result"
    }
   ],
   "source": [
    "# Recency - Last day purchase\n",
    "df_recency_p = df2_purchase[['customer_id', 'invoice_date']].groupby( 'customer_id' ).max().reset_index()\n",
    "df_recency_p['recency_p'] = ( df3['invoice_date'].max() - df_recency_p['invoice_date'] ).dt.days\n",
    "df_recency_p = df_recency_p[['customer_id', 'recency_p']].copy()\n",
    "df_ref = pd.merge( df_ref, df_recency_p, on='customer_id', how='left' )\n",
    "\n",
    "# Recency - Last day devolution\n",
    "df_recency_d = df2_returns[['customer_id', 'invoice_date']].groupby( 'customer_id' ).max().reset_index()\n",
    "df_recency_d['recency_d'] = ( df3['invoice_date'].max() - df_recency_d['invoice_date'] ).dt.days\n",
    "df_recency_d = df_recency_d[['customer_id', 'recency_d']].copy()\n",
    "df_ref = pd.merge( df_ref, df_recency_d, on='customer_id', how='left' )\n",
    "df_ref.head(10)"
   ]
  },
  {
   "cell_type": "markdown",
   "metadata": {
    "papermill": {
     "duration": 0.069002,
     "end_time": "2021-09-18T14:06:07.801377",
     "exception": false,
     "start_time": "2021-09-18T14:06:07.732375",
     "status": "completed"
    },
    "tags": []
   },
   "source": [
    "### 3.1.3. Quantity of product pruchased or returned"
   ]
  },
  {
   "cell_type": "code",
   "execution_count": 22,
   "metadata": {
    "ExecuteTime": {
     "end_time": "2022-01-26T21:34:18.991560Z",
     "start_time": "2022-01-26T21:34:18.942469Z"
    },
    "execution": {
     "iopub.execute_input": "2021-09-18T14:06:07.953497Z",
     "iopub.status.busy": "2021-09-18T14:06:07.952829Z",
     "iopub.status.idle": "2021-09-18T14:06:08.010834Z",
     "shell.execute_reply": "2021-09-18T14:06:08.010356Z"
    },
    "papermill": {
     "duration": 0.138544,
     "end_time": "2021-09-18T14:06:08.011004",
     "exception": false,
     "start_time": "2021-09-18T14:06:07.872460",
     "status": "completed"
    },
    "tags": []
   },
   "outputs": [
    {
     "data": {
      "text/html": [
       "<div>\n",
       "<style scoped>\n",
       "    .dataframe tbody tr th:only-of-type {\n",
       "        vertical-align: middle;\n",
       "    }\n",
       "\n",
       "    .dataframe tbody tr th {\n",
       "        vertical-align: top;\n",
       "    }\n",
       "\n",
       "    .dataframe thead th {\n",
       "        text-align: right;\n",
       "    }\n",
       "</style>\n",
       "<table border=\"1\" class=\"dataframe\">\n",
       "  <thead>\n",
       "    <tr style=\"text-align: right;\">\n",
       "      <th></th>\n",
       "      <th>customer_id</th>\n",
       "      <th>purchases</th>\n",
       "      <th>devolutions</th>\n",
       "      <th>recency_p</th>\n",
       "      <th>recency_d</th>\n",
       "      <th>quantity_p</th>\n",
       "      <th>quantity_d</th>\n",
       "    </tr>\n",
       "  </thead>\n",
       "  <tbody>\n",
       "    <tr>\n",
       "      <th>0</th>\n",
       "      <td>17850</td>\n",
       "      <td>5391.21</td>\n",
       "      <td>-102.58</td>\n",
       "      <td>372.0</td>\n",
       "      <td>302.0</td>\n",
       "      <td>35.0</td>\n",
       "      <td>-21.0</td>\n",
       "    </tr>\n",
       "    <tr>\n",
       "      <th>1</th>\n",
       "      <td>13047</td>\n",
       "      <td>3237.54</td>\n",
       "      <td>-158.44</td>\n",
       "      <td>31.0</td>\n",
       "      <td>31.0</td>\n",
       "      <td>132.0</td>\n",
       "      <td>-6.0</td>\n",
       "    </tr>\n",
       "    <tr>\n",
       "      <th>2</th>\n",
       "      <td>12583</td>\n",
       "      <td>7281.38</td>\n",
       "      <td>-94.04</td>\n",
       "      <td>2.0</td>\n",
       "      <td>56.0</td>\n",
       "      <td>1569.0</td>\n",
       "      <td>-50.0</td>\n",
       "    </tr>\n",
       "    <tr>\n",
       "      <th>3</th>\n",
       "      <td>13748</td>\n",
       "      <td>948.25</td>\n",
       "      <td>0.00</td>\n",
       "      <td>95.0</td>\n",
       "      <td>NaN</td>\n",
       "      <td>169.0</td>\n",
       "      <td>NaN</td>\n",
       "    </tr>\n",
       "    <tr>\n",
       "      <th>4</th>\n",
       "      <td>15100</td>\n",
       "      <td>876.00</td>\n",
       "      <td>-240.90</td>\n",
       "      <td>333.0</td>\n",
       "      <td>330.0</td>\n",
       "      <td>48.0</td>\n",
       "      <td>-22.0</td>\n",
       "    </tr>\n",
       "    <tr>\n",
       "      <th>5</th>\n",
       "      <td>15291</td>\n",
       "      <td>4668.30</td>\n",
       "      <td>-71.79</td>\n",
       "      <td>25.0</td>\n",
       "      <td>172.0</td>\n",
       "      <td>508.0</td>\n",
       "      <td>-27.0</td>\n",
       "    </tr>\n",
       "    <tr>\n",
       "      <th>6</th>\n",
       "      <td>14688</td>\n",
       "      <td>5630.87</td>\n",
       "      <td>-523.49</td>\n",
       "      <td>7.0</td>\n",
       "      <td>7.0</td>\n",
       "      <td>579.0</td>\n",
       "      <td>-281.0</td>\n",
       "    </tr>\n",
       "    <tr>\n",
       "      <th>7</th>\n",
       "      <td>17809</td>\n",
       "      <td>5411.91</td>\n",
       "      <td>-784.29</td>\n",
       "      <td>16.0</td>\n",
       "      <td>16.0</td>\n",
       "      <td>961.0</td>\n",
       "      <td>-41.0</td>\n",
       "    </tr>\n",
       "    <tr>\n",
       "      <th>8</th>\n",
       "      <td>15311</td>\n",
       "      <td>60767.90</td>\n",
       "      <td>-1348.56</td>\n",
       "      <td>0.0</td>\n",
       "      <td>0.0</td>\n",
       "      <td>2167.0</td>\n",
       "      <td>-231.0</td>\n",
       "    </tr>\n",
       "    <tr>\n",
       "      <th>9</th>\n",
       "      <td>14527</td>\n",
       "      <td>8508.82</td>\n",
       "      <td>-797.44</td>\n",
       "      <td>2.0</td>\n",
       "      <td>8.0</td>\n",
       "      <td>198.0</td>\n",
       "      <td>-3.0</td>\n",
       "    </tr>\n",
       "  </tbody>\n",
       "</table>\n",
       "</div>"
      ],
      "text/plain": [
       "   customer_id  purchases  devolutions  recency_p  recency_d  quantity_p  \\\n",
       "0        17850    5391.21      -102.58      372.0      302.0        35.0   \n",
       "1        13047    3237.54      -158.44       31.0       31.0       132.0   \n",
       "2        12583    7281.38       -94.04        2.0       56.0      1569.0   \n",
       "3        13748     948.25         0.00       95.0        NaN       169.0   \n",
       "4        15100     876.00      -240.90      333.0      330.0        48.0   \n",
       "5        15291    4668.30       -71.79       25.0      172.0       508.0   \n",
       "6        14688    5630.87      -523.49        7.0        7.0       579.0   \n",
       "7        17809    5411.91      -784.29       16.0       16.0       961.0   \n",
       "8        15311   60767.90     -1348.56        0.0        0.0      2167.0   \n",
       "9        14527    8508.82      -797.44        2.0        8.0       198.0   \n",
       "\n",
       "   quantity_d  \n",
       "0       -21.0  \n",
       "1        -6.0  \n",
       "2       -50.0  \n",
       "3         NaN  \n",
       "4       -22.0  \n",
       "5       -27.0  \n",
       "6      -281.0  \n",
       "7       -41.0  \n",
       "8      -231.0  \n",
       "9        -3.0  "
      ]
     },
     "execution_count": 22,
     "metadata": {},
     "output_type": "execute_result"
    }
   ],
   "source": [
    "# Frequency - both purchases and returns\n",
    "df_freq_p = df2_purchase[['customer_id', 'quantity']].drop_duplicates().groupby( 'customer_id' ).sum().reset_index().rename(columns={'quantity':'quantity_p'})\n",
    "df_ref = pd.merge( df_ref, df_freq_p, on='customer_id', how='left' )\n",
    "\n",
    "df_freq_d = df2_returns[['customer_id', 'quantity']].drop_duplicates().groupby( 'customer_id' ).sum().reset_index().rename(columns={'quantity':'quantity_d'})\n",
    "df_ref = pd.merge( df_ref, df_freq_d, on='customer_id', how='left' )\n",
    "df_ref.head(10)"
   ]
  },
  {
   "cell_type": "markdown",
   "metadata": {
    "papermill": {
     "duration": 0.069293,
     "end_time": "2021-09-18T14:06:08.155344",
     "exception": false,
     "start_time": "2021-09-18T14:06:08.086051",
     "status": "completed"
    },
    "tags": []
   },
   "source": [
    "### 3.1.4. Quantity of invoices for purchases and returns"
   ]
  },
  {
   "cell_type": "code",
   "execution_count": 23,
   "metadata": {
    "ExecuteTime": {
     "end_time": "2022-01-26T21:34:19.069690Z",
     "start_time": "2022-01-26T21:34:18.994705Z"
    },
    "execution": {
     "iopub.execute_input": "2021-09-18T14:06:08.309755Z",
     "iopub.status.busy": "2021-09-18T14:06:08.309198Z",
     "iopub.status.idle": "2021-09-18T14:06:08.384953Z",
     "shell.execute_reply": "2021-09-18T14:06:08.384406Z"
    },
    "papermill": {
     "duration": 0.157093,
     "end_time": "2021-09-18T14:06:08.385132",
     "exception": false,
     "start_time": "2021-09-18T14:06:08.228039",
     "status": "completed"
    },
    "tags": []
   },
   "outputs": [
    {
     "data": {
      "text/html": [
       "<div>\n",
       "<style scoped>\n",
       "    .dataframe tbody tr th:only-of-type {\n",
       "        vertical-align: middle;\n",
       "    }\n",
       "\n",
       "    .dataframe tbody tr th {\n",
       "        vertical-align: top;\n",
       "    }\n",
       "\n",
       "    .dataframe thead th {\n",
       "        text-align: right;\n",
       "    }\n",
       "</style>\n",
       "<table border=\"1\" class=\"dataframe\">\n",
       "  <thead>\n",
       "    <tr style=\"text-align: right;\">\n",
       "      <th></th>\n",
       "      <th>customer_id</th>\n",
       "      <th>purchases</th>\n",
       "      <th>devolutions</th>\n",
       "      <th>recency_p</th>\n",
       "      <th>recency_d</th>\n",
       "      <th>quantity_p</th>\n",
       "      <th>quantity_d</th>\n",
       "      <th>invoices_p</th>\n",
       "      <th>invoices_d</th>\n",
       "    </tr>\n",
       "  </thead>\n",
       "  <tbody>\n",
       "    <tr>\n",
       "      <th>0</th>\n",
       "      <td>17850</td>\n",
       "      <td>5391.21</td>\n",
       "      <td>-102.58</td>\n",
       "      <td>372.0</td>\n",
       "      <td>302.0</td>\n",
       "      <td>35.0</td>\n",
       "      <td>-21.0</td>\n",
       "      <td>34.0</td>\n",
       "      <td>1.0</td>\n",
       "    </tr>\n",
       "    <tr>\n",
       "      <th>1</th>\n",
       "      <td>13047</td>\n",
       "      <td>3237.54</td>\n",
       "      <td>-158.44</td>\n",
       "      <td>31.0</td>\n",
       "      <td>31.0</td>\n",
       "      <td>132.0</td>\n",
       "      <td>-6.0</td>\n",
       "      <td>10.0</td>\n",
       "      <td>8.0</td>\n",
       "    </tr>\n",
       "    <tr>\n",
       "      <th>2</th>\n",
       "      <td>12583</td>\n",
       "      <td>7281.38</td>\n",
       "      <td>-94.04</td>\n",
       "      <td>2.0</td>\n",
       "      <td>56.0</td>\n",
       "      <td>1569.0</td>\n",
       "      <td>-50.0</td>\n",
       "      <td>15.0</td>\n",
       "      <td>3.0</td>\n",
       "    </tr>\n",
       "    <tr>\n",
       "      <th>3</th>\n",
       "      <td>13748</td>\n",
       "      <td>948.25</td>\n",
       "      <td>0.00</td>\n",
       "      <td>95.0</td>\n",
       "      <td>NaN</td>\n",
       "      <td>169.0</td>\n",
       "      <td>NaN</td>\n",
       "      <td>5.0</td>\n",
       "      <td>NaN</td>\n",
       "    </tr>\n",
       "    <tr>\n",
       "      <th>4</th>\n",
       "      <td>15100</td>\n",
       "      <td>876.00</td>\n",
       "      <td>-240.90</td>\n",
       "      <td>333.0</td>\n",
       "      <td>330.0</td>\n",
       "      <td>48.0</td>\n",
       "      <td>-22.0</td>\n",
       "      <td>3.0</td>\n",
       "      <td>3.0</td>\n",
       "    </tr>\n",
       "    <tr>\n",
       "      <th>5</th>\n",
       "      <td>15291</td>\n",
       "      <td>4668.30</td>\n",
       "      <td>-71.79</td>\n",
       "      <td>25.0</td>\n",
       "      <td>172.0</td>\n",
       "      <td>508.0</td>\n",
       "      <td>-27.0</td>\n",
       "      <td>15.0</td>\n",
       "      <td>5.0</td>\n",
       "    </tr>\n",
       "    <tr>\n",
       "      <th>6</th>\n",
       "      <td>14688</td>\n",
       "      <td>5630.87</td>\n",
       "      <td>-523.49</td>\n",
       "      <td>7.0</td>\n",
       "      <td>7.0</td>\n",
       "      <td>579.0</td>\n",
       "      <td>-281.0</td>\n",
       "      <td>21.0</td>\n",
       "      <td>6.0</td>\n",
       "    </tr>\n",
       "    <tr>\n",
       "      <th>7</th>\n",
       "      <td>17809</td>\n",
       "      <td>5411.91</td>\n",
       "      <td>-784.29</td>\n",
       "      <td>16.0</td>\n",
       "      <td>16.0</td>\n",
       "      <td>961.0</td>\n",
       "      <td>-41.0</td>\n",
       "      <td>12.0</td>\n",
       "      <td>3.0</td>\n",
       "    </tr>\n",
       "    <tr>\n",
       "      <th>8</th>\n",
       "      <td>15311</td>\n",
       "      <td>60767.90</td>\n",
       "      <td>-1348.56</td>\n",
       "      <td>0.0</td>\n",
       "      <td>0.0</td>\n",
       "      <td>2167.0</td>\n",
       "      <td>-231.0</td>\n",
       "      <td>91.0</td>\n",
       "      <td>27.0</td>\n",
       "    </tr>\n",
       "    <tr>\n",
       "      <th>9</th>\n",
       "      <td>14527</td>\n",
       "      <td>8508.82</td>\n",
       "      <td>-797.44</td>\n",
       "      <td>2.0</td>\n",
       "      <td>8.0</td>\n",
       "      <td>198.0</td>\n",
       "      <td>-3.0</td>\n",
       "      <td>55.0</td>\n",
       "      <td>31.0</td>\n",
       "    </tr>\n",
       "  </tbody>\n",
       "</table>\n",
       "</div>"
      ],
      "text/plain": [
       "   customer_id  purchases  devolutions  recency_p  recency_d  quantity_p  \\\n",
       "0        17850    5391.21      -102.58      372.0      302.0        35.0   \n",
       "1        13047    3237.54      -158.44       31.0       31.0       132.0   \n",
       "2        12583    7281.38       -94.04        2.0       56.0      1569.0   \n",
       "3        13748     948.25         0.00       95.0        NaN       169.0   \n",
       "4        15100     876.00      -240.90      333.0      330.0        48.0   \n",
       "5        15291    4668.30       -71.79       25.0      172.0       508.0   \n",
       "6        14688    5630.87      -523.49        7.0        7.0       579.0   \n",
       "7        17809    5411.91      -784.29       16.0       16.0       961.0   \n",
       "8        15311   60767.90     -1348.56        0.0        0.0      2167.0   \n",
       "9        14527    8508.82      -797.44        2.0        8.0       198.0   \n",
       "\n",
       "   quantity_d  invoices_p  invoices_d  \n",
       "0       -21.0        34.0         1.0  \n",
       "1        -6.0        10.0         8.0  \n",
       "2       -50.0        15.0         3.0  \n",
       "3         NaN         5.0         NaN  \n",
       "4       -22.0         3.0         3.0  \n",
       "5       -27.0        15.0         5.0  \n",
       "6      -281.0        21.0         6.0  \n",
       "7       -41.0        12.0         3.0  \n",
       "8      -231.0        91.0        27.0  \n",
       "9        -3.0        55.0        31.0  "
      ]
     },
     "execution_count": 23,
     "metadata": {},
     "output_type": "execute_result"
    }
   ],
   "source": [
    "# Frequency - both purchases and returns\n",
    "df_invoices_p = df2_purchase[['customer_id', 'invoice_no']].drop_duplicates().groupby( 'customer_id' ).count().reset_index().rename(columns={'invoice_no':'invoices_p'})\n",
    "df_ref = pd.merge( df_ref, df_invoices_p, on='customer_id', how='left' )\n",
    "\n",
    "df_invoices_d = df2_returns[['customer_id', 'invoice_no']].drop_duplicates().groupby( 'customer_id' ).count().reset_index().rename(columns={'invoice_no':'invoices_d'})\n",
    "df_ref = pd.merge( df_ref, df_invoices_d, on='customer_id', how='left' )\n",
    "df_ref.head(10)"
   ]
  },
  {
   "cell_type": "markdown",
   "metadata": {
    "papermill": {
     "duration": 0.070683,
     "end_time": "2021-09-18T14:06:08.527286",
     "exception": false,
     "start_time": "2021-09-18T14:06:08.456603",
     "status": "completed"
    },
    "tags": []
   },
   "source": [
    "### 3.1.5. Average ticket value"
   ]
  },
  {
   "cell_type": "code",
   "execution_count": 24,
   "metadata": {
    "ExecuteTime": {
     "end_time": "2022-01-26T21:34:19.104296Z",
     "start_time": "2022-01-26T21:34:19.071358Z"
    },
    "execution": {
     "iopub.execute_input": "2021-09-18T14:06:08.691419Z",
     "iopub.status.busy": "2021-09-18T14:06:08.690655Z",
     "iopub.status.idle": "2021-09-18T14:06:08.722368Z",
     "shell.execute_reply": "2021-09-18T14:06:08.722735Z"
    },
    "papermill": {
     "duration": 0.113356,
     "end_time": "2021-09-18T14:06:08.722947",
     "exception": false,
     "start_time": "2021-09-18T14:06:08.609591",
     "status": "completed"
    },
    "tags": []
   },
   "outputs": [
    {
     "data": {
      "text/html": [
       "<div>\n",
       "<style scoped>\n",
       "    .dataframe tbody tr th:only-of-type {\n",
       "        vertical-align: middle;\n",
       "    }\n",
       "\n",
       "    .dataframe tbody tr th {\n",
       "        vertical-align: top;\n",
       "    }\n",
       "\n",
       "    .dataframe thead th {\n",
       "        text-align: right;\n",
       "    }\n",
       "</style>\n",
       "<table border=\"1\" class=\"dataframe\">\n",
       "  <thead>\n",
       "    <tr style=\"text-align: right;\">\n",
       "      <th></th>\n",
       "      <th>customer_id</th>\n",
       "      <th>purchases</th>\n",
       "      <th>devolutions</th>\n",
       "      <th>recency_p</th>\n",
       "      <th>recency_d</th>\n",
       "      <th>quantity_p</th>\n",
       "      <th>quantity_d</th>\n",
       "      <th>invoices_p</th>\n",
       "      <th>invoices_d</th>\n",
       "      <th>avg_ticket</th>\n",
       "    </tr>\n",
       "  </thead>\n",
       "  <tbody>\n",
       "    <tr>\n",
       "      <th>0</th>\n",
       "      <td>17850</td>\n",
       "      <td>5391.21</td>\n",
       "      <td>-102.58</td>\n",
       "      <td>372.0</td>\n",
       "      <td>302.0</td>\n",
       "      <td>35.0</td>\n",
       "      <td>-21.0</td>\n",
       "      <td>34.0</td>\n",
       "      <td>1.0</td>\n",
       "      <td>18.152222</td>\n",
       "    </tr>\n",
       "    <tr>\n",
       "      <th>1</th>\n",
       "      <td>13047</td>\n",
       "      <td>3237.54</td>\n",
       "      <td>-158.44</td>\n",
       "      <td>31.0</td>\n",
       "      <td>31.0</td>\n",
       "      <td>132.0</td>\n",
       "      <td>-6.0</td>\n",
       "      <td>10.0</td>\n",
       "      <td>8.0</td>\n",
       "      <td>18.822907</td>\n",
       "    </tr>\n",
       "    <tr>\n",
       "      <th>2</th>\n",
       "      <td>12583</td>\n",
       "      <td>7281.38</td>\n",
       "      <td>-94.04</td>\n",
       "      <td>2.0</td>\n",
       "      <td>56.0</td>\n",
       "      <td>1569.0</td>\n",
       "      <td>-50.0</td>\n",
       "      <td>15.0</td>\n",
       "      <td>3.0</td>\n",
       "      <td>29.479271</td>\n",
       "    </tr>\n",
       "    <tr>\n",
       "      <th>3</th>\n",
       "      <td>13748</td>\n",
       "      <td>948.25</td>\n",
       "      <td>0.00</td>\n",
       "      <td>95.0</td>\n",
       "      <td>NaN</td>\n",
       "      <td>169.0</td>\n",
       "      <td>NaN</td>\n",
       "      <td>5.0</td>\n",
       "      <td>NaN</td>\n",
       "      <td>33.866071</td>\n",
       "    </tr>\n",
       "    <tr>\n",
       "      <th>4</th>\n",
       "      <td>15100</td>\n",
       "      <td>876.00</td>\n",
       "      <td>-240.90</td>\n",
       "      <td>333.0</td>\n",
       "      <td>330.0</td>\n",
       "      <td>48.0</td>\n",
       "      <td>-22.0</td>\n",
       "      <td>3.0</td>\n",
       "      <td>3.0</td>\n",
       "      <td>292.000000</td>\n",
       "    </tr>\n",
       "    <tr>\n",
       "      <th>5</th>\n",
       "      <td>15291</td>\n",
       "      <td>4668.30</td>\n",
       "      <td>-71.79</td>\n",
       "      <td>25.0</td>\n",
       "      <td>172.0</td>\n",
       "      <td>508.0</td>\n",
       "      <td>-27.0</td>\n",
       "      <td>15.0</td>\n",
       "      <td>5.0</td>\n",
       "      <td>45.323301</td>\n",
       "    </tr>\n",
       "    <tr>\n",
       "      <th>6</th>\n",
       "      <td>14688</td>\n",
       "      <td>5630.87</td>\n",
       "      <td>-523.49</td>\n",
       "      <td>7.0</td>\n",
       "      <td>7.0</td>\n",
       "      <td>579.0</td>\n",
       "      <td>-281.0</td>\n",
       "      <td>21.0</td>\n",
       "      <td>6.0</td>\n",
       "      <td>17.219786</td>\n",
       "    </tr>\n",
       "    <tr>\n",
       "      <th>7</th>\n",
       "      <td>17809</td>\n",
       "      <td>5411.91</td>\n",
       "      <td>-784.29</td>\n",
       "      <td>16.0</td>\n",
       "      <td>16.0</td>\n",
       "      <td>961.0</td>\n",
       "      <td>-41.0</td>\n",
       "      <td>12.0</td>\n",
       "      <td>3.0</td>\n",
       "      <td>88.719836</td>\n",
       "    </tr>\n",
       "    <tr>\n",
       "      <th>8</th>\n",
       "      <td>15311</td>\n",
       "      <td>60767.90</td>\n",
       "      <td>-1348.56</td>\n",
       "      <td>0.0</td>\n",
       "      <td>0.0</td>\n",
       "      <td>2167.0</td>\n",
       "      <td>-231.0</td>\n",
       "      <td>91.0</td>\n",
       "      <td>27.0</td>\n",
       "      <td>25.543464</td>\n",
       "    </tr>\n",
       "    <tr>\n",
       "      <th>9</th>\n",
       "      <td>14527</td>\n",
       "      <td>8508.82</td>\n",
       "      <td>-797.44</td>\n",
       "      <td>2.0</td>\n",
       "      <td>8.0</td>\n",
       "      <td>198.0</td>\n",
       "      <td>-3.0</td>\n",
       "      <td>55.0</td>\n",
       "      <td>31.0</td>\n",
       "      <td>8.753930</td>\n",
       "    </tr>\n",
       "  </tbody>\n",
       "</table>\n",
       "</div>"
      ],
      "text/plain": [
       "   customer_id  purchases  devolutions  recency_p  recency_d  quantity_p  \\\n",
       "0        17850    5391.21      -102.58      372.0      302.0        35.0   \n",
       "1        13047    3237.54      -158.44       31.0       31.0       132.0   \n",
       "2        12583    7281.38       -94.04        2.0       56.0      1569.0   \n",
       "3        13748     948.25         0.00       95.0        NaN       169.0   \n",
       "4        15100     876.00      -240.90      333.0      330.0        48.0   \n",
       "5        15291    4668.30       -71.79       25.0      172.0       508.0   \n",
       "6        14688    5630.87      -523.49        7.0        7.0       579.0   \n",
       "7        17809    5411.91      -784.29       16.0       16.0       961.0   \n",
       "8        15311   60767.90     -1348.56        0.0        0.0      2167.0   \n",
       "9        14527    8508.82      -797.44        2.0        8.0       198.0   \n",
       "\n",
       "   quantity_d  invoices_p  invoices_d  avg_ticket  \n",
       "0       -21.0        34.0         1.0   18.152222  \n",
       "1        -6.0        10.0         8.0   18.822907  \n",
       "2       -50.0        15.0         3.0   29.479271  \n",
       "3         NaN         5.0         NaN   33.866071  \n",
       "4       -22.0         3.0         3.0  292.000000  \n",
       "5       -27.0        15.0         5.0   45.323301  \n",
       "6      -281.0        21.0         6.0   17.219786  \n",
       "7       -41.0        12.0         3.0   88.719836  \n",
       "8      -231.0        91.0        27.0   25.543464  \n",
       "9        -3.0        55.0        31.0    8.753930  "
      ]
     },
     "execution_count": 24,
     "metadata": {},
     "output_type": "execute_result"
    }
   ],
   "source": [
    "# average ticket - for purchases only\n",
    "df_avg_ticket = df2_purchase.loc[:,['customer_id', 'gross_purchases']].groupby('customer_id').mean().reset_index().rename(columns={'gross_purchases':'avg_ticket'})\n",
    "df_ref = pd.merge( df_ref, df_avg_ticket, on='customer_id', how='left' )\n",
    "df_ref.head(10)"
   ]
  },
  {
   "cell_type": "markdown",
   "metadata": {
    "papermill": {
     "duration": 0.089379,
     "end_time": "2021-09-18T14:06:08.883334",
     "exception": false,
     "start_time": "2021-09-18T14:06:08.793955",
     "status": "completed"
    },
    "tags": []
   },
   "source": [
    "### 3.1.6. Average recency days"
   ]
  },
  {
   "cell_type": "code",
   "execution_count": 25,
   "metadata": {
    "ExecuteTime": {
     "end_time": "2022-01-26T21:34:19.907527Z",
     "start_time": "2022-01-26T21:34:19.105514Z"
    },
    "execution": {
     "iopub.execute_input": "2021-09-18T14:06:09.044371Z",
     "iopub.status.busy": "2021-09-18T14:06:09.043833Z",
     "iopub.status.idle": "2021-09-18T14:06:10.028656Z",
     "shell.execute_reply": "2021-09-18T14:06:10.028096Z"
    },
    "papermill": {
     "duration": 1.065328,
     "end_time": "2021-09-18T14:06:10.028827",
     "exception": false,
     "start_time": "2021-09-18T14:06:08.963499",
     "status": "completed"
    },
    "tags": []
   },
   "outputs": [
    {
     "name": "stdout",
     "output_type": "stream",
     "text": [
      "        customer_id invoice_date  next_customer_id  next_next_customer_id  \\\n",
      "61619         12346   2017-01-16           12347.0                12347.0   \n",
      "14938         12347   2016-12-05           12347.0                12347.0   \n",
      "72246         12347   2017-01-24           12347.0                12347.0   \n",
      "148285        12347   2017-04-05           12347.0                12347.0   \n",
      "220572        12347   2017-06-07           12347.0                12347.0   \n",
      "286621        12347   2017-07-31           12347.0                12347.0   \n",
      "428957        12347   2017-10-29           12347.0                12348.0   \n",
      "535004        12347   2017-12-05           12348.0                12348.0   \n",
      "34083         12348   2016-12-14           12348.0                12348.0   \n",
      "70051         12348   2017-01-23           12348.0                12348.0   \n",
      "\n",
      "       next_invoice_date  avg_recency_days  \n",
      "61619         2016-12-05               325  \n",
      "14938         2017-01-24                50  \n",
      "72246         2017-04-05                71  \n",
      "148285        2017-06-07                63  \n",
      "220572        2017-07-31                54  \n",
      "286621        2017-10-29                90  \n",
      "428957        2017-12-05                37  \n",
      "535004        2016-12-14                 2  \n",
      "34083         2017-01-23                40  \n",
      "70051         2017-04-03                70  \n",
      "   customer_id  purchases  devolutions  recency_p  recency_d  quantity_p  \\\n",
      "0        17850    5391.21      -102.58      372.0      302.0        35.0   \n",
      "1        13047    3237.54      -158.44       31.0       31.0       132.0   \n",
      "2        12583    7281.38       -94.04        2.0       56.0      1569.0   \n",
      "3        13748     948.25         0.00       95.0        NaN       169.0   \n",
      "4        15100     876.00      -240.90      333.0      330.0        48.0   \n",
      "\n",
      "   quantity_d  invoices_p  invoices_d  avg_ticket  avg_recency_days  \n",
      "0       -21.0        34.0         1.0   18.152222        124.333333  \n",
      "1        -6.0        10.0         8.0   18.822907         26.642857  \n",
      "2       -50.0        15.0         3.0   29.479271         20.722222  \n",
      "3         NaN         5.0         NaN   33.866071         93.250000  \n",
      "4       -22.0         3.0         3.0  292.000000         62.166667  \n"
     ]
    }
   ],
   "source": [
    "df_aux = df3[['customer_id', 'invoice_date']].drop_duplicates().sort_values(['customer_id','invoice_date'], ascending=['True','False'])\n",
    "df_aux['next_customer_id'] = df_aux['customer_id'].shift(-1) # next customer\n",
    "df_aux['next_next_customer_id'] = df_aux['next_customer_id'].shift(-1) # next customer\n",
    "df_aux['next_invoice_date'] = df_aux['invoice_date'].shift(-1) # next invoice date\n",
    "\n",
    "#today =  datetime.datetime.fromtimestamp(df3['invoice_date'].max().to_datetime())\n",
    "#today_date = datetime.datetime.strptime( today, '%Y-%m-%d')\n",
    "today_date = df3['invoice_date'].max()\n",
    "\n",
    "df_aux['avg_recency_days'] = df_aux.apply(lambda x: (x['next_invoice_date'] - x['invoice_date']).days if (x['customer_id'] == x['next_customer_id']) \n",
    "                                                                                                    else ( (x['next_invoice_date'] - x['invoice_date']) if (x['customer_id'] == x['next_next_customer_id']) \n",
    "                                                                                                                                                        else (today_date - x['invoice_date']).days), axis=1)\n",
    "df_avg_recency_days = df_aux[['customer_id','avg_recency_days']].groupby('customer_id').mean().reset_index()\n",
    "\n",
    "# Merging\n",
    "df_ref = pd.merge(df_ref, df_avg_recency_days, on='customer_id', how='left')\n",
    "\n",
    "print(df_aux.head(10))\n",
    "print(df_ref.head())"
   ]
  },
  {
   "cell_type": "markdown",
   "metadata": {
    "papermill": {
     "duration": 0.069894,
     "end_time": "2021-09-18T14:06:10.169863",
     "exception": false,
     "start_time": "2021-09-18T14:06:10.099969",
     "status": "completed"
    },
    "tags": []
   },
   "source": [
    "### 3.1.7. Basket size and unique products"
   ]
  },
  {
   "cell_type": "code",
   "execution_count": 26,
   "metadata": {
    "ExecuteTime": {
     "end_time": "2022-01-26T21:34:20.073160Z",
     "start_time": "2022-01-26T21:34:19.908718Z"
    },
    "execution": {
     "iopub.execute_input": "2021-09-18T14:06:10.330174Z",
     "iopub.status.busy": "2021-09-18T14:06:10.324478Z",
     "iopub.status.idle": "2021-09-18T14:06:10.499950Z",
     "shell.execute_reply": "2021-09-18T14:06:10.499245Z"
    },
    "papermill": {
     "duration": 0.25611,
     "end_time": "2021-09-18T14:06:10.500345",
     "exception": false,
     "start_time": "2021-09-18T14:06:10.244235",
     "status": "completed"
    },
    "tags": []
   },
   "outputs": [],
   "source": [
    "df_aux = ( df2_purchase.loc[:,['customer_id','invoice_no','quantity']].groupby('customer_id')\n",
    "                                                                       .agg(n_purchase=('invoice_no', 'nunique'),\n",
    "                                                                            n_products=('quantity', 'sum'))\n",
    "                                                                       .reset_index() )\n",
    "\n",
    "df_aux['avg_basket_size'] = df_aux['n_products'] / df_aux['n_purchase']\n",
    "\n",
    "# Merge\n",
    "df_ref = pd.merge(df_ref, df_aux, how='left', on='customer_id')\n",
    "\n",
    "df_aux = ( df2_purchase.loc[:,['customer_id','invoice_no','stock_code']].groupby('customer_id')\n",
    "                                                                       .agg(n_purchase=('invoice_no', 'nunique'),\n",
    "                                                                            n_products=('stock_code', 'count'))\n",
    "                                                                       .reset_index() )\n",
    "\n",
    "df_aux['avg_variety'] = df_aux['n_products'] / df_aux['n_purchase']\n",
    "\n",
    "# Merge\n",
    "df_ref = pd.merge(df_ref, df_aux, how='left', on='customer_id')"
   ]
  },
  {
   "cell_type": "markdown",
   "metadata": {
    "papermill": {
     "duration": 0.075967,
     "end_time": "2021-09-18T14:06:10.650457",
     "exception": false,
     "start_time": "2021-09-18T14:06:10.574490",
     "status": "completed"
    },
    "tags": []
   },
   "source": [
    "### 3.1.8. Frequency - purchases per day"
   ]
  },
  {
   "cell_type": "code",
   "execution_count": 27,
   "metadata": {
    "ExecuteTime": {
     "end_time": "2022-01-26T21:34:20.478966Z",
     "start_time": "2022-01-26T21:34:20.074414Z"
    },
    "execution": {
     "iopub.execute_input": "2021-09-18T14:06:10.801542Z",
     "iopub.status.busy": "2021-09-18T14:06:10.800804Z",
     "iopub.status.idle": "2021-09-18T14:06:11.316357Z",
     "shell.execute_reply": "2021-09-18T14:06:11.316762Z"
    },
    "papermill": {
     "duration": 0.594624,
     "end_time": "2021-09-18T14:06:11.316971",
     "exception": false,
     "start_time": "2021-09-18T14:06:10.722347",
     "status": "completed"
    },
    "tags": []
   },
   "outputs": [
    {
     "data": {
      "text/html": [
       "<div>\n",
       "<style scoped>\n",
       "    .dataframe tbody tr th:only-of-type {\n",
       "        vertical-align: middle;\n",
       "    }\n",
       "\n",
       "    .dataframe tbody tr th {\n",
       "        vertical-align: top;\n",
       "    }\n",
       "\n",
       "    .dataframe thead th {\n",
       "        text-align: right;\n",
       "    }\n",
       "</style>\n",
       "<table border=\"1\" class=\"dataframe\">\n",
       "  <thead>\n",
       "    <tr style=\"text-align: right;\">\n",
       "      <th></th>\n",
       "      <th>customer_id</th>\n",
       "      <th>purchases</th>\n",
       "      <th>devolutions</th>\n",
       "      <th>recency_p</th>\n",
       "      <th>recency_d</th>\n",
       "      <th>quantity_p</th>\n",
       "      <th>quantity_d</th>\n",
       "      <th>invoices_p</th>\n",
       "      <th>invoices_d</th>\n",
       "      <th>avg_ticket</th>\n",
       "      <th>avg_recency_days</th>\n",
       "      <th>n_purchase_x</th>\n",
       "      <th>n_products_x</th>\n",
       "      <th>avg_basket_size</th>\n",
       "      <th>n_purchase_y</th>\n",
       "      <th>n_products_y</th>\n",
       "      <th>avg_variety</th>\n",
       "      <th>purchases_pday</th>\n",
       "    </tr>\n",
       "  </thead>\n",
       "  <tbody>\n",
       "    <tr>\n",
       "      <th>4708</th>\n",
       "      <td>17333</td>\n",
       "      <td>494.25</td>\n",
       "      <td>0.00</td>\n",
       "      <td>85.0</td>\n",
       "      <td>NaN</td>\n",
       "      <td>99.0</td>\n",
       "      <td>NaN</td>\n",
       "      <td>1.0</td>\n",
       "      <td>NaN</td>\n",
       "      <td>17.651786</td>\n",
       "      <td>85.000000</td>\n",
       "      <td>1.0</td>\n",
       "      <td>375.0</td>\n",
       "      <td>375.000000</td>\n",
       "      <td>1.0</td>\n",
       "      <td>28.0</td>\n",
       "      <td>28.000000</td>\n",
       "      <td>1.000000</td>\n",
       "    </tr>\n",
       "    <tr>\n",
       "      <th>1468</th>\n",
       "      <td>19449</td>\n",
       "      <td>524.18</td>\n",
       "      <td>0.00</td>\n",
       "      <td>322.0</td>\n",
       "      <td>NaN</td>\n",
       "      <td>21.0</td>\n",
       "      <td>NaN</td>\n",
       "      <td>1.0</td>\n",
       "      <td>NaN</td>\n",
       "      <td>10.920417</td>\n",
       "      <td>322.000000</td>\n",
       "      <td>1.0</td>\n",
       "      <td>78.0</td>\n",
       "      <td>78.000000</td>\n",
       "      <td>1.0</td>\n",
       "      <td>48.0</td>\n",
       "      <td>48.000000</td>\n",
       "      <td>1.000000</td>\n",
       "    </tr>\n",
       "    <tr>\n",
       "      <th>1616</th>\n",
       "      <td>15365</td>\n",
       "      <td>2314.32</td>\n",
       "      <td>-983.87</td>\n",
       "      <td>25.0</td>\n",
       "      <td>64.0</td>\n",
       "      <td>135.0</td>\n",
       "      <td>-111.0</td>\n",
       "      <td>7.0</td>\n",
       "      <td>2.0</td>\n",
       "      <td>20.301053</td>\n",
       "      <td>63.000000</td>\n",
       "      <td>7.0</td>\n",
       "      <td>1084.0</td>\n",
       "      <td>154.857143</td>\n",
       "      <td>7.0</td>\n",
       "      <td>114.0</td>\n",
       "      <td>16.285714</td>\n",
       "      <td>0.024055</td>\n",
       "    </tr>\n",
       "    <tr>\n",
       "      <th>3223</th>\n",
       "      <td>20545</td>\n",
       "      <td>0.00</td>\n",
       "      <td>-189.44</td>\n",
       "      <td>NaN</td>\n",
       "      <td>217.0</td>\n",
       "      <td>NaN</td>\n",
       "      <td>-1.0</td>\n",
       "      <td>NaN</td>\n",
       "      <td>1.0</td>\n",
       "      <td>NaN</td>\n",
       "      <td>217.000000</td>\n",
       "      <td>NaN</td>\n",
       "      <td>NaN</td>\n",
       "      <td>NaN</td>\n",
       "      <td>NaN</td>\n",
       "      <td>NaN</td>\n",
       "      <td>NaN</td>\n",
       "      <td>NaN</td>\n",
       "    </tr>\n",
       "    <tr>\n",
       "      <th>2006</th>\n",
       "      <td>19710</td>\n",
       "      <td>0.00</td>\n",
       "      <td>-109.84</td>\n",
       "      <td>NaN</td>\n",
       "      <td>291.0</td>\n",
       "      <td>NaN</td>\n",
       "      <td>-1.0</td>\n",
       "      <td>NaN</td>\n",
       "      <td>1.0</td>\n",
       "      <td>NaN</td>\n",
       "      <td>291.000000</td>\n",
       "      <td>NaN</td>\n",
       "      <td>NaN</td>\n",
       "      <td>NaN</td>\n",
       "      <td>NaN</td>\n",
       "      <td>NaN</td>\n",
       "      <td>NaN</td>\n",
       "      <td>NaN</td>\n",
       "    </tr>\n",
       "    <tr>\n",
       "      <th>1464</th>\n",
       "      <td>17094</td>\n",
       "      <td>302.00</td>\n",
       "      <td>-31.80</td>\n",
       "      <td>322.0</td>\n",
       "      <td>318.0</td>\n",
       "      <td>28.0</td>\n",
       "      <td>-4.0</td>\n",
       "      <td>1.0</td>\n",
       "      <td>1.0</td>\n",
       "      <td>21.571429</td>\n",
       "      <td>161.000000</td>\n",
       "      <td>1.0</td>\n",
       "      <td>152.0</td>\n",
       "      <td>152.000000</td>\n",
       "      <td>1.0</td>\n",
       "      <td>14.0</td>\n",
       "      <td>14.000000</td>\n",
       "      <td>1.000000</td>\n",
       "    </tr>\n",
       "    <tr>\n",
       "      <th>3152</th>\n",
       "      <td>16055</td>\n",
       "      <td>134.80</td>\n",
       "      <td>0.00</td>\n",
       "      <td>220.0</td>\n",
       "      <td>NaN</td>\n",
       "      <td>16.0</td>\n",
       "      <td>NaN</td>\n",
       "      <td>1.0</td>\n",
       "      <td>NaN</td>\n",
       "      <td>16.850000</td>\n",
       "      <td>220.000000</td>\n",
       "      <td>1.0</td>\n",
       "      <td>22.0</td>\n",
       "      <td>22.000000</td>\n",
       "      <td>1.0</td>\n",
       "      <td>8.0</td>\n",
       "      <td>8.000000</td>\n",
       "      <td>1.000000</td>\n",
       "    </tr>\n",
       "    <tr>\n",
       "      <th>3273</th>\n",
       "      <td>17597</td>\n",
       "      <td>2044.37</td>\n",
       "      <td>0.00</td>\n",
       "      <td>213.0</td>\n",
       "      <td>NaN</td>\n",
       "      <td>596.0</td>\n",
       "      <td>NaN</td>\n",
       "      <td>1.0</td>\n",
       "      <td>NaN</td>\n",
       "      <td>37.170364</td>\n",
       "      <td>213.000000</td>\n",
       "      <td>1.0</td>\n",
       "      <td>1176.0</td>\n",
       "      <td>1176.000000</td>\n",
       "      <td>1.0</td>\n",
       "      <td>55.0</td>\n",
       "      <td>55.000000</td>\n",
       "      <td>1.000000</td>\n",
       "    </tr>\n",
       "    <tr>\n",
       "      <th>2414</th>\n",
       "      <td>14226</td>\n",
       "      <td>2232.19</td>\n",
       "      <td>-30.55</td>\n",
       "      <td>28.0</td>\n",
       "      <td>199.0</td>\n",
       "      <td>453.0</td>\n",
       "      <td>-3.0</td>\n",
       "      <td>5.0</td>\n",
       "      <td>2.0</td>\n",
       "      <td>33.316269</td>\n",
       "      <td>38.428571</td>\n",
       "      <td>5.0</td>\n",
       "      <td>1308.0</td>\n",
       "      <td>261.600000</td>\n",
       "      <td>5.0</td>\n",
       "      <td>67.0</td>\n",
       "      <td>13.400000</td>\n",
       "      <td>0.020661</td>\n",
       "    </tr>\n",
       "    <tr>\n",
       "      <th>2458</th>\n",
       "      <td>19886</td>\n",
       "      <td>1191.71</td>\n",
       "      <td>0.00</td>\n",
       "      <td>267.0</td>\n",
       "      <td>NaN</td>\n",
       "      <td>67.0</td>\n",
       "      <td>NaN</td>\n",
       "      <td>1.0</td>\n",
       "      <td>NaN</td>\n",
       "      <td>7.788954</td>\n",
       "      <td>267.000000</td>\n",
       "      <td>1.0</td>\n",
       "      <td>274.0</td>\n",
       "      <td>274.000000</td>\n",
       "      <td>1.0</td>\n",
       "      <td>153.0</td>\n",
       "      <td>153.000000</td>\n",
       "      <td>1.000000</td>\n",
       "    </tr>\n",
       "    <tr>\n",
       "      <th>1083</th>\n",
       "      <td>19290</td>\n",
       "      <td>579.70</td>\n",
       "      <td>0.00</td>\n",
       "      <td>353.0</td>\n",
       "      <td>NaN</td>\n",
       "      <td>16.0</td>\n",
       "      <td>NaN</td>\n",
       "      <td>1.0</td>\n",
       "      <td>NaN</td>\n",
       "      <td>13.175000</td>\n",
       "      <td>353.000000</td>\n",
       "      <td>1.0</td>\n",
       "      <td>62.0</td>\n",
       "      <td>62.000000</td>\n",
       "      <td>1.0</td>\n",
       "      <td>44.0</td>\n",
       "      <td>44.000000</td>\n",
       "      <td>1.000000</td>\n",
       "    </tr>\n",
       "    <tr>\n",
       "      <th>5540</th>\n",
       "      <td>16070</td>\n",
       "      <td>852.15</td>\n",
       "      <td>0.00</td>\n",
       "      <td>22.0</td>\n",
       "      <td>NaN</td>\n",
       "      <td>86.0</td>\n",
       "      <td>NaN</td>\n",
       "      <td>2.0</td>\n",
       "      <td>NaN</td>\n",
       "      <td>25.822727</td>\n",
       "      <td>16.000000</td>\n",
       "      <td>2.0</td>\n",
       "      <td>457.0</td>\n",
       "      <td>228.500000</td>\n",
       "      <td>2.0</td>\n",
       "      <td>33.0</td>\n",
       "      <td>16.500000</td>\n",
       "      <td>0.181818</td>\n",
       "    </tr>\n",
       "    <tr>\n",
       "      <th>5276</th>\n",
       "      <td>13460</td>\n",
       "      <td>183.44</td>\n",
       "      <td>0.00</td>\n",
       "      <td>29.0</td>\n",
       "      <td>NaN</td>\n",
       "      <td>47.0</td>\n",
       "      <td>NaN</td>\n",
       "      <td>2.0</td>\n",
       "      <td>NaN</td>\n",
       "      <td>10.790588</td>\n",
       "      <td>24.500000</td>\n",
       "      <td>2.0</td>\n",
       "      <td>286.0</td>\n",
       "      <td>143.000000</td>\n",
       "      <td>2.0</td>\n",
       "      <td>17.0</td>\n",
       "      <td>8.500000</td>\n",
       "      <td>0.095238</td>\n",
       "    </tr>\n",
       "    <tr>\n",
       "      <th>3122</th>\n",
       "      <td>20425</td>\n",
       "      <td>23.85</td>\n",
       "      <td>0.00</td>\n",
       "      <td>226.0</td>\n",
       "      <td>NaN</td>\n",
       "      <td>3.0</td>\n",
       "      <td>NaN</td>\n",
       "      <td>1.0</td>\n",
       "      <td>NaN</td>\n",
       "      <td>23.850000</td>\n",
       "      <td>226.000000</td>\n",
       "      <td>1.0</td>\n",
       "      <td>3.0</td>\n",
       "      <td>3.000000</td>\n",
       "      <td>1.0</td>\n",
       "      <td>1.0</td>\n",
       "      <td>1.000000</td>\n",
       "      <td>1.000000</td>\n",
       "    </tr>\n",
       "    <tr>\n",
       "      <th>4157</th>\n",
       "      <td>21268</td>\n",
       "      <td>1721.77</td>\n",
       "      <td>0.00</td>\n",
       "      <td>144.0</td>\n",
       "      <td>NaN</td>\n",
       "      <td>129.0</td>\n",
       "      <td>NaN</td>\n",
       "      <td>1.0</td>\n",
       "      <td>NaN</td>\n",
       "      <td>7.204059</td>\n",
       "      <td>144.000000</td>\n",
       "      <td>1.0</td>\n",
       "      <td>582.0</td>\n",
       "      <td>582.000000</td>\n",
       "      <td>1.0</td>\n",
       "      <td>239.0</td>\n",
       "      <td>239.000000</td>\n",
       "      <td>1.000000</td>\n",
       "    </tr>\n",
       "    <tr>\n",
       "      <th>140</th>\n",
       "      <td>17287</td>\n",
       "      <td>1064.11</td>\n",
       "      <td>0.00</td>\n",
       "      <td>26.0</td>\n",
       "      <td>NaN</td>\n",
       "      <td>146.0</td>\n",
       "      <td>NaN</td>\n",
       "      <td>7.0</td>\n",
       "      <td>NaN</td>\n",
       "      <td>8.581532</td>\n",
       "      <td>53.142857</td>\n",
       "      <td>7.0</td>\n",
       "      <td>559.0</td>\n",
       "      <td>79.857143</td>\n",
       "      <td>7.0</td>\n",
       "      <td>124.0</td>\n",
       "      <td>17.714286</td>\n",
       "      <td>0.020173</td>\n",
       "    </tr>\n",
       "    <tr>\n",
       "      <th>3342</th>\n",
       "      <td>17658</td>\n",
       "      <td>595.42</td>\n",
       "      <td>-109.54</td>\n",
       "      <td>25.0</td>\n",
       "      <td>10.0</td>\n",
       "      <td>352.0</td>\n",
       "      <td>-94.0</td>\n",
       "      <td>2.0</td>\n",
       "      <td>1.0</td>\n",
       "      <td>31.337895</td>\n",
       "      <td>70.333333</td>\n",
       "      <td>2.0</td>\n",
       "      <td>616.0</td>\n",
       "      <td>308.000000</td>\n",
       "      <td>2.0</td>\n",
       "      <td>19.0</td>\n",
       "      <td>9.500000</td>\n",
       "      <td>0.010695</td>\n",
       "    </tr>\n",
       "    <tr>\n",
       "      <th>2694</th>\n",
       "      <td>12456</td>\n",
       "      <td>3181.04</td>\n",
       "      <td>-27.15</td>\n",
       "      <td>44.0</td>\n",
       "      <td>108.0</td>\n",
       "      <td>310.0</td>\n",
       "      <td>-16.0</td>\n",
       "      <td>3.0</td>\n",
       "      <td>1.0</td>\n",
       "      <td>25.448320</td>\n",
       "      <td>63.500000</td>\n",
       "      <td>3.0</td>\n",
       "      <td>1633.0</td>\n",
       "      <td>544.333333</td>\n",
       "      <td>3.0</td>\n",
       "      <td>125.0</td>\n",
       "      <td>41.666667</td>\n",
       "      <td>0.014218</td>\n",
       "    </tr>\n",
       "    <tr>\n",
       "      <th>2528</th>\n",
       "      <td>19908</td>\n",
       "      <td>160.93</td>\n",
       "      <td>0.00</td>\n",
       "      <td>264.0</td>\n",
       "      <td>NaN</td>\n",
       "      <td>39.0</td>\n",
       "      <td>NaN</td>\n",
       "      <td>1.0</td>\n",
       "      <td>NaN</td>\n",
       "      <td>20.116250</td>\n",
       "      <td>264.000000</td>\n",
       "      <td>1.0</td>\n",
       "      <td>99.0</td>\n",
       "      <td>99.000000</td>\n",
       "      <td>1.0</td>\n",
       "      <td>8.0</td>\n",
       "      <td>8.000000</td>\n",
       "      <td>1.000000</td>\n",
       "    </tr>\n",
       "    <tr>\n",
       "      <th>227</th>\n",
       "      <td>13520</td>\n",
       "      <td>3624.35</td>\n",
       "      <td>-136.60</td>\n",
       "      <td>58.0</td>\n",
       "      <td>128.0</td>\n",
       "      <td>339.0</td>\n",
       "      <td>-7.0</td>\n",
       "      <td>6.0</td>\n",
       "      <td>2.0</td>\n",
       "      <td>38.971505</td>\n",
       "      <td>53.000000</td>\n",
       "      <td>6.0</td>\n",
       "      <td>1649.0</td>\n",
       "      <td>274.833333</td>\n",
       "      <td>6.0</td>\n",
       "      <td>93.0</td>\n",
       "      <td>15.500000</td>\n",
       "      <td>0.019108</td>\n",
       "    </tr>\n",
       "  </tbody>\n",
       "</table>\n",
       "</div>"
      ],
      "text/plain": [
       "      customer_id  purchases  devolutions  recency_p  recency_d  quantity_p  \\\n",
       "4708        17333     494.25         0.00       85.0        NaN        99.0   \n",
       "1468        19449     524.18         0.00      322.0        NaN        21.0   \n",
       "1616        15365    2314.32      -983.87       25.0       64.0       135.0   \n",
       "3223        20545       0.00      -189.44        NaN      217.0         NaN   \n",
       "2006        19710       0.00      -109.84        NaN      291.0         NaN   \n",
       "1464        17094     302.00       -31.80      322.0      318.0        28.0   \n",
       "3152        16055     134.80         0.00      220.0        NaN        16.0   \n",
       "3273        17597    2044.37         0.00      213.0        NaN       596.0   \n",
       "2414        14226    2232.19       -30.55       28.0      199.0       453.0   \n",
       "2458        19886    1191.71         0.00      267.0        NaN        67.0   \n",
       "1083        19290     579.70         0.00      353.0        NaN        16.0   \n",
       "5540        16070     852.15         0.00       22.0        NaN        86.0   \n",
       "5276        13460     183.44         0.00       29.0        NaN        47.0   \n",
       "3122        20425      23.85         0.00      226.0        NaN         3.0   \n",
       "4157        21268    1721.77         0.00      144.0        NaN       129.0   \n",
       "140         17287    1064.11         0.00       26.0        NaN       146.0   \n",
       "3342        17658     595.42      -109.54       25.0       10.0       352.0   \n",
       "2694        12456    3181.04       -27.15       44.0      108.0       310.0   \n",
       "2528        19908     160.93         0.00      264.0        NaN        39.0   \n",
       "227         13520    3624.35      -136.60       58.0      128.0       339.0   \n",
       "\n",
       "      quantity_d  invoices_p  invoices_d  avg_ticket  avg_recency_days  \\\n",
       "4708         NaN         1.0         NaN   17.651786         85.000000   \n",
       "1468         NaN         1.0         NaN   10.920417        322.000000   \n",
       "1616      -111.0         7.0         2.0   20.301053         63.000000   \n",
       "3223        -1.0         NaN         1.0         NaN        217.000000   \n",
       "2006        -1.0         NaN         1.0         NaN        291.000000   \n",
       "1464        -4.0         1.0         1.0   21.571429        161.000000   \n",
       "3152         NaN         1.0         NaN   16.850000        220.000000   \n",
       "3273         NaN         1.0         NaN   37.170364        213.000000   \n",
       "2414        -3.0         5.0         2.0   33.316269         38.428571   \n",
       "2458         NaN         1.0         NaN    7.788954        267.000000   \n",
       "1083         NaN         1.0         NaN   13.175000        353.000000   \n",
       "5540         NaN         2.0         NaN   25.822727         16.000000   \n",
       "5276         NaN         2.0         NaN   10.790588         24.500000   \n",
       "3122         NaN         1.0         NaN   23.850000        226.000000   \n",
       "4157         NaN         1.0         NaN    7.204059        144.000000   \n",
       "140          NaN         7.0         NaN    8.581532         53.142857   \n",
       "3342       -94.0         2.0         1.0   31.337895         70.333333   \n",
       "2694       -16.0         3.0         1.0   25.448320         63.500000   \n",
       "2528         NaN         1.0         NaN   20.116250        264.000000   \n",
       "227         -7.0         6.0         2.0   38.971505         53.000000   \n",
       "\n",
       "      n_purchase_x  n_products_x  avg_basket_size  n_purchase_y  n_products_y  \\\n",
       "4708           1.0         375.0       375.000000           1.0          28.0   \n",
       "1468           1.0          78.0        78.000000           1.0          48.0   \n",
       "1616           7.0        1084.0       154.857143           7.0         114.0   \n",
       "3223           NaN           NaN              NaN           NaN           NaN   \n",
       "2006           NaN           NaN              NaN           NaN           NaN   \n",
       "1464           1.0         152.0       152.000000           1.0          14.0   \n",
       "3152           1.0          22.0        22.000000           1.0           8.0   \n",
       "3273           1.0        1176.0      1176.000000           1.0          55.0   \n",
       "2414           5.0        1308.0       261.600000           5.0          67.0   \n",
       "2458           1.0         274.0       274.000000           1.0         153.0   \n",
       "1083           1.0          62.0        62.000000           1.0          44.0   \n",
       "5540           2.0         457.0       228.500000           2.0          33.0   \n",
       "5276           2.0         286.0       143.000000           2.0          17.0   \n",
       "3122           1.0           3.0         3.000000           1.0           1.0   \n",
       "4157           1.0         582.0       582.000000           1.0         239.0   \n",
       "140            7.0         559.0        79.857143           7.0         124.0   \n",
       "3342           2.0         616.0       308.000000           2.0          19.0   \n",
       "2694           3.0        1633.0       544.333333           3.0         125.0   \n",
       "2528           1.0          99.0        99.000000           1.0           8.0   \n",
       "227            6.0        1649.0       274.833333           6.0          93.0   \n",
       "\n",
       "      avg_variety  purchases_pday  \n",
       "4708    28.000000        1.000000  \n",
       "1468    48.000000        1.000000  \n",
       "1616    16.285714        0.024055  \n",
       "3223          NaN             NaN  \n",
       "2006          NaN             NaN  \n",
       "1464    14.000000        1.000000  \n",
       "3152     8.000000        1.000000  \n",
       "3273    55.000000        1.000000  \n",
       "2414    13.400000        0.020661  \n",
       "2458   153.000000        1.000000  \n",
       "1083    44.000000        1.000000  \n",
       "5540    16.500000        0.181818  \n",
       "5276     8.500000        0.095238  \n",
       "3122     1.000000        1.000000  \n",
       "4157   239.000000        1.000000  \n",
       "140     17.714286        0.020173  \n",
       "3342     9.500000        0.010695  \n",
       "2694    41.666667        0.014218  \n",
       "2528     8.000000        1.000000  \n",
       "227     15.500000        0.019108  "
      ]
     },
     "execution_count": 27,
     "metadata": {},
     "output_type": "execute_result"
    }
   ],
   "source": [
    "df_aux = ( df2_purchase[['customer_id', 'invoice_no', 'invoice_date']].drop_duplicates()\n",
    "                                                            .groupby('customer_id')\n",
    "                                                            .agg( max_=('invoice_date', 'max'),\n",
    "                                                                  min_=('invoice_date', 'min'),\n",
    "                                                                  buys_=('invoice_no','count'))\n",
    "                                                            .reset_index()  )\n",
    "# Calculating the days\n",
    "df_aux['days_'] = df_aux[['max_','min_']].apply(lambda x: (x['max_'] - x['min_']).days + 1 , axis=1)\n",
    "\n",
    "# Frequency\n",
    "df_aux['purchases_pday'] = df_aux[['buys_','days_']].apply(lambda x: x['buys_'] / x['days_'] if (x['days_'] !=0 ) else 0, axis=1)\n",
    "\n",
    "# Merging\n",
    "df_ref = pd.merge(df_ref, df_aux[['customer_id','purchases_pday']], on='customer_id', how='left')\n",
    "df_ref.sample(20)"
   ]
  },
  {
   "cell_type": "code",
   "execution_count": 28,
   "metadata": {
    "ExecuteTime": {
     "end_time": "2022-01-26T21:34:20.485409Z",
     "start_time": "2022-01-26T21:34:20.480243Z"
    },
    "execution": {
     "iopub.execute_input": "2021-09-18T14:06:11.461910Z",
     "iopub.status.busy": "2021-09-18T14:06:11.461400Z",
     "iopub.status.idle": "2021-09-18T14:06:11.466941Z",
     "shell.execute_reply": "2021-09-18T14:06:11.466419Z"
    },
    "papermill": {
     "duration": 0.078039,
     "end_time": "2021-09-18T14:06:11.467111",
     "exception": false,
     "start_time": "2021-09-18T14:06:11.389072",
     "status": "completed"
    },
    "tags": []
   },
   "outputs": [
    {
     "data": {
      "text/plain": [
       "customer_id            0\n",
       "purchases              0\n",
       "devolutions            0\n",
       "recency_p            215\n",
       "recency_d           4201\n",
       "quantity_p           215\n",
       "quantity_d          4201\n",
       "invoices_p           215\n",
       "invoices_d          4201\n",
       "avg_ticket           215\n",
       "avg_recency_days       0\n",
       "n_purchase_x         215\n",
       "n_products_x         215\n",
       "avg_basket_size      215\n",
       "n_purchase_y         215\n",
       "n_products_y         215\n",
       "avg_variety          215\n",
       "purchases_pday       215\n",
       "dtype: int64"
      ]
     },
     "execution_count": 28,
     "metadata": {},
     "output_type": "execute_result"
    }
   ],
   "source": [
    "df_ref.isna().sum()"
   ]
  },
  {
   "cell_type": "code",
   "execution_count": 29,
   "metadata": {
    "ExecuteTime": {
     "end_time": "2022-01-26T21:34:20.489642Z",
     "start_time": "2022-01-26T21:34:20.486820Z"
    },
    "execution": {
     "iopub.execute_input": "2021-09-18T14:06:11.634729Z",
     "iopub.status.busy": "2021-09-18T14:06:11.634219Z",
     "iopub.status.idle": "2021-09-18T14:06:11.636963Z",
     "shell.execute_reply": "2021-09-18T14:06:11.637450Z"
    },
    "papermill": {
     "duration": 0.080579,
     "end_time": "2021-09-18T14:06:11.637700",
     "exception": false,
     "start_time": "2021-09-18T14:06:11.557121",
     "status": "completed"
    },
    "tags": []
   },
   "outputs": [
    {
     "name": "stdout",
     "output_type": "stream",
     "text": [
      "Number of rows: 5971\n",
      "Number of cols: 18\n"
     ]
    }
   ],
   "source": [
    "print( 'Number of rows: {}'.format( df_ref.shape[0] ) )\n",
    "print( 'Number of cols: {}'.format( df_ref.shape[1] ) )"
   ]
  },
  {
   "cell_type": "markdown",
   "metadata": {
    "papermill": {
     "duration": 0.074312,
     "end_time": "2021-09-18T14:06:11.785398",
     "exception": false,
     "start_time": "2021-09-18T14:06:11.711086",
     "status": "completed"
    },
    "tags": []
   },
   "source": [
    "## 3.2. Feature engineering"
   ]
  },
  {
   "cell_type": "code",
   "execution_count": 30,
   "metadata": {
    "ExecuteTime": {
     "end_time": "2022-01-26T21:34:20.541347Z",
     "start_time": "2022-01-26T21:34:20.490934Z"
    },
    "execution": {
     "iopub.execute_input": "2021-09-18T14:06:11.948938Z",
     "iopub.status.busy": "2021-09-18T14:06:11.946677Z",
     "iopub.status.idle": "2021-09-18T14:06:11.996871Z",
     "shell.execute_reply": "2021-09-18T14:06:11.997264Z"
    },
    "papermill": {
     "duration": 0.135873,
     "end_time": "2021-09-18T14:06:11.997468",
     "exception": false,
     "start_time": "2021-09-18T14:06:11.861595",
     "status": "completed"
    },
    "tags": []
   },
   "outputs": [
    {
     "data": {
      "text/html": [
       "<div>\n",
       "<style scoped>\n",
       "    .dataframe tbody tr th:only-of-type {\n",
       "        vertical-align: middle;\n",
       "    }\n",
       "\n",
       "    .dataframe tbody tr th {\n",
       "        vertical-align: top;\n",
       "    }\n",
       "\n",
       "    .dataframe thead th {\n",
       "        text-align: right;\n",
       "    }\n",
       "</style>\n",
       "<table border=\"1\" class=\"dataframe\">\n",
       "  <thead>\n",
       "    <tr style=\"text-align: right;\">\n",
       "      <th></th>\n",
       "      <th>customer_id</th>\n",
       "      <th>purchases</th>\n",
       "      <th>devolutions</th>\n",
       "      <th>recency_p</th>\n",
       "      <th>recency_d</th>\n",
       "      <th>quantity_p</th>\n",
       "      <th>quantity_d</th>\n",
       "      <th>invoices_p</th>\n",
       "      <th>invoices_d</th>\n",
       "      <th>avg_ticket</th>\n",
       "      <th>avg_recency_days</th>\n",
       "      <th>avg_basket_size</th>\n",
       "      <th>avg_variety</th>\n",
       "      <th>purchases_pday</th>\n",
       "    </tr>\n",
       "  </thead>\n",
       "  <tbody>\n",
       "    <tr>\n",
       "      <th>1251</th>\n",
       "      <td>14321</td>\n",
       "      <td>1530.75</td>\n",
       "      <td>0.00</td>\n",
       "      <td>10.0</td>\n",
       "      <td>365.0</td>\n",
       "      <td>489.0</td>\n",
       "      <td>-0.0</td>\n",
       "      <td>5.0</td>\n",
       "      <td>0.0</td>\n",
       "      <td>12.445122</td>\n",
       "      <td>66.600000</td>\n",
       "      <td>481.200000</td>\n",
       "      <td>24.600000</td>\n",
       "      <td>0.015432</td>\n",
       "    </tr>\n",
       "    <tr>\n",
       "      <th>3074</th>\n",
       "      <td>12354</td>\n",
       "      <td>1079.40</td>\n",
       "      <td>0.00</td>\n",
       "      <td>232.0</td>\n",
       "      <td>365.0</td>\n",
       "      <td>107.0</td>\n",
       "      <td>-0.0</td>\n",
       "      <td>1.0</td>\n",
       "      <td>0.0</td>\n",
       "      <td>18.610345</td>\n",
       "      <td>232.000000</td>\n",
       "      <td>530.000000</td>\n",
       "      <td>58.000000</td>\n",
       "      <td>1.000000</td>\n",
       "    </tr>\n",
       "    <tr>\n",
       "      <th>549</th>\n",
       "      <td>15916</td>\n",
       "      <td>1528.09</td>\n",
       "      <td>36.85</td>\n",
       "      <td>16.0</td>\n",
       "      <td>30.0</td>\n",
       "      <td>167.0</td>\n",
       "      <td>1.0</td>\n",
       "      <td>8.0</td>\n",
       "      <td>2.0</td>\n",
       "      <td>9.858645</td>\n",
       "      <td>52.285714</td>\n",
       "      <td>94.625000</td>\n",
       "      <td>19.375000</td>\n",
       "      <td>0.022792</td>\n",
       "    </tr>\n",
       "    <tr>\n",
       "      <th>903</th>\n",
       "      <td>15290</td>\n",
       "      <td>7943.22</td>\n",
       "      <td>139.45</td>\n",
       "      <td>4.0</td>\n",
       "      <td>36.0</td>\n",
       "      <td>834.0</td>\n",
       "      <td>43.0</td>\n",
       "      <td>18.0</td>\n",
       "      <td>3.0</td>\n",
       "      <td>38.937353</td>\n",
       "      <td>18.894737</td>\n",
       "      <td>250.055556</td>\n",
       "      <td>11.333333</td>\n",
       "      <td>0.050562</td>\n",
       "    </tr>\n",
       "    <tr>\n",
       "      <th>1722</th>\n",
       "      <td>16405</td>\n",
       "      <td>167.25</td>\n",
       "      <td>0.00</td>\n",
       "      <td>302.0</td>\n",
       "      <td>365.0</td>\n",
       "      <td>185.0</td>\n",
       "      <td>-0.0</td>\n",
       "      <td>2.0</td>\n",
       "      <td>0.0</td>\n",
       "      <td>33.450000</td>\n",
       "      <td>155.000000</td>\n",
       "      <td>93.500000</td>\n",
       "      <td>2.500000</td>\n",
       "      <td>0.222222</td>\n",
       "    </tr>\n",
       "    <tr>\n",
       "      <th>5507</th>\n",
       "      <td>22292</td>\n",
       "      <td>3016.47</td>\n",
       "      <td>0.00</td>\n",
       "      <td>35.0</td>\n",
       "      <td>365.0</td>\n",
       "      <td>245.0</td>\n",
       "      <td>-0.0</td>\n",
       "      <td>1.0</td>\n",
       "      <td>0.0</td>\n",
       "      <td>8.692997</td>\n",
       "      <td>35.000000</td>\n",
       "      <td>942.000000</td>\n",
       "      <td>347.000000</td>\n",
       "      <td>1.000000</td>\n",
       "    </tr>\n",
       "    <tr>\n",
       "      <th>1641</th>\n",
       "      <td>18145</td>\n",
       "      <td>2861.55</td>\n",
       "      <td>0.00</td>\n",
       "      <td>12.0</td>\n",
       "      <td>365.0</td>\n",
       "      <td>284.0</td>\n",
       "      <td>-0.0</td>\n",
       "      <td>4.0</td>\n",
       "      <td>0.0</td>\n",
       "      <td>12.948190</td>\n",
       "      <td>78.000000</td>\n",
       "      <td>656.250000</td>\n",
       "      <td>55.250000</td>\n",
       "      <td>0.013289</td>\n",
       "    </tr>\n",
       "    <tr>\n",
       "      <th>1707</th>\n",
       "      <td>13824</td>\n",
       "      <td>1698.94</td>\n",
       "      <td>0.00</td>\n",
       "      <td>32.0</td>\n",
       "      <td>365.0</td>\n",
       "      <td>360.0</td>\n",
       "      <td>-0.0</td>\n",
       "      <td>5.0</td>\n",
       "      <td>0.0</td>\n",
       "      <td>36.933478</td>\n",
       "      <td>62.000000</td>\n",
       "      <td>153.600000</td>\n",
       "      <td>9.200000</td>\n",
       "      <td>0.017921</td>\n",
       "    </tr>\n",
       "    <tr>\n",
       "      <th>2116</th>\n",
       "      <td>15951</td>\n",
       "      <td>708.22</td>\n",
       "      <td>38.65</td>\n",
       "      <td>8.0</td>\n",
       "      <td>1.0</td>\n",
       "      <td>67.0</td>\n",
       "      <td>7.0</td>\n",
       "      <td>2.0</td>\n",
       "      <td>1.0</td>\n",
       "      <td>17.273659</td>\n",
       "      <td>95.000000</td>\n",
       "      <td>156.500000</td>\n",
       "      <td>20.500000</td>\n",
       "      <td>0.007194</td>\n",
       "    </tr>\n",
       "    <tr>\n",
       "      <th>4306</th>\n",
       "      <td>14937</td>\n",
       "      <td>1621.88</td>\n",
       "      <td>4.25</td>\n",
       "      <td>56.0</td>\n",
       "      <td>113.0</td>\n",
       "      <td>124.0</td>\n",
       "      <td>1.0</td>\n",
       "      <td>3.0</td>\n",
       "      <td>1.0</td>\n",
       "      <td>47.702353</td>\n",
       "      <td>43.333333</td>\n",
       "      <td>161.333333</td>\n",
       "      <td>11.333333</td>\n",
       "      <td>0.040000</td>\n",
       "    </tr>\n",
       "  </tbody>\n",
       "</table>\n",
       "</div>"
      ],
      "text/plain": [
       "      customer_id  purchases  devolutions  recency_p  recency_d  quantity_p  \\\n",
       "1251        14321    1530.75         0.00       10.0      365.0       489.0   \n",
       "3074        12354    1079.40         0.00      232.0      365.0       107.0   \n",
       "549         15916    1528.09        36.85       16.0       30.0       167.0   \n",
       "903         15290    7943.22       139.45        4.0       36.0       834.0   \n",
       "1722        16405     167.25         0.00      302.0      365.0       185.0   \n",
       "5507        22292    3016.47         0.00       35.0      365.0       245.0   \n",
       "1641        18145    2861.55         0.00       12.0      365.0       284.0   \n",
       "1707        13824    1698.94         0.00       32.0      365.0       360.0   \n",
       "2116        15951     708.22        38.65        8.0        1.0        67.0   \n",
       "4306        14937    1621.88         4.25       56.0      113.0       124.0   \n",
       "\n",
       "      quantity_d  invoices_p  invoices_d  avg_ticket  avg_recency_days  \\\n",
       "1251        -0.0         5.0         0.0   12.445122         66.600000   \n",
       "3074        -0.0         1.0         0.0   18.610345        232.000000   \n",
       "549          1.0         8.0         2.0    9.858645         52.285714   \n",
       "903         43.0        18.0         3.0   38.937353         18.894737   \n",
       "1722        -0.0         2.0         0.0   33.450000        155.000000   \n",
       "5507        -0.0         1.0         0.0    8.692997         35.000000   \n",
       "1641        -0.0         4.0         0.0   12.948190         78.000000   \n",
       "1707        -0.0         5.0         0.0   36.933478         62.000000   \n",
       "2116         7.0         2.0         1.0   17.273659         95.000000   \n",
       "4306         1.0         3.0         1.0   47.702353         43.333333   \n",
       "\n",
       "      avg_basket_size  avg_variety  purchases_pday  \n",
       "1251       481.200000    24.600000        0.015432  \n",
       "3074       530.000000    58.000000        1.000000  \n",
       "549         94.625000    19.375000        0.022792  \n",
       "903        250.055556    11.333333        0.050562  \n",
       "1722        93.500000     2.500000        0.222222  \n",
       "5507       942.000000   347.000000        1.000000  \n",
       "1641       656.250000    55.250000        0.013289  \n",
       "1707       153.600000     9.200000        0.017921  \n",
       "2116       156.500000    20.500000        0.007194  \n",
       "4306       161.333333    11.333333        0.040000  "
      ]
     },
     "execution_count": 30,
     "metadata": {},
     "output_type": "execute_result"
    }
   ],
   "source": [
    "df_ref = df_ref.drop(['n_purchase_x', 'n_purchase_y', 'n_products_x', 'n_products_y'], axis=1)\n",
    "\n",
    "df_ref['devolutions'] = df_ref['devolutions'].apply(lambda x: (-1*x) if x < 0   else x )\n",
    "\n",
    "df_ref['quantity_d'] = df_ref['quantity_d'].apply( lambda x: 0.00 if math.isnan(x) else x )\n",
    "df_ref['recency_d'] = df_ref['recency_d'].apply( lambda x: 365 if math.isnan(x) else x )\n",
    "df_ref['quantity_d'] = df_ref['quantity_d'].apply( lambda x: 0.00 if math.isnan(x) else x*(-1) )\n",
    "df_ref['invoices_d'] = df_ref['invoices_d'].apply( lambda x: 0.00 if math.isnan(x) else x )\n",
    "\n",
    "df_ref['quantity_p'] = df_ref['quantity_p'].apply( lambda x: 0.00 if math.isnan(x) else x )\n",
    "df_ref['recency_p'] = df_ref['recency_p'].apply( lambda x: 365 if math.isnan(x) else x )\n",
    "df_ref['quantity_p'] = df_ref['quantity_p'].apply( lambda x: 0.00 if math.isnan(x) else x )\n",
    "df_ref['invoices_p'] = df_ref['invoices_p'].apply( lambda x: 0.00 if math.isnan(x) else x )\n",
    "df_ref['avg_ticket'] = df_ref['avg_ticket'].apply( lambda x: 0.00 if math.isnan(x) else x )\n",
    "df_ref['purchases_pday'] = df_ref['purchases_pday'].apply( lambda x: 0.00 if math.isnan(x) else x )\n",
    "\n",
    "df_ref['avg_variety'] = df_ref['avg_variety'].apply( lambda x: 0.00 if math.isnan(x) else x )\n",
    "df_ref['avg_basket_size'] = df_ref['avg_basket_size'].apply( lambda x: 0.00 if math.isnan(x) else x )\n",
    "\n",
    "df_ref.sample(10)"
   ]
  },
  {
   "cell_type": "code",
   "execution_count": 31,
   "metadata": {
    "ExecuteTime": {
     "end_time": "2022-01-26T21:34:20.548368Z",
     "start_time": "2022-01-26T21:34:20.542516Z"
    },
    "execution": {
     "iopub.execute_input": "2021-09-18T14:06:12.155156Z",
     "iopub.status.busy": "2021-09-18T14:06:12.154293Z",
     "iopub.status.idle": "2021-09-18T14:06:12.158287Z",
     "shell.execute_reply": "2021-09-18T14:06:12.157860Z"
    },
    "papermill": {
     "duration": 0.086582,
     "end_time": "2021-09-18T14:06:12.158447",
     "exception": false,
     "start_time": "2021-09-18T14:06:12.071865",
     "status": "completed"
    },
    "tags": []
   },
   "outputs": [],
   "source": [
    "df_ref['gross_revenue'] = (df_ref['purchases'] - df_ref['devolutions'])\n",
    "df_ref['relative_revenue'] = (df_ref['purchases'] - df_ref['devolutions']) / (df_ref['purchases'] + df_ref['devolutions'])\n",
    "df_ref['relative_quantity'] = (df_ref['quantity_p'] - df_ref['quantity_d']) / (df_ref['quantity_p'] + df_ref['quantity_d'])\n",
    "\n",
    "#df_ref['relative_invoices'] = (df_ref['invoices_p'] - df_ref['invoices_d'])\n",
    "#df_ref = df_ref.drop(columns=['purchases','devolutions','invoices_p','invoices_d','recency_d'], axis=1)"
   ]
  },
  {
   "cell_type": "markdown",
   "metadata": {
    "ExecuteTime": {
     "end_time": "2021-05-03T20:14:35.082157Z",
     "start_time": "2021-05-03T20:14:35.073528Z"
    },
    "papermill": {
     "duration": 0.072792,
     "end_time": "2021-09-18T14:06:12.303801",
     "exception": false,
     "start_time": "2021-09-18T14:06:12.231009",
     "status": "completed"
    },
    "tags": []
   },
   "source": [
    "There were a problem whith clients that did not have made any purchase in the analyzed period or did not have done any devolution. For those clients, recency was considered as 365 days or 1 year and the frequency of purchase or devolution was considered 0."
   ]
  },
  {
   "cell_type": "markdown",
   "metadata": {
    "papermill": {
     "duration": 0.076075,
     "end_time": "2021-09-18T14:06:12.460971",
     "exception": false,
     "start_time": "2021-09-18T14:06:12.384896",
     "status": "completed"
    },
    "tags": []
   },
   "source": [
    "# 4. Exploratory data analysis"
   ]
  },
  {
   "cell_type": "code",
   "execution_count": 32,
   "metadata": {
    "ExecuteTime": {
     "end_time": "2022-01-26T21:34:20.551524Z",
     "start_time": "2022-01-26T21:34:20.549398Z"
    },
    "execution": {
     "iopub.execute_input": "2021-09-18T14:06:12.617994Z",
     "iopub.status.busy": "2021-09-18T14:06:12.617446Z",
     "iopub.status.idle": "2021-09-18T14:06:12.620427Z",
     "shell.execute_reply": "2021-09-18T14:06:12.619916Z"
    },
    "papermill": {
     "duration": 0.077956,
     "end_time": "2021-09-18T14:06:12.620597",
     "exception": false,
     "start_time": "2021-09-18T14:06:12.542641",
     "status": "completed"
    },
    "tags": []
   },
   "outputs": [],
   "source": [
    "df4 = df_ref.copy()"
   ]
  },
  {
   "cell_type": "code",
   "execution_count": 33,
   "metadata": {
    "ExecuteTime": {
     "end_time": "2022-01-26T21:34:20.558761Z",
     "start_time": "2022-01-26T21:34:20.552645Z"
    },
    "execution": {
     "iopub.execute_input": "2021-09-18T14:06:12.769451Z",
     "iopub.status.busy": "2021-09-18T14:06:12.768900Z",
     "iopub.status.idle": "2021-09-18T14:06:12.775290Z",
     "shell.execute_reply": "2021-09-18T14:06:12.774739Z"
    },
    "papermill": {
     "duration": 0.081953,
     "end_time": "2021-09-18T14:06:12.775460",
     "exception": false,
     "start_time": "2021-09-18T14:06:12.693507",
     "status": "completed"
    },
    "tags": []
   },
   "outputs": [
    {
     "data": {
      "text/plain": [
       "customer_id          0\n",
       "purchases            0\n",
       "devolutions          0\n",
       "recency_p            0\n",
       "recency_d            0\n",
       "quantity_p           0\n",
       "quantity_d           0\n",
       "invoices_p           0\n",
       "invoices_d           0\n",
       "avg_ticket           0\n",
       "avg_recency_days     0\n",
       "avg_basket_size      0\n",
       "avg_variety          0\n",
       "purchases_pday       0\n",
       "gross_revenue        0\n",
       "relative_revenue     0\n",
       "relative_quantity    0\n",
       "dtype: int64"
      ]
     },
     "execution_count": 33,
     "metadata": {},
     "output_type": "execute_result"
    }
   ],
   "source": [
    "# filter to analyze only valid customers\n",
    "# returned products\n",
    "df4 = df4.loc[df4['customer_id'] <19000, :]\n",
    "df4.isna().sum()"
   ]
  },
  {
   "cell_type": "markdown",
   "metadata": {
    "papermill": {
     "duration": 0.074248,
     "end_time": "2021-09-18T14:06:12.928882",
     "exception": false,
     "start_time": "2021-09-18T14:06:12.854634",
     "status": "completed"
    },
    "tags": []
   },
   "source": []
  },
  {
   "cell_type": "markdown",
   "metadata": {
    "papermill": {
     "duration": 0.073301,
     "end_time": "2021-09-18T14:06:13.076469",
     "exception": false,
     "start_time": "2021-09-18T14:06:13.003168",
     "status": "completed"
    },
    "tags": []
   },
   "source": [
    "### 4.1.1. Looking for outliers"
   ]
  },
  {
   "cell_type": "markdown",
   "metadata": {
    "papermill": {
     "duration": 0.074943,
     "end_time": "2021-09-18T14:06:13.223898",
     "exception": false,
     "start_time": "2021-09-18T14:06:13.148955",
     "status": "completed"
    },
    "tags": []
   },
   "source": [
    "- Features for attention\n",
    "    - quantity_p for values above 20k\n",
    "    - quantity_d for values above 4k\n",
    "    - avg_ticket for values above 4k\n",
    "    - avg_basket_size for values above 4k\n",
    "    - purchases_pday for value 17\n",
    "    - gross_revenue for above 70k\n",
    "- Features with high correlation\n",
    "    - recency_p w/ avg_recency_days\n",
    "    - quantity_p w/ quantity_d\n",
    "    - quantity_p w/ avg_basket_size\n",
    "    - quantity_p w/ gross_revenue\n",
    "    - quantity_d w/ relative variables (all)\n",
    "    - relative variables are highly correlated between themselves"
   ]
  },
  {
   "cell_type": "markdown",
   "metadata": {
    "papermill": {
     "duration": 0.07476,
     "end_time": "2021-09-18T14:06:13.374122",
     "exception": false,
     "start_time": "2021-09-18T14:06:13.299362",
     "status": "completed"
    },
    "tags": []
   },
   "source": [
    "It seems that customers 12346 and 16446 had some problem with the data quality in database, since they have bought a high number of items and returned them. They will be removed from the dataset in order to increase the model result. Other customers with a high number of returns also had a high number of purchases, which seems reasonable."
   ]
  },
  {
   "cell_type": "markdown",
   "metadata": {
    "papermill": {
     "duration": 0.075569,
     "end_time": "2021-09-18T14:06:13.525567",
     "exception": false,
     "start_time": "2021-09-18T14:06:13.449998",
     "status": "completed"
    },
    "tags": []
   },
   "source": [
    "Again, clients 12346 and 16446 shows as an outliers to the average ticket, due to the high amount of items purchases, however with no gross revenue. At this point, it seems that customers 15098 also had some problem, since it has a liquid purchased quantity of 0, however with some gross revenue (purchases higher than returns), this customer will also be removed from the dataset. Also customer 15749 have the same behavior as 15098 and will be removed."
   ]
  },
  {
   "cell_type": "markdown",
   "metadata": {
    "papermill": {
     "duration": 0.075604,
     "end_time": "2021-09-18T14:06:13.676619",
     "exception": false,
     "start_time": "2021-09-18T14:06:13.601015",
     "status": "completed"
    },
    "tags": []
   },
   "source": [
    "All clients with gross revenue higher than 50000 seems to behave similarly, with small values for recency of purchases and high values for relative revenue and relative invoices (where 1 means that the customer has only purchases and -1 meaning that the customer only returns). At this point, only 4 customers will be considered as outliers and removed from the dataset: 12346,15098,15749,16446."
   ]
  },
  {
   "cell_type": "code",
   "execution_count": 34,
   "metadata": {
    "ExecuteTime": {
     "end_time": "2022-01-26T21:34:20.565234Z",
     "start_time": "2022-01-26T21:34:20.559936Z"
    },
    "execution": {
     "iopub.execute_input": "2021-09-18T14:06:13.872426Z",
     "iopub.status.busy": "2021-09-18T14:06:13.871319Z",
     "iopub.status.idle": "2021-09-18T14:06:13.877475Z",
     "shell.execute_reply": "2021-09-18T14:06:13.877073Z"
    },
    "papermill": {
     "duration": 0.121029,
     "end_time": "2021-09-18T14:06:13.877656",
     "exception": false,
     "start_time": "2021-09-18T14:06:13.756627",
     "status": "completed"
    },
    "tags": []
   },
   "outputs": [
    {
     "name": "stdout",
     "output_type": "stream",
     "text": [
      "customer_id          0\n",
      "purchases            0\n",
      "devolutions          0\n",
      "recency_p            0\n",
      "recency_d            0\n",
      "quantity_p           0\n",
      "quantity_d           0\n",
      "invoices_p           0\n",
      "invoices_d           0\n",
      "avg_ticket           0\n",
      "avg_recency_days     0\n",
      "avg_basket_size      0\n",
      "avg_variety          0\n",
      "purchases_pday       0\n",
      "gross_revenue        0\n",
      "relative_revenue     0\n",
      "relative_quantity    0\n",
      "dtype: int64\n"
     ]
    }
   ],
   "source": [
    "customers_outliers = [12346,15098,15749,16446]\n",
    "df4 = df4.loc[~df4['customer_id'].isin(customers_outliers), :]\n",
    "print(df4.isna().sum())"
   ]
  },
  {
   "cell_type": "markdown",
   "metadata": {
    "papermill": {
     "duration": 0.073733,
     "end_time": "2021-09-18T14:06:14.023581",
     "exception": false,
     "start_time": "2021-09-18T14:06:13.949848",
     "status": "completed"
    },
    "tags": []
   },
   "source": [
    "## 4.3. Data space analysis"
   ]
  },
  {
   "cell_type": "code",
   "execution_count": 35,
   "metadata": {
    "ExecuteTime": {
     "end_time": "2022-01-26T21:34:20.582418Z",
     "start_time": "2022-01-26T21:34:20.566365Z"
    },
    "execution": {
     "iopub.execute_input": "2021-09-18T14:06:14.181812Z",
     "iopub.status.busy": "2021-09-18T14:06:14.177208Z",
     "iopub.status.idle": "2021-09-18T14:06:14.189676Z",
     "shell.execute_reply": "2021-09-18T14:06:14.190166Z"
    },
    "papermill": {
     "duration": 0.092203,
     "end_time": "2021-09-18T14:06:14.190370",
     "exception": false,
     "start_time": "2021-09-18T14:06:14.098167",
     "status": "completed"
    },
    "tags": []
   },
   "outputs": [
    {
     "name": "stdout",
     "output_type": "stream",
     "text": [
      "customer_id          0\n",
      "purchases            0\n",
      "devolutions          0\n",
      "recency_p            0\n",
      "recency_d            0\n",
      "quantity_p           0\n",
      "quantity_d           0\n",
      "invoices_p           0\n",
      "invoices_d           0\n",
      "avg_ticket           0\n",
      "avg_recency_days     0\n",
      "avg_basket_size      0\n",
      "avg_variety          0\n",
      "purchases_pday       0\n",
      "gross_revenue        0\n",
      "relative_revenue     0\n",
      "relative_quantity    0\n",
      "dtype: int64\n"
     ]
    }
   ],
   "source": [
    "data_space = df4.copy()\n",
    "customers_to_cluster = data_space.loc[:,'customer_id'].to_list()\n",
    "print(data_space.isna().sum())\n",
    "data_space = data_space.drop(columns=['customer_id', 'purchases', 'recency_d', 'quantity_d', 'invoices_p', 'invoices_d', 'avg_basket_size', 'purchases_pday','relative_revenue', 'relative_quantity'], axis=1)\n",
    "#data_space = data_space.drop(columns=['customer_id', 'purchases', 'recency_d', 'quantity_d', 'quantity_p', 'invoices_d', 'avg_basket_size', 'purchases_pday','relative_revenue', 'relative_quantity'], axis=1)\n",
    "\n",
    "rs = RobustScaler()\n",
    "mm = MinMaxScaler()\n",
    "ss = StandardScaler()\n",
    "\n",
    "#data_space['purchases'] = mm.fit_transform( data_space[['purchases']].values )\n",
    "data_space['devolutions'] = mm.fit_transform( data_space[['devolutions']].values )\n",
    "#data_space['purc_dev'] = rs.fit_transform( data_space[['purc_dev']].values )\n",
    "data_space['recency_p'] = rs.fit_transform( data_space[['recency_p']].values )\n",
    "#data_space['recency_d'] = rs.fit_transform( data_space[['recency_d']].values )\n",
    "data_space['quantity_p'] = mm.fit_transform( data_space[['quantity_p']].values )\n",
    "#data_space['quantity_d'] = mm.fit_transform( data_space[['quantity_d']].values )\n",
    "#data_space['invoices_p'] = rs.fit_transform( data_space[['invoices_p']].values )\n",
    "#data_space['invoices_d'] = rs.fit_transform( data_space[['invoices_d']].values )\n",
    "\n",
    "data_space['gross_revenue'] = mm.fit_transform( data_space[['gross_revenue']].values )\n",
    "data_space['avg_ticket'] = mm.fit_transform( data_space[['avg_ticket']].values )\n",
    "data_space['avg_recency_days'] = rs.fit_transform( data_space[['avg_recency_days']].values )\n",
    "data_space['avg_variety'] = mm.fit_transform( data_space[['avg_variety']].values )\n",
    "#data_space['avg_variety'] = rs.fit_transform( data_space[['avg_variety']].values )\n",
    "#data_space['relative_quantity'] = rs.fit_transform( data_space[['relative_quantity']].values )\n",
    "#data_space['relative_invoices'] = rs.fit_transform( data_space[['relative_invoices']].values )\n",
    "#data_space['purchases_pday'] = rs.fit_transform( data_space[['purchases_pday']].values )\n",
    "\n",
    "#data_space['monetary_score'] = ss.fit_transform( data_space[['ticket_score']].values )\n",
    "#data_space['ticket_score'] = ss.fit_transform( data_space[['ticket_score']].values )\n",
    "#data_space['recency_score'] = ss.fit_transform( data_space[['recency_score']].values )\n",
    "#data_space['behavior_score'] = ss.fit_transform( data_space[['behavior_score']].values )"
   ]
  },
  {
   "cell_type": "markdown",
   "metadata": {},
   "source": [
    "### 4.3.1. PCA - Principal Component Analysis"
   ]
  },
  {
   "cell_type": "code",
   "execution_count": null,
   "metadata": {},
   "outputs": [],
   "source": [
    "X_PCA = data_space.copy()\n",
    "pca = decomposition.PCA(n_components=X_PCA.shape[1])\n",
    "\n",
    "principal_component = pca.fit_transform(X_PCA)\n",
    "\n",
    "features = range(pca.n_components_)\n",
    "\n",
    "plt.figure(figsize=(10,10))\n",
    "plt.bar(features, pca.explained_variance_ratio_)\n",
    "plt.show()"
   ]
  },
  {
   "cell_type": "code",
   "execution_count": null,
   "metadata": {},
   "outputs": [],
   "source": [
    "df_pca = pd.DataFrame(principal_component)\n",
    "\n",
    "plt.figure(figsize=(10,10))\n",
    "sns.scatterplot(x=0, y=1, data=df_pca)\n",
    "plt.show()"
   ]
  },
  {
   "cell_type": "markdown",
   "metadata": {},
   "source": [
    "### 4.3.2. UMAP"
   ]
  },
  {
   "cell_type": "code",
   "execution_count": null,
   "metadata": {},
   "outputs": [],
   "source": [
    "X_UMAP = data_space.copy()\n",
    "reducer = ump.UMAP( random_state=42)\n",
    "embedding = reducer.fit_transform(X_UMAP)\n",
    "\n",
    "df_pca['embedding_x'] = embedding[:,0]\n",
    "df_pca['embedding_y'] = embedding[:,1]\n",
    "\n",
    "plt.figure(figsize=(10,10))\n",
    "sns.scatterplot(x='embedding_x',y='embedding_y', data=df_pca)\n",
    "plt.show()"
   ]
  },
  {
   "cell_type": "markdown",
   "metadata": {},
   "source": [
    "### 4.3.3. t-SNE"
   ]
  },
  {
   "cell_type": "code",
   "execution_count": null,
   "metadata": {},
   "outputs": [],
   "source": [
    "X_TSNE = data_space.copy()\n",
    "reducer = TSNE( random_state=42)\n",
    "embedding = reducer.fit_transform(X_TSNE)\n",
    "\n",
    "df_pca['embedding_x'] = embedding[:,0]\n",
    "df_pca['embedding_y'] = embedding[:,1]\n",
    "\n",
    "plt.figure(figsize=(10,10))\n",
    "sns.scatterplot(x='embedding_x',y='embedding_y', data=df_pca)\n",
    "plt.show()"
   ]
  },
  {
   "cell_type": "markdown",
   "metadata": {
    "papermill": {
     "duration": 0.074315,
     "end_time": "2021-09-18T14:06:14.337597",
     "exception": false,
     "start_time": "2021-09-18T14:06:14.263282",
     "status": "completed"
    },
    "tags": []
   },
   "source": [
    "### 4.3.4. Tree-based embedding"
   ]
  },
  {
   "cell_type": "code",
   "execution_count": 36,
   "metadata": {
    "ExecuteTime": {
     "end_time": "2022-01-26T21:34:22.003616Z",
     "start_time": "2022-01-26T21:34:20.583608Z"
    },
    "execution": {
     "iopub.execute_input": "2021-09-18T14:06:14.520647Z",
     "iopub.status.busy": "2021-09-18T14:06:14.519847Z",
     "iopub.status.idle": "2021-09-18T14:06:16.349223Z",
     "shell.execute_reply": "2021-09-18T14:06:16.348079Z"
    },
    "papermill": {
     "duration": 1.92005,
     "end_time": "2021-09-18T14:06:16.349406",
     "exception": false,
     "start_time": "2021-09-18T14:06:14.429356",
     "status": "completed"
    },
    "tags": []
   },
   "outputs": [
    {
     "data": {
      "text/plain": [
       "(4362, 100)"
      ]
     },
     "execution_count": 36,
     "metadata": {},
     "output_type": "execute_result"
    }
   ],
   "source": [
    "# training dataset\n",
    "x_trees = data_space.drop(columns=['gross_revenue'], axis=1)\n",
    "y_trees = data_space['gross_revenue']\n",
    "\n",
    "#model definition\n",
    "rf_model = RandomForestRegressor(n_estimators=100, random_state=42)\n",
    "\n",
    "# model training\n",
    "rf_model.fit(x_trees, y_trees)\n",
    "\n",
    "#Leaves\n",
    "df_leaf = pd.DataFrame(rf_model.apply(x_trees))\n",
    "\n",
    "#Leaves dataFrame\n",
    "df_leaf.shape"
   ]
  },
  {
   "cell_type": "code",
   "execution_count": 37,
   "metadata": {
    "ExecuteTime": {
     "end_time": "2022-01-26T21:34:44.755381Z",
     "start_time": "2022-01-26T21:34:22.004917Z"
    },
    "execution": {
     "iopub.execute_input": "2021-09-18T14:06:16.509633Z",
     "iopub.status.busy": "2021-09-18T14:06:16.508817Z",
     "iopub.status.idle": "2021-09-18T14:06:47.011279Z",
     "shell.execute_reply": "2021-09-18T14:06:47.010799Z"
    },
    "papermill": {
     "duration": 30.584908,
     "end_time": "2021-09-18T14:06:47.011473",
     "exception": false,
     "start_time": "2021-09-18T14:06:16.426565",
     "status": "completed"
    },
    "tags": []
   },
   "outputs": [
    {
     "data": {
      "image/png": "[encoded data removed]",
      "text/plain": [
       "<Figure size 432x288 with 1 Axes>"
      ]
     },
     "metadata": {
      "needs_background": "light"
     },
     "output_type": "display_data"
    },
    {
     "data": {
      "text/plain": [
       "<Figure size 720x720 with 0 Axes>"
      ]
     },
     "metadata": {},
     "output_type": "display_data"
    }
   ],
   "source": [
    "n_components=3\n",
    "\n",
    "reducer = ump.UMAP( random_state=42, n_components=n_components )\n",
    "embedding = reducer.fit_transform(df_leaf)\n",
    "\n",
    "#df_leaf['embedding_x'] = embedding[:,0]\n",
    "#df_leaf['embedding_y'] = embedding[:,1]\n",
    "#df_leaf['embedding_z'] = embedding[:,2]\n",
    "\n",
    "fig = plt.figure(figsize=(10,10))\n",
    "\n",
    "if n_components == 1:\n",
    "\n",
    "    df_leaf['embedding_x'] = embedding[:,0]\n",
    "\n",
    "    ax = fig.add_subplot(111)\n",
    "    ax.scatter(df_leaf['embedding_x'], range(len(df_leaf[['embedding_x']])))\n",
    "elif n_components == 2:\n",
    "\n",
    "    df_leaf['embedding_x'] = embedding[:,0]\n",
    "    df_leaf['embedding_y'] = embedding[:,1]\n",
    "    \n",
    "    ax = fig.add_subplot(111)\n",
    "    ax.scatter(df_leaf['embedding_x'], df_leaf['embedding_y'])\n",
    "elif n_components == 3:\n",
    "    \n",
    "    df_leaf['embedding_x'] = embedding[:,0]\n",
    "    df_leaf['embedding_y'] = embedding[:,1]\n",
    "    df_leaf['embedding_z'] = embedding[:,2]\n",
    "    \n",
    "    ax = fig.add_subplot(111, projection='3d')\n",
    "    ax.scatter(df_leaf['embedding_x'], df_leaf['embedding_y'], df_leaf['embedding_z'])\n",
    "\n",
    "plt.show()"
   ]
  },
  {
   "cell_type": "code",
   "execution_count": 38,
   "metadata": {
    "ExecuteTime": {
     "end_time": "2022-01-26T21:34:44.767356Z",
     "start_time": "2022-01-26T21:34:44.756665Z"
    },
    "execution": {
     "iopub.execute_input": "2021-09-18T14:06:47.175134Z",
     "iopub.status.busy": "2021-09-18T14:06:47.174602Z",
     "iopub.status.idle": "2021-09-18T14:06:47.194753Z",
     "shell.execute_reply": "2021-09-18T14:06:47.195110Z"
    },
    "papermill": {
     "duration": 0.107937,
     "end_time": "2021-09-18T14:06:47.195316",
     "exception": false,
     "start_time": "2021-09-18T14:06:47.087379",
     "status": "completed"
    },
    "tags": []
   },
   "outputs": [
    {
     "name": "stdout",
     "output_type": "stream",
     "text": [
      "0              0\n",
      "1              0\n",
      "2              0\n",
      "3              0\n",
      "4              0\n",
      "              ..\n",
      "98             0\n",
      "99             0\n",
      "embedding_x    0\n",
      "embedding_y    0\n",
      "embedding_z    0\n",
      "Length: 103, dtype: int64\n"
     ]
    },
    {
     "data": {
      "text/plain": [
       "0              0\n",
       "1              0\n",
       "2              0\n",
       "3              0\n",
       "4              0\n",
       "              ..\n",
       "99             0\n",
       "embedding_x    0\n",
       "embedding_y    0\n",
       "embedding_z    0\n",
       "customer_id    0\n",
       "Length: 104, dtype: int64"
      ]
     },
     "execution_count": 38,
     "metadata": {},
     "output_type": "execute_result"
    }
   ],
   "source": [
    "print(df_leaf.isna().sum())\n",
    "df_leaf['customer_id'] = customers_to_cluster\n",
    "df_leaf.isna().sum()\n",
    "#for i in range(len(df_leaf), 1):\n",
    "#    df_leaf.loc[i,'customer_id'] = customers_to_cluster[i]"
   ]
  },
  {
   "cell_type": "markdown",
   "metadata": {
    "papermill": {
     "duration": 0.090629,
     "end_time": "2021-09-18T14:06:47.365751",
     "exception": false,
     "start_time": "2021-09-18T14:06:47.275122",
     "status": "completed"
    },
    "tags": []
   },
   "source": [
    "# 5. Data preparation"
   ]
  },
  {
   "cell_type": "markdown",
   "metadata": {
    "papermill": {
     "duration": 0.075187,
     "end_time": "2021-09-18T14:06:47.518887",
     "exception": false,
     "start_time": "2021-09-18T14:06:47.443700",
     "status": "completed"
    },
    "tags": []
   },
   "source": [
    "**Rules of thumb**\n",
    "\n",
    "Standardization -> assumption that the feature follows a normal distribution (test for normal distribution QQ Plot or KS Test)\n",
    "Rescale         -> assumption that the feature does not follow a normal distribution\n",
    "\n",
    "**Based on features:**\n",
    "1. Normal distribution and abscence of outliers -> Standard scaler;\n",
    "2. Normal distribution and have outliers        -> Robust scaler;\n",
    "3. Does not follow a normal distribution        -> Min-max scaler;"
   ]
  },
  {
   "cell_type": "markdown",
   "metadata": {
    "papermill": {
     "duration": 0.073301,
     "end_time": "2021-09-18T14:06:47.668700",
     "exception": false,
     "start_time": "2021-09-18T14:06:47.595399",
     "status": "completed"
    },
    "tags": []
   },
   "source": [
    "## 5.1. Data rescaling"
   ]
  },
  {
   "cell_type": "code",
   "execution_count": 39,
   "metadata": {
    "ExecuteTime": {
     "end_time": "2022-01-26T21:34:44.772649Z",
     "start_time": "2022-01-26T21:34:44.768625Z"
    },
    "execution": {
     "iopub.execute_input": "2021-09-18T14:06:47.826480Z",
     "iopub.status.busy": "2021-09-18T14:06:47.825899Z",
     "iopub.status.idle": "2021-09-18T14:06:47.829686Z",
     "shell.execute_reply": "2021-09-18T14:06:47.829187Z"
    },
    "papermill": {
     "duration": 0.083919,
     "end_time": "2021-09-18T14:06:47.829856",
     "exception": false,
     "start_time": "2021-09-18T14:06:47.745937",
     "status": "completed"
    },
    "tags": []
   },
   "outputs": [],
   "source": [
    "df_rescaled = df4.copy()\n",
    "#df_rescaled = data_space.copy()\n",
    "df_rescaled = df_rescaled.drop(columns=['purchases', 'recency_d', 'quantity_d', 'invoices_p', 'invoices_d', 'avg_basket_size', 'purchases_pday','relative_revenue', 'relative_quantity'], axis=1)\n",
    "#df_rescaled = df_rescaled.drop(columns=['purchases', 'recency_d', 'quantity_d', 'quantity_p', 'invoices_d', 'avg_basket_size', 'purchases_pday','relative_revenue', 'relative_quantity'], axis=1)\n",
    "\n",
    "rs = RobustScaler()\n",
    "mm = MinMaxScaler()\n",
    "ss = StandardScaler()"
   ]
  },
  {
   "cell_type": "code",
   "execution_count": 40,
   "metadata": {
    "ExecuteTime": {
     "end_time": "2022-01-26T21:34:44.785258Z",
     "start_time": "2022-01-26T21:34:44.773936Z"
    },
    "execution": {
     "iopub.execute_input": "2021-09-18T14:06:47.987207Z",
     "iopub.status.busy": "2021-09-18T14:06:47.986673Z",
     "iopub.status.idle": "2021-09-18T14:06:47.994901Z",
     "shell.execute_reply": "2021-09-18T14:06:47.995266Z"
    },
    "papermill": {
     "duration": 0.090804,
     "end_time": "2021-09-18T14:06:47.995753",
     "exception": false,
     "start_time": "2021-09-18T14:06:47.904949",
     "status": "completed"
    },
    "tags": []
   },
   "outputs": [],
   "source": [
    "#data_space['purchases'] = mm.fit_transform( data_space[['purchases']].values )\n",
    "data_space['devolutions'] = mm.fit_transform( data_space[['devolutions']].values )\n",
    "#data_space['purc_dev'] = rs.fit_transform( data_space[['purc_dev']].values )\n",
    "data_space['recency_p'] = rs.fit_transform( data_space[['recency_p']].values )\n",
    "#data_space['recency_d'] = rs.fit_transform( data_space[['recency_d']].values )\n",
    "data_space['quantity_p'] = mm.fit_transform( data_space[['quantity_p']].values )\n",
    "#data_space['quantity_d'] = mm.fit_transform( data_space[['quantity_d']].values )\n",
    "#data_space['invoices_p'] = rs.fit_transform( data_space[['invoices_p']].values )\n",
    "#data_space['invoices_d'] = rs.fit_transform( data_space[['invoices_d']].values )\n",
    "\n",
    "data_space['gross_revenue'] = mm.fit_transform( data_space[['gross_revenue']].values )\n",
    "data_space['avg_ticket'] = mm.fit_transform( data_space[['avg_ticket']].values )\n",
    "data_space['avg_recency_days'] = rs.fit_transform( data_space[['avg_recency_days']].values )\n",
    "data_space['avg_variety'] = mm.fit_transform( data_space[['avg_variety']].values )\n",
    "#data_space['avg_variety'] = rs.fit_transform( data_space[['avg_variety']].values )\n",
    "#data_space['relative_quantity'] = rs.fit_transform( data_space[['relative_quantity']].values )\n",
    "#data_space['relative_invoices'] = rs.fit_transform( data_space[['relative_invoices']].values )\n",
    "#data_space['purchases_pday'] = rs.fit_transform( data_space[['purchases_pday']].values )\n",
    "\n",
    "#data_space['monetary_score'] = ss.fit_transform( data_space[['ticket_score']].values )\n",
    "#data_space['ticket_score'] = ss.fit_transform( data_space[['ticket_score']].values )\n",
    "#data_space['recency_score'] = ss.fit_transform( data_space[['recency_score']].values )\n",
    "#data_space['behavior_score'] = ss.fit_transform( data_space[['behavior_score']].values )"
   ]
  },
  {
   "cell_type": "markdown",
   "metadata": {
    "papermill": {
     "duration": 0.079144,
     "end_time": "2021-09-18T14:06:48.156169",
     "exception": false,
     "start_time": "2021-09-18T14:06:48.077025",
     "status": "completed"
    },
    "tags": []
   },
   "source": [
    "# 6. Feature selection"
   ]
  },
  {
   "cell_type": "markdown",
   "metadata": {},
   "source": [
    "Despite the fact that many features were created, the number of features used for clusterization are only the ones that were rescaled. The main goal of this reduction is to use features more tangible and related to the business.\n",
    "- **devolutions**: financial value subtracted to the company due to devolution of a product;\n",
    "- **recency_p**: days between today and the last purchase made by the customer;\n",
    "- **quantity_p**: number of product bought by a customer in a single invoice;\n",
    "- **gross_revenue**: financial value received by the company due to the purchase of items by the customer;\n",
    "- **avg_ticket**: gross_revenue divided by the number of invoices, meaning the average expenditure of a customer for each invoice\n",
    "- **avg_recency_days**: mean time in days between purchases made by the customer;\n",
    "- **avg_variety**: mean value of different items in a basket per invoice per customer.\n",
    "\n",
    "Those features were used to train a Random Forest Regressor used to predict the gross_revenue of each customer, then UMAP were used to embed the Random Forest model in 3 dimensions. Finally, those dimensions will be use to cluster the customers."
   ]
  },
  {
   "cell_type": "markdown",
   "metadata": {
    "papermill": {
     "duration": 0.077012,
     "end_time": "2021-09-18T14:06:48.312840",
     "exception": false,
     "start_time": "2021-09-18T14:06:48.235828",
     "status": "completed"
    },
    "tags": []
   },
   "source": [
    "# 7. Hyperparameter fine tuning"
   ]
  },
  {
   "cell_type": "markdown",
   "metadata": {
    "papermill": {
     "duration": 0.077507,
     "end_time": "2021-09-18T14:06:48.469404",
     "exception": false,
     "start_time": "2021-09-18T14:06:48.391897",
     "status": "completed"
    },
    "tags": []
   },
   "source": [
    "There are 3 types of major problems within data problems to solve with machine learning algorithms: regression, classification and clusterization. The first two problems, regression and classification, there is a necessity to split the dataset between training and testing and there is a target variable to analyze the accuracy and precision of the model, while the clusterization problems does not have the need in dataset spliting. Because of that, there is a necessity to first determine the number of clusters which the dataset will be split, before training and finding the model.\n",
    "\n",
    "Here, it is important to say that **different models (K-Means, Gaussian Mixture Model and Hierarchical) were tested both in embedded space and not embedded space and the best results were achieved with Hierarchical model in embedded space**."
   ]
  },
  {
   "cell_type": "code",
   "execution_count": 41,
   "metadata": {
    "ExecuteTime": {
     "end_time": "2022-01-26T21:34:44.789647Z",
     "start_time": "2022-01-26T21:34:44.786312Z"
    },
    "execution": {
     "iopub.execute_input": "2021-09-18T14:06:48.665914Z",
     "iopub.status.busy": "2021-09-18T14:06:48.664861Z",
     "iopub.status.idle": "2021-09-18T14:06:48.668905Z",
     "shell.execute_reply": "2021-09-18T14:06:48.669267Z"
    },
    "papermill": {
     "duration": 0.118054,
     "end_time": "2021-09-18T14:06:48.669471",
     "exception": false,
     "start_time": "2021-09-18T14:06:48.551417",
     "status": "completed"
    },
    "tags": []
   },
   "outputs": [
    {
     "name": "stdout",
     "output_type": "stream",
     "text": [
      "(4362, 104)\n"
     ]
    }
   ],
   "source": [
    "#df7 = df6.copy()\n",
    "df7_embbed = df_leaf.copy()\n",
    "#print(df7.head())\n",
    "#print(df7_embbed.head())\n",
    "print(df7_embbed.shape)"
   ]
  },
  {
   "cell_type": "code",
   "execution_count": 42,
   "metadata": {
    "ExecuteTime": {
     "end_time": "2022-01-26T21:34:44.800072Z",
     "start_time": "2022-01-26T21:34:44.791171Z"
    },
    "execution": {
     "iopub.execute_input": "2021-09-18T14:06:48.845042Z",
     "iopub.status.busy": "2021-09-18T14:06:48.844260Z",
     "iopub.status.idle": "2021-09-18T14:06:48.851074Z",
     "shell.execute_reply": "2021-09-18T14:06:48.850542Z"
    },
    "papermill": {
     "duration": 0.092523,
     "end_time": "2021-09-18T14:06:48.851243",
     "exception": false,
     "start_time": "2021-09-18T14:06:48.758720",
     "status": "completed"
    },
    "tags": []
   },
   "outputs": [
    {
     "name": "stdout",
     "output_type": "stream",
     "text": [
      "(4362, 104)\n"
     ]
    }
   ],
   "source": [
    "tree_cols_to_drop = []\n",
    "for i in range( 0, (df7_embbed.shape[1]-4),1 ):\n",
    "    tree_cols_to_drop.append(i)\n",
    "    i = i + 1\n",
    "\n",
    "X_embbed = df7_embbed.drop(columns=tree_cols_to_drop, axis=1)\n",
    "X_embbed = X_embbed.drop(columns=['customer_id'], axis=1)\n",
    "customers_to_cluster = df7_embbed['customer_id'].to_list()\n",
    "print(df7_embbed.shape)\n",
    "#X = df7.drop(columns=['customer_id'], axis=0)\n",
    "#print(X.head())\n",
    "#print(X_embbed.head())"
   ]
  },
  {
   "cell_type": "markdown",
   "metadata": {
    "papermill": {
     "duration": 0.078011,
     "end_time": "2021-09-18T14:06:49.010921",
     "exception": false,
     "start_time": "2021-09-18T14:06:48.932910",
     "status": "completed"
    },
    "tags": []
   },
   "source": [
    "### 7.4.1. Hierarchical clustering on embedded space"
   ]
  },
  {
   "cell_type": "code",
   "execution_count": 43,
   "metadata": {
    "ExecuteTime": {
     "end_time": "2022-01-26T21:34:48.100478Z",
     "start_time": "2022-01-26T21:34:44.801206Z"
    },
    "execution": {
     "iopub.execute_input": "2021-09-18T14:06:49.205800Z",
     "iopub.status.busy": "2021-09-18T14:06:49.205218Z",
     "iopub.status.idle": "2021-09-18T14:06:53.057962Z",
     "shell.execute_reply": "2021-09-18T14:06:53.058556Z"
    },
    "papermill": {
     "duration": 3.964885,
     "end_time": "2021-09-18T14:06:53.058829",
     "exception": false,
     "start_time": "2021-09-18T14:06:49.093944",
     "status": "completed"
    },
    "tags": []
   },
   "outputs": [],
   "source": [
    "#clusters = [2, 4, 6, 7, 8, 9, 10, 11, 12, 13, 14, 15, 16, 17, 18, 19, 20]\n",
    "clusters = [6, 8, 10, 12, 14]\n",
    "hc_emb_list =[]\n",
    "\n",
    "for k in clusters:\n",
    "    # model definition & training\n",
    "    hc_emb_model = hc.linkage(X_embbed, 'ward')\n",
    "\n",
    "    # model predict\n",
    "    labels = hc.fcluster(hc_emb_model, k, criterion='maxclust')\n",
    "\n",
    "    # model performance\n",
    "    sil = metrics.silhouette_score(X_embbed, labels, metric='euclidean')\n",
    "    hc_emb_list.append(sil)"
   ]
  },
  {
   "cell_type": "code",
   "execution_count": 44,
   "metadata": {
    "ExecuteTime": {
     "end_time": "2022-01-26T21:35:51.706500Z",
     "start_time": "2022-01-26T21:34:48.101816Z"
    },
    "execution": {
     "iopub.execute_input": "2021-09-18T14:06:53.257476Z",
     "iopub.status.busy": "2021-09-18T14:06:53.252054Z",
     "iopub.status.idle": "2021-09-18T14:08:16.291436Z",
     "shell.execute_reply": "2021-09-18T14:08:16.292017Z"
    },
    "papermill": {
     "duration": 83.139736,
     "end_time": "2021-09-18T14:08:16.292226",
     "exception": false,
     "start_time": "2021-09-18T14:06:53.152490",
     "status": "completed"
    },
    "tags": []
   },
   "outputs": [
    {
     "data": {
      "image/png": "[encoded data removed]",
      "text/plain": [
       "<Figure size 432x288 with 1 Axes>"
      ]
     },
     "metadata": {
      "needs_background": "light"
     },
     "output_type": "display_data"
    }
   ],
   "source": [
    "hc.dendrogram(\n",
    "    hc_emb_model,\n",
    "    leaf_rotation=90,\n",
    "    leaf_font_size=8\n",
    "    )\n",
    "plt.plot()\n",
    "plt.show()"
   ]
  },
  {
   "cell_type": "code",
   "execution_count": 45,
   "metadata": {
    "ExecuteTime": {
     "end_time": "2022-01-26T21:35:51.710468Z",
     "start_time": "2022-01-26T21:35:51.707763Z"
    },
    "execution": {
     "iopub.execute_input": "2021-09-18T14:08:16.463123Z",
     "iopub.status.busy": "2021-09-18T14:08:16.462599Z",
     "iopub.status.idle": "2021-09-18T14:08:16.467176Z",
     "shell.execute_reply": "2021-09-18T14:08:16.467532Z"
    },
    "papermill": {
     "duration": 0.08997,
     "end_time": "2021-09-18T14:08:16.467819",
     "exception": false,
     "start_time": "2021-09-18T14:08:16.377849",
     "status": "completed"
    },
    "tags": []
   },
   "outputs": [
    {
     "name": "stdout",
     "output_type": "stream",
     "text": [
      "[0.50338197, 0.57672226, 0.5999229, 0.6297629, 0.6106384]\n"
     ]
    }
   ],
   "source": [
    "print(hc_emb_list)"
   ]
  },
  {
   "cell_type": "markdown",
   "metadata": {
    "papermill": {
     "duration": 0.086416,
     "end_time": "2021-09-18T14:08:16.637109",
     "exception": false,
     "start_time": "2021-09-18T14:08:16.550693",
     "status": "completed"
    },
    "tags": []
   },
   "source": [
    "# 8. Model training"
   ]
  },
  {
   "cell_type": "markdown",
   "metadata": {},
   "source": [
    "Along with the better results brought by the Hierarchical model applied on a embedded space, a problem observed with the K-Means and Gaussian Mixture models were that with each inicialization the number of cluster Insiders would change, meaning that the code construct to analysis this specific cluster had to change each time, even after setting the random state hyperparameter."
   ]
  },
  {
   "cell_type": "markdown",
   "metadata": {
    "papermill": {
     "duration": 0.105642,
     "end_time": "2021-09-18T14:08:16.837618",
     "exception": false,
     "start_time": "2021-09-18T14:08:16.731976",
     "status": "completed"
    },
    "tags": []
   },
   "source": [
    "## 8.1. Hierarchical model"
   ]
  },
  {
   "cell_type": "code",
   "execution_count": 46,
   "metadata": {
    "ExecuteTime": {
     "end_time": "2022-01-26T21:35:52.387072Z",
     "start_time": "2022-01-26T21:35:51.711798Z"
    },
    "execution": {
     "iopub.execute_input": "2021-09-18T14:08:17.005628Z",
     "iopub.status.busy": "2021-09-18T14:08:17.004922Z",
     "iopub.status.idle": "2021-09-18T14:08:17.811245Z",
     "shell.execute_reply": "2021-09-18T14:08:17.810642Z"
    },
    "papermill": {
     "duration": 0.891119,
     "end_time": "2021-09-18T14:08:17.811422",
     "exception": false,
     "start_time": "2021-09-18T14:08:16.920303",
     "status": "completed"
    },
    "tags": []
   },
   "outputs": [],
   "source": [
    "k = 12\n",
    "\n",
    "# model definition\n",
    "#gmm_emb_model = mx.GaussianMixture(n_components=k)\n",
    "\n",
    "# model training\n",
    "#gmm_emb_model.fit(X_embbed)\n",
    "\n",
    "# model predict\n",
    "#labels = gmm_emb_model.predict(X_embbed)\n",
    "\n",
    "# model performance\n",
    "#sil = metrics.silhouette_score(X_embbed, labels, metric='euclidean')\n",
    "\n",
    "#labels = gmm_emb_model.labels_\n",
    "\n",
    "\n",
    "# model definition & training\n",
    "hc_emb_model = hc.linkage(X_embbed, 'ward')\n",
    "\n",
    "# model predict\n",
    "labels = hc.fcluster(hc_emb_model, k, criterion='maxclust')\n",
    "\n",
    "# model performance\n",
    "sil = metrics.silhouette_score(X_embbed, labels, metric='euclidean')"
   ]
  },
  {
   "cell_type": "markdown",
   "metadata": {
    "papermill": {
     "duration": 0.090498,
     "end_time": "2021-09-18T14:08:17.981047",
     "exception": false,
     "start_time": "2021-09-18T14:08:17.890549",
     "status": "completed"
    },
    "tags": []
   },
   "source": [
    "# 9. Cluster analysis"
   ]
  },
  {
   "cell_type": "markdown",
   "metadata": {
    "papermill": {
     "duration": 0.083777,
     "end_time": "2021-09-18T14:08:18.148668",
     "exception": false,
     "start_time": "2021-09-18T14:08:18.064891",
     "status": "completed"
    },
    "tags": []
   },
   "source": [
    "## 9.1. Final model"
   ]
  },
  {
   "cell_type": "code",
   "execution_count": 47,
   "metadata": {
    "ExecuteTime": {
     "end_time": "2022-01-26T21:35:52.395559Z",
     "start_time": "2022-01-26T21:35:52.388294Z"
    },
    "execution": {
     "iopub.execute_input": "2021-09-18T14:08:18.331168Z",
     "iopub.status.busy": "2021-09-18T14:08:18.330028Z",
     "iopub.status.idle": "2021-09-18T14:08:18.336489Z",
     "shell.execute_reply": "2021-09-18T14:08:18.336911Z"
    },
    "papermill": {
     "duration": 0.097054,
     "end_time": "2021-09-18T14:08:18.337120",
     "exception": false,
     "start_time": "2021-09-18T14:08:18.240066",
     "status": "completed"
    },
    "tags": []
   },
   "outputs": [],
   "source": [
    "df9 = df_ref.copy()\n",
    "df9 = df9[df9['customer_id'].isin(customers_to_cluster)]\n",
    "df9['cluster'] = labels\n",
    "df_leaf['cluster'] = labels\n"
   ]
  },
  {
   "cell_type": "markdown",
   "metadata": {
    "papermill": {
     "duration": 0.079368,
     "end_time": "2021-09-18T14:08:18.506724",
     "exception": false,
     "start_time": "2021-09-18T14:08:18.427356",
     "status": "completed"
    },
    "tags": []
   },
   "source": [
    "### 9.1.1. Visualization Inspection"
   ]
  },
  {
   "cell_type": "code",
   "execution_count": 48,
   "metadata": {
    "ExecuteTime": {
     "end_time": "2022-01-26T21:35:52.548944Z",
     "start_time": "2022-01-26T21:35:52.396696Z"
    },
    "execution": {
     "iopub.execute_input": "2021-09-18T14:08:18.698831Z",
     "iopub.status.busy": "2021-09-18T14:08:18.698170Z",
     "iopub.status.idle": "2021-09-18T14:08:18.885052Z",
     "shell.execute_reply": "2021-09-18T14:08:18.884287Z"
    },
    "papermill": {
     "duration": 0.297787,
     "end_time": "2021-09-18T14:08:18.885264",
     "exception": false,
     "start_time": "2021-09-18T14:08:18.587477",
     "status": "completed"
    },
    "tags": []
   },
   "outputs": [
    {
     "data": {
      "image/png": "[encoded data removed]",
      "text/plain": [
       "<Figure size 432x288 with 1 Axes>"
      ]
     },
     "metadata": {
      "needs_background": "light"
     },
     "output_type": "display_data"
    },
    {
     "data": {
      "text/plain": [
       "<Figure size 720x720 with 0 Axes>"
      ]
     },
     "metadata": {},
     "output_type": "display_data"
    }
   ],
   "source": [
    "fig = plt.figure(figsize=(10,10))\n",
    "ax = fig.add_subplot(111, projection='3d')\n",
    "ax.scatter(df_leaf['embedding_x'], df_leaf['embedding_y'], df_leaf['embedding_z'], c=df_leaf['cluster'])\n",
    "\n",
    "plt.show()"
   ]
  },
  {
   "cell_type": "markdown",
   "metadata": {
    "papermill": {
     "duration": 0.086453,
     "end_time": "2021-09-18T14:08:19.054604",
     "exception": false,
     "start_time": "2021-09-18T14:08:18.968151",
     "status": "completed"
    },
    "tags": []
   },
   "source": [
    "### 9.1.4. Cluster profile"
   ]
  },
  {
   "cell_type": "markdown",
   "metadata": {
    "papermill": {
     "duration": 0.082299,
     "end_time": "2021-09-18T14:08:19.220785",
     "exception": false,
     "start_time": "2021-09-18T14:08:19.138486",
     "status": "completed"
    },
    "tags": []
   },
   "source": [
    "The profile of each cluster can be represented as a persona, and the persona is the mean or median behavior of all other customers inside the cluster"
   ]
  },
  {
   "cell_type": "code",
   "execution_count": 49,
   "metadata": {
    "ExecuteTime": {
     "end_time": "2022-01-26T21:35:52.619157Z",
     "start_time": "2022-01-26T21:35:52.550702Z"
    },
    "execution": {
     "iopub.execute_input": "2021-09-18T14:08:19.394149Z",
     "iopub.status.busy": "2021-09-18T14:08:19.393426Z",
     "iopub.status.idle": "2021-09-18T14:08:19.477050Z",
     "shell.execute_reply": "2021-09-18T14:08:19.476486Z"
    },
    "papermill": {
     "duration": 0.174693,
     "end_time": "2021-09-18T14:08:19.477224",
     "exception": false,
     "start_time": "2021-09-18T14:08:19.302531",
     "status": "completed"
    },
    "tags": []
   },
   "outputs": [
    {
     "data": {
      "text/html": [
       "<div>\n",
       "<style scoped>\n",
       "    .dataframe tbody tr th:only-of-type {\n",
       "        vertical-align: middle;\n",
       "    }\n",
       "\n",
       "    .dataframe tbody tr th {\n",
       "        vertical-align: top;\n",
       "    }\n",
       "\n",
       "    .dataframe thead th {\n",
       "        text-align: right;\n",
       "    }\n",
       "</style>\n",
       "<table border=\"1\" class=\"dataframe\">\n",
       "  <thead>\n",
       "    <tr style=\"text-align: right;\">\n",
       "      <th></th>\n",
       "      <th>cluster</th>\n",
       "      <th>customer_id</th>\n",
       "      <th>perc_customer</th>\n",
       "      <th>gross_revenue</th>\n",
       "      <th>devolutions</th>\n",
       "      <th>recency_p</th>\n",
       "      <th>quantity_p</th>\n",
       "      <th>avg_ticket</th>\n",
       "      <th>avg_recency_days</th>\n",
       "      <th>avg_variety</th>\n",
       "    </tr>\n",
       "  </thead>\n",
       "  <tbody>\n",
       "    <tr>\n",
       "      <th>0</th>\n",
       "      <td>1</td>\n",
       "      <td>595</td>\n",
       "      <td>13.641</td>\n",
       "      <td>7810.70</td>\n",
       "      <td>328.58</td>\n",
       "      <td>44.92</td>\n",
       "      <td>1255.35</td>\n",
       "      <td>93.10</td>\n",
       "      <td>51.16</td>\n",
       "      <td>20.97</td>\n",
       "    </tr>\n",
       "    <tr>\n",
       "      <th>1</th>\n",
       "      <td>2</td>\n",
       "      <td>362</td>\n",
       "      <td>8.299</td>\n",
       "      <td>1067.25</td>\n",
       "      <td>0.08</td>\n",
       "      <td>79.12</td>\n",
       "      <td>180.42</td>\n",
       "      <td>32.23</td>\n",
       "      <td>88.44</td>\n",
       "      <td>24.37</td>\n",
       "    </tr>\n",
       "    <tr>\n",
       "      <th>2</th>\n",
       "      <td>3</td>\n",
       "      <td>373</td>\n",
       "      <td>8.551</td>\n",
       "      <td>1955.85</td>\n",
       "      <td>83.93</td>\n",
       "      <td>52.44</td>\n",
       "      <td>194.88</td>\n",
       "      <td>21.83</td>\n",
       "      <td>54.07</td>\n",
       "      <td>24.49</td>\n",
       "    </tr>\n",
       "    <tr>\n",
       "      <th>3</th>\n",
       "      <td>4</td>\n",
       "      <td>442</td>\n",
       "      <td>10.133</td>\n",
       "      <td>2469.28</td>\n",
       "      <td>55.51</td>\n",
       "      <td>49.61</td>\n",
       "      <td>295.00</td>\n",
       "      <td>28.03</td>\n",
       "      <td>57.45</td>\n",
       "      <td>27.09</td>\n",
       "    </tr>\n",
       "    <tr>\n",
       "      <th>4</th>\n",
       "      <td>5</td>\n",
       "      <td>290</td>\n",
       "      <td>6.648</td>\n",
       "      <td>223.71</td>\n",
       "      <td>9.10</td>\n",
       "      <td>157.65</td>\n",
       "      <td>21.88</td>\n",
       "      <td>23.04</td>\n",
       "      <td>152.68</td>\n",
       "      <td>20.48</td>\n",
       "    </tr>\n",
       "    <tr>\n",
       "      <th>5</th>\n",
       "      <td>6</td>\n",
       "      <td>154</td>\n",
       "      <td>3.530</td>\n",
       "      <td>212.04</td>\n",
       "      <td>20.21</td>\n",
       "      <td>135.94</td>\n",
       "      <td>43.19</td>\n",
       "      <td>38.38</td>\n",
       "      <td>126.62</td>\n",
       "      <td>5.07</td>\n",
       "    </tr>\n",
       "    <tr>\n",
       "      <th>6</th>\n",
       "      <td>7</td>\n",
       "      <td>167</td>\n",
       "      <td>3.829</td>\n",
       "      <td>89.21</td>\n",
       "      <td>14.52</td>\n",
       "      <td>213.46</td>\n",
       "      <td>10.63</td>\n",
       "      <td>35.57</td>\n",
       "      <td>196.61</td>\n",
       "      <td>3.32</td>\n",
       "    </tr>\n",
       "    <tr>\n",
       "      <th>7</th>\n",
       "      <td>8</td>\n",
       "      <td>219</td>\n",
       "      <td>5.021</td>\n",
       "      <td>475.54</td>\n",
       "      <td>14.30</td>\n",
       "      <td>129.93</td>\n",
       "      <td>61.74</td>\n",
       "      <td>20.96</td>\n",
       "      <td>123.57</td>\n",
       "      <td>20.92</td>\n",
       "    </tr>\n",
       "    <tr>\n",
       "      <th>8</th>\n",
       "      <td>9</td>\n",
       "      <td>424</td>\n",
       "      <td>9.720</td>\n",
       "      <td>370.53</td>\n",
       "      <td>31.81</td>\n",
       "      <td>130.48</td>\n",
       "      <td>44.43</td>\n",
       "      <td>14.01</td>\n",
       "      <td>126.18</td>\n",
       "      <td>24.05</td>\n",
       "    </tr>\n",
       "    <tr>\n",
       "      <th>9</th>\n",
       "      <td>10</td>\n",
       "      <td>726</td>\n",
       "      <td>16.644</td>\n",
       "      <td>649.46</td>\n",
       "      <td>13.06</td>\n",
       "      <td>104.52</td>\n",
       "      <td>82.96</td>\n",
       "      <td>21.59</td>\n",
       "      <td>103.90</td>\n",
       "      <td>23.45</td>\n",
       "    </tr>\n",
       "    <tr>\n",
       "      <th>10</th>\n",
       "      <td>11</td>\n",
       "      <td>353</td>\n",
       "      <td>8.093</td>\n",
       "      <td>1024.58</td>\n",
       "      <td>33.56</td>\n",
       "      <td>82.66</td>\n",
       "      <td>130.82</td>\n",
       "      <td>22.99</td>\n",
       "      <td>87.68</td>\n",
       "      <td>23.77</td>\n",
       "    </tr>\n",
       "    <tr>\n",
       "      <th>11</th>\n",
       "      <td>12</td>\n",
       "      <td>257</td>\n",
       "      <td>5.892</td>\n",
       "      <td>826.46</td>\n",
       "      <td>23.01</td>\n",
       "      <td>85.60</td>\n",
       "      <td>110.07</td>\n",
       "      <td>18.99</td>\n",
       "      <td>81.24</td>\n",
       "      <td>24.27</td>\n",
       "    </tr>\n",
       "  </tbody>\n",
       "</table>\n",
       "</div>"
      ],
      "text/plain": [
       "    cluster  customer_id  perc_customer  gross_revenue  devolutions  \\\n",
       "0         1          595         13.641        7810.70       328.58   \n",
       "1         2          362          8.299        1067.25         0.08   \n",
       "2         3          373          8.551        1955.85        83.93   \n",
       "3         4          442         10.133        2469.28        55.51   \n",
       "4         5          290          6.648         223.71         9.10   \n",
       "5         6          154          3.530         212.04        20.21   \n",
       "6         7          167          3.829          89.21        14.52   \n",
       "7         8          219          5.021         475.54        14.30   \n",
       "8         9          424          9.720         370.53        31.81   \n",
       "9        10          726         16.644         649.46        13.06   \n",
       "10       11          353          8.093        1024.58        33.56   \n",
       "11       12          257          5.892         826.46        23.01   \n",
       "\n",
       "    recency_p  quantity_p  avg_ticket  avg_recency_days  avg_variety  \n",
       "0       44.92     1255.35       93.10             51.16        20.97  \n",
       "1       79.12      180.42       32.23             88.44        24.37  \n",
       "2       52.44      194.88       21.83             54.07        24.49  \n",
       "3       49.61      295.00       28.03             57.45        27.09  \n",
       "4      157.65       21.88       23.04            152.68        20.48  \n",
       "5      135.94       43.19       38.38            126.62         5.07  \n",
       "6      213.46       10.63       35.57            196.61         3.32  \n",
       "7      129.93       61.74       20.96            123.57        20.92  \n",
       "8      130.48       44.43       14.01            126.18        24.05  \n",
       "9      104.52       82.96       21.59            103.90        23.45  \n",
       "10      82.66      130.82       22.99             87.68        23.77  \n",
       "11      85.60      110.07       18.99             81.24        24.27  "
      ]
     },
     "execution_count": 49,
     "metadata": {},
     "output_type": "execute_result"
    }
   ],
   "source": [
    "df_cluster = df9[['customer_id','cluster']].groupby('cluster').count().reset_index()\n",
    "df_cluster['perc_customer'] = round(100*(df_cluster['customer_id'] / df_cluster['customer_id'].sum()), 3)\n",
    "\n",
    "df_gross_revenue = round(df9[['gross_revenue', 'cluster']].groupby('cluster').mean().reset_index(), 2)\n",
    "df_avg_devolutions = round(df9[['devolutions', 'cluster']].groupby('cluster').mean().reset_index(), 2)\n",
    "#df_avg_relation = round(df9[['purc_dev','cluster']].groupby('cluster').mean().reset_index() , 2)\n",
    "\n",
    "df_avg_recency_p = round(df9[['cluster', 'recency_p']].groupby('cluster').mean().reset_index(), 2)\n",
    "#df_avg_quantity_d = round(df9[['cluster', 'quantity_d']].groupby('cluster').mean().reset_index(), 2)\n",
    "\n",
    "df_avg_frequency_p = round(df9[['cluster','quantity_p']].groupby('cluster').mean().reset_index(), 2)\n",
    "#df_avg_frequency_d = round(df9[['cluster','quantity_d']].groupby('cluster').mean().reset_index(), 2)\n",
    "\n",
    "df_avg_ticket = round(df9[['cluster','avg_ticket']].groupby('cluster').mean().reset_index(), 2)\n",
    "df_avg_recency_days = round(df9[['cluster','avg_recency_days']].groupby('cluster').mean().reset_index(), 2)\n",
    "df_avg_variety = round(df9[['cluster','avg_variety']].groupby('cluster').mean().reset_index(), 2)\n",
    "\n",
    "df_cluster = pd.merge(df_cluster, df_gross_revenue, on='cluster', how='inner')\n",
    "df_cluster = pd.merge(df_cluster, df_avg_devolutions, on='cluster', how='inner')\n",
    "#df_cluster = pd.merge(df_cluster, df_avg_relation, on='cluster', how='inner')\n",
    "df_cluster = pd.merge(df_cluster, df_avg_recency_p, on='cluster', how='inner')\n",
    "#df_cluster = pd.merge(df_cluster, df_avg_quantity_d, on='cluster', how='inner')\n",
    "df_cluster = pd.merge(df_cluster, df_avg_frequency_p, on='cluster', how='inner')\n",
    "#df_cluster = pd.merge(df_cluster, df_avg_frequency_d, on='cluster', how='inner')\n",
    "df_cluster = pd.merge(df_cluster, df_avg_ticket, on='cluster', how='inner')\n",
    "df_cluster = pd.merge(df_cluster, df_avg_recency_days, on='cluster', how='inner')\n",
    "df_cluster = pd.merge(df_cluster, df_avg_variety, on='cluster', how='inner')\n",
    "\n",
    "df_cluster"
   ]
  },
  {
   "cell_type": "markdown",
   "metadata": {
    "papermill": {
     "duration": 0.082611,
     "end_time": "2021-09-18T14:08:19.650847",
     "exception": false,
     "start_time": "2021-09-18T14:08:19.568236",
     "status": "completed"
    },
    "tags": []
   },
   "source": [
    "# 10. Clusters insights"
   ]
  },
  {
   "cell_type": "code",
   "execution_count": 50,
   "metadata": {
    "ExecuteTime": {
     "end_time": "2022-01-26T21:35:52.622995Z",
     "start_time": "2022-01-26T21:35:52.620666Z"
    },
    "execution": {
     "iopub.execute_input": "2021-09-18T14:08:19.833116Z",
     "iopub.status.busy": "2021-09-18T14:08:19.832402Z",
     "iopub.status.idle": "2021-09-18T14:08:19.834557Z",
     "shell.execute_reply": "2021-09-18T14:08:19.835131Z"
    },
    "papermill": {
     "duration": 0.096191,
     "end_time": "2021-09-18T14:08:19.835337",
     "exception": false,
     "start_time": "2021-09-18T14:08:19.739146",
     "status": "completed"
    },
    "tags": []
   },
   "outputs": [],
   "source": [
    "df10 = df9.copy()"
   ]
  },
  {
   "cell_type": "markdown",
   "metadata": {
    "papermill": {
     "duration": 0.087778,
     "end_time": "2021-09-18T14:08:20.017646",
     "exception": false,
     "start_time": "2021-09-18T14:08:19.929868",
     "status": "completed"
    },
    "tags": []
   },
   "source": [
    "## Hypothesis for insights"
   ]
  },
  {
   "cell_type": "markdown",
   "metadata": {
    "papermill": {
     "duration": 0.08347,
     "end_time": "2021-09-18T14:08:20.186378",
     "exception": false,
     "start_time": "2021-09-18T14:08:20.102908",
     "status": "completed"
    },
    "tags": []
   },
   "source": [
    "1. Affirmation\n",
    "2. Features comparison or clusters comparison\n",
    "3. Base value for comparison and classification in true or false for each hypothesis\n",
    "\n",
    "Example: Cluster | Feature analyzed | Base value for comparison"
   ]
  },
  {
   "cell_type": "markdown",
   "metadata": {
    "papermill": {
     "duration": 0.080957,
     "end_time": "2021-09-18T14:08:20.350964",
     "exception": false,
     "start_time": "2021-09-18T14:08:20.270007",
     "status": "completed"
    },
    "tags": []
   },
   "source": [
    "### Purchase hypothesis"
   ]
  },
  {
   "cell_type": "markdown",
   "metadata": {
    "papermill": {
     "duration": 0.083843,
     "end_time": "2021-09-18T14:08:20.517766",
     "exception": false,
     "start_time": "2021-09-18T14:08:20.433923",
     "status": "completed"
    },
    "tags": []
   },
   "source": [
    "1. More than 80% of Insiders customers use credit card for payment\n",
    "2. **Insiders clusters have an average ticket of at least 10% higher than any other cluster**\n",
    "3. Insiders customers have a basket size higher than 5 products\n",
    "4. **Insiders customers have a contribution of at least 10% of the total purchases**\n",
    "5. **Insiders customers have a smaller proportion of devolutions than the average of all customers**"
   ]
  },
  {
   "cell_type": "markdown",
   "metadata": {
    "papermill": {
     "duration": 0.08358,
     "end_time": "2021-09-18T14:08:20.685221",
     "exception": false,
     "start_time": "2021-09-18T14:08:20.601641",
     "status": "completed"
    },
    "tags": []
   },
   "source": [
    "### Client hypothesis"
   ]
  },
  {
   "cell_type": "markdown",
   "metadata": {
    "papermill": {
     "duration": 0.085735,
     "end_time": "2021-09-18T14:08:20.858269",
     "exception": false,
     "start_time": "2021-09-18T14:08:20.772534",
     "status": "completed"
    },
    "tags": []
   },
   "source": [
    "1. 60% of Insiders customers are single\n",
    "2. 10% of Insiders customers are aged between 24 - 35 years old\n",
    "3. 40% of Insiders customers are located in a radius of 50 km\n",
    "4. 5%  of Insiders customers earn a salary higher than USD 100.000 yearly\n",
    "5. 90% of Insiders customers have a high education degree"
   ]
  },
  {
   "cell_type": "markdown",
   "metadata": {
    "papermill": {
     "duration": 0.081525,
     "end_time": "2021-09-18T14:08:21.026526",
     "exception": false,
     "start_time": "2021-09-18T14:08:20.945001",
     "status": "completed"
    },
    "tags": []
   },
   "source": [
    "### Product hypothesis"
   ]
  },
  {
   "cell_type": "markdown",
   "metadata": {
    "papermill": {
     "duration": 0.083283,
     "end_time": "2021-09-18T14:08:21.195028",
     "exception": false,
     "start_time": "2021-09-18T14:08:21.111745",
     "status": "completed"
    },
    "tags": []
   },
   "source": [
    "1. **30% of the all products are bought by Insiders customers.**\n",
    "2. Insiders customers buys more variety of products.\n",
    "3. **Insiders customers buys products with a higher unit price than other customers.**"
   ]
  },
  {
   "cell_type": "markdown",
   "metadata": {
    "papermill": {
     "duration": 0.087824,
     "end_time": "2021-09-18T14:08:21.884657",
     "exception": false,
     "start_time": "2021-09-18T14:08:21.796833",
     "status": "completed"
    },
    "tags": []
   },
   "source": [
    "### Purchase H2. The median of revenues from insiders customers is 10% higher than the median of other customers"
   ]
  },
  {
   "cell_type": "code",
   "execution_count": 51,
   "metadata": {
    "ExecuteTime": {
     "end_time": "2022-01-26T21:35:52.629001Z",
     "start_time": "2022-01-26T21:35:52.624329Z"
    },
    "execution": {
     "iopub.execute_input": "2021-09-18T14:08:22.058268Z",
     "iopub.status.busy": "2021-09-18T14:08:22.057540Z",
     "iopub.status.idle": "2021-09-18T14:08:22.062210Z",
     "shell.execute_reply": "2021-09-18T14:08:22.061677Z"
    },
    "papermill": {
     "duration": 0.092871,
     "end_time": "2021-09-18T14:08:22.062372",
     "exception": false,
     "start_time": "2021-09-18T14:08:21.969501",
     "status": "completed"
    },
    "tags": []
   },
   "outputs": [
    {
     "name": "stdout",
     "output_type": "stream",
     "text": [
      "Insiders revenue median is 387.24% higher than the median revenue\n"
     ]
    }
   ],
   "source": [
    "insiders_gnv_median = df10.loc[df10['cluster']==1, 'gross_revenue'].median()\n",
    "total_gnv_median = df10.loc[:,'gross_revenue'].median()\n",
    "\n",
    "revenue_diff_median = (insiders_gnv_median - total_gnv_median) / total_gnv_median\n",
    "\n",
    "print('Insiders revenue median is {}% higher than the median revenue'.format(round(revenue_diff_median*100, 2)))"
   ]
  },
  {
   "cell_type": "markdown",
   "metadata": {
    "papermill": {
     "duration": 0.083889,
     "end_time": "2021-09-18T14:08:21.526043",
     "exception": false,
     "start_time": "2021-09-18T14:08:21.442154",
     "status": "completed"
    },
    "tags": []
   },
   "source": [
    "### Purchase H4. Insiders have a contribution of 10% of total purchases"
   ]
  },
  {
   "cell_type": "code",
   "execution_count": null,
   "metadata": {
    "papermill": {
     "duration": 0.099156,
     "end_time": "2021-09-18T14:08:21.709449",
     "exception": false,
     "start_time": "2021-09-18T14:08:21.610293",
     "status": "completed"
    },
    "tags": []
   },
   "outputs": [],
   "source": []
  },
  {
   "cell_type": "markdown",
   "metadata": {
    "papermill": {
     "duration": 0.086135,
     "end_time": "2021-09-18T14:08:22.236645",
     "exception": false,
     "start_time": "2021-09-18T14:08:22.150510",
     "status": "completed"
    },
    "tags": []
   },
   "source": [
    "### Purchase H5. Insiders have a smaller proportion of devolution than the average of all customers"
   ]
  },
  {
   "cell_type": "code",
   "execution_count": null,
   "metadata": {
    "ExecuteTime": {
     "end_time": "2022-01-26T21:35:52.741751Z",
     "start_time": "2022-01-26T21:35:52.630587Z"
    },
    "execution": {
     "iopub.execute_input": "2021-09-18T14:08:22.431803Z",
     "iopub.status.busy": "2021-09-18T14:08:22.430972Z",
     "iopub.status.idle": "2021-09-18T14:08:22.548708Z",
     "shell.execute_reply": "2021-09-18T14:08:22.549072Z"
    },
    "papermill": {
     "duration": 0.224498,
     "end_time": "2021-09-18T14:08:22.549286",
     "exception": false,
     "start_time": "2021-09-18T14:08:22.324788",
     "status": "completed"
    },
    "tags": []
   },
   "outputs": [],
   "source": []
  },
  {
   "cell_type": "markdown",
   "metadata": {},
   "source": [
    "### Product H1. 30% of all products are bought by Insiders customers"
   ]
  },
  {
   "cell_type": "code",
   "execution_count": null,
   "metadata": {},
   "outputs": [],
   "source": []
  },
  {
   "cell_type": "markdown",
   "metadata": {},
   "source": [
    "### Product H3. Insiders customers buys products with a higher unit price than other customers"
   ]
  },
  {
   "cell_type": "code",
   "execution_count": null,
   "metadata": {},
   "outputs": [],
   "source": []
  },
  {
   "cell_type": "markdown",
   "metadata": {
    "papermill": {
     "duration": 0.08986,
     "end_time": "2021-09-18T14:08:22.746587",
     "exception": false,
     "start_time": "2021-09-18T14:08:22.656727",
     "status": "completed"
    },
    "tags": []
   },
   "source": [
    "## 10.1. Business questions"
   ]
  },
  {
   "cell_type": "markdown",
   "metadata": {
    "papermill": {
     "duration": 0.08416,
     "end_time": "2021-09-18T14:08:22.914863",
     "exception": false,
     "start_time": "2021-09-18T14:08:22.830703",
     "status": "completed"
    },
    "tags": []
   },
   "source": [
    "### 1. Who are electible to participate in the Insiders program?"
   ]
  },
  {
   "cell_type": "code",
   "execution_count": 53,
   "metadata": {
    "ExecuteTime": {
     "end_time": "2022-01-26T21:35:52.748484Z",
     "start_time": "2022-01-26T21:35:52.743008Z"
    },
    "execution": {
     "iopub.execute_input": "2021-09-18T14:08:23.091071Z",
     "iopub.status.busy": "2021-09-18T14:08:23.090365Z",
     "iopub.status.idle": "2021-09-18T14:08:23.093849Z",
     "shell.execute_reply": "2021-09-18T14:08:23.094305Z"
    },
    "papermill": {
     "duration": 0.095645,
     "end_time": "2021-09-18T14:08:23.094516",
     "exception": false,
     "start_time": "2021-09-18T14:08:22.998871",
     "status": "completed"
    },
    "tags": []
   },
   "outputs": [
    {
     "data": {
      "text/plain": [
       "2    12583\n",
       "5    15291\n",
       "6    14688\n",
       "7    17809\n",
       "8    15311\n",
       "Name: customer_id, dtype: int64"
      ]
     },
     "execution_count": 53,
     "metadata": {},
     "output_type": "execute_result"
    }
   ],
   "source": [
    "df10.loc[df10['cluster']==1, 'customer_id'].head()"
   ]
  },
  {
   "cell_type": "markdown",
   "metadata": {
    "papermill": {
     "duration": 0.085183,
     "end_time": "2021-09-18T14:08:23.267091",
     "exception": false,
     "start_time": "2021-09-18T14:08:23.181908",
     "status": "completed"
    },
    "tags": []
   },
   "source": [
    "### 2. How many customers will be part of the group?"
   ]
  },
  {
   "cell_type": "code",
   "execution_count": 54,
   "metadata": {
    "ExecuteTime": {
     "end_time": "2022-01-26T21:35:52.753049Z",
     "start_time": "2022-01-26T21:35:52.749631Z"
    },
    "execution": {
     "iopub.execute_input": "2021-09-18T14:08:23.446851Z",
     "iopub.status.busy": "2021-09-18T14:08:23.446148Z",
     "iopub.status.idle": "2021-09-18T14:08:23.450817Z",
     "shell.execute_reply": "2021-09-18T14:08:23.451165Z"
    },
    "papermill": {
     "duration": 0.098214,
     "end_time": "2021-09-18T14:08:23.451383",
     "exception": false,
     "start_time": "2021-09-18T14:08:23.353169",
     "status": "completed"
    },
    "tags": []
   },
   "outputs": [
    {
     "data": {
      "text/plain": [
       "595"
      ]
     },
     "execution_count": 54,
     "metadata": {},
     "output_type": "execute_result"
    }
   ],
   "source": [
    "df10.loc[df10['cluster']==1, 'customer_id'].size"
   ]
  },
  {
   "cell_type": "markdown",
   "metadata": {
    "papermill": {
     "duration": 0.086887,
     "end_time": "2021-09-18T14:08:23.626499",
     "exception": false,
     "start_time": "2021-09-18T14:08:23.539612",
     "status": "completed"
    },
    "tags": []
   },
   "source": [
    "### 3. What are the main characteristic of those customers?"
   ]
  },
  {
   "cell_type": "markdown",
   "metadata": {
    "papermill": {
     "duration": 0.087509,
     "end_time": "2021-09-18T14:08:23.800681",
     "exception": false,
     "start_time": "2021-09-18T14:08:23.713172",
     "status": "completed"
    },
    "tags": []
   },
   "source": [
    "Main characteristic of Insiders customers:\n",
    "- Gross revenue: \\\\$7810.07;\n",
    "- Returns: \\\\$328.58;\n",
    "- Recency of last purchase: 44.92 dias;\n",
    "- Quantity of products bought: 1255 products;\n",
    "- Average ticket: \\\\$93.10;\n",
    "- Average time between purchases: 51.16 days;\n",
    "- Average variety of products purchased: 20.97."
   ]
  },
  {
   "cell_type": "markdown",
   "metadata": {
    "papermill": {
     "duration": 0.100337,
     "end_time": "2021-09-18T14:08:23.988644",
     "exception": false,
     "start_time": "2021-09-18T14:08:23.888307",
     "status": "completed"
    },
    "tags": []
   },
   "source": [
    "### 4. What are the contribution of those customers in revenue?"
   ]
  },
  {
   "cell_type": "code",
   "execution_count": 55,
   "metadata": {
    "ExecuteTime": {
     "end_time": "2022-01-26T21:35:52.758027Z",
     "start_time": "2022-01-26T21:35:52.754148Z"
    },
    "execution": {
     "iopub.execute_input": "2021-09-18T14:08:24.167969Z",
     "iopub.status.busy": "2021-09-18T14:08:24.167297Z",
     "iopub.status.idle": "2021-09-18T14:08:24.169806Z",
     "shell.execute_reply": "2021-09-18T14:08:24.170162Z"
    },
    "papermill": {
     "duration": 0.093628,
     "end_time": "2021-09-18T14:08:24.170362",
     "exception": false,
     "start_time": "2021-09-18T14:08:24.076734",
     "status": "completed"
    },
    "tags": []
   },
   "outputs": [
    {
     "name": "stdout",
     "output_type": "stream",
     "text": [
      "Insiders contribution in gross revenue is 56.17% of total revenue\n"
     ]
    }
   ],
   "source": [
    "insiders_total_revenue = df10.loc[df10['cluster']==1, 'gross_revenue'].sum()\n",
    "all_total_revenue = df10.loc[:, 'gross_revenue'].sum()\n",
    "\n",
    "print('Insiders contribution in gross revenue is {}% of total revenue'.format(round(insiders_total_revenue*100 / all_total_revenue, 2)))"
   ]
  },
  {
   "cell_type": "markdown",
   "metadata": {
    "papermill": {
     "duration": 0.088237,
     "end_time": "2021-09-18T14:08:24.350407",
     "exception": false,
     "start_time": "2021-09-18T14:08:24.262170",
     "status": "completed"
    },
    "tags": []
   },
   "source": [
    "### 5. What are the future expectations for revenue in the next months for these customers?"
   ]
  },
  {
   "cell_type": "code",
   "execution_count": 56,
   "metadata": {
    "ExecuteTime": {
     "end_time": "2022-01-26T21:35:52.772938Z",
     "start_time": "2022-01-26T21:35:52.759085Z"
    },
    "execution": {
     "iopub.execute_input": "2021-09-18T14:08:24.565312Z",
     "iopub.status.busy": "2021-09-18T14:08:24.559132Z",
     "iopub.status.idle": "2021-09-18T14:08:24.569309Z",
     "shell.execute_reply": "2021-09-18T14:08:24.569679Z"
    },
    "papermill": {
     "duration": 0.12898,
     "end_time": "2021-09-18T14:08:24.569887",
     "exception": false,
     "start_time": "2021-09-18T14:08:24.440907",
     "status": "completed"
    },
    "tags": []
   },
   "outputs": [
    {
     "data": {
      "text/html": [
       "<div>\n",
       "<style scoped>\n",
       "    .dataframe tbody tr th:only-of-type {\n",
       "        vertical-align: middle;\n",
       "    }\n",
       "\n",
       "    .dataframe tbody tr th {\n",
       "        vertical-align: top;\n",
       "    }\n",
       "\n",
       "    .dataframe thead th {\n",
       "        text-align: right;\n",
       "    }\n",
       "</style>\n",
       "<table border=\"1\" class=\"dataframe\">\n",
       "  <thead>\n",
       "    <tr style=\"text-align: right;\">\n",
       "      <th></th>\n",
       "      <th>cluster</th>\n",
       "      <th>customer_id</th>\n",
       "      <th>perc_customer</th>\n",
       "      <th>gross_revenue</th>\n",
       "      <th>devolutions</th>\n",
       "      <th>recency_p</th>\n",
       "      <th>quantity_p</th>\n",
       "      <th>avg_ticket</th>\n",
       "      <th>avg_recency_days</th>\n",
       "      <th>avg_variety</th>\n",
       "    </tr>\n",
       "  </thead>\n",
       "  <tbody>\n",
       "    <tr>\n",
       "      <th>0</th>\n",
       "      <td>1</td>\n",
       "      <td>595</td>\n",
       "      <td>13.641</td>\n",
       "      <td>7810.70</td>\n",
       "      <td>328.58</td>\n",
       "      <td>44.92</td>\n",
       "      <td>1255.35</td>\n",
       "      <td>93.10</td>\n",
       "      <td>51.16</td>\n",
       "      <td>20.97</td>\n",
       "    </tr>\n",
       "    <tr>\n",
       "      <th>1</th>\n",
       "      <td>2</td>\n",
       "      <td>362</td>\n",
       "      <td>8.299</td>\n",
       "      <td>1067.25</td>\n",
       "      <td>0.08</td>\n",
       "      <td>79.12</td>\n",
       "      <td>180.42</td>\n",
       "      <td>32.23</td>\n",
       "      <td>88.44</td>\n",
       "      <td>24.37</td>\n",
       "    </tr>\n",
       "    <tr>\n",
       "      <th>2</th>\n",
       "      <td>3</td>\n",
       "      <td>373</td>\n",
       "      <td>8.551</td>\n",
       "      <td>1955.85</td>\n",
       "      <td>83.93</td>\n",
       "      <td>52.44</td>\n",
       "      <td>194.88</td>\n",
       "      <td>21.83</td>\n",
       "      <td>54.07</td>\n",
       "      <td>24.49</td>\n",
       "    </tr>\n",
       "    <tr>\n",
       "      <th>3</th>\n",
       "      <td>4</td>\n",
       "      <td>442</td>\n",
       "      <td>10.133</td>\n",
       "      <td>2469.28</td>\n",
       "      <td>55.51</td>\n",
       "      <td>49.61</td>\n",
       "      <td>295.00</td>\n",
       "      <td>28.03</td>\n",
       "      <td>57.45</td>\n",
       "      <td>27.09</td>\n",
       "    </tr>\n",
       "    <tr>\n",
       "      <th>4</th>\n",
       "      <td>5</td>\n",
       "      <td>290</td>\n",
       "      <td>6.648</td>\n",
       "      <td>223.71</td>\n",
       "      <td>9.10</td>\n",
       "      <td>157.65</td>\n",
       "      <td>21.88</td>\n",
       "      <td>23.04</td>\n",
       "      <td>152.68</td>\n",
       "      <td>20.48</td>\n",
       "    </tr>\n",
       "    <tr>\n",
       "      <th>5</th>\n",
       "      <td>6</td>\n",
       "      <td>154</td>\n",
       "      <td>3.530</td>\n",
       "      <td>212.04</td>\n",
       "      <td>20.21</td>\n",
       "      <td>135.94</td>\n",
       "      <td>43.19</td>\n",
       "      <td>38.38</td>\n",
       "      <td>126.62</td>\n",
       "      <td>5.07</td>\n",
       "    </tr>\n",
       "    <tr>\n",
       "      <th>6</th>\n",
       "      <td>7</td>\n",
       "      <td>167</td>\n",
       "      <td>3.829</td>\n",
       "      <td>89.21</td>\n",
       "      <td>14.52</td>\n",
       "      <td>213.46</td>\n",
       "      <td>10.63</td>\n",
       "      <td>35.57</td>\n",
       "      <td>196.61</td>\n",
       "      <td>3.32</td>\n",
       "    </tr>\n",
       "    <tr>\n",
       "      <th>7</th>\n",
       "      <td>8</td>\n",
       "      <td>219</td>\n",
       "      <td>5.021</td>\n",
       "      <td>475.54</td>\n",
       "      <td>14.30</td>\n",
       "      <td>129.93</td>\n",
       "      <td>61.74</td>\n",
       "      <td>20.96</td>\n",
       "      <td>123.57</td>\n",
       "      <td>20.92</td>\n",
       "    </tr>\n",
       "    <tr>\n",
       "      <th>8</th>\n",
       "      <td>9</td>\n",
       "      <td>424</td>\n",
       "      <td>9.720</td>\n",
       "      <td>370.53</td>\n",
       "      <td>31.81</td>\n",
       "      <td>130.48</td>\n",
       "      <td>44.43</td>\n",
       "      <td>14.01</td>\n",
       "      <td>126.18</td>\n",
       "      <td>24.05</td>\n",
       "    </tr>\n",
       "    <tr>\n",
       "      <th>9</th>\n",
       "      <td>10</td>\n",
       "      <td>726</td>\n",
       "      <td>16.644</td>\n",
       "      <td>649.46</td>\n",
       "      <td>13.06</td>\n",
       "      <td>104.52</td>\n",
       "      <td>82.96</td>\n",
       "      <td>21.59</td>\n",
       "      <td>103.90</td>\n",
       "      <td>23.45</td>\n",
       "    </tr>\n",
       "    <tr>\n",
       "      <th>10</th>\n",
       "      <td>11</td>\n",
       "      <td>353</td>\n",
       "      <td>8.093</td>\n",
       "      <td>1024.58</td>\n",
       "      <td>33.56</td>\n",
       "      <td>82.66</td>\n",
       "      <td>130.82</td>\n",
       "      <td>22.99</td>\n",
       "      <td>87.68</td>\n",
       "      <td>23.77</td>\n",
       "    </tr>\n",
       "    <tr>\n",
       "      <th>11</th>\n",
       "      <td>12</td>\n",
       "      <td>257</td>\n",
       "      <td>5.892</td>\n",
       "      <td>826.46</td>\n",
       "      <td>23.01</td>\n",
       "      <td>85.60</td>\n",
       "      <td>110.07</td>\n",
       "      <td>18.99</td>\n",
       "      <td>81.24</td>\n",
       "      <td>24.27</td>\n",
       "    </tr>\n",
       "  </tbody>\n",
       "</table>\n",
       "</div>"
      ],
      "text/plain": [
       "    cluster  customer_id  perc_customer  gross_revenue  devolutions  \\\n",
       "0         1          595         13.641        7810.70       328.58   \n",
       "1         2          362          8.299        1067.25         0.08   \n",
       "2         3          373          8.551        1955.85        83.93   \n",
       "3         4          442         10.133        2469.28        55.51   \n",
       "4         5          290          6.648         223.71         9.10   \n",
       "5         6          154          3.530         212.04        20.21   \n",
       "6         7          167          3.829          89.21        14.52   \n",
       "7         8          219          5.021         475.54        14.30   \n",
       "8         9          424          9.720         370.53        31.81   \n",
       "9        10          726         16.644         649.46        13.06   \n",
       "10       11          353          8.093        1024.58        33.56   \n",
       "11       12          257          5.892         826.46        23.01   \n",
       "\n",
       "    recency_p  quantity_p  avg_ticket  avg_recency_days  avg_variety  \n",
       "0       44.92     1255.35       93.10             51.16        20.97  \n",
       "1       79.12      180.42       32.23             88.44        24.37  \n",
       "2       52.44      194.88       21.83             54.07        24.49  \n",
       "3       49.61      295.00       28.03             57.45        27.09  \n",
       "4      157.65       21.88       23.04            152.68        20.48  \n",
       "5      135.94       43.19       38.38            126.62         5.07  \n",
       "6      213.46       10.63       35.57            196.61         3.32  \n",
       "7      129.93       61.74       20.96            123.57        20.92  \n",
       "8      130.48       44.43       14.01            126.18        24.05  \n",
       "9      104.52       82.96       21.59            103.90        23.45  \n",
       "10      82.66      130.82       22.99             87.68        23.77  \n",
       "11      85.60      110.07       18.99             81.24        24.27  "
      ]
     },
     "execution_count": 56,
     "metadata": {},
     "output_type": "execute_result"
    }
   ],
   "source": [
    "df_cluster"
   ]
  },
  {
   "cell_type": "markdown",
   "metadata": {
    "papermill": {
     "duration": 0.096622,
     "end_time": "2021-09-18T14:08:24.751944",
     "exception": false,
     "start_time": "2021-09-18T14:08:24.655322",
     "status": "completed"
    },
    "tags": []
   },
   "source": [
    "### 6. What are the conditions for a person to be elected in the Insiders program?"
   ]
  },
  {
   "cell_type": "markdown",
   "metadata": {
    "papermill": {
     "duration": 0.099839,
     "end_time": "2021-09-18T14:08:25.483958",
     "exception": false,
     "start_time": "2021-09-18T14:08:25.384119",
     "status": "completed"
    },
    "tags": []
   },
   "source": [
    "Have the following conditions:\n",
    "- Higher average ticket: above \\\\$90.00\n",
    "- Higher average variety of products: above 20 products per invoice\n",
    "- Last purchase: last purchase under 45 days, and purchases under 52 days in average\n",
    "- Quantity of items per invoice: above 1000 units per invoice"
   ]
  },
  {
   "cell_type": "markdown",
   "metadata": {
    "papermill": {
     "duration": 0.082398,
     "end_time": "2021-09-18T14:08:24.925504",
     "exception": false,
     "start_time": "2021-09-18T14:08:24.843106",
     "status": "completed"
    },
    "tags": []
   },
   "source": [
    "### 7. What are the conditions for a person to be removed from the Insiders program?"
   ]
  },
  {
   "cell_type": "markdown",
   "metadata": {
    "papermill": {
     "duration": 0.088343,
     "end_time": "2021-09-18T14:08:25.662250",
     "exception": false,
     "start_time": "2021-09-18T14:08:25.573907",
     "status": "completed"
    },
    "tags": []
   },
   "source": [
    "Looking for the differences between cluster 1 (Insiders) and the other clusters, it can be inferred that the main reason for a customer to be removed from the Insiders program is:\n",
    "- If the average ticket drops from over \\\\$90 to under \\\\$50.\n",
    "- If the average number of items bought drops from over 1000 to under 500.\n",
    "- If the last purchase and average time between purchase raises."
   ]
  },
  {
   "cell_type": "markdown",
   "metadata": {
    "papermill": {
     "duration": 0.099634,
     "end_time": "2021-09-18T14:08:25.127547",
     "exception": false,
     "start_time": "2021-09-18T14:08:25.027913",
     "status": "completed"
    },
    "tags": []
   },
   "source": [
    "### 8. How we can be sure that a Insider customer is better than the others customers?"
   ]
  },
  {
   "cell_type": "markdown",
   "metadata": {
    "papermill": {
     "duration": 0.089047,
     "end_time": "2021-09-18T14:08:25.837243",
     "exception": false,
     "start_time": "2021-09-18T14:08:25.748196",
     "status": "completed"
    },
    "tags": []
   },
   "source": [
    "A Insider customer buys more frequently (lower values from recency and average recency), buys more quantity and have higher tickets than other customers."
   ]
  },
  {
   "cell_type": "code",
   "execution_count": 2,
   "metadata": {
    "papermill": {
     "duration": 0.087045,
     "end_time": "2021-09-18T14:08:26.015859",
     "exception": false,
     "start_time": "2021-09-18T14:08:25.928814",
     "status": "completed"
    },
    "tags": []
   },
   "outputs": [],
   "source": [
    "# Inserir gráficos"
   ]
  },
  {
   "cell_type": "markdown",
   "metadata": {
    "papermill": {
     "duration": 0.084904,
     "end_time": "2021-09-18T14:08:25.298095",
     "exception": false,
     "start_time": "2021-09-18T14:08:25.213191",
     "status": "completed"
    },
    "tags": []
   },
   "source": [
    "### 9. What actions are available for the marketing team to improve revenue?"
   ]
  },
  {
   "cell_type": "markdown",
   "metadata": {
    "papermill": {
     "duration": 0.100046,
     "end_time": "2021-09-18T14:08:26.202343",
     "exception": false,
     "start_time": "2021-09-18T14:08:26.102297",
     "status": "completed"
    },
    "tags": []
   },
   "source": [
    "Some actions can be done for different clusters of customers, one of the main improvements that can be done is to detect customers that are churning (or already churned). It can be seem that:\n",
    "\n",
    "- Customers in Clusters 5, 6, 7, 8, and 9 have not made a single purchase in the last 120 days (4 months), and also has a high average of days between purchases of 100 - 190 days. **Some campaigns can be made directed for these customers in order to reduce time between purchases.**\n",
    "\n",
    "- Customers in Clusters 11 and 12 have characteristics very similar to Cluster 2, with the main difference being the average ticket. It seems that customers in these customers buys products with a cheaper price per unit. ** The team could recommend products with a higher unit price for these customers, in order to rise the average ticket.**\n",
    "\n",
    "- Customers in Clusters 3 and 4 have recency and revenue parameters close to those in Insiders Cluster. However, the average ticket is low and the average variety of items is higher, which means that customers in Clusters 3 and 4 may be purchasing more items with a lower unit price. **Since those customers bring a high revenue for the company and are the closest to become a Insider, the team could make some campaign to those customers in order to present products with a higher unit price, increasing the average ticket.**"
   ]
  },
  {
   "cell_type": "markdown",
   "metadata": {
    "papermill": {
     "duration": 0.089554,
     "end_time": "2021-09-18T14:08:26.888955",
     "exception": false,
     "start_time": "2021-09-18T14:08:26.799401",
     "status": "completed"
    },
    "tags": []
   },
   "source": [
    "# 11. Deploy to production"
   ]
  },
  {
   "cell_type": "markdown",
   "metadata": {},
   "source": [
    "The next step is do deploy the clustering model into production, in order for the marketing team to categorize new customers in each category. Also, along with the deployment of the model, we need to create a database to store the results of the model along the time, so the marketing team can evaluate the evolution of the customers and clusters metrics."
   ]
  },
  {
   "cell_type": "code",
   "execution_count": 57,
   "metadata": {
    "ExecuteTime": {
     "end_time": "2022-01-26T21:35:52.777199Z",
     "start_time": "2022-01-26T21:35:52.774024Z"
    },
    "execution": {
     "iopub.execute_input": "2021-09-18T14:08:27.104334Z",
     "iopub.status.busy": "2021-09-18T14:08:27.103425Z",
     "iopub.status.idle": "2021-09-18T14:08:27.104915Z",
     "shell.execute_reply": "2021-09-18T14:08:27.105302Z"
    },
    "papermill": {
     "duration": 0.126335,
     "end_time": "2021-09-18T14:08:27.105523",
     "exception": false,
     "start_time": "2021-09-18T14:08:26.979188",
     "status": "completed"
    },
    "tags": []
   },
   "outputs": [],
   "source": [
    "df11 = df10.copy()\n",
    "df11 = df11.drop(columns=['purchases_pday', 'relative_revenue', 'relative_quantity'], axis=1)"
   ]
  },
  {
   "cell_type": "markdown",
   "metadata": {
    "papermill": {
     "duration": 0.095542,
     "end_time": "2021-09-18T14:08:27.307356",
     "exception": false,
     "start_time": "2021-09-18T14:08:27.211814",
     "status": "completed"
    },
    "tags": []
   },
   "source": [
    "## 11.1. Insert into SQLITE"
   ]
  },
  {
   "cell_type": "markdown",
   "metadata": {},
   "source": [
    "Creating a local database to store initial results and beginning to create the initial code structure that will be taken to the Amazon Cloud."
   ]
  },
  {
   "cell_type": "code",
   "execution_count": 58,
   "metadata": {
    "ExecuteTime": {
     "end_time": "2022-01-26T21:35:52.784450Z",
     "start_time": "2022-01-26T21:35:52.778277Z"
    },
    "execution": {
     "iopub.execute_input": "2021-09-18T14:08:27.485779Z",
     "iopub.status.busy": "2021-09-18T14:08:27.485139Z",
     "iopub.status.idle": "2021-09-18T14:08:27.491619Z",
     "shell.execute_reply": "2021-09-18T14:08:27.491068Z"
    },
    "papermill": {
     "duration": 0.101898,
     "end_time": "2021-09-18T14:08:27.491849",
     "exception": false,
     "start_time": "2021-09-18T14:08:27.389951",
     "status": "completed"
    },
    "tags": []
   },
   "outputs": [],
   "source": [
    "df11['recency_p'] = df11['recency_p'].astype(int)\n",
    "df11['recency_d'] = df11['recency_d'].astype(int)\n",
    "df11['quantity_p'] = df11['quantity_p'].astype(int)\n",
    "df11['quantity_d'] = df11['quantity_d'].astype(int)\n",
    "df11['invoices_p'] = df11['invoices_p'].astype(int)\n",
    "df11['invoices_d'] = df11['invoices_d'].astype(int)\n",
    "df11['cluster'] = df11['cluster'].astype(int)"
   ]
  },
  {
   "cell_type": "code",
   "execution_count": 59,
   "metadata": {
    "ExecuteTime": {
     "end_time": "2022-01-26T21:35:52.790495Z",
     "start_time": "2022-01-26T21:35:52.785529Z"
    },
    "execution": {
     "iopub.execute_input": "2021-09-18T14:08:27.668505Z",
     "iopub.status.busy": "2021-09-18T14:08:27.667981Z",
     "iopub.status.idle": "2021-09-18T14:08:27.672728Z",
     "shell.execute_reply": "2021-09-18T14:08:27.672194Z"
    },
    "papermill": {
     "duration": 0.09679,
     "end_time": "2021-09-18T14:08:27.672977",
     "exception": false,
     "start_time": "2021-09-18T14:08:27.576187",
     "status": "completed"
    },
    "tags": []
   },
   "outputs": [
    {
     "data": {
      "text/plain": [
       "customer_id           int64\n",
       "purchases           float64\n",
       "devolutions         float64\n",
       "recency_p             int64\n",
       "recency_d             int64\n",
       "quantity_p            int64\n",
       "quantity_d            int64\n",
       "invoices_p            int64\n",
       "invoices_d            int64\n",
       "avg_ticket          float64\n",
       "avg_recency_days    float64\n",
       "avg_basket_size     float64\n",
       "avg_variety         float64\n",
       "gross_revenue       float64\n",
       "cluster               int64\n",
       "dtype: object"
      ]
     },
     "execution_count": 59,
     "metadata": {},
     "output_type": "execute_result"
    }
   ],
   "source": [
    "df11.dtypes"
   ]
  },
  {
   "cell_type": "code",
   "execution_count": 60,
   "metadata": {
    "ExecuteTime": {
     "end_time": "2022-01-26T21:35:52.866868Z",
     "start_time": "2022-01-26T21:35:52.792169Z"
    },
    "execution": {
     "iopub.execute_input": "2021-09-18T14:08:27.898206Z",
     "iopub.status.busy": "2021-09-18T14:08:27.897665Z",
     "iopub.status.idle": "2021-09-18T14:08:27.974153Z",
     "shell.execute_reply": "2021-09-18T14:08:27.974702Z"
    },
    "papermill": {
     "duration": 0.204358,
     "end_time": "2021-09-18T14:08:27.974917",
     "exception": false,
     "start_time": "2021-09-18T14:08:27.770559",
     "status": "completed"
    },
    "tags": []
   },
   "outputs": [],
   "source": [
    "# create table\n",
    "query_create_table_insiders = '''\n",
    "    CREATE TABLE insiders (\n",
    "    customer_id          INTEGER,\n",
    "    purchases            REAL,\n",
    "    devolutions          REAL,\n",
    "    recency_p            INTEGER,\n",
    "    recency_d            INTEGER,\n",
    "    quantity_p           INTEGER,\n",
    "    quantity_d           INTEGER,\n",
    "    invoices_p           INTEGER,\n",
    "    invoices_d           INTEGER,\n",
    "    avg_ticket           REAL,\n",
    "    avg_recency_days     REAL,\n",
    "    avg_basket_size      REAL,\n",
    "    avg_variety          REAL,\n",
    "    gross_revenue        REAL,\n",
    "    cluster              INTEGER\n",
    "    )\n",
    "'''\n",
    "\n",
    "#conn = sqlite3.connect('../insiders_db.sqlite')\n",
    "#conn.execute(query_create_table_insiders)\n",
    "#conn.commit()\n",
    "#conn.close()\n",
    "\n",
    "# insert data\n",
    "conn = create_engine('sqlite:////home/pedro/Documentos/repositories/3-insiders-clustering/insiders_db.sqlite')\n",
    "df11.to_sql('insiders', con=conn, if_exists='append', index=False)\n"
   ]
  },
  {
   "cell_type": "code",
   "execution_count": 61,
   "metadata": {
    "ExecuteTime": {
     "end_time": "2022-01-26T21:35:53.023126Z",
     "start_time": "2022-01-26T21:35:52.868196Z"
    },
    "execution": {
     "iopub.execute_input": "2021-09-18T14:08:28.154614Z",
     "iopub.status.busy": "2021-09-18T14:08:28.153855Z",
     "iopub.status.idle": "2021-09-18T14:08:28.277647Z",
     "shell.execute_reply": "2021-09-18T14:08:28.278099Z"
    },
    "papermill": {
     "duration": 0.214682,
     "end_time": "2021-09-18T14:08:28.278303",
     "exception": false,
     "start_time": "2021-09-18T14:08:28.063621",
     "status": "completed"
    },
    "tags": []
   },
   "outputs": [
    {
     "data": {
      "text/html": [
       "<div>\n",
       "<style scoped>\n",
       "    .dataframe tbody tr th:only-of-type {\n",
       "        vertical-align: middle;\n",
       "    }\n",
       "\n",
       "    .dataframe tbody tr th {\n",
       "        vertical-align: top;\n",
       "    }\n",
       "\n",
       "    .dataframe thead th {\n",
       "        text-align: right;\n",
       "    }\n",
       "</style>\n",
       "<table border=\"1\" class=\"dataframe\">\n",
       "  <thead>\n",
       "    <tr style=\"text-align: right;\">\n",
       "      <th></th>\n",
       "      <th>customer_id</th>\n",
       "      <th>purchases</th>\n",
       "      <th>devolutions</th>\n",
       "      <th>recency_p</th>\n",
       "      <th>recency_d</th>\n",
       "      <th>quantity_p</th>\n",
       "      <th>quantity_d</th>\n",
       "      <th>invoices_p</th>\n",
       "      <th>invoices_d</th>\n",
       "      <th>avg_ticket</th>\n",
       "      <th>avg_recency_days</th>\n",
       "      <th>avg_basket_size</th>\n",
       "      <th>avg_variety</th>\n",
       "      <th>gross_revenue</th>\n",
       "      <th>cluster</th>\n",
       "    </tr>\n",
       "  </thead>\n",
       "  <tbody>\n",
       "    <tr>\n",
       "      <th>0</th>\n",
       "      <td>17850</td>\n",
       "      <td>5391.21</td>\n",
       "      <td>102.58</td>\n",
       "      <td>372</td>\n",
       "      <td>302</td>\n",
       "      <td>35</td>\n",
       "      <td>21</td>\n",
       "      <td>34</td>\n",
       "      <td>1</td>\n",
       "      <td>18.152222</td>\n",
       "      <td>124.333333</td>\n",
       "      <td>50.970588</td>\n",
       "      <td>8.735294</td>\n",
       "      <td>5288.63</td>\n",
       "      <td>9</td>\n",
       "    </tr>\n",
       "    <tr>\n",
       "      <th>1</th>\n",
       "      <td>13047</td>\n",
       "      <td>3237.54</td>\n",
       "      <td>158.44</td>\n",
       "      <td>31</td>\n",
       "      <td>31</td>\n",
       "      <td>132</td>\n",
       "      <td>6</td>\n",
       "      <td>10</td>\n",
       "      <td>8</td>\n",
       "      <td>18.822907</td>\n",
       "      <td>26.642857</td>\n",
       "      <td>139.100000</td>\n",
       "      <td>17.200000</td>\n",
       "      <td>3079.10</td>\n",
       "      <td>11</td>\n",
       "    </tr>\n",
       "    <tr>\n",
       "      <th>2</th>\n",
       "      <td>12583</td>\n",
       "      <td>7281.38</td>\n",
       "      <td>94.04</td>\n",
       "      <td>2</td>\n",
       "      <td>56</td>\n",
       "      <td>1569</td>\n",
       "      <td>50</td>\n",
       "      <td>15</td>\n",
       "      <td>3</td>\n",
       "      <td>29.479271</td>\n",
       "      <td>20.722222</td>\n",
       "      <td>337.333333</td>\n",
       "      <td>16.466667</td>\n",
       "      <td>7187.34</td>\n",
       "      <td>1</td>\n",
       "    </tr>\n",
       "    <tr>\n",
       "      <th>3</th>\n",
       "      <td>13748</td>\n",
       "      <td>948.25</td>\n",
       "      <td>0.00</td>\n",
       "      <td>95</td>\n",
       "      <td>365</td>\n",
       "      <td>169</td>\n",
       "      <td>0</td>\n",
       "      <td>5</td>\n",
       "      <td>0</td>\n",
       "      <td>33.866071</td>\n",
       "      <td>93.250000</td>\n",
       "      <td>87.800000</td>\n",
       "      <td>5.600000</td>\n",
       "      <td>948.25</td>\n",
       "      <td>2</td>\n",
       "    </tr>\n",
       "    <tr>\n",
       "      <th>4</th>\n",
       "      <td>15100</td>\n",
       "      <td>876.00</td>\n",
       "      <td>240.90</td>\n",
       "      <td>333</td>\n",
       "      <td>330</td>\n",
       "      <td>48</td>\n",
       "      <td>22</td>\n",
       "      <td>3</td>\n",
       "      <td>3</td>\n",
       "      <td>292.000000</td>\n",
       "      <td>62.166667</td>\n",
       "      <td>26.666667</td>\n",
       "      <td>1.000000</td>\n",
       "      <td>635.10</td>\n",
       "      <td>6</td>\n",
       "    </tr>\n",
       "  </tbody>\n",
       "</table>\n",
       "</div>"
      ],
      "text/plain": [
       "   customer_id  purchases  devolutions  recency_p  recency_d  quantity_p  \\\n",
       "0        17850    5391.21       102.58        372        302          35   \n",
       "1        13047    3237.54       158.44         31         31         132   \n",
       "2        12583    7281.38        94.04          2         56        1569   \n",
       "3        13748     948.25         0.00         95        365         169   \n",
       "4        15100     876.00       240.90        333        330          48   \n",
       "\n",
       "   quantity_d  invoices_p  invoices_d  avg_ticket  avg_recency_days  \\\n",
       "0          21          34           1   18.152222        124.333333   \n",
       "1           6          10           8   18.822907         26.642857   \n",
       "2          50          15           3   29.479271         20.722222   \n",
       "3           0           5           0   33.866071         93.250000   \n",
       "4          22           3           3  292.000000         62.166667   \n",
       "\n",
       "   avg_basket_size  avg_variety  gross_revenue  cluster  \n",
       "0        50.970588     8.735294        5288.63        9  \n",
       "1       139.100000    17.200000        3079.10       11  \n",
       "2       337.333333    16.466667        7187.34        1  \n",
       "3        87.800000     5.600000         948.25        2  \n",
       "4        26.666667     1.000000         635.10        6  "
      ]
     },
     "execution_count": 61,
     "metadata": {},
     "output_type": "execute_result"
    }
   ],
   "source": [
    "# select data and testing the process\n",
    "query_test = '''\n",
    "    SELECT * FROM insiders\n",
    "'''\n",
    "\n",
    "df_test = pd.read_sql_query(query_test, conn)\n",
    "df_test.head()"
   ]
  },
  {
   "cell_type": "markdown",
   "metadata": {
    "papermill": {
     "duration": 0.093994,
     "end_time": "2021-09-18T14:08:28.461492",
     "exception": false,
     "start_time": "2021-09-18T14:08:28.367498",
     "status": "completed"
    },
    "tags": []
   },
   "source": [
    "## 11.2. Next steps"
   ]
  },
  {
   "cell_type": "markdown",
   "metadata": {
    "papermill": {
     "duration": 0.087902,
     "end_time": "2021-09-18T14:08:28.645157",
     "exception": false,
     "start_time": "2021-09-18T14:08:28.557255",
     "status": "completed"
    },
    "tags": []
   },
   "source": [
    "The structure to be implemented in the Amazon AWS will be the following:\n",
    "\n",
    "- **RDS (Relational Database System)**: will receive the predictions of the clusterization of the customers for each period of time\n",
    "\n",
    "- **S3**: will be responsible for the storage of the RDS database created with all the predictions\n",
    "\n",
    "- **EC2**: will be the responsible to keep the model's API running in  production, receiving batches of customers invoices data, clustering them and storing the predictions inside the RDS database."
   ]
  }
 ],
 "metadata": {
  "kernelspec": {
   "display_name": "Python 3",
   "language": "python",
   "name": "python3"
  },
  "latex_envs": {
   "LaTeX_envs_menu_present": true,
   "autoclose": true,
   "autocomplete": true,
   "bibliofile": "biblio.bib",
   "cite_by": "apalike",
   "current_citInitial": 1,
   "eqLabelWithNumbers": true,
   "eqNumInitial": 1,
   "hotkeys": {
    "equation": "Ctrl-E",
    "itemize": "Ctrl-I"
   },
   "labels_anchors": false,
   "latex_user_defs": false,
   "report_style_numbering": false,
   "user_envs_cfg": false
  },
  "papermill": {
   "default_parameters": {},
   "duration": 165.979463,
   "end_time": "2021-09-18T14:08:30.031306",
   "environment_variables": {},
   "exception": null,
   "input_path": "notebooks/m11-insiders-clustering.ipynb",
   "output_path": "output.ipynb",
   "parameters": {},
   "start_time": "2021-09-18T14:05:44.051843",
   "version": "2.3.3"
  }
 },
 "nbformat": 4,
 "nbformat_minor": 5
}
