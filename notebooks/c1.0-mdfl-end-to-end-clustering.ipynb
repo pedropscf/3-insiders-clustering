{
 "cells": [
  {
   "cell_type": "code",
   "execution_count": 2,
   "id": "bibliographic-insulin",
   "metadata": {
    "ExecuteTime": {
     "end_time": "2021-03-31T00:38:29.041404Z",
     "start_time": "2021-03-31T00:38:29.037973Z"
    }
   },
   "outputs": [],
   "source": [
    "import pandas as pd"
   ]
  },
  {
   "cell_type": "code",
   "execution_count": 3,
   "id": "worse-better",
   "metadata": {
    "ExecuteTime": {
     "end_time": "2021-03-31T00:38:30.008696Z",
     "start_time": "2021-03-31T00:38:30.006586Z"
    }
   },
   "outputs": [],
   "source": [
    "import numpy as np"
   ]
  }
 ],
 "metadata": {
  "kernelspec": {
   "display_name": "Python 3",
   "language": "python",
   "name": "python3"
  },
  "language_info": {
   "codemirror_mode": {
    "name": "ipython",
    "version": 3
   },
   "file_extension": ".py",
   "mimetype": "text/x-python",
   "name": "python",
   "nbconvert_exporter": "python",
   "pygments_lexer": "ipython3",
   "version": "3.8.0"
  }
 },
 "nbformat": 4,
 "nbformat_minor": 5
}
