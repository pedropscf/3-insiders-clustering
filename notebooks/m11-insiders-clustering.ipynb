{
 "cells": [
  {
   "cell_type": "markdown",
   "metadata": {},
   "source": [
    "# 0. Imports packages, modules and functions"
   ]
  },
  {
   "cell_type": "markdown",
   "metadata": {},
   "source": [
    "## 0.1. Import modules"
   ]
  },
  {
   "cell_type": "code",
   "execution_count": 1,
   "metadata": {
    "ExecuteTime": {
     "end_time": "2021-09-15T22:54:45.507425Z",
     "start_time": "2021-09-15T22:54:18.267736Z"
    }
   },
   "outputs": [],
   "source": [
    "import pandas                   as pd\n",
    "import numpy                    as np\n",
    "import seaborn                  as sns\n",
    "import matplotlib.pyplot        as plt\n",
    "import umap.umap_               as ump\n",
    "\n",
    "\n",
    "from plotly      import express as px\n",
    "\n",
    "from scipy                      import stats\n",
    "from scipy.cluster              import hierarchy    as hc\n",
    "from sqlalchemy                 import create_engine\n",
    "from sklearn                    import cluster\n",
    "from sklearn                    import decomposition\n",
    "from sklearn                    import metrics\n",
    "from sklearn.ensemble           import RandomForestRegressor\n",
    "from sklearn.preprocessing      import RobustScaler, MinMaxScaler, StandardScaler\n",
    "\n",
    "import datetime\n",
    "import inflection\n",
    "import math\n",
    "import random\n",
    "import warnings\n",
    "import re\n",
    "import sqlite3\n",
    "\n",
    "warnings.filterwarnings('ignore')\n",
    "%matplotlib inline"
   ]
  },
  {
   "cell_type": "markdown",
   "metadata": {},
   "source": [
    "## 0.2. Helper functions"
   ]
  },
  {
   "cell_type": "code",
   "execution_count": 2,
   "metadata": {
    "ExecuteTime": {
     "end_time": "2021-09-15T22:54:45.556227Z",
     "start_time": "2021-09-15T22:54:45.511371Z"
    },
    "code_folding": [
     0,
     12,
     17,
     22,
     39,
     63
    ]
   },
   "outputs": [],
   "source": [
    "def cramer_v(x, y):\n",
    "    cm = pd.crosstab(x, y).as_matrix()\n",
    "    n = cm.sum()\n",
    "    r, k = cm.shape\n",
    "    \n",
    "    chi2 = stats.chi2_contingency(cm)[0]\n",
    "    chi2_corrected = chi2 - ((k - 1)*(r - 1))/(n - 1)\n",
    "    k_corrected = k - ((k - 1)**2)/(n - 1)\n",
    "    r_corrected = r - ((r - 1)**2)/(n - 1)\n",
    "    \n",
    "    return np.sqrt((chi2_corrected/n) / (min(k_corrected - 1, r_corrected - 1)))\n",
    "\n",
    "def get_class_count(df, identification, target_var):\n",
    "    \n",
    "    class_count = df.groupby([target_var])[identification].nunique()\n",
    "    return {key: class_count[key] for key in list(class_count.keys())}\n",
    "\n",
    "def get_class_proportion(df, identification, target_var):\n",
    "    \n",
    "    class_counts = get_class_count(df, identification , target_var)\n",
    "    return {val[0]: round(100 * val[1]/df.shape[0], 2) for val in class_counts.items()}\n",
    "\n",
    "def performance(model, x_train, y_train):\n",
    "    # define scoring metrics\n",
    "    scoring = {'accuracy': 'accuracy',\n",
    "               'precision': make_scorer(precision_score),\n",
    "               'recall': make_scorer(recall_score),\n",
    "               'f1_score': make_scorer(f1_score),\n",
    "               'roc_auc_score': make_scorer(roc_auc_score),\n",
    "               'mcc': make_scorer(matthews_corrcoef)}\n",
    "\n",
    "    # calculate scores with cross_validate\n",
    "    scores = cross_validate(model, x_train, y_train, cv=10, scoring=scoring)\n",
    "\n",
    "    # performance data frame\n",
    "    performance = pd.DataFrame.from_dict(scores).drop(['fit_time', 'score_time'], axis=1)\n",
    "    performance = pd.DataFrame(performance.mean()).T\n",
    "    return performance\n",
    "\n",
    "def performance_test(model_name, model, x_test, y_test):\n",
    "    # predcitions\n",
    "    yhat = model.predict(x_test)\n",
    "    \n",
    "    # Performance metrics\n",
    "    precision = precision_score(y_test, yhat)\n",
    "    recall = recall_score(y_test, yhat)\n",
    "    f1 = f1_score(y_test, yhat)\n",
    "    roc_auc = roc_auc_score(y_test, yhat)\n",
    "    mcc = matthews_corrcoef(y_test, yhat)\n",
    "\n",
    "    # Performance dataframe\n",
    "    performance_df = pd.DataFrame({'precision': precision, 'recall': recall, 'f1_score': f1, \n",
    "                               'roc_auc_score': roc_auc, 'mcc': mcc}, index=[model_name])\n",
    "\n",
    "    # confusion matrix\n",
    "    cm = confusion_matrix(y_test, yhat)\n",
    "\n",
    "    # dataframe for heatmap\n",
    "    cm_df = pd.DataFrame(cm, columns=['predicted_not_churn', 'predicted_churn'], \n",
    "                         index=['actual_not_churn', 'actual_churn'])\n",
    "    \n",
    "    return performance_df, cm_df\n",
    "\n",
    "def silhouette_analysis(n_clusters, labels, data):\n",
    "    '''\n",
    "    Functions that analyzes the silhouette of a previous trained clustering model, for n chosen clusters and data.\n",
    "    \n",
    "    param n_clusters\n",
    "    List of integers representing the number of clusters that will be analyzed.\n",
    "    \n",
    "    param labels\n",
    "    Array of labels obtained from the model prediction. Attention that the data used to create the labels, must be coherent with the data used in this function.\n",
    "    \n",
    "    param data\n",
    "    The dataframe used to generate the labels.\n",
    "    '''\n",
    "    from sklearn.metrics import silhouette_samples\n",
    "    \n",
    "    fig, ax = plt.subplots( int(len(n_clusters)/2.0) + 1, 2 )\n",
    "    fig.set_size_inches(25,20)\n",
    "    \n",
    "    for k in n_clusters:\n",
    "        \n",
    "        q,mod = divmod(k, 2)\n",
    "        \n",
    "        ax[q-1, mod].set_xlim([-0.1, 1])\n",
    "        ax[q-1, mod].set_ylim([0, len(data)])\n",
    "        \n",
    "        silhouette_samples_values = silhouette_samples(data, labels)\n",
    "        \n",
    "        y_start = 0\n",
    "        \n",
    "        for i in range(k):\n",
    "            \n",
    "            # selecting the cluster i\n",
    "            i_th_samples = silhouette_samples_values[labels == i]\n",
    "            \n",
    "            # sorting the values\n",
    "            i_th_samples.sort()\n",
    "            \n",
    "            # sizing the cluster i\n",
    "            size_cluster_i = i_th_samples.shape[0]\n",
    "            y_end = y_start + size_cluster_i\n",
    "            \n",
    "            # updating the color\n",
    "            cmap = cm.get_cmap('Spectral')\n",
    "            color = cmap(i / k)\n",
    "            \n",
    "            # ploting the silhouette for cluster i\n",
    "            ax[q-1,mod].fill_betweenx(np.arange(y_start, y_end), 0, i_th_samples)\n",
    "            \n",
    "            # updating y axis\n",
    "            y_start = y_end\n",
    "            \n",
    "        ax[q-1,mod].set_yticks([])\n",
    "        ax[q-1,mod].set_xticks([-0.1, 0, 0.2, 0.4, 0.6, 0.8, 1])\n",
    "        \n",
    "    plt.show()"
   ]
  },
  {
   "cell_type": "markdown",
   "metadata": {},
   "source": [
    "## 0.3. Loading data"
   ]
  },
  {
   "cell_type": "code",
   "execution_count": 3,
   "metadata": {
    "ExecuteTime": {
     "end_time": "2021-09-15T22:54:46.796753Z",
     "start_time": "2021-09-15T22:54:45.560291Z"
    }
   },
   "outputs": [],
   "source": [
    " # load data\n",
    "df_raw = pd.read_csv( '../data/raw/Ecommerce.csv', encoding = \"ISO-8859-1\" )\n",
    "\n",
    "# drop extra column\n",
    "df_raw = df_raw.drop( columns=['Unnamed: 8'], axis=1 )"
   ]
  },
  {
   "cell_type": "markdown",
   "metadata": {},
   "source": [
    "## 0.4. Image controls"
   ]
  },
  {
   "cell_type": "code",
   "execution_count": 4,
   "metadata": {
    "ExecuteTime": {
     "end_time": "2021-09-15T22:54:46.821788Z",
     "start_time": "2021-09-15T22:54:46.799987Z"
    }
   },
   "outputs": [],
   "source": [
    " def jupyter_settings():\n",
    "    %matplotlib inline\n",
    "    %pylab inline\n",
    "    \n",
    "    plt.style.use( 'ggplot')\n",
    "    plt.rcParams['figure.figsize'] = [24, 15]\n",
    "    plt.rcParams['font.size'] = 24\n",
    "    \n",
    "    display( HTML( '<style>.container { width:100% !important; }</style>') )\n",
    "    pd.options.display.max_columns = None\n",
    "    pd.options.display.max_rows = None\n",
    "    pd.set_option( 'display.expand_frame_repr', False )\n",
    "    \n",
    "    sns.set()"
   ]
  },
  {
   "cell_type": "markdown",
   "metadata": {},
   "source": [
    "# 1. Data description"
   ]
  },
  {
   "cell_type": "markdown",
   "metadata": {},
   "source": []
  },
  {
   "cell_type": "code",
   "execution_count": 5,
   "metadata": {
    "ExecuteTime": {
     "end_time": "2021-09-15T22:54:47.935912Z",
     "start_time": "2021-09-15T22:54:47.876788Z"
    }
   },
   "outputs": [],
   "source": [
    "df1 = df_raw.copy()"
   ]
  },
  {
   "cell_type": "markdown",
   "metadata": {},
   "source": [
    "## 1.1. Rename columns"
   ]
  },
  {
   "cell_type": "code",
   "execution_count": 6,
   "metadata": {
    "ExecuteTime": {
     "end_time": "2021-09-15T22:54:48.256035Z",
     "start_time": "2021-09-15T22:54:48.246774Z"
    }
   },
   "outputs": [
    {
     "data": {
      "text/plain": [
       "Index(['InvoiceNo', 'StockCode', 'Description', 'Quantity', 'InvoiceDate',\n",
       "       'UnitPrice', 'CustomerID', 'Country'],\n",
       "      dtype='object')"
      ]
     },
     "execution_count": 6,
     "metadata": {},
     "output_type": "execute_result"
    }
   ],
   "source": [
    "df1.columns"
   ]
  },
  {
   "cell_type": "code",
   "execution_count": 7,
   "metadata": {
    "ExecuteTime": {
     "end_time": "2021-09-15T22:54:48.453833Z",
     "start_time": "2021-09-15T22:54:48.423002Z"
    }
   },
   "outputs": [
    {
     "data": {
      "text/html": [
       "<div>\n",
       "<style scoped>\n",
       "    .dataframe tbody tr th:only-of-type {\n",
       "        vertical-align: middle;\n",
       "    }\n",
       "\n",
       "    .dataframe tbody tr th {\n",
       "        vertical-align: top;\n",
       "    }\n",
       "\n",
       "    .dataframe thead th {\n",
       "        text-align: right;\n",
       "    }\n",
       "</style>\n",
       "<table border=\"1\" class=\"dataframe\">\n",
       "  <thead>\n",
       "    <tr style=\"text-align: right;\">\n",
       "      <th></th>\n",
       "      <th>invoice_no</th>\n",
       "      <th>stock_code</th>\n",
       "      <th>description</th>\n",
       "      <th>quantity</th>\n",
       "      <th>invoice_date</th>\n",
       "      <th>unit_price</th>\n",
       "      <th>customer_id</th>\n",
       "      <th>country</th>\n",
       "    </tr>\n",
       "  </thead>\n",
       "  <tbody>\n",
       "    <tr>\n",
       "      <th>0</th>\n",
       "      <td>536365</td>\n",
       "      <td>85123A</td>\n",
       "      <td>WHITE HANGING HEART T-LIGHT HOLDER</td>\n",
       "      <td>6</td>\n",
       "      <td>29-Nov-16</td>\n",
       "      <td>2.55</td>\n",
       "      <td>17850.0</td>\n",
       "      <td>United Kingdom</td>\n",
       "    </tr>\n",
       "    <tr>\n",
       "      <th>1</th>\n",
       "      <td>536365</td>\n",
       "      <td>71053</td>\n",
       "      <td>WHITE METAL LANTERN</td>\n",
       "      <td>6</td>\n",
       "      <td>29-Nov-16</td>\n",
       "      <td>3.39</td>\n",
       "      <td>17850.0</td>\n",
       "      <td>United Kingdom</td>\n",
       "    </tr>\n",
       "    <tr>\n",
       "      <th>2</th>\n",
       "      <td>536365</td>\n",
       "      <td>84406B</td>\n",
       "      <td>CREAM CUPID HEARTS COAT HANGER</td>\n",
       "      <td>8</td>\n",
       "      <td>29-Nov-16</td>\n",
       "      <td>2.75</td>\n",
       "      <td>17850.0</td>\n",
       "      <td>United Kingdom</td>\n",
       "    </tr>\n",
       "    <tr>\n",
       "      <th>3</th>\n",
       "      <td>536365</td>\n",
       "      <td>84029G</td>\n",
       "      <td>KNITTED UNION FLAG HOT WATER BOTTLE</td>\n",
       "      <td>6</td>\n",
       "      <td>29-Nov-16</td>\n",
       "      <td>3.39</td>\n",
       "      <td>17850.0</td>\n",
       "      <td>United Kingdom</td>\n",
       "    </tr>\n",
       "    <tr>\n",
       "      <th>4</th>\n",
       "      <td>536365</td>\n",
       "      <td>84029E</td>\n",
       "      <td>RED WOOLLY HOTTIE WHITE HEART.</td>\n",
       "      <td>6</td>\n",
       "      <td>29-Nov-16</td>\n",
       "      <td>3.39</td>\n",
       "      <td>17850.0</td>\n",
       "      <td>United Kingdom</td>\n",
       "    </tr>\n",
       "  </tbody>\n",
       "</table>\n",
       "</div>"
      ],
      "text/plain": [
       "  invoice_no stock_code                          description  quantity  \\\n",
       "0     536365     85123A   WHITE HANGING HEART T-LIGHT HOLDER         6   \n",
       "1     536365      71053                  WHITE METAL LANTERN         6   \n",
       "2     536365     84406B       CREAM CUPID HEARTS COAT HANGER         8   \n",
       "3     536365     84029G  KNITTED UNION FLAG HOT WATER BOTTLE         6   \n",
       "4     536365     84029E       RED WOOLLY HOTTIE WHITE HEART.         6   \n",
       "\n",
       "  invoice_date  unit_price  customer_id         country  \n",
       "0    29-Nov-16        2.55      17850.0  United Kingdom  \n",
       "1    29-Nov-16        3.39      17850.0  United Kingdom  \n",
       "2    29-Nov-16        2.75      17850.0  United Kingdom  \n",
       "3    29-Nov-16        3.39      17850.0  United Kingdom  \n",
       "4    29-Nov-16        3.39      17850.0  United Kingdom  "
      ]
     },
     "execution_count": 7,
     "metadata": {},
     "output_type": "execute_result"
    }
   ],
   "source": [
    "cols_new = ['invoice_no', 'stock_code', 'description', 'quantity', 'invoice_date', 'unit_price', 'customer_id', 'country']\n",
    "\n",
    "df1.columns = cols_new\n",
    "df1.head()"
   ]
  },
  {
   "cell_type": "markdown",
   "metadata": {},
   "source": [
    "## 1.2. Data dimensions"
   ]
  },
  {
   "cell_type": "code",
   "execution_count": 8,
   "metadata": {
    "ExecuteTime": {
     "end_time": "2021-09-15T22:54:48.906392Z",
     "start_time": "2021-09-15T22:54:48.897395Z"
    }
   },
   "outputs": [
    {
     "name": "stdout",
     "output_type": "stream",
     "text": [
      "Number of rows: 541909\n",
      "Number of cols: 8\n"
     ]
    }
   ],
   "source": [
    "print( 'Number of rows: {}'.format( df1.shape[0] ) )\n",
    "print( 'Number of cols: {}'.format( df1.shape[1] ) )"
   ]
  },
  {
   "cell_type": "markdown",
   "metadata": {},
   "source": [
    "The dataset consist of more than 500,000 items purchases with different purchases must refer to the same purchase order and customer, while it has only 8 columns."
   ]
  },
  {
   "cell_type": "markdown",
   "metadata": {},
   "source": [
    "## 1.3. Data types"
   ]
  },
  {
   "cell_type": "code",
   "execution_count": 9,
   "metadata": {
    "ExecuteTime": {
     "end_time": "2021-09-15T22:54:49.555622Z",
     "start_time": "2021-09-15T22:54:49.534560Z"
    }
   },
   "outputs": [
    {
     "data": {
      "text/plain": [
       "invoice_no       object\n",
       "stock_code       object\n",
       "description      object\n",
       "quantity          int64\n",
       "invoice_date     object\n",
       "unit_price      float64\n",
       "customer_id     float64\n",
       "country          object\n",
       "dtype: object"
      ]
     },
     "execution_count": 9,
     "metadata": {},
     "output_type": "execute_result"
    }
   ],
   "source": [
    "df1.dtypes"
   ]
  },
  {
   "cell_type": "markdown",
   "metadata": {},
   "source": [
    "The types of the invoice number, customer id and invoice date seem to have the wrong type. Customer ID and invoice number should be represented by the int number type, while the invoice date should be represented by a datetime."
   ]
  },
  {
   "cell_type": "markdown",
   "metadata": {},
   "source": [
    "## 1.4. Check NA"
   ]
  },
  {
   "cell_type": "code",
   "execution_count": 10,
   "metadata": {
    "ExecuteTime": {
     "end_time": "2021-09-15T22:54:50.304996Z",
     "start_time": "2021-09-15T22:54:50.113188Z"
    }
   },
   "outputs": [
    {
     "data": {
      "text/plain": [
       "invoice_no           0\n",
       "stock_code           0\n",
       "description       1454\n",
       "quantity             0\n",
       "invoice_date         0\n",
       "unit_price           0\n",
       "customer_id     135080\n",
       "country              0\n",
       "dtype: int64"
      ]
     },
     "execution_count": 10,
     "metadata": {},
     "output_type": "execute_result"
    }
   ],
   "source": [
    "df1.isna().sum()"
   ]
  },
  {
   "cell_type": "markdown",
   "metadata": {},
   "source": [
    "## 1.5. Replacing NA"
   ]
  },
  {
   "cell_type": "code",
   "execution_count": 11,
   "metadata": {
    "ExecuteTime": {
     "end_time": "2021-09-15T22:54:51.240725Z",
     "start_time": "2021-09-15T22:54:50.530583Z"
    }
   },
   "outputs": [],
   "source": [
    "df_missing = df1.loc[df1['customer_id'].isna(),:]\n",
    "df_not_missing = df1.loc[~df1['customer_id'].isna(),:]\n",
    "\n",
    "# create reference\n",
    "df_backup = pd.DataFrame(df_missing['invoice_no'].drop_duplicates())\n",
    "df_backup['customer_id'] = np.arange(19000, 19000+len(df_backup), 1)\n",
    "\n",
    "# merge original with reference dataframe\n",
    "df1 = pd.merge(df1, df_backup, on='invoice_no', how='left')\n",
    "\n",
    "# Coalescing columns customer_id_x and customer_id_y\n",
    "df1['customer_id'] = df1['customer_id_x'].combine_first(df1['customer_id_y'])\n",
    "\n",
    "# Droping extra customer_id columns\n",
    "df1 = df1.drop(columns=['customer_id_x', 'customer_id_y'], axis=1)"
   ]
  },
  {
   "cell_type": "code",
   "execution_count": 12,
   "metadata": {
    "ExecuteTime": {
     "end_time": "2021-09-15T22:54:51.433635Z",
     "start_time": "2021-09-15T22:54:51.242927Z"
    }
   },
   "outputs": [
    {
     "name": "stdout",
     "output_type": "stream",
     "text": [
      "Removed data: 0.27%\n"
     ]
    }
   ],
   "source": [
    "df1 = df1.dropna(subset=['description', 'customer_id'])\n",
    "\n",
    "print('Removed data: {:.2f}%'.format(100*(1 - (df1.shape[0]/df_raw.shape[0]))))"
   ]
  },
  {
   "cell_type": "code",
   "execution_count": 13,
   "metadata": {
    "ExecuteTime": {
     "end_time": "2021-09-15T22:54:51.622640Z",
     "start_time": "2021-09-15T22:54:51.437596Z"
    }
   },
   "outputs": [
    {
     "data": {
      "text/plain": [
       "invoice_no      0\n",
       "stock_code      0\n",
       "description     0\n",
       "quantity        0\n",
       "invoice_date    0\n",
       "unit_price      0\n",
       "country         0\n",
       "customer_id     0\n",
       "dtype: int64"
      ]
     },
     "execution_count": 13,
     "metadata": {},
     "output_type": "execute_result"
    }
   ],
   "source": [
    "df1.isna().sum()"
   ]
  },
  {
   "cell_type": "markdown",
   "metadata": {},
   "source": [
    "The data has many problems with NA purchase orders, that may be represented by some business problem or relevant information, such as reversed logistics to product change or devolution. It can be represented by both the negative quantities and the letters whitin the invoice number. All those data will be removed from the dataset."
   ]
  },
  {
   "cell_type": "markdown",
   "metadata": {},
   "source": [
    "## 1.6. Change dtypes"
   ]
  },
  {
   "cell_type": "code",
   "execution_count": 14,
   "metadata": {
    "ExecuteTime": {
     "end_time": "2021-09-15T22:54:51.818919Z",
     "start_time": "2021-09-15T22:54:51.626358Z"
    }
   },
   "outputs": [
    {
     "data": {
      "text/html": [
       "<div>\n",
       "<style scoped>\n",
       "    .dataframe tbody tr th:only-of-type {\n",
       "        vertical-align: middle;\n",
       "    }\n",
       "\n",
       "    .dataframe tbody tr th {\n",
       "        vertical-align: top;\n",
       "    }\n",
       "\n",
       "    .dataframe thead th {\n",
       "        text-align: right;\n",
       "    }\n",
       "</style>\n",
       "<table border=\"1\" class=\"dataframe\">\n",
       "  <thead>\n",
       "    <tr style=\"text-align: right;\">\n",
       "      <th></th>\n",
       "      <th>invoice_no</th>\n",
       "      <th>stock_code</th>\n",
       "      <th>description</th>\n",
       "      <th>quantity</th>\n",
       "      <th>invoice_date</th>\n",
       "      <th>unit_price</th>\n",
       "      <th>country</th>\n",
       "      <th>customer_id</th>\n",
       "    </tr>\n",
       "  </thead>\n",
       "  <tbody>\n",
       "    <tr>\n",
       "      <th>0</th>\n",
       "      <td>536365</td>\n",
       "      <td>85123A</td>\n",
       "      <td>WHITE HANGING HEART T-LIGHT HOLDER</td>\n",
       "      <td>6</td>\n",
       "      <td>2016-11-29</td>\n",
       "      <td>2.55</td>\n",
       "      <td>United Kingdom</td>\n",
       "      <td>17850</td>\n",
       "    </tr>\n",
       "    <tr>\n",
       "      <th>1</th>\n",
       "      <td>536365</td>\n",
       "      <td>71053</td>\n",
       "      <td>WHITE METAL LANTERN</td>\n",
       "      <td>6</td>\n",
       "      <td>2016-11-29</td>\n",
       "      <td>3.39</td>\n",
       "      <td>United Kingdom</td>\n",
       "      <td>17850</td>\n",
       "    </tr>\n",
       "    <tr>\n",
       "      <th>2</th>\n",
       "      <td>536365</td>\n",
       "      <td>84406B</td>\n",
       "      <td>CREAM CUPID HEARTS COAT HANGER</td>\n",
       "      <td>8</td>\n",
       "      <td>2016-11-29</td>\n",
       "      <td>2.75</td>\n",
       "      <td>United Kingdom</td>\n",
       "      <td>17850</td>\n",
       "    </tr>\n",
       "    <tr>\n",
       "      <th>3</th>\n",
       "      <td>536365</td>\n",
       "      <td>84029G</td>\n",
       "      <td>KNITTED UNION FLAG HOT WATER BOTTLE</td>\n",
       "      <td>6</td>\n",
       "      <td>2016-11-29</td>\n",
       "      <td>3.39</td>\n",
       "      <td>United Kingdom</td>\n",
       "      <td>17850</td>\n",
       "    </tr>\n",
       "    <tr>\n",
       "      <th>4</th>\n",
       "      <td>536365</td>\n",
       "      <td>84029E</td>\n",
       "      <td>RED WOOLLY HOTTIE WHITE HEART.</td>\n",
       "      <td>6</td>\n",
       "      <td>2016-11-29</td>\n",
       "      <td>3.39</td>\n",
       "      <td>United Kingdom</td>\n",
       "      <td>17850</td>\n",
       "    </tr>\n",
       "  </tbody>\n",
       "</table>\n",
       "</div>"
      ],
      "text/plain": [
       "  invoice_no stock_code                          description  quantity  \\\n",
       "0     536365     85123A   WHITE HANGING HEART T-LIGHT HOLDER         6   \n",
       "1     536365      71053                  WHITE METAL LANTERN         6   \n",
       "2     536365     84406B       CREAM CUPID HEARTS COAT HANGER         8   \n",
       "3     536365     84029G  KNITTED UNION FLAG HOT WATER BOTTLE         6   \n",
       "4     536365     84029E       RED WOOLLY HOTTIE WHITE HEART.         6   \n",
       "\n",
       "  invoice_date  unit_price         country  customer_id  \n",
       "0   2016-11-29        2.55  United Kingdom        17850  \n",
       "1   2016-11-29        3.39  United Kingdom        17850  \n",
       "2   2016-11-29        2.75  United Kingdom        17850  \n",
       "3   2016-11-29        3.39  United Kingdom        17850  \n",
       "4   2016-11-29        3.39  United Kingdom        17850  "
      ]
     },
     "execution_count": 14,
     "metadata": {},
     "output_type": "execute_result"
    }
   ],
   "source": [
    " # invoice date\n",
    "df1['invoice_date'] = pd.to_datetime( df1['invoice_date'], format='%d-%b-%y' )\n",
    "\n",
    "# customer id\n",
    "df1['customer_id'] = df1['customer_id'].astype( int )\n",
    "df1.head()"
   ]
  },
  {
   "cell_type": "code",
   "execution_count": 15,
   "metadata": {
    "ExecuteTime": {
     "end_time": "2021-09-15T22:54:51.834969Z",
     "start_time": "2021-09-15T22:54:51.823712Z"
    }
   },
   "outputs": [
    {
     "data": {
      "text/plain": [
       "invoice_no              object\n",
       "stock_code              object\n",
       "description             object\n",
       "quantity                 int64\n",
       "invoice_date    datetime64[ns]\n",
       "unit_price             float64\n",
       "country                 object\n",
       "customer_id              int64\n",
       "dtype: object"
      ]
     },
     "execution_count": 15,
     "metadata": {},
     "output_type": "execute_result"
    }
   ],
   "source": [
    "df1.dtypes"
   ]
  },
  {
   "cell_type": "markdown",
   "metadata": {},
   "source": [
    "Even after the removal of NA values, it was not possible to remove all invoice numbers with a letter in it. So, it was not possible to change the invoice number type. Maybe it could be necessary to create features that properly represents the business problem behind the reason of a letter to appear in it. "
   ]
  },
  {
   "cell_type": "markdown",
   "metadata": {},
   "source": [
    "# 2. Variable filtering"
   ]
  },
  {
   "cell_type": "code",
   "execution_count": 69,
   "metadata": {
    "ExecuteTime": {
     "end_time": "2021-09-15T23:03:00.614451Z",
     "start_time": "2021-09-15T23:03:00.567780Z"
    }
   },
   "outputs": [],
   "source": [
    "df2 = df1.copy()"
   ]
  },
  {
   "cell_type": "markdown",
   "metadata": {},
   "source": [
    "All values of clients with a quantity equal or lesser than 0 will be removed from the dataset, since this type of customer will not be elected as a insider anyway. Afterwards, the quantity column will be removed, since its information is contained inside the ticket per product."
   ]
  },
  {
   "cell_type": "code",
   "execution_count": 70,
   "metadata": {
    "ExecuteTime": {
     "end_time": "2021-09-15T23:03:01.438451Z",
     "start_time": "2021-09-15T23:03:01.001823Z"
    }
   },
   "outputs": [],
   "source": [
    "# prices higher than 1 cent\n",
    "df2 = df2.loc[(df1['unit_price'] > 0.01), :]\n",
    "\n",
    "# customer from a known region\n",
    "df2 = df2[~df2['country'].isin(['European Community', 'Unspecified' ] ) ]\n",
    "\n",
    "# stock code different from not explained codes\n",
    "df2 = df2[~df2['stock_code'].isin( ['POST' 'D' 'DOT' 'M' 'S' 'AMAZONFEE' 'm' 'DCGSSBOY' 'DCGSSGIRL' 'PADS' 'B' 'CRUK'] ) ]\n",
    "\n",
    "# returned products\n",
    "df2_returns = df2.loc[df2['quantity'] < 0, :]\n",
    "df2_returns['gross_returns'] = df2_returns['quantity'] * df2_returns['unit_price'] * (- 1)\n",
    "\n",
    "# positive quantities\n",
    "df2_purchase = df2.loc[(df2['quantity'] > 0), :]\n",
    "df2_purchase.loc[:,'gross_purchases'] = df2_purchase.loc[:,'quantity'] * df2_purchase.loc[:,'unit_price']\n"
   ]
  },
  {
   "cell_type": "markdown",
   "metadata": {},
   "source": [
    "# 3. Feature engineering"
   ]
  },
  {
   "cell_type": "code",
   "execution_count": 86,
   "metadata": {
    "ExecuteTime": {
     "end_time": "2021-09-15T23:03:44.059051Z",
     "start_time": "2021-09-15T23:03:44.015708Z"
    }
   },
   "outputs": [],
   "source": [
    "df3 = df2.copy()"
   ]
  },
  {
   "cell_type": "markdown",
   "metadata": {},
   "source": [
    "## 3.1. Feature creation"
   ]
  },
  {
   "cell_type": "markdown",
   "metadata": {},
   "source": [
    "The features will be created in order to adjust the clusterization problem with a RFM model solution. For this, the main features within the model will be the monetary, frequency and recency. The monetary consists of the total amount of revenue from a given client, the frequency measures how many different purchases the client has made, while the recency measures the difference between the actual date (highest date within the dataset) and the last purchase date."
   ]
  },
  {
   "cell_type": "code",
   "execution_count": 87,
   "metadata": {
    "ExecuteTime": {
     "end_time": "2021-09-15T23:03:44.693605Z",
     "start_time": "2021-09-15T23:03:44.637855Z"
    }
   },
   "outputs": [],
   "source": [
    " # data reference\n",
    "df_ref = df3.drop( ['invoice_no', 'stock_code', 'description', 'quantity',\n",
    "                    'invoice_date', 'unit_price', 'country'], axis=1 ).drop_duplicates().reset_index(drop=True)"
   ]
  },
  {
   "cell_type": "markdown",
   "metadata": {},
   "source": [
    "### 3.1.1. Gross purchases and devolutions"
   ]
  },
  {
   "cell_type": "code",
   "execution_count": 88,
   "metadata": {
    "ExecuteTime": {
     "end_time": "2021-09-15T23:03:45.130279Z",
     "start_time": "2021-09-15T23:03:44.978921Z"
    }
   },
   "outputs": [
    {
     "data": {
      "text/html": [
       "<div>\n",
       "<style scoped>\n",
       "    .dataframe tbody tr th:only-of-type {\n",
       "        vertical-align: middle;\n",
       "    }\n",
       "\n",
       "    .dataframe tbody tr th {\n",
       "        vertical-align: top;\n",
       "    }\n",
       "\n",
       "    .dataframe thead th {\n",
       "        text-align: right;\n",
       "    }\n",
       "</style>\n",
       "<table border=\"1\" class=\"dataframe\">\n",
       "  <thead>\n",
       "    <tr style=\"text-align: right;\">\n",
       "      <th></th>\n",
       "      <th>customer_id</th>\n",
       "      <th>purchases</th>\n",
       "      <th>devolutions</th>\n",
       "    </tr>\n",
       "  </thead>\n",
       "  <tbody>\n",
       "    <tr>\n",
       "      <th>0</th>\n",
       "      <td>17850</td>\n",
       "      <td>5391.21</td>\n",
       "      <td>-102.58</td>\n",
       "    </tr>\n",
       "    <tr>\n",
       "      <th>1</th>\n",
       "      <td>13047</td>\n",
       "      <td>3237.54</td>\n",
       "      <td>-158.44</td>\n",
       "    </tr>\n",
       "    <tr>\n",
       "      <th>2</th>\n",
       "      <td>12583</td>\n",
       "      <td>7281.38</td>\n",
       "      <td>-94.04</td>\n",
       "    </tr>\n",
       "    <tr>\n",
       "      <th>3</th>\n",
       "      <td>13748</td>\n",
       "      <td>948.25</td>\n",
       "      <td>0.00</td>\n",
       "    </tr>\n",
       "    <tr>\n",
       "      <th>4</th>\n",
       "      <td>15100</td>\n",
       "      <td>876.00</td>\n",
       "      <td>-240.90</td>\n",
       "    </tr>\n",
       "    <tr>\n",
       "      <th>5</th>\n",
       "      <td>15291</td>\n",
       "      <td>4668.30</td>\n",
       "      <td>-71.79</td>\n",
       "    </tr>\n",
       "    <tr>\n",
       "      <th>6</th>\n",
       "      <td>14688</td>\n",
       "      <td>5630.87</td>\n",
       "      <td>-523.49</td>\n",
       "    </tr>\n",
       "    <tr>\n",
       "      <th>7</th>\n",
       "      <td>17809</td>\n",
       "      <td>5411.91</td>\n",
       "      <td>-784.29</td>\n",
       "    </tr>\n",
       "    <tr>\n",
       "      <th>8</th>\n",
       "      <td>15311</td>\n",
       "      <td>60767.90</td>\n",
       "      <td>-1348.56</td>\n",
       "    </tr>\n",
       "    <tr>\n",
       "      <th>9</th>\n",
       "      <td>14527</td>\n",
       "      <td>8508.82</td>\n",
       "      <td>-797.44</td>\n",
       "    </tr>\n",
       "  </tbody>\n",
       "</table>\n",
       "</div>"
      ],
      "text/plain": [
       "   customer_id  purchases  devolutions\n",
       "0        17850    5391.21      -102.58\n",
       "1        13047    3237.54      -158.44\n",
       "2        12583    7281.38       -94.04\n",
       "3        13748     948.25         0.00\n",
       "4        15100     876.00      -240.90\n",
       "5        15291    4668.30       -71.79\n",
       "6        14688    5630.87      -523.49\n",
       "7        17809    5411.91      -784.29\n",
       "8        15311   60767.90     -1348.56\n",
       "9        14527    8508.82      -797.44"
      ]
     },
     "execution_count": 88,
     "metadata": {},
     "output_type": "execute_result"
    }
   ],
   "source": [
    "# Purchases\n",
    "df3['purchases'] = df2_purchase['quantity'] * df2_purchase['unit_price']\n",
    "df3['devolutions'] = df2_returns['quantity'] * df2_returns['unit_price']\n",
    "\n",
    "# Monetary\n",
    "df_monetary = df3[['customer_id', 'purchases', 'devolutions']].groupby( 'customer_id' ).sum().reset_index()\n",
    "df_ref = pd.merge( df_ref, df_monetary, on='customer_id', how='left' )\n",
    "df_ref.head(10)"
   ]
  },
  {
   "cell_type": "markdown",
   "metadata": {},
   "source": [
    "### 3.1.2. Recency for purchases and devolutions - newest occurence"
   ]
  },
  {
   "cell_type": "code",
   "execution_count": 89,
   "metadata": {
    "ExecuteTime": {
     "end_time": "2021-09-15T23:03:45.529585Z",
     "start_time": "2021-09-15T23:03:45.367094Z"
    }
   },
   "outputs": [
    {
     "data": {
      "text/html": [
       "<div>\n",
       "<style scoped>\n",
       "    .dataframe tbody tr th:only-of-type {\n",
       "        vertical-align: middle;\n",
       "    }\n",
       "\n",
       "    .dataframe tbody tr th {\n",
       "        vertical-align: top;\n",
       "    }\n",
       "\n",
       "    .dataframe thead th {\n",
       "        text-align: right;\n",
       "    }\n",
       "</style>\n",
       "<table border=\"1\" class=\"dataframe\">\n",
       "  <thead>\n",
       "    <tr style=\"text-align: right;\">\n",
       "      <th></th>\n",
       "      <th>customer_id</th>\n",
       "      <th>purchases</th>\n",
       "      <th>devolutions</th>\n",
       "      <th>recency_p</th>\n",
       "      <th>recency_d</th>\n",
       "    </tr>\n",
       "  </thead>\n",
       "  <tbody>\n",
       "    <tr>\n",
       "      <th>0</th>\n",
       "      <td>17850</td>\n",
       "      <td>5391.21</td>\n",
       "      <td>-102.58</td>\n",
       "      <td>372.0</td>\n",
       "      <td>302.0</td>\n",
       "    </tr>\n",
       "    <tr>\n",
       "      <th>1</th>\n",
       "      <td>13047</td>\n",
       "      <td>3237.54</td>\n",
       "      <td>-158.44</td>\n",
       "      <td>31.0</td>\n",
       "      <td>31.0</td>\n",
       "    </tr>\n",
       "    <tr>\n",
       "      <th>2</th>\n",
       "      <td>12583</td>\n",
       "      <td>7281.38</td>\n",
       "      <td>-94.04</td>\n",
       "      <td>2.0</td>\n",
       "      <td>56.0</td>\n",
       "    </tr>\n",
       "    <tr>\n",
       "      <th>3</th>\n",
       "      <td>13748</td>\n",
       "      <td>948.25</td>\n",
       "      <td>0.00</td>\n",
       "      <td>95.0</td>\n",
       "      <td>NaN</td>\n",
       "    </tr>\n",
       "    <tr>\n",
       "      <th>4</th>\n",
       "      <td>15100</td>\n",
       "      <td>876.00</td>\n",
       "      <td>-240.90</td>\n",
       "      <td>333.0</td>\n",
       "      <td>330.0</td>\n",
       "    </tr>\n",
       "    <tr>\n",
       "      <th>5</th>\n",
       "      <td>15291</td>\n",
       "      <td>4668.30</td>\n",
       "      <td>-71.79</td>\n",
       "      <td>25.0</td>\n",
       "      <td>172.0</td>\n",
       "    </tr>\n",
       "    <tr>\n",
       "      <th>6</th>\n",
       "      <td>14688</td>\n",
       "      <td>5630.87</td>\n",
       "      <td>-523.49</td>\n",
       "      <td>7.0</td>\n",
       "      <td>7.0</td>\n",
       "    </tr>\n",
       "    <tr>\n",
       "      <th>7</th>\n",
       "      <td>17809</td>\n",
       "      <td>5411.91</td>\n",
       "      <td>-784.29</td>\n",
       "      <td>16.0</td>\n",
       "      <td>16.0</td>\n",
       "    </tr>\n",
       "    <tr>\n",
       "      <th>8</th>\n",
       "      <td>15311</td>\n",
       "      <td>60767.90</td>\n",
       "      <td>-1348.56</td>\n",
       "      <td>0.0</td>\n",
       "      <td>0.0</td>\n",
       "    </tr>\n",
       "    <tr>\n",
       "      <th>9</th>\n",
       "      <td>14527</td>\n",
       "      <td>8508.82</td>\n",
       "      <td>-797.44</td>\n",
       "      <td>2.0</td>\n",
       "      <td>8.0</td>\n",
       "    </tr>\n",
       "  </tbody>\n",
       "</table>\n",
       "</div>"
      ],
      "text/plain": [
       "   customer_id  purchases  devolutions  recency_p  recency_d\n",
       "0        17850    5391.21      -102.58      372.0      302.0\n",
       "1        13047    3237.54      -158.44       31.0       31.0\n",
       "2        12583    7281.38       -94.04        2.0       56.0\n",
       "3        13748     948.25         0.00       95.0        NaN\n",
       "4        15100     876.00      -240.90      333.0      330.0\n",
       "5        15291    4668.30       -71.79       25.0      172.0\n",
       "6        14688    5630.87      -523.49        7.0        7.0\n",
       "7        17809    5411.91      -784.29       16.0       16.0\n",
       "8        15311   60767.90     -1348.56        0.0        0.0\n",
       "9        14527    8508.82      -797.44        2.0        8.0"
      ]
     },
     "execution_count": 89,
     "metadata": {},
     "output_type": "execute_result"
    }
   ],
   "source": [
    "# Recency - Last day purchase\n",
    "df_recency_p = df2_purchase[['customer_id', 'invoice_date']].groupby( 'customer_id' ).max().reset_index()\n",
    "df_recency_p['recency_p'] = ( df3['invoice_date'].max() - df_recency_p['invoice_date'] ).dt.days\n",
    "df_recency_p = df_recency_p[['customer_id', 'recency_p']].copy()\n",
    "df_ref = pd.merge( df_ref, df_recency_p, on='customer_id', how='left' )\n",
    "\n",
    "# Recency - Last day devolution\n",
    "df_recency_d = df2_returns[['customer_id', 'invoice_date']].groupby( 'customer_id' ).max().reset_index()\n",
    "df_recency_d['recency_d'] = ( df3['invoice_date'].max() - df_recency_d['invoice_date'] ).dt.days\n",
    "df_recency_d = df_recency_d[['customer_id', 'recency_d']].copy()\n",
    "df_ref = pd.merge( df_ref, df_recency_d, on='customer_id', how='left' )\n",
    "df_ref.head(10)"
   ]
  },
  {
   "cell_type": "markdown",
   "metadata": {},
   "source": [
    "### 3.1.3. Quantity of product pruchased or returned"
   ]
  },
  {
   "cell_type": "code",
   "execution_count": 90,
   "metadata": {
    "ExecuteTime": {
     "end_time": "2021-09-15T23:03:45.976673Z",
     "start_time": "2021-09-15T23:03:45.791731Z"
    }
   },
   "outputs": [
    {
     "data": {
      "text/html": [
       "<div>\n",
       "<style scoped>\n",
       "    .dataframe tbody tr th:only-of-type {\n",
       "        vertical-align: middle;\n",
       "    }\n",
       "\n",
       "    .dataframe tbody tr th {\n",
       "        vertical-align: top;\n",
       "    }\n",
       "\n",
       "    .dataframe thead th {\n",
       "        text-align: right;\n",
       "    }\n",
       "</style>\n",
       "<table border=\"1\" class=\"dataframe\">\n",
       "  <thead>\n",
       "    <tr style=\"text-align: right;\">\n",
       "      <th></th>\n",
       "      <th>customer_id</th>\n",
       "      <th>purchases</th>\n",
       "      <th>devolutions</th>\n",
       "      <th>recency_p</th>\n",
       "      <th>recency_d</th>\n",
       "      <th>quantity_p</th>\n",
       "      <th>quantity_d</th>\n",
       "    </tr>\n",
       "  </thead>\n",
       "  <tbody>\n",
       "    <tr>\n",
       "      <th>0</th>\n",
       "      <td>17850</td>\n",
       "      <td>5391.21</td>\n",
       "      <td>-102.58</td>\n",
       "      <td>372.0</td>\n",
       "      <td>302.0</td>\n",
       "      <td>35.0</td>\n",
       "      <td>-21.0</td>\n",
       "    </tr>\n",
       "    <tr>\n",
       "      <th>1</th>\n",
       "      <td>13047</td>\n",
       "      <td>3237.54</td>\n",
       "      <td>-158.44</td>\n",
       "      <td>31.0</td>\n",
       "      <td>31.0</td>\n",
       "      <td>132.0</td>\n",
       "      <td>-6.0</td>\n",
       "    </tr>\n",
       "    <tr>\n",
       "      <th>2</th>\n",
       "      <td>12583</td>\n",
       "      <td>7281.38</td>\n",
       "      <td>-94.04</td>\n",
       "      <td>2.0</td>\n",
       "      <td>56.0</td>\n",
       "      <td>1569.0</td>\n",
       "      <td>-50.0</td>\n",
       "    </tr>\n",
       "    <tr>\n",
       "      <th>3</th>\n",
       "      <td>13748</td>\n",
       "      <td>948.25</td>\n",
       "      <td>0.00</td>\n",
       "      <td>95.0</td>\n",
       "      <td>NaN</td>\n",
       "      <td>169.0</td>\n",
       "      <td>NaN</td>\n",
       "    </tr>\n",
       "    <tr>\n",
       "      <th>4</th>\n",
       "      <td>15100</td>\n",
       "      <td>876.00</td>\n",
       "      <td>-240.90</td>\n",
       "      <td>333.0</td>\n",
       "      <td>330.0</td>\n",
       "      <td>48.0</td>\n",
       "      <td>-22.0</td>\n",
       "    </tr>\n",
       "    <tr>\n",
       "      <th>5</th>\n",
       "      <td>15291</td>\n",
       "      <td>4668.30</td>\n",
       "      <td>-71.79</td>\n",
       "      <td>25.0</td>\n",
       "      <td>172.0</td>\n",
       "      <td>508.0</td>\n",
       "      <td>-27.0</td>\n",
       "    </tr>\n",
       "    <tr>\n",
       "      <th>6</th>\n",
       "      <td>14688</td>\n",
       "      <td>5630.87</td>\n",
       "      <td>-523.49</td>\n",
       "      <td>7.0</td>\n",
       "      <td>7.0</td>\n",
       "      <td>579.0</td>\n",
       "      <td>-281.0</td>\n",
       "    </tr>\n",
       "    <tr>\n",
       "      <th>7</th>\n",
       "      <td>17809</td>\n",
       "      <td>5411.91</td>\n",
       "      <td>-784.29</td>\n",
       "      <td>16.0</td>\n",
       "      <td>16.0</td>\n",
       "      <td>961.0</td>\n",
       "      <td>-41.0</td>\n",
       "    </tr>\n",
       "    <tr>\n",
       "      <th>8</th>\n",
       "      <td>15311</td>\n",
       "      <td>60767.90</td>\n",
       "      <td>-1348.56</td>\n",
       "      <td>0.0</td>\n",
       "      <td>0.0</td>\n",
       "      <td>2167.0</td>\n",
       "      <td>-231.0</td>\n",
       "    </tr>\n",
       "    <tr>\n",
       "      <th>9</th>\n",
       "      <td>14527</td>\n",
       "      <td>8508.82</td>\n",
       "      <td>-797.44</td>\n",
       "      <td>2.0</td>\n",
       "      <td>8.0</td>\n",
       "      <td>198.0</td>\n",
       "      <td>-3.0</td>\n",
       "    </tr>\n",
       "  </tbody>\n",
       "</table>\n",
       "</div>"
      ],
      "text/plain": [
       "   customer_id  purchases  devolutions  recency_p  recency_d  quantity_p  \\\n",
       "0        17850    5391.21      -102.58      372.0      302.0        35.0   \n",
       "1        13047    3237.54      -158.44       31.0       31.0       132.0   \n",
       "2        12583    7281.38       -94.04        2.0       56.0      1569.0   \n",
       "3        13748     948.25         0.00       95.0        NaN       169.0   \n",
       "4        15100     876.00      -240.90      333.0      330.0        48.0   \n",
       "5        15291    4668.30       -71.79       25.0      172.0       508.0   \n",
       "6        14688    5630.87      -523.49        7.0        7.0       579.0   \n",
       "7        17809    5411.91      -784.29       16.0       16.0       961.0   \n",
       "8        15311   60767.90     -1348.56        0.0        0.0      2167.0   \n",
       "9        14527    8508.82      -797.44        2.0        8.0       198.0   \n",
       "\n",
       "   quantity_d  \n",
       "0       -21.0  \n",
       "1        -6.0  \n",
       "2       -50.0  \n",
       "3         NaN  \n",
       "4       -22.0  \n",
       "5       -27.0  \n",
       "6      -281.0  \n",
       "7       -41.0  \n",
       "8      -231.0  \n",
       "9        -3.0  "
      ]
     },
     "execution_count": 90,
     "metadata": {},
     "output_type": "execute_result"
    }
   ],
   "source": [
    "# Frequency - both purchases and returns\n",
    "df_freq_p = df2_purchase[['customer_id', 'quantity']].drop_duplicates().groupby( 'customer_id' ).sum().reset_index().rename(columns={'quantity':'quantity_p'})\n",
    "df_ref = pd.merge( df_ref, df_freq_p, on='customer_id', how='left' )\n",
    "\n",
    "df_freq_d = df2_returns[['customer_id', 'quantity']].drop_duplicates().groupby( 'customer_id' ).sum().reset_index().rename(columns={'quantity':'quantity_d'})\n",
    "df_ref = pd.merge( df_ref, df_freq_d, on='customer_id', how='left' )\n",
    "df_ref.head(10)"
   ]
  },
  {
   "cell_type": "markdown",
   "metadata": {},
   "source": [
    "### 3.1.4. Quantity of invoices for purchases and returns"
   ]
  },
  {
   "cell_type": "code",
   "execution_count": 91,
   "metadata": {
    "ExecuteTime": {
     "end_time": "2021-09-15T23:03:46.426737Z",
     "start_time": "2021-09-15T23:03:46.187754Z"
    }
   },
   "outputs": [
    {
     "data": {
      "text/html": [
       "<div>\n",
       "<style scoped>\n",
       "    .dataframe tbody tr th:only-of-type {\n",
       "        vertical-align: middle;\n",
       "    }\n",
       "\n",
       "    .dataframe tbody tr th {\n",
       "        vertical-align: top;\n",
       "    }\n",
       "\n",
       "    .dataframe thead th {\n",
       "        text-align: right;\n",
       "    }\n",
       "</style>\n",
       "<table border=\"1\" class=\"dataframe\">\n",
       "  <thead>\n",
       "    <tr style=\"text-align: right;\">\n",
       "      <th></th>\n",
       "      <th>customer_id</th>\n",
       "      <th>purchases</th>\n",
       "      <th>devolutions</th>\n",
       "      <th>recency_p</th>\n",
       "      <th>recency_d</th>\n",
       "      <th>quantity_p</th>\n",
       "      <th>quantity_d</th>\n",
       "      <th>invoices_p</th>\n",
       "      <th>invoices_d</th>\n",
       "    </tr>\n",
       "  </thead>\n",
       "  <tbody>\n",
       "    <tr>\n",
       "      <th>0</th>\n",
       "      <td>17850</td>\n",
       "      <td>5391.21</td>\n",
       "      <td>-102.58</td>\n",
       "      <td>372.0</td>\n",
       "      <td>302.0</td>\n",
       "      <td>35.0</td>\n",
       "      <td>-21.0</td>\n",
       "      <td>34.0</td>\n",
       "      <td>1.0</td>\n",
       "    </tr>\n",
       "    <tr>\n",
       "      <th>1</th>\n",
       "      <td>13047</td>\n",
       "      <td>3237.54</td>\n",
       "      <td>-158.44</td>\n",
       "      <td>31.0</td>\n",
       "      <td>31.0</td>\n",
       "      <td>132.0</td>\n",
       "      <td>-6.0</td>\n",
       "      <td>10.0</td>\n",
       "      <td>8.0</td>\n",
       "    </tr>\n",
       "    <tr>\n",
       "      <th>2</th>\n",
       "      <td>12583</td>\n",
       "      <td>7281.38</td>\n",
       "      <td>-94.04</td>\n",
       "      <td>2.0</td>\n",
       "      <td>56.0</td>\n",
       "      <td>1569.0</td>\n",
       "      <td>-50.0</td>\n",
       "      <td>15.0</td>\n",
       "      <td>3.0</td>\n",
       "    </tr>\n",
       "    <tr>\n",
       "      <th>3</th>\n",
       "      <td>13748</td>\n",
       "      <td>948.25</td>\n",
       "      <td>0.00</td>\n",
       "      <td>95.0</td>\n",
       "      <td>NaN</td>\n",
       "      <td>169.0</td>\n",
       "      <td>NaN</td>\n",
       "      <td>5.0</td>\n",
       "      <td>NaN</td>\n",
       "    </tr>\n",
       "    <tr>\n",
       "      <th>4</th>\n",
       "      <td>15100</td>\n",
       "      <td>876.00</td>\n",
       "      <td>-240.90</td>\n",
       "      <td>333.0</td>\n",
       "      <td>330.0</td>\n",
       "      <td>48.0</td>\n",
       "      <td>-22.0</td>\n",
       "      <td>3.0</td>\n",
       "      <td>3.0</td>\n",
       "    </tr>\n",
       "    <tr>\n",
       "      <th>5</th>\n",
       "      <td>15291</td>\n",
       "      <td>4668.30</td>\n",
       "      <td>-71.79</td>\n",
       "      <td>25.0</td>\n",
       "      <td>172.0</td>\n",
       "      <td>508.0</td>\n",
       "      <td>-27.0</td>\n",
       "      <td>15.0</td>\n",
       "      <td>5.0</td>\n",
       "    </tr>\n",
       "    <tr>\n",
       "      <th>6</th>\n",
       "      <td>14688</td>\n",
       "      <td>5630.87</td>\n",
       "      <td>-523.49</td>\n",
       "      <td>7.0</td>\n",
       "      <td>7.0</td>\n",
       "      <td>579.0</td>\n",
       "      <td>-281.0</td>\n",
       "      <td>21.0</td>\n",
       "      <td>6.0</td>\n",
       "    </tr>\n",
       "    <tr>\n",
       "      <th>7</th>\n",
       "      <td>17809</td>\n",
       "      <td>5411.91</td>\n",
       "      <td>-784.29</td>\n",
       "      <td>16.0</td>\n",
       "      <td>16.0</td>\n",
       "      <td>961.0</td>\n",
       "      <td>-41.0</td>\n",
       "      <td>12.0</td>\n",
       "      <td>3.0</td>\n",
       "    </tr>\n",
       "    <tr>\n",
       "      <th>8</th>\n",
       "      <td>15311</td>\n",
       "      <td>60767.90</td>\n",
       "      <td>-1348.56</td>\n",
       "      <td>0.0</td>\n",
       "      <td>0.0</td>\n",
       "      <td>2167.0</td>\n",
       "      <td>-231.0</td>\n",
       "      <td>91.0</td>\n",
       "      <td>27.0</td>\n",
       "    </tr>\n",
       "    <tr>\n",
       "      <th>9</th>\n",
       "      <td>14527</td>\n",
       "      <td>8508.82</td>\n",
       "      <td>-797.44</td>\n",
       "      <td>2.0</td>\n",
       "      <td>8.0</td>\n",
       "      <td>198.0</td>\n",
       "      <td>-3.0</td>\n",
       "      <td>55.0</td>\n",
       "      <td>31.0</td>\n",
       "    </tr>\n",
       "  </tbody>\n",
       "</table>\n",
       "</div>"
      ],
      "text/plain": [
       "   customer_id  purchases  devolutions  recency_p  recency_d  quantity_p  \\\n",
       "0        17850    5391.21      -102.58      372.0      302.0        35.0   \n",
       "1        13047    3237.54      -158.44       31.0       31.0       132.0   \n",
       "2        12583    7281.38       -94.04        2.0       56.0      1569.0   \n",
       "3        13748     948.25         0.00       95.0        NaN       169.0   \n",
       "4        15100     876.00      -240.90      333.0      330.0        48.0   \n",
       "5        15291    4668.30       -71.79       25.0      172.0       508.0   \n",
       "6        14688    5630.87      -523.49        7.0        7.0       579.0   \n",
       "7        17809    5411.91      -784.29       16.0       16.0       961.0   \n",
       "8        15311   60767.90     -1348.56        0.0        0.0      2167.0   \n",
       "9        14527    8508.82      -797.44        2.0        8.0       198.0   \n",
       "\n",
       "   quantity_d  invoices_p  invoices_d  \n",
       "0       -21.0        34.0         1.0  \n",
       "1        -6.0        10.0         8.0  \n",
       "2       -50.0        15.0         3.0  \n",
       "3         NaN         5.0         NaN  \n",
       "4       -22.0         3.0         3.0  \n",
       "5       -27.0        15.0         5.0  \n",
       "6      -281.0        21.0         6.0  \n",
       "7       -41.0        12.0         3.0  \n",
       "8      -231.0        91.0        27.0  \n",
       "9        -3.0        55.0        31.0  "
      ]
     },
     "execution_count": 91,
     "metadata": {},
     "output_type": "execute_result"
    }
   ],
   "source": [
    "# Frequency - both purchases and returns\n",
    "df_invoices_p = df2_purchase[['customer_id', 'invoice_no']].drop_duplicates().groupby( 'customer_id' ).count().reset_index().rename(columns={'invoice_no':'invoices_p'})\n",
    "df_ref = pd.merge( df_ref, df_invoices_p, on='customer_id', how='left' )\n",
    "\n",
    "df_invoices_d = df2_returns[['customer_id', 'invoice_no']].drop_duplicates().groupby( 'customer_id' ).count().reset_index().rename(columns={'invoice_no':'invoices_d'})\n",
    "df_ref = pd.merge( df_ref, df_invoices_d, on='customer_id', how='left' )\n",
    "df_ref.head(10)"
   ]
  },
  {
   "cell_type": "markdown",
   "metadata": {},
   "source": [
    "### 3.1.5. Average ticket value"
   ]
  },
  {
   "cell_type": "code",
   "execution_count": 92,
   "metadata": {
    "ExecuteTime": {
     "end_time": "2021-09-15T23:03:46.633789Z",
     "start_time": "2021-09-15T23:03:46.539543Z"
    }
   },
   "outputs": [
    {
     "data": {
      "text/html": [
       "<div>\n",
       "<style scoped>\n",
       "    .dataframe tbody tr th:only-of-type {\n",
       "        vertical-align: middle;\n",
       "    }\n",
       "\n",
       "    .dataframe tbody tr th {\n",
       "        vertical-align: top;\n",
       "    }\n",
       "\n",
       "    .dataframe thead th {\n",
       "        text-align: right;\n",
       "    }\n",
       "</style>\n",
       "<table border=\"1\" class=\"dataframe\">\n",
       "  <thead>\n",
       "    <tr style=\"text-align: right;\">\n",
       "      <th></th>\n",
       "      <th>customer_id</th>\n",
       "      <th>purchases</th>\n",
       "      <th>devolutions</th>\n",
       "      <th>recency_p</th>\n",
       "      <th>recency_d</th>\n",
       "      <th>quantity_p</th>\n",
       "      <th>quantity_d</th>\n",
       "      <th>invoices_p</th>\n",
       "      <th>invoices_d</th>\n",
       "      <th>avg_ticket</th>\n",
       "    </tr>\n",
       "  </thead>\n",
       "  <tbody>\n",
       "    <tr>\n",
       "      <th>0</th>\n",
       "      <td>17850</td>\n",
       "      <td>5391.21</td>\n",
       "      <td>-102.58</td>\n",
       "      <td>372.0</td>\n",
       "      <td>302.0</td>\n",
       "      <td>35.0</td>\n",
       "      <td>-21.0</td>\n",
       "      <td>34.0</td>\n",
       "      <td>1.0</td>\n",
       "      <td>18.152222</td>\n",
       "    </tr>\n",
       "    <tr>\n",
       "      <th>1</th>\n",
       "      <td>13047</td>\n",
       "      <td>3237.54</td>\n",
       "      <td>-158.44</td>\n",
       "      <td>31.0</td>\n",
       "      <td>31.0</td>\n",
       "      <td>132.0</td>\n",
       "      <td>-6.0</td>\n",
       "      <td>10.0</td>\n",
       "      <td>8.0</td>\n",
       "      <td>18.822907</td>\n",
       "    </tr>\n",
       "    <tr>\n",
       "      <th>2</th>\n",
       "      <td>12583</td>\n",
       "      <td>7281.38</td>\n",
       "      <td>-94.04</td>\n",
       "      <td>2.0</td>\n",
       "      <td>56.0</td>\n",
       "      <td>1569.0</td>\n",
       "      <td>-50.0</td>\n",
       "      <td>15.0</td>\n",
       "      <td>3.0</td>\n",
       "      <td>29.479271</td>\n",
       "    </tr>\n",
       "    <tr>\n",
       "      <th>3</th>\n",
       "      <td>13748</td>\n",
       "      <td>948.25</td>\n",
       "      <td>0.00</td>\n",
       "      <td>95.0</td>\n",
       "      <td>NaN</td>\n",
       "      <td>169.0</td>\n",
       "      <td>NaN</td>\n",
       "      <td>5.0</td>\n",
       "      <td>NaN</td>\n",
       "      <td>33.866071</td>\n",
       "    </tr>\n",
       "    <tr>\n",
       "      <th>4</th>\n",
       "      <td>15100</td>\n",
       "      <td>876.00</td>\n",
       "      <td>-240.90</td>\n",
       "      <td>333.0</td>\n",
       "      <td>330.0</td>\n",
       "      <td>48.0</td>\n",
       "      <td>-22.0</td>\n",
       "      <td>3.0</td>\n",
       "      <td>3.0</td>\n",
       "      <td>292.000000</td>\n",
       "    </tr>\n",
       "    <tr>\n",
       "      <th>5</th>\n",
       "      <td>15291</td>\n",
       "      <td>4668.30</td>\n",
       "      <td>-71.79</td>\n",
       "      <td>25.0</td>\n",
       "      <td>172.0</td>\n",
       "      <td>508.0</td>\n",
       "      <td>-27.0</td>\n",
       "      <td>15.0</td>\n",
       "      <td>5.0</td>\n",
       "      <td>45.323301</td>\n",
       "    </tr>\n",
       "    <tr>\n",
       "      <th>6</th>\n",
       "      <td>14688</td>\n",
       "      <td>5630.87</td>\n",
       "      <td>-523.49</td>\n",
       "      <td>7.0</td>\n",
       "      <td>7.0</td>\n",
       "      <td>579.0</td>\n",
       "      <td>-281.0</td>\n",
       "      <td>21.0</td>\n",
       "      <td>6.0</td>\n",
       "      <td>17.219786</td>\n",
       "    </tr>\n",
       "    <tr>\n",
       "      <th>7</th>\n",
       "      <td>17809</td>\n",
       "      <td>5411.91</td>\n",
       "      <td>-784.29</td>\n",
       "      <td>16.0</td>\n",
       "      <td>16.0</td>\n",
       "      <td>961.0</td>\n",
       "      <td>-41.0</td>\n",
       "      <td>12.0</td>\n",
       "      <td>3.0</td>\n",
       "      <td>88.719836</td>\n",
       "    </tr>\n",
       "    <tr>\n",
       "      <th>8</th>\n",
       "      <td>15311</td>\n",
       "      <td>60767.90</td>\n",
       "      <td>-1348.56</td>\n",
       "      <td>0.0</td>\n",
       "      <td>0.0</td>\n",
       "      <td>2167.0</td>\n",
       "      <td>-231.0</td>\n",
       "      <td>91.0</td>\n",
       "      <td>27.0</td>\n",
       "      <td>25.543464</td>\n",
       "    </tr>\n",
       "    <tr>\n",
       "      <th>9</th>\n",
       "      <td>14527</td>\n",
       "      <td>8508.82</td>\n",
       "      <td>-797.44</td>\n",
       "      <td>2.0</td>\n",
       "      <td>8.0</td>\n",
       "      <td>198.0</td>\n",
       "      <td>-3.0</td>\n",
       "      <td>55.0</td>\n",
       "      <td>31.0</td>\n",
       "      <td>8.753930</td>\n",
       "    </tr>\n",
       "  </tbody>\n",
       "</table>\n",
       "</div>"
      ],
      "text/plain": [
       "   customer_id  purchases  devolutions  recency_p  recency_d  quantity_p  \\\n",
       "0        17850    5391.21      -102.58      372.0      302.0        35.0   \n",
       "1        13047    3237.54      -158.44       31.0       31.0       132.0   \n",
       "2        12583    7281.38       -94.04        2.0       56.0      1569.0   \n",
       "3        13748     948.25         0.00       95.0        NaN       169.0   \n",
       "4        15100     876.00      -240.90      333.0      330.0        48.0   \n",
       "5        15291    4668.30       -71.79       25.0      172.0       508.0   \n",
       "6        14688    5630.87      -523.49        7.0        7.0       579.0   \n",
       "7        17809    5411.91      -784.29       16.0       16.0       961.0   \n",
       "8        15311   60767.90     -1348.56        0.0        0.0      2167.0   \n",
       "9        14527    8508.82      -797.44        2.0        8.0       198.0   \n",
       "\n",
       "   quantity_d  invoices_p  invoices_d  avg_ticket  \n",
       "0       -21.0        34.0         1.0   18.152222  \n",
       "1        -6.0        10.0         8.0   18.822907  \n",
       "2       -50.0        15.0         3.0   29.479271  \n",
       "3         NaN         5.0         NaN   33.866071  \n",
       "4       -22.0         3.0         3.0  292.000000  \n",
       "5       -27.0        15.0         5.0   45.323301  \n",
       "6      -281.0        21.0         6.0   17.219786  \n",
       "7       -41.0        12.0         3.0   88.719836  \n",
       "8      -231.0        91.0        27.0   25.543464  \n",
       "9        -3.0        55.0        31.0    8.753930  "
      ]
     },
     "execution_count": 92,
     "metadata": {},
     "output_type": "execute_result"
    }
   ],
   "source": [
    "# average ticket - for purchases only\n",
    "df_avg_ticket = df2_purchase.loc[:,['customer_id', 'gross_purchases']].groupby('customer_id').mean().reset_index().rename(columns={'gross_purchases':'avg_ticket'})\n",
    "df_ref = pd.merge( df_ref, df_avg_ticket, on='customer_id', how='left' )\n",
    "df_ref.head(10)"
   ]
  },
  {
   "cell_type": "markdown",
   "metadata": {},
   "source": [
    "### 3.1.6. Average recency days"
   ]
  },
  {
   "cell_type": "code",
   "execution_count": 93,
   "metadata": {
    "ExecuteTime": {
     "end_time": "2021-09-15T23:03:48.549725Z",
     "start_time": "2021-09-15T23:03:46.803784Z"
    }
   },
   "outputs": [
    {
     "name": "stdout",
     "output_type": "stream",
     "text": [
      "        customer_id invoice_date  next_customer_id  next_next_customer_id  \\\n",
      "61619         12346   2017-01-16           12347.0                12347.0   \n",
      "14938         12347   2016-12-05           12347.0                12347.0   \n",
      "72246         12347   2017-01-24           12347.0                12347.0   \n",
      "148285        12347   2017-04-05           12347.0                12347.0   \n",
      "220572        12347   2017-06-07           12347.0                12347.0   \n",
      "286621        12347   2017-07-31           12347.0                12347.0   \n",
      "428957        12347   2017-10-29           12347.0                12348.0   \n",
      "535004        12347   2017-12-05           12348.0                12348.0   \n",
      "34083         12348   2016-12-14           12348.0                12348.0   \n",
      "70051         12348   2017-01-23           12348.0                12348.0   \n",
      "\n",
      "       next_invoice_date  avg_recency_days  \n",
      "61619         2016-12-05               325  \n",
      "14938         2017-01-24                50  \n",
      "72246         2017-04-05                71  \n",
      "148285        2017-06-07                63  \n",
      "220572        2017-07-31                54  \n",
      "286621        2017-10-29                90  \n",
      "428957        2017-12-05                37  \n",
      "535004        2016-12-14                 2  \n",
      "34083         2017-01-23                40  \n",
      "70051         2017-04-03                70  \n",
      "   customer_id  purchases  devolutions  recency_p  recency_d  quantity_p  \\\n",
      "0        17850    5391.21      -102.58      372.0      302.0        35.0   \n",
      "1        13047    3237.54      -158.44       31.0       31.0       132.0   \n",
      "2        12583    7281.38       -94.04        2.0       56.0      1569.0   \n",
      "3        13748     948.25         0.00       95.0        NaN       169.0   \n",
      "4        15100     876.00      -240.90      333.0      330.0        48.0   \n",
      "\n",
      "   quantity_d  invoices_p  invoices_d  avg_ticket  avg_recency_days  \n",
      "0       -21.0        34.0         1.0   18.152222        124.333333  \n",
      "1        -6.0        10.0         8.0   18.822907         26.642857  \n",
      "2       -50.0        15.0         3.0   29.479271         20.722222  \n",
      "3         NaN         5.0         NaN   33.866071         93.250000  \n",
      "4       -22.0         3.0         3.0  292.000000         62.166667  \n"
     ]
    }
   ],
   "source": [
    "df_aux = df3[['customer_id', 'invoice_date']].drop_duplicates().sort_values(['customer_id','invoice_date'], ascending=['True','False'])\n",
    "df_aux['next_customer_id'] = df_aux['customer_id'].shift(-1) # next customer\n",
    "df_aux['next_next_customer_id'] = df_aux['next_customer_id'].shift(-1) # next customer\n",
    "df_aux['next_invoice_date'] = df_aux['invoice_date'].shift(-1) # next invoice date\n",
    "\n",
    "#today =  datetime.datetime.fromtimestamp(df3['invoice_date'].max().to_datetime())\n",
    "#today_date = datetime.datetime.strptime( today, '%Y-%m-%d')\n",
    "today_date = df3['invoice_date'].max()\n",
    "\n",
    "df_aux['avg_recency_days'] = df_aux.apply(lambda x: (x['next_invoice_date'] - x['invoice_date']).days if (x['customer_id'] == x['next_customer_id']) \n",
    "                                                                                                    else ( (x['next_invoice_date'] - x['invoice_date']) if (x['customer_id'] == x['next_next_customer_id']) \n",
    "                                                                                                                                                        else (today_date - x['invoice_date']).days), axis=1)\n",
    "df_avg_recency_days = df_aux[['customer_id','avg_recency_days']].groupby('customer_id').mean().reset_index()\n",
    "\n",
    "# Merging\n",
    "df_ref = pd.merge(df_ref, df_avg_recency_days, on='customer_id', how='left')\n",
    "\n",
    "print(df_aux.head(10))\n",
    "print(df_ref.head())"
   ]
  },
  {
   "cell_type": "markdown",
   "metadata": {},
   "source": [
    "### 3.1.7. Basket size and unique products"
   ]
  },
  {
   "cell_type": "code",
   "execution_count": 94,
   "metadata": {
    "ExecuteTime": {
     "end_time": "2021-09-15T23:03:48.952750Z",
     "start_time": "2021-09-15T23:03:48.553292Z"
    }
   },
   "outputs": [],
   "source": [
    "df_aux = ( df2_purchase.loc[:,['customer_id','invoice_no','quantity']].groupby('customer_id')\n",
    "                                                                       .agg(n_purchase=('invoice_no', 'nunique'),\n",
    "                                                                            n_products=('quantity', 'sum'))\n",
    "                                                                       .reset_index() )\n",
    "\n",
    "df_aux['avg_basket_size'] = df_aux['n_products'] / df_aux['n_purchase']\n",
    "\n",
    "# Merge\n",
    "df_ref = pd.merge(df_ref, df_aux, how='left', on='customer_id')\n",
    "\n",
    "df_aux = ( df2_purchase.loc[:,['customer_id','invoice_no','stock_code']].groupby('customer_id')\n",
    "                                                                       .agg(n_purchase=('invoice_no', 'nunique'),\n",
    "                                                                            n_products=('stock_code', 'count'))\n",
    "                                                                       .reset_index() )\n",
    "\n",
    "df_aux['avg_variety'] = df_aux['n_products'] / df_aux['n_purchase']\n",
    "\n",
    "# Merge\n",
    "df_ref = pd.merge(df_ref, df_aux, how='left', on='customer_id')"
   ]
  },
  {
   "cell_type": "markdown",
   "metadata": {},
   "source": [
    "### 3.1.8. Frequency - purchases per day"
   ]
  },
  {
   "cell_type": "code",
   "execution_count": 95,
   "metadata": {
    "ExecuteTime": {
     "end_time": "2021-09-15T23:03:49.823174Z",
     "start_time": "2021-09-15T23:03:48.956454Z"
    }
   },
   "outputs": [
    {
     "data": {
      "text/html": [
       "<div>\n",
       "<style scoped>\n",
       "    .dataframe tbody tr th:only-of-type {\n",
       "        vertical-align: middle;\n",
       "    }\n",
       "\n",
       "    .dataframe tbody tr th {\n",
       "        vertical-align: top;\n",
       "    }\n",
       "\n",
       "    .dataframe thead th {\n",
       "        text-align: right;\n",
       "    }\n",
       "</style>\n",
       "<table border=\"1\" class=\"dataframe\">\n",
       "  <thead>\n",
       "    <tr style=\"text-align: right;\">\n",
       "      <th></th>\n",
       "      <th>customer_id</th>\n",
       "      <th>purchases</th>\n",
       "      <th>devolutions</th>\n",
       "      <th>recency_p</th>\n",
       "      <th>recency_d</th>\n",
       "      <th>quantity_p</th>\n",
       "      <th>quantity_d</th>\n",
       "      <th>invoices_p</th>\n",
       "      <th>invoices_d</th>\n",
       "      <th>avg_ticket</th>\n",
       "      <th>avg_recency_days</th>\n",
       "      <th>n_purchase_x</th>\n",
       "      <th>n_products_x</th>\n",
       "      <th>avg_basket_size</th>\n",
       "      <th>n_purchase_y</th>\n",
       "      <th>n_products_y</th>\n",
       "      <th>avg_variety</th>\n",
       "      <th>purchases_pday</th>\n",
       "    </tr>\n",
       "  </thead>\n",
       "  <tbody>\n",
       "    <tr>\n",
       "      <th>3855</th>\n",
       "      <td>21001</td>\n",
       "      <td>381.76</td>\n",
       "      <td>0.00</td>\n",
       "      <td>171.0</td>\n",
       "      <td>NaN</td>\n",
       "      <td>25.0</td>\n",
       "      <td>NaN</td>\n",
       "      <td>1.0</td>\n",
       "      <td>NaN</td>\n",
       "      <td>11.930000</td>\n",
       "      <td>171.000000</td>\n",
       "      <td>1.0</td>\n",
       "      <td>64.0</td>\n",
       "      <td>64.000000</td>\n",
       "      <td>1.0</td>\n",
       "      <td>32.0</td>\n",
       "      <td>32.000000</td>\n",
       "      <td>1.000000</td>\n",
       "    </tr>\n",
       "    <tr>\n",
       "      <th>3988</th>\n",
       "      <td>21117</td>\n",
       "      <td>59.80</td>\n",
       "      <td>0.00</td>\n",
       "      <td>158.0</td>\n",
       "      <td>NaN</td>\n",
       "      <td>4.0</td>\n",
       "      <td>NaN</td>\n",
       "      <td>1.0</td>\n",
       "      <td>NaN</td>\n",
       "      <td>59.800000</td>\n",
       "      <td>158.000000</td>\n",
       "      <td>1.0</td>\n",
       "      <td>4.0</td>\n",
       "      <td>4.000000</td>\n",
       "      <td>1.0</td>\n",
       "      <td>1.0</td>\n",
       "      <td>1.000000</td>\n",
       "      <td>1.000000</td>\n",
       "    </tr>\n",
       "    <tr>\n",
       "      <th>2976</th>\n",
       "      <td>13952</td>\n",
       "      <td>3251.07</td>\n",
       "      <td>-4.98</td>\n",
       "      <td>217.0</td>\n",
       "      <td>211.0</td>\n",
       "      <td>215.0</td>\n",
       "      <td>-6.0</td>\n",
       "      <td>2.0</td>\n",
       "      <td>1.0</td>\n",
       "      <td>23.904926</td>\n",
       "      <td>79.333333</td>\n",
       "      <td>2.0</td>\n",
       "      <td>1430.0</td>\n",
       "      <td>715.000000</td>\n",
       "      <td>2.0</td>\n",
       "      <td>136.0</td>\n",
       "      <td>68.000000</td>\n",
       "      <td>0.090909</td>\n",
       "    </tr>\n",
       "    <tr>\n",
       "      <th>3468</th>\n",
       "      <td>13972</td>\n",
       "      <td>190.25</td>\n",
       "      <td>0.00</td>\n",
       "      <td>70.0</td>\n",
       "      <td>NaN</td>\n",
       "      <td>69.0</td>\n",
       "      <td>NaN</td>\n",
       "      <td>2.0</td>\n",
       "      <td>NaN</td>\n",
       "      <td>12.683333</td>\n",
       "      <td>100.500000</td>\n",
       "      <td>2.0</td>\n",
       "      <td>187.0</td>\n",
       "      <td>93.500000</td>\n",
       "      <td>2.0</td>\n",
       "      <td>15.0</td>\n",
       "      <td>7.500000</td>\n",
       "      <td>0.015152</td>\n",
       "    </tr>\n",
       "    <tr>\n",
       "      <th>1905</th>\n",
       "      <td>14477</td>\n",
       "      <td>1309.60</td>\n",
       "      <td>-1.79</td>\n",
       "      <td>19.0</td>\n",
       "      <td>51.0</td>\n",
       "      <td>160.0</td>\n",
       "      <td>-1.0</td>\n",
       "      <td>4.0</td>\n",
       "      <td>1.0</td>\n",
       "      <td>130.960000</td>\n",
       "      <td>59.400000</td>\n",
       "      <td>4.0</td>\n",
       "      <td>720.0</td>\n",
       "      <td>180.000000</td>\n",
       "      <td>4.0</td>\n",
       "      <td>10.0</td>\n",
       "      <td>2.500000</td>\n",
       "      <td>0.014337</td>\n",
       "    </tr>\n",
       "    <tr>\n",
       "      <th>513</th>\n",
       "      <td>12709</td>\n",
       "      <td>9736.52</td>\n",
       "      <td>-442.42</td>\n",
       "      <td>15.0</td>\n",
       "      <td>3.0</td>\n",
       "      <td>450.0</td>\n",
       "      <td>-51.0</td>\n",
       "      <td>15.0</td>\n",
       "      <td>11.0</td>\n",
       "      <td>46.810192</td>\n",
       "      <td>14.076923</td>\n",
       "      <td>15.0</td>\n",
       "      <td>3936.0</td>\n",
       "      <td>262.400000</td>\n",
       "      <td>15.0</td>\n",
       "      <td>208.0</td>\n",
       "      <td>13.866667</td>\n",
       "      <td>0.042614</td>\n",
       "    </tr>\n",
       "    <tr>\n",
       "      <th>3577</th>\n",
       "      <td>20787</td>\n",
       "      <td>1496.98</td>\n",
       "      <td>0.00</td>\n",
       "      <td>191.0</td>\n",
       "      <td>NaN</td>\n",
       "      <td>51.0</td>\n",
       "      <td>NaN</td>\n",
       "      <td>1.0</td>\n",
       "      <td>NaN</td>\n",
       "      <td>8.505568</td>\n",
       "      <td>191.000000</td>\n",
       "      <td>1.0</td>\n",
       "      <td>302.0</td>\n",
       "      <td>302.000000</td>\n",
       "      <td>1.0</td>\n",
       "      <td>176.0</td>\n",
       "      <td>176.000000</td>\n",
       "      <td>1.000000</td>\n",
       "    </tr>\n",
       "    <tr>\n",
       "      <th>4497</th>\n",
       "      <td>14196</td>\n",
       "      <td>335.52</td>\n",
       "      <td>0.00</td>\n",
       "      <td>106.0</td>\n",
       "      <td>NaN</td>\n",
       "      <td>142.0</td>\n",
       "      <td>NaN</td>\n",
       "      <td>1.0</td>\n",
       "      <td>NaN</td>\n",
       "      <td>55.920000</td>\n",
       "      <td>106.000000</td>\n",
       "      <td>1.0</td>\n",
       "      <td>142.0</td>\n",
       "      <td>142.000000</td>\n",
       "      <td>1.0</td>\n",
       "      <td>6.0</td>\n",
       "      <td>6.000000</td>\n",
       "      <td>1.000000</td>\n",
       "    </tr>\n",
       "    <tr>\n",
       "      <th>2906</th>\n",
       "      <td>13549</td>\n",
       "      <td>918.20</td>\n",
       "      <td>-2.08</td>\n",
       "      <td>25.0</td>\n",
       "      <td>199.0</td>\n",
       "      <td>118.0</td>\n",
       "      <td>-1.0</td>\n",
       "      <td>7.0</td>\n",
       "      <td>1.0</td>\n",
       "      <td>18.003922</td>\n",
       "      <td>30.250000</td>\n",
       "      <td>7.0</td>\n",
       "      <td>458.0</td>\n",
       "      <td>65.428571</td>\n",
       "      <td>7.0</td>\n",
       "      <td>51.0</td>\n",
       "      <td>7.285714</td>\n",
       "      <td>0.032110</td>\n",
       "    </tr>\n",
       "    <tr>\n",
       "      <th>1647</th>\n",
       "      <td>16403</td>\n",
       "      <td>177.50</td>\n",
       "      <td>-16.45</td>\n",
       "      <td>312.0</td>\n",
       "      <td>302.0</td>\n",
       "      <td>38.0</td>\n",
       "      <td>-10.0</td>\n",
       "      <td>1.0</td>\n",
       "      <td>1.0</td>\n",
       "      <td>17.750000</td>\n",
       "      <td>156.000000</td>\n",
       "      <td>1.0</td>\n",
       "      <td>114.0</td>\n",
       "      <td>114.000000</td>\n",
       "      <td>1.0</td>\n",
       "      <td>10.0</td>\n",
       "      <td>10.000000</td>\n",
       "      <td>1.000000</td>\n",
       "    </tr>\n",
       "    <tr>\n",
       "      <th>2186</th>\n",
       "      <td>15067</td>\n",
       "      <td>1744.76</td>\n",
       "      <td>0.00</td>\n",
       "      <td>78.0</td>\n",
       "      <td>NaN</td>\n",
       "      <td>249.0</td>\n",
       "      <td>NaN</td>\n",
       "      <td>3.0</td>\n",
       "      <td>NaN</td>\n",
       "      <td>21.277561</td>\n",
       "      <td>141.000000</td>\n",
       "      <td>3.0</td>\n",
       "      <td>954.0</td>\n",
       "      <td>318.000000</td>\n",
       "      <td>3.0</td>\n",
       "      <td>82.0</td>\n",
       "      <td>27.333333</td>\n",
       "      <td>0.014634</td>\n",
       "    </tr>\n",
       "    <tr>\n",
       "      <th>1275</th>\n",
       "      <td>16034</td>\n",
       "      <td>437.70</td>\n",
       "      <td>0.00</td>\n",
       "      <td>196.0</td>\n",
       "      <td>NaN</td>\n",
       "      <td>106.0</td>\n",
       "      <td>NaN</td>\n",
       "      <td>3.0</td>\n",
       "      <td>NaN</td>\n",
       "      <td>19.895455</td>\n",
       "      <td>110.666667</td>\n",
       "      <td>3.0</td>\n",
       "      <td>242.0</td>\n",
       "      <td>80.666667</td>\n",
       "      <td>3.0</td>\n",
       "      <td>22.0</td>\n",
       "      <td>7.333333</td>\n",
       "      <td>0.021898</td>\n",
       "    </tr>\n",
       "    <tr>\n",
       "      <th>3218</th>\n",
       "      <td>12394</td>\n",
       "      <td>1272.48</td>\n",
       "      <td>0.00</td>\n",
       "      <td>63.0</td>\n",
       "      <td>NaN</td>\n",
       "      <td>429.0</td>\n",
       "      <td>NaN</td>\n",
       "      <td>2.0</td>\n",
       "      <td>NaN</td>\n",
       "      <td>47.128889</td>\n",
       "      <td>108.500000</td>\n",
       "      <td>2.0</td>\n",
       "      <td>819.0</td>\n",
       "      <td>409.500000</td>\n",
       "      <td>2.0</td>\n",
       "      <td>27.0</td>\n",
       "      <td>13.500000</td>\n",
       "      <td>0.012903</td>\n",
       "    </tr>\n",
       "    <tr>\n",
       "      <th>2170</th>\n",
       "      <td>15257</td>\n",
       "      <td>317.15</td>\n",
       "      <td>-85.00</td>\n",
       "      <td>283.0</td>\n",
       "      <td>281.0</td>\n",
       "      <td>42.0</td>\n",
       "      <td>-1.0</td>\n",
       "      <td>1.0</td>\n",
       "      <td>1.0</td>\n",
       "      <td>45.307143</td>\n",
       "      <td>141.500000</td>\n",
       "      <td>1.0</td>\n",
       "      <td>46.0</td>\n",
       "      <td>46.000000</td>\n",
       "      <td>1.0</td>\n",
       "      <td>7.0</td>\n",
       "      <td>7.000000</td>\n",
       "      <td>1.000000</td>\n",
       "    </tr>\n",
       "    <tr>\n",
       "      <th>4168</th>\n",
       "      <td>18101</td>\n",
       "      <td>223.65</td>\n",
       "      <td>0.00</td>\n",
       "      <td>11.0</td>\n",
       "      <td>NaN</td>\n",
       "      <td>21.0</td>\n",
       "      <td>NaN</td>\n",
       "      <td>2.0</td>\n",
       "      <td>NaN</td>\n",
       "      <td>5.454878</td>\n",
       "      <td>71.500000</td>\n",
       "      <td>2.0</td>\n",
       "      <td>88.0</td>\n",
       "      <td>44.000000</td>\n",
       "      <td>2.0</td>\n",
       "      <td>41.0</td>\n",
       "      <td>20.500000</td>\n",
       "      <td>0.015038</td>\n",
       "    </tr>\n",
       "    <tr>\n",
       "      <th>3815</th>\n",
       "      <td>20971</td>\n",
       "      <td>1674.72</td>\n",
       "      <td>0.00</td>\n",
       "      <td>172.0</td>\n",
       "      <td>NaN</td>\n",
       "      <td>133.0</td>\n",
       "      <td>NaN</td>\n",
       "      <td>1.0</td>\n",
       "      <td>NaN</td>\n",
       "      <td>8.768168</td>\n",
       "      <td>172.000000</td>\n",
       "      <td>1.0</td>\n",
       "      <td>372.0</td>\n",
       "      <td>372.000000</td>\n",
       "      <td>1.0</td>\n",
       "      <td>191.0</td>\n",
       "      <td>191.000000</td>\n",
       "      <td>1.000000</td>\n",
       "    </tr>\n",
       "    <tr>\n",
       "      <th>4693</th>\n",
       "      <td>18001</td>\n",
       "      <td>417.23</td>\n",
       "      <td>0.00</td>\n",
       "      <td>12.0</td>\n",
       "      <td>NaN</td>\n",
       "      <td>141.0</td>\n",
       "      <td>NaN</td>\n",
       "      <td>2.0</td>\n",
       "      <td>NaN</td>\n",
       "      <td>7.193621</td>\n",
       "      <td>43.000000</td>\n",
       "      <td>2.0</td>\n",
       "      <td>363.0</td>\n",
       "      <td>181.500000</td>\n",
       "      <td>2.0</td>\n",
       "      <td>58.0</td>\n",
       "      <td>29.000000</td>\n",
       "      <td>0.026667</td>\n",
       "    </tr>\n",
       "    <tr>\n",
       "      <th>1523</th>\n",
       "      <td>19464</td>\n",
       "      <td>604.37</td>\n",
       "      <td>0.00</td>\n",
       "      <td>318.0</td>\n",
       "      <td>NaN</td>\n",
       "      <td>15.0</td>\n",
       "      <td>NaN</td>\n",
       "      <td>1.0</td>\n",
       "      <td>NaN</td>\n",
       "      <td>10.420172</td>\n",
       "      <td>318.000000</td>\n",
       "      <td>1.0</td>\n",
       "      <td>93.0</td>\n",
       "      <td>93.000000</td>\n",
       "      <td>1.0</td>\n",
       "      <td>58.0</td>\n",
       "      <td>58.000000</td>\n",
       "      <td>1.000000</td>\n",
       "    </tr>\n",
       "    <tr>\n",
       "      <th>1516</th>\n",
       "      <td>19463</td>\n",
       "      <td>17.10</td>\n",
       "      <td>0.00</td>\n",
       "      <td>319.0</td>\n",
       "      <td>NaN</td>\n",
       "      <td>3.0</td>\n",
       "      <td>NaN</td>\n",
       "      <td>1.0</td>\n",
       "      <td>NaN</td>\n",
       "      <td>5.700000</td>\n",
       "      <td>319.000000</td>\n",
       "      <td>1.0</td>\n",
       "      <td>4.0</td>\n",
       "      <td>4.000000</td>\n",
       "      <td>1.0</td>\n",
       "      <td>3.0</td>\n",
       "      <td>3.000000</td>\n",
       "      <td>1.000000</td>\n",
       "    </tr>\n",
       "    <tr>\n",
       "      <th>2579</th>\n",
       "      <td>17102</td>\n",
       "      <td>25.50</td>\n",
       "      <td>0.00</td>\n",
       "      <td>261.0</td>\n",
       "      <td>NaN</td>\n",
       "      <td>2.0</td>\n",
       "      <td>NaN</td>\n",
       "      <td>1.0</td>\n",
       "      <td>NaN</td>\n",
       "      <td>25.500000</td>\n",
       "      <td>261.000000</td>\n",
       "      <td>1.0</td>\n",
       "      <td>2.0</td>\n",
       "      <td>2.000000</td>\n",
       "      <td>1.0</td>\n",
       "      <td>1.0</td>\n",
       "      <td>1.000000</td>\n",
       "      <td>1.000000</td>\n",
       "    </tr>\n",
       "  </tbody>\n",
       "</table>\n",
       "</div>"
      ],
      "text/plain": [
       "      customer_id  purchases  devolutions  recency_p  recency_d  quantity_p  \\\n",
       "3855        21001     381.76         0.00      171.0        NaN        25.0   \n",
       "3988        21117      59.80         0.00      158.0        NaN         4.0   \n",
       "2976        13952    3251.07        -4.98      217.0      211.0       215.0   \n",
       "3468        13972     190.25         0.00       70.0        NaN        69.0   \n",
       "1905        14477    1309.60        -1.79       19.0       51.0       160.0   \n",
       "513         12709    9736.52      -442.42       15.0        3.0       450.0   \n",
       "3577        20787    1496.98         0.00      191.0        NaN        51.0   \n",
       "4497        14196     335.52         0.00      106.0        NaN       142.0   \n",
       "2906        13549     918.20        -2.08       25.0      199.0       118.0   \n",
       "1647        16403     177.50       -16.45      312.0      302.0        38.0   \n",
       "2186        15067    1744.76         0.00       78.0        NaN       249.0   \n",
       "1275        16034     437.70         0.00      196.0        NaN       106.0   \n",
       "3218        12394    1272.48         0.00       63.0        NaN       429.0   \n",
       "2170        15257     317.15       -85.00      283.0      281.0        42.0   \n",
       "4168        18101     223.65         0.00       11.0        NaN        21.0   \n",
       "3815        20971    1674.72         0.00      172.0        NaN       133.0   \n",
       "4693        18001     417.23         0.00       12.0        NaN       141.0   \n",
       "1523        19464     604.37         0.00      318.0        NaN        15.0   \n",
       "1516        19463      17.10         0.00      319.0        NaN         3.0   \n",
       "2579        17102      25.50         0.00      261.0        NaN         2.0   \n",
       "\n",
       "      quantity_d  invoices_p  invoices_d  avg_ticket  avg_recency_days  \\\n",
       "3855         NaN         1.0         NaN   11.930000        171.000000   \n",
       "3988         NaN         1.0         NaN   59.800000        158.000000   \n",
       "2976        -6.0         2.0         1.0   23.904926         79.333333   \n",
       "3468         NaN         2.0         NaN   12.683333        100.500000   \n",
       "1905        -1.0         4.0         1.0  130.960000         59.400000   \n",
       "513        -51.0        15.0        11.0   46.810192         14.076923   \n",
       "3577         NaN         1.0         NaN    8.505568        191.000000   \n",
       "4497         NaN         1.0         NaN   55.920000        106.000000   \n",
       "2906        -1.0         7.0         1.0   18.003922         30.250000   \n",
       "1647       -10.0         1.0         1.0   17.750000        156.000000   \n",
       "2186         NaN         3.0         NaN   21.277561        141.000000   \n",
       "1275         NaN         3.0         NaN   19.895455        110.666667   \n",
       "3218         NaN         2.0         NaN   47.128889        108.500000   \n",
       "2170        -1.0         1.0         1.0   45.307143        141.500000   \n",
       "4168         NaN         2.0         NaN    5.454878         71.500000   \n",
       "3815         NaN         1.0         NaN    8.768168        172.000000   \n",
       "4693         NaN         2.0         NaN    7.193621         43.000000   \n",
       "1523         NaN         1.0         NaN   10.420172        318.000000   \n",
       "1516         NaN         1.0         NaN    5.700000        319.000000   \n",
       "2579         NaN         1.0         NaN   25.500000        261.000000   \n",
       "\n",
       "      n_purchase_x  n_products_x  avg_basket_size  n_purchase_y  n_products_y  \\\n",
       "3855           1.0          64.0        64.000000           1.0          32.0   \n",
       "3988           1.0           4.0         4.000000           1.0           1.0   \n",
       "2976           2.0        1430.0       715.000000           2.0         136.0   \n",
       "3468           2.0         187.0        93.500000           2.0          15.0   \n",
       "1905           4.0         720.0       180.000000           4.0          10.0   \n",
       "513           15.0        3936.0       262.400000          15.0         208.0   \n",
       "3577           1.0         302.0       302.000000           1.0         176.0   \n",
       "4497           1.0         142.0       142.000000           1.0           6.0   \n",
       "2906           7.0         458.0        65.428571           7.0          51.0   \n",
       "1647           1.0         114.0       114.000000           1.0          10.0   \n",
       "2186           3.0         954.0       318.000000           3.0          82.0   \n",
       "1275           3.0         242.0        80.666667           3.0          22.0   \n",
       "3218           2.0         819.0       409.500000           2.0          27.0   \n",
       "2170           1.0          46.0        46.000000           1.0           7.0   \n",
       "4168           2.0          88.0        44.000000           2.0          41.0   \n",
       "3815           1.0         372.0       372.000000           1.0         191.0   \n",
       "4693           2.0         363.0       181.500000           2.0          58.0   \n",
       "1523           1.0          93.0        93.000000           1.0          58.0   \n",
       "1516           1.0           4.0         4.000000           1.0           3.0   \n",
       "2579           1.0           2.0         2.000000           1.0           1.0   \n",
       "\n",
       "      avg_variety  purchases_pday  \n",
       "3855    32.000000        1.000000  \n",
       "3988     1.000000        1.000000  \n",
       "2976    68.000000        0.090909  \n",
       "3468     7.500000        0.015152  \n",
       "1905     2.500000        0.014337  \n",
       "513     13.866667        0.042614  \n",
       "3577   176.000000        1.000000  \n",
       "4497     6.000000        1.000000  \n",
       "2906     7.285714        0.032110  \n",
       "1647    10.000000        1.000000  \n",
       "2186    27.333333        0.014634  \n",
       "1275     7.333333        0.021898  \n",
       "3218    13.500000        0.012903  \n",
       "2170     7.000000        1.000000  \n",
       "4168    20.500000        0.015038  \n",
       "3815   191.000000        1.000000  \n",
       "4693    29.000000        0.026667  \n",
       "1523    58.000000        1.000000  \n",
       "1516     3.000000        1.000000  \n",
       "2579     1.000000        1.000000  "
      ]
     },
     "execution_count": 95,
     "metadata": {},
     "output_type": "execute_result"
    }
   ],
   "source": [
    "df_aux = ( df2_purchase[['customer_id', 'invoice_no', 'invoice_date']].drop_duplicates()\n",
    "                                                            .groupby('customer_id')\n",
    "                                                            .agg( max_=('invoice_date', 'max'),\n",
    "                                                                  min_=('invoice_date', 'min'),\n",
    "                                                                  buys_=('invoice_no','count'))\n",
    "                                                            .reset_index()  )\n",
    "# Calculating the days\n",
    "df_aux['days_'] = df_aux[['max_','min_']].apply(lambda x: (x['max_'] - x['min_']).days + 1 , axis=1)\n",
    "\n",
    "# Frequency\n",
    "df_aux['purchases_pday'] = df_aux[['buys_','days_']].apply(lambda x: x['buys_'] / x['days_'] if (x['days_'] !=0 ) else 0, axis=1)\n",
    "\n",
    "# Merging\n",
    "df_ref = pd.merge(df_ref, df_aux[['customer_id','purchases_pday']], on='customer_id', how='left')\n",
    "df_ref.sample(20)"
   ]
  },
  {
   "cell_type": "code",
   "execution_count": 96,
   "metadata": {
    "ExecuteTime": {
     "end_time": "2021-09-15T23:03:49.853385Z",
     "start_time": "2021-09-15T23:03:49.835237Z"
    }
   },
   "outputs": [
    {
     "data": {
      "text/plain": [
       "customer_id            0\n",
       "purchases              0\n",
       "devolutions            0\n",
       "recency_p            215\n",
       "recency_d           4201\n",
       "quantity_p           215\n",
       "quantity_d          4201\n",
       "invoices_p           215\n",
       "invoices_d          4201\n",
       "avg_ticket           215\n",
       "avg_recency_days       0\n",
       "n_purchase_x         215\n",
       "n_products_x         215\n",
       "avg_basket_size      215\n",
       "n_purchase_y         215\n",
       "n_products_y         215\n",
       "avg_variety          215\n",
       "purchases_pday       215\n",
       "dtype: int64"
      ]
     },
     "execution_count": 96,
     "metadata": {},
     "output_type": "execute_result"
    }
   ],
   "source": [
    "df_ref.isna().sum()"
   ]
  },
  {
   "cell_type": "code",
   "execution_count": 97,
   "metadata": {
    "ExecuteTime": {
     "end_time": "2021-09-15T23:03:49.864636Z",
     "start_time": "2021-09-15T23:03:49.857929Z"
    }
   },
   "outputs": [
    {
     "name": "stdout",
     "output_type": "stream",
     "text": [
      "Number of rows: 5971\n",
      "Number of cols: 18\n"
     ]
    }
   ],
   "source": [
    "print( 'Number of rows: {}'.format( df_ref.shape[0] ) )\n",
    "print( 'Number of cols: {}'.format( df_ref.shape[1] ) )"
   ]
  },
  {
   "cell_type": "markdown",
   "metadata": {},
   "source": [
    "## 3.2. Feature engineering"
   ]
  },
  {
   "cell_type": "code",
   "execution_count": 98,
   "metadata": {
    "ExecuteTime": {
     "end_time": "2021-09-15T23:03:50.211090Z",
     "start_time": "2021-09-15T23:03:50.073785Z"
    }
   },
   "outputs": [
    {
     "data": {
      "text/html": [
       "<div>\n",
       "<style scoped>\n",
       "    .dataframe tbody tr th:only-of-type {\n",
       "        vertical-align: middle;\n",
       "    }\n",
       "\n",
       "    .dataframe tbody tr th {\n",
       "        vertical-align: top;\n",
       "    }\n",
       "\n",
       "    .dataframe thead th {\n",
       "        text-align: right;\n",
       "    }\n",
       "</style>\n",
       "<table border=\"1\" class=\"dataframe\">\n",
       "  <thead>\n",
       "    <tr style=\"text-align: right;\">\n",
       "      <th></th>\n",
       "      <th>customer_id</th>\n",
       "      <th>purchases</th>\n",
       "      <th>devolutions</th>\n",
       "      <th>recency_p</th>\n",
       "      <th>recency_d</th>\n",
       "      <th>quantity_p</th>\n",
       "      <th>quantity_d</th>\n",
       "      <th>invoices_p</th>\n",
       "      <th>invoices_d</th>\n",
       "      <th>avg_ticket</th>\n",
       "      <th>avg_recency_days</th>\n",
       "      <th>avg_basket_size</th>\n",
       "      <th>avg_variety</th>\n",
       "      <th>purchases_pday</th>\n",
       "    </tr>\n",
       "  </thead>\n",
       "  <tbody>\n",
       "    <tr>\n",
       "      <th>3270</th>\n",
       "      <td>16357</td>\n",
       "      <td>658.88</td>\n",
       "      <td>0.00</td>\n",
       "      <td>33.0</td>\n",
       "      <td>365.0</td>\n",
       "      <td>62.0</td>\n",
       "      <td>-0.0</td>\n",
       "      <td>3.0</td>\n",
       "      <td>0.0</td>\n",
       "      <td>19.378824</td>\n",
       "      <td>71.000000</td>\n",
       "      <td>82.000000</td>\n",
       "      <td>11.333333</td>\n",
       "      <td>0.016575</td>\n",
       "    </tr>\n",
       "    <tr>\n",
       "      <th>3690</th>\n",
       "      <td>16107</td>\n",
       "      <td>3204.16</td>\n",
       "      <td>0.00</td>\n",
       "      <td>17.0</td>\n",
       "      <td>365.0</td>\n",
       "      <td>572.0</td>\n",
       "      <td>-0.0</td>\n",
       "      <td>7.0</td>\n",
       "      <td>0.0</td>\n",
       "      <td>103.360000</td>\n",
       "      <td>26.142857</td>\n",
       "      <td>168.000000</td>\n",
       "      <td>4.428571</td>\n",
       "      <td>0.041916</td>\n",
       "    </tr>\n",
       "    <tr>\n",
       "      <th>979</th>\n",
       "      <td>12348</td>\n",
       "      <td>1797.24</td>\n",
       "      <td>0.00</td>\n",
       "      <td>75.0</td>\n",
       "      <td>365.0</td>\n",
       "      <td>611.0</td>\n",
       "      <td>-0.0</td>\n",
       "      <td>4.0</td>\n",
       "      <td>0.0</td>\n",
       "      <td>57.975484</td>\n",
       "      <td>89.500000</td>\n",
       "      <td>585.250000</td>\n",
       "      <td>7.750000</td>\n",
       "      <td>0.014085</td>\n",
       "    </tr>\n",
       "    <tr>\n",
       "      <th>587</th>\n",
       "      <td>15347</td>\n",
       "      <td>201.60</td>\n",
       "      <td>0.00</td>\n",
       "      <td>366.0</td>\n",
       "      <td>365.0</td>\n",
       "      <td>124.0</td>\n",
       "      <td>-0.0</td>\n",
       "      <td>1.0</td>\n",
       "      <td>0.0</td>\n",
       "      <td>40.320000</td>\n",
       "      <td>366.000000</td>\n",
       "      <td>130.000000</td>\n",
       "      <td>5.000000</td>\n",
       "      <td>1.000000</td>\n",
       "    </tr>\n",
       "    <tr>\n",
       "      <th>137</th>\n",
       "      <td>14060</td>\n",
       "      <td>6140.42</td>\n",
       "      <td>5.04</td>\n",
       "      <td>4.0</td>\n",
       "      <td>85.0</td>\n",
       "      <td>737.0</td>\n",
       "      <td>12.0</td>\n",
       "      <td>19.0</td>\n",
       "      <td>1.0</td>\n",
       "      <td>30.398119</td>\n",
       "      <td>18.600000</td>\n",
       "      <td>283.473684</td>\n",
       "      <td>10.631579</td>\n",
       "      <td>0.051491</td>\n",
       "    </tr>\n",
       "    <tr>\n",
       "      <th>4329</th>\n",
       "      <td>15374</td>\n",
       "      <td>168.00</td>\n",
       "      <td>0.00</td>\n",
       "      <td>128.0</td>\n",
       "      <td>365.0</td>\n",
       "      <td>126.0</td>\n",
       "      <td>-0.0</td>\n",
       "      <td>1.0</td>\n",
       "      <td>0.0</td>\n",
       "      <td>56.000000</td>\n",
       "      <td>128.000000</td>\n",
       "      <td>126.000000</td>\n",
       "      <td>3.000000</td>\n",
       "      <td>1.000000</td>\n",
       "    </tr>\n",
       "    <tr>\n",
       "      <th>600</th>\n",
       "      <td>12963</td>\n",
       "      <td>1856.63</td>\n",
       "      <td>15.60</td>\n",
       "      <td>8.0</td>\n",
       "      <td>298.0</td>\n",
       "      <td>206.0</td>\n",
       "      <td>8.0</td>\n",
       "      <td>8.0</td>\n",
       "      <td>1.0</td>\n",
       "      <td>19.543474</td>\n",
       "      <td>45.625000</td>\n",
       "      <td>110.125000</td>\n",
       "      <td>11.875000</td>\n",
       "      <td>0.022346</td>\n",
       "    </tr>\n",
       "    <tr>\n",
       "      <th>1556</th>\n",
       "      <td>19471</td>\n",
       "      <td>20.10</td>\n",
       "      <td>0.00</td>\n",
       "      <td>318.0</td>\n",
       "      <td>365.0</td>\n",
       "      <td>8.0</td>\n",
       "      <td>-0.0</td>\n",
       "      <td>1.0</td>\n",
       "      <td>0.0</td>\n",
       "      <td>6.700000</td>\n",
       "      <td>318.000000</td>\n",
       "      <td>14.000000</td>\n",
       "      <td>3.000000</td>\n",
       "      <td>1.000000</td>\n",
       "    </tr>\n",
       "    <tr>\n",
       "      <th>5569</th>\n",
       "      <td>14836</td>\n",
       "      <td>102.45</td>\n",
       "      <td>0.00</td>\n",
       "      <td>10.0</td>\n",
       "      <td>365.0</td>\n",
       "      <td>21.0</td>\n",
       "      <td>-0.0</td>\n",
       "      <td>3.0</td>\n",
       "      <td>0.0</td>\n",
       "      <td>17.075000</td>\n",
       "      <td>10.000000</td>\n",
       "      <td>15.000000</td>\n",
       "      <td>2.000000</td>\n",
       "      <td>0.142857</td>\n",
       "    </tr>\n",
       "    <tr>\n",
       "      <th>1866</th>\n",
       "      <td>17472</td>\n",
       "      <td>710.29</td>\n",
       "      <td>0.00</td>\n",
       "      <td>191.0</td>\n",
       "      <td>365.0</td>\n",
       "      <td>102.0</td>\n",
       "      <td>-0.0</td>\n",
       "      <td>3.0</td>\n",
       "      <td>0.0</td>\n",
       "      <td>3.924254</td>\n",
       "      <td>99.666667</td>\n",
       "      <td>154.000000</td>\n",
       "      <td>60.333333</td>\n",
       "      <td>0.027523</td>\n",
       "    </tr>\n",
       "  </tbody>\n",
       "</table>\n",
       "</div>"
      ],
      "text/plain": [
       "      customer_id  purchases  devolutions  recency_p  recency_d  quantity_p  \\\n",
       "3270        16357     658.88         0.00       33.0      365.0        62.0   \n",
       "3690        16107    3204.16         0.00       17.0      365.0       572.0   \n",
       "979         12348    1797.24         0.00       75.0      365.0       611.0   \n",
       "587         15347     201.60         0.00      366.0      365.0       124.0   \n",
       "137         14060    6140.42         5.04        4.0       85.0       737.0   \n",
       "4329        15374     168.00         0.00      128.0      365.0       126.0   \n",
       "600         12963    1856.63        15.60        8.0      298.0       206.0   \n",
       "1556        19471      20.10         0.00      318.0      365.0         8.0   \n",
       "5569        14836     102.45         0.00       10.0      365.0        21.0   \n",
       "1866        17472     710.29         0.00      191.0      365.0       102.0   \n",
       "\n",
       "      quantity_d  invoices_p  invoices_d  avg_ticket  avg_recency_days  \\\n",
       "3270        -0.0         3.0         0.0   19.378824         71.000000   \n",
       "3690        -0.0         7.0         0.0  103.360000         26.142857   \n",
       "979         -0.0         4.0         0.0   57.975484         89.500000   \n",
       "587         -0.0         1.0         0.0   40.320000        366.000000   \n",
       "137         12.0        19.0         1.0   30.398119         18.600000   \n",
       "4329        -0.0         1.0         0.0   56.000000        128.000000   \n",
       "600          8.0         8.0         1.0   19.543474         45.625000   \n",
       "1556        -0.0         1.0         0.0    6.700000        318.000000   \n",
       "5569        -0.0         3.0         0.0   17.075000         10.000000   \n",
       "1866        -0.0         3.0         0.0    3.924254         99.666667   \n",
       "\n",
       "      avg_basket_size  avg_variety  purchases_pday  \n",
       "3270        82.000000    11.333333        0.016575  \n",
       "3690       168.000000     4.428571        0.041916  \n",
       "979        585.250000     7.750000        0.014085  \n",
       "587        130.000000     5.000000        1.000000  \n",
       "137        283.473684    10.631579        0.051491  \n",
       "4329       126.000000     3.000000        1.000000  \n",
       "600        110.125000    11.875000        0.022346  \n",
       "1556        14.000000     3.000000        1.000000  \n",
       "5569        15.000000     2.000000        0.142857  \n",
       "1866       154.000000    60.333333        0.027523  "
      ]
     },
     "execution_count": 98,
     "metadata": {},
     "output_type": "execute_result"
    }
   ],
   "source": [
    "df_ref = df_ref.drop(['n_purchase_x', 'n_purchase_y', 'n_products_x', 'n_products_y'], axis=1)\n",
    "\n",
    "df_ref['devolutions'] = df_ref['devolutions'].apply(lambda x: (-1*x) if x < 0   else x )\n",
    "\n",
    "df_ref['quantity_d'] = df_ref['quantity_d'].apply( lambda x: 0.00 if math.isnan(x) else x )\n",
    "df_ref['recency_d'] = df_ref['recency_d'].apply( lambda x: 365 if math.isnan(x) else x )\n",
    "df_ref['quantity_d'] = df_ref['quantity_d'].apply( lambda x: 0.00 if math.isnan(x) else x*(-1) )\n",
    "df_ref['invoices_d'] = df_ref['invoices_d'].apply( lambda x: 0.00 if math.isnan(x) else x )\n",
    "\n",
    "df_ref['quantity_p'] = df_ref['quantity_p'].apply( lambda x: 0.00 if math.isnan(x) else x )\n",
    "df_ref['recency_p'] = df_ref['recency_p'].apply( lambda x: 365 if math.isnan(x) else x )\n",
    "df_ref['quantity_p'] = df_ref['quantity_p'].apply( lambda x: 0.00 if math.isnan(x) else x )\n",
    "df_ref['invoices_p'] = df_ref['invoices_p'].apply( lambda x: 0.00 if math.isnan(x) else x )\n",
    "df_ref['avg_ticket'] = df_ref['avg_ticket'].apply( lambda x: 0.00 if math.isnan(x) else x )\n",
    "df_ref['purchases_pday'] = df_ref['purchases_pday'].apply( lambda x: 0.00 if math.isnan(x) else x )\n",
    "\n",
    "df_ref['avg_variety'] = df_ref['avg_variety'].apply( lambda x: 0.00 if math.isnan(x) else x )\n",
    "df_ref['avg_basket_size'] = df_ref['avg_basket_size'].apply( lambda x: 0.00 if math.isnan(x) else x )\n",
    "\n",
    "df_ref.sample(10)"
   ]
  },
  {
   "cell_type": "code",
   "execution_count": 99,
   "metadata": {
    "ExecuteTime": {
     "end_time": "2021-09-15T23:03:50.506729Z",
     "start_time": "2021-09-15T23:03:50.485567Z"
    }
   },
   "outputs": [],
   "source": [
    "df_ref['gross_revenue'] = (df_ref['purchases'] - df_ref['devolutions'])\n",
    "df_ref['relative_revenue'] = (df_ref['purchases'] - df_ref['devolutions']) / (df_ref['purchases'] + df_ref['devolutions'])\n",
    "df_ref['relative_quantity'] = (df_ref['quantity_p'] - df_ref['quantity_d']) / (df_ref['quantity_p'] + df_ref['quantity_d'])\n",
    "\n",
    "#df_ref['relative_invoices'] = (df_ref['invoices_p'] - df_ref['invoices_d'])\n",
    "#df_ref = df_ref.drop(columns=['purchases','devolutions','invoices_p','invoices_d','recency_d'], axis=1)"
   ]
  },
  {
   "cell_type": "markdown",
   "metadata": {
    "ExecuteTime": {
     "end_time": "2021-05-03T20:14:35.082157Z",
     "start_time": "2021-05-03T20:14:35.073528Z"
    }
   },
   "source": [
    "There were a problem whith clients that did not have made any purchase in the analyzed period or did not have done any devolution. For those clients, recency was considered as 365 days or 1 year and the frequency of purchase or devolution was considered 0."
   ]
  },
  {
   "cell_type": "markdown",
   "metadata": {},
   "source": [
    "# 4. Exploratory data analysis"
   ]
  },
  {
   "cell_type": "code",
   "execution_count": 100,
   "metadata": {
    "ExecuteTime": {
     "end_time": "2021-09-15T23:03:51.990850Z",
     "start_time": "2021-09-15T23:03:51.985623Z"
    }
   },
   "outputs": [],
   "source": [
    "df4 = df_ref.copy()"
   ]
  },
  {
   "cell_type": "code",
   "execution_count": 101,
   "metadata": {
    "ExecuteTime": {
     "end_time": "2021-09-15T23:03:52.665978Z",
     "start_time": "2021-09-15T23:03:52.640542Z"
    }
   },
   "outputs": [
    {
     "data": {
      "text/plain": [
       "customer_id          0\n",
       "purchases            0\n",
       "devolutions          0\n",
       "recency_p            0\n",
       "recency_d            0\n",
       "quantity_p           0\n",
       "quantity_d           0\n",
       "invoices_p           0\n",
       "invoices_d           0\n",
       "avg_ticket           0\n",
       "avg_recency_days     0\n",
       "avg_basket_size      0\n",
       "avg_variety          0\n",
       "purchases_pday       0\n",
       "gross_revenue        0\n",
       "relative_revenue     0\n",
       "relative_quantity    0\n",
       "dtype: int64"
      ]
     },
     "execution_count": 101,
     "metadata": {},
     "output_type": "execute_result"
    }
   ],
   "source": [
    "# filter to analyze only valid customers\n",
    "# returned products\n",
    "df4 = df4.loc[df4['customer_id'] <19000, :]\n",
    "df4.isna().sum()"
   ]
  },
  {
   "cell_type": "markdown",
   "metadata": {},
   "source": []
  },
  {
   "cell_type": "markdown",
   "metadata": {},
   "source": [
    "### 4.1.1. Looking for outliers"
   ]
  },
  {
   "cell_type": "markdown",
   "metadata": {},
   "source": [
    "- Features for attention\n",
    "    - quantity_p for values above 20k\n",
    "    - quantity_d for values above 4k\n",
    "    - avg_ticket for values above 4k\n",
    "    - avg_basket_size for values above 4k\n",
    "    - purchases_pday for value 17\n",
    "    - gross_revenue for above 70k\n",
    "- Features with high correlation\n",
    "    - recency_p w/ avg_recency_days\n",
    "    - quantity_p w/ quantity_d\n",
    "    - quantity_p w/ avg_basket_size\n",
    "    - quantity_p w/ gross_revenue\n",
    "    - quantity_d w/ relative variables (all)\n",
    "    - relative variables are highly correlated between themselves"
   ]
  },
  {
   "cell_type": "markdown",
   "metadata": {},
   "source": [
    "It seems that customers 12346 and 16446 had some problem with the data quality in database, since they have bought a high number of items and returned them. They will be removed from the dataset in order to increase the model result. Other customers with a high number of returns also had a high number of purchases, which seems reasonable."
   ]
  },
  {
   "cell_type": "markdown",
   "metadata": {},
   "source": [
    "Again, clients 12346 and 16446 shows as an outliers to the average ticket, due to the high amount of items purchases, however with no gross revenue. At this point, it seems that customers 15098 also had some problem, since it has a liquid purchased quantity of 0, however with some gross revenue (purchases higher than returns), this customer will also be removed from the dataset. Also customer 15749 have the same behavior as 15098 and will be removed."
   ]
  },
  {
   "cell_type": "markdown",
   "metadata": {},
   "source": [
    "All clients with gross revenue higher than 50000 seems to behave similarly, with small values for recency of purchases and high values for relative revenue and relative invoices (where 1 means that the customer has only purchases and -1 meaning that the customer only returns). At this point, only 4 customers will be considered as outliers and removed from the dataset: 12346,15098,15749,16446."
   ]
  },
  {
   "cell_type": "code",
   "execution_count": 102,
   "metadata": {
    "ExecuteTime": {
     "end_time": "2021-09-15T23:03:55.686779Z",
     "start_time": "2021-09-15T23:03:55.668394Z"
    }
   },
   "outputs": [
    {
     "name": "stdout",
     "output_type": "stream",
     "text": [
      "customer_id          0\n",
      "purchases            0\n",
      "devolutions          0\n",
      "recency_p            0\n",
      "recency_d            0\n",
      "quantity_p           0\n",
      "quantity_d           0\n",
      "invoices_p           0\n",
      "invoices_d           0\n",
      "avg_ticket           0\n",
      "avg_recency_days     0\n",
      "avg_basket_size      0\n",
      "avg_variety          0\n",
      "purchases_pday       0\n",
      "gross_revenue        0\n",
      "relative_revenue     0\n",
      "relative_quantity    0\n",
      "dtype: int64\n"
     ]
    }
   ],
   "source": [
    "customers_outliers = [12346,15098,15749,16446]\n",
    "df4 = df4.loc[~df4['customer_id'].isin(customers_outliers), :]\n",
    "print(df4.isna().sum())"
   ]
  },
  {
   "cell_type": "markdown",
   "metadata": {},
   "source": [
    "## 4.3. Data space analysis"
   ]
  },
  {
   "cell_type": "code",
   "execution_count": 103,
   "metadata": {
    "ExecuteTime": {
     "end_time": "2021-09-15T23:03:56.480345Z",
     "start_time": "2021-09-15T23:03:56.424899Z"
    }
   },
   "outputs": [
    {
     "name": "stdout",
     "output_type": "stream",
     "text": [
      "customer_id          0\n",
      "purchases            0\n",
      "devolutions          0\n",
      "recency_p            0\n",
      "recency_d            0\n",
      "quantity_p           0\n",
      "quantity_d           0\n",
      "invoices_p           0\n",
      "invoices_d           0\n",
      "avg_ticket           0\n",
      "avg_recency_days     0\n",
      "avg_basket_size      0\n",
      "avg_variety          0\n",
      "purchases_pday       0\n",
      "gross_revenue        0\n",
      "relative_revenue     0\n",
      "relative_quantity    0\n",
      "dtype: int64\n"
     ]
    }
   ],
   "source": [
    "data_space = df4.copy()\n",
    "customers_to_cluster = data_space.loc[:,'customer_id'].to_list()\n",
    "print(data_space.isna().sum())\n",
    "data_space = data_space.drop(columns=['customer_id', 'purchases', 'recency_d', 'quantity_d', 'invoices_p', 'invoices_d', 'avg_basket_size', 'purchases_pday','relative_revenue', 'relative_quantity'], axis=1)\n",
    "\n",
    "rs = RobustScaler()\n",
    "mm = MinMaxScaler()\n",
    "ss = StandardScaler()\n",
    "\n",
    "#data_space['purchases'] = mm.fit_transform( data_space[['purchases']].values )\n",
    "data_space['devolutions'] = mm.fit_transform( data_space[['devolutions']].values )\n",
    "#data_space['purc_dev'] = rs.fit_transform( data_space[['purc_dev']].values )\n",
    "data_space['recency_p'] = rs.fit_transform( data_space[['recency_p']].values )\n",
    "#data_space['recency_d'] = rs.fit_transform( data_space[['recency_d']].values )\n",
    "data_space['quantity_p'] = mm.fit_transform( data_space[['quantity_p']].values )\n",
    "#data_space['quantity_d'] = mm.fit_transform( data_space[['quantity_d']].values )\n",
    "#data_space['invoices_p'] = rs.fit_transform( data_space[['invoices_p']].values )\n",
    "#data_space['invoices_d'] = rs.fit_transform( data_space[['invoices_d']].values )\n",
    "\n",
    "data_space['gross_revenue'] = mm.fit_transform( data_space[['gross_revenue']].values )\n",
    "data_space['avg_ticket'] = mm.fit_transform( data_space[['avg_ticket']].values )\n",
    "data_space['avg_recency_days'] = rs.fit_transform( data_space[['avg_recency_days']].values )\n",
    "data_space['avg_variety'] = mm.fit_transform( data_space[['avg_variety']].values )\n",
    "#data_space['avg_variety'] = rs.fit_transform( data_space[['avg_variety']].values )\n",
    "#data_space['relative_quantity'] = rs.fit_transform( data_space[['relative_quantity']].values )\n",
    "#data_space['relative_invoices'] = rs.fit_transform( data_space[['relative_invoices']].values )\n",
    "#data_space['purchases_pday'] = rs.fit_transform( data_space[['purchases_pday']].values )\n",
    "\n",
    "#data_space['monetary_score'] = ss.fit_transform( data_space[['ticket_score']].values )\n",
    "#data_space['ticket_score'] = ss.fit_transform( data_space[['ticket_score']].values )\n",
    "#data_space['recency_score'] = ss.fit_transform( data_space[['recency_score']].values )\n",
    "#data_space['behavior_score'] = ss.fit_transform( data_space[['behavior_score']].values )"
   ]
  },
  {
   "cell_type": "markdown",
   "metadata": {},
   "source": [
    "### 4.3.4. Tree-based embedding"
   ]
  },
  {
   "cell_type": "code",
   "execution_count": 104,
   "metadata": {
    "ExecuteTime": {
     "end_time": "2021-09-15T23:04:00.144818Z",
     "start_time": "2021-09-15T23:03:57.471882Z"
    }
   },
   "outputs": [
    {
     "data": {
      "text/plain": [
       "(4362, 100)"
      ]
     },
     "execution_count": 104,
     "metadata": {},
     "output_type": "execute_result"
    }
   ],
   "source": [
    "# training dataset\n",
    "x_trees = data_space.drop(columns=['gross_revenue'], axis=1)\n",
    "y_trees = data_space['gross_revenue']\n",
    "\n",
    "#model definition\n",
    "rf_model = RandomForestRegressor(n_estimators=100, random_state=42)\n",
    "\n",
    "# model training\n",
    "rf_model.fit(x_trees, y_trees)\n",
    "\n",
    "#Leaves\n",
    "df_leaf = pd.DataFrame(rf_model.apply(x_trees))\n",
    "\n",
    "#Leaves dataFrame\n",
    "df_leaf.shape"
   ]
  },
  {
   "cell_type": "code",
   "execution_count": 105,
   "metadata": {
    "ExecuteTime": {
     "end_time": "2021-09-15T23:04:21.255259Z",
     "start_time": "2021-09-15T23:04:00.148661Z"
    }
   },
   "outputs": [
    {
     "data": {
      "image/png": "[encoded data removed]",
      "text/plain": [
       "<Figure size 432x288 with 1 Axes>"
      ]
     },
     "metadata": {
      "needs_background": "light"
     },
     "output_type": "display_data"
    },
    {
     "data": {
      "text/plain": [
       "<Figure size 720x720 with 0 Axes>"
      ]
     },
     "metadata": {},
     "output_type": "display_data"
    }
   ],
   "source": [
    "n_components=3\n",
    "\n",
    "reducer = ump.UMAP( random_state=42, n_components=n_components )\n",
    "embedding = reducer.fit_transform(df_leaf)\n",
    "\n",
    "#df_leaf['embedding_x'] = embedding[:,0]\n",
    "#df_leaf['embedding_y'] = embedding[:,1]\n",
    "#df_leaf['embedding_z'] = embedding[:,2]\n",
    "\n",
    "fig = plt.figure()\n",
    "\n",
    "if n_components == 1:\n",
    "\n",
    "    df_leaf['embedding_x'] = embedding[:,0]\n",
    "\n",
    "    ax = fig.add_subplot(111)\n",
    "    ax.scatter(df_leaf['embedding_x'], range(len(df_leaf[['embedding_x']])))\n",
    "elif n_components == 2:\n",
    "\n",
    "    df_leaf['embedding_x'] = embedding[:,0]\n",
    "    df_leaf['embedding_y'] = embedding[:,1]\n",
    "    \n",
    "    ax = fig.add_subplot(111)\n",
    "    ax.scatter(df_leaf['embedding_x'], df_leaf['embedding_y'])\n",
    "elif n_components == 3:\n",
    "    \n",
    "    df_leaf['embedding_x'] = embedding[:,0]\n",
    "    df_leaf['embedding_y'] = embedding[:,1]\n",
    "    df_leaf['embedding_z'] = embedding[:,2]\n",
    "    \n",
    "    ax = fig.add_subplot(111, projection='3d')\n",
    "    ax.scatter(df_leaf['embedding_x'], df_leaf['embedding_y'], df_leaf['embedding_z'])\n",
    "\n",
    "plt.figure(figsize=(10,10))\n",
    "\n",
    "plt.show()"
   ]
  },
  {
   "cell_type": "code",
   "execution_count": 106,
   "metadata": {
    "ExecuteTime": {
     "end_time": "2021-09-15T23:04:21.291693Z",
     "start_time": "2021-09-15T23:04:21.259511Z"
    }
   },
   "outputs": [
    {
     "name": "stdout",
     "output_type": "stream",
     "text": [
      "0              0\n",
      "1              0\n",
      "2              0\n",
      "3              0\n",
      "4              0\n",
      "              ..\n",
      "98             0\n",
      "99             0\n",
      "embedding_x    0\n",
      "embedding_y    0\n",
      "embedding_z    0\n",
      "Length: 103, dtype: int64\n"
     ]
    },
    {
     "data": {
      "text/plain": [
       "0              0\n",
       "1              0\n",
       "2              0\n",
       "3              0\n",
       "4              0\n",
       "              ..\n",
       "99             0\n",
       "embedding_x    0\n",
       "embedding_y    0\n",
       "embedding_z    0\n",
       "customer_id    0\n",
       "Length: 104, dtype: int64"
      ]
     },
     "execution_count": 106,
     "metadata": {},
     "output_type": "execute_result"
    }
   ],
   "source": [
    "print(df_leaf.isna().sum())\n",
    "df_leaf['customer_id'] = customers_to_cluster\n",
    "df_leaf.isna().sum()\n",
    "#for i in range(len(df_leaf), 1):\n",
    "#    df_leaf.loc[i,'customer_id'] = customers_to_cluster[i]"
   ]
  },
  {
   "cell_type": "markdown",
   "metadata": {},
   "source": [
    "# 5. Data preparation"
   ]
  },
  {
   "cell_type": "markdown",
   "metadata": {},
   "source": [
    "**Rules of thumb**\n",
    "\n",
    "Standardization -> assumption that the feature follows a normal distribution (test for normal distribution QQ Plot or KS Test)\n",
    "Rescale         -> assumption that the feature does not follow a normal distribution\n",
    "\n",
    "**Based on features:**\n",
    "1. Normal distribution and abscence of outliers -> Standard scaler;\n",
    "2. Normal distribution and have outliers        -> Robust scaler;\n",
    "3. Does not follow a normal distribution        -> Min-max scaler;"
   ]
  },
  {
   "cell_type": "markdown",
   "metadata": {},
   "source": [
    "## 5.1. Data rescaling"
   ]
  },
  {
   "cell_type": "code",
   "execution_count": 108,
   "metadata": {
    "ExecuteTime": {
     "end_time": "2021-09-15T23:04:37.434901Z",
     "start_time": "2021-09-15T23:04:37.420185Z"
    }
   },
   "outputs": [],
   "source": [
    "df_rescaled = df4.copy()\n",
    "#df_rescaled = data_space.copy()\n",
    "df_rescaled = df_rescaled.drop(columns=['purchases', 'recency_d', 'quantity_d', 'invoices_p', 'invoices_d', 'avg_basket_size', 'purchases_pday','relative_revenue', 'relative_quantity'], axis=1)\n",
    "\n",
    "rs = RobustScaler()\n",
    "mm = MinMaxScaler()\n",
    "ss = StandardScaler()"
   ]
  },
  {
   "cell_type": "code",
   "execution_count": 109,
   "metadata": {
    "ExecuteTime": {
     "end_time": "2021-09-15T23:04:38.210137Z",
     "start_time": "2021-09-15T23:04:38.177716Z"
    }
   },
   "outputs": [],
   "source": [
    "#data_space['purchases'] = mm.fit_transform( data_space[['purchases']].values )\n",
    "data_space['devolutions'] = mm.fit_transform( data_space[['devolutions']].values )\n",
    "#data_space['purc_dev'] = rs.fit_transform( data_space[['purc_dev']].values )\n",
    "data_space['recency_p'] = rs.fit_transform( data_space[['recency_p']].values )\n",
    "#data_space['recency_d'] = rs.fit_transform( data_space[['recency_d']].values )\n",
    "data_space['quantity_p'] = mm.fit_transform( data_space[['quantity_p']].values )\n",
    "#data_space['quantity_d'] = mm.fit_transform( data_space[['quantity_d']].values )\n",
    "#data_space['invoices_p'] = rs.fit_transform( data_space[['invoices_p']].values )\n",
    "#data_space['invoices_d'] = rs.fit_transform( data_space[['invoices_d']].values )\n",
    "\n",
    "data_space['gross_revenue'] = mm.fit_transform( data_space[['gross_revenue']].values )\n",
    "data_space['avg_ticket'] = mm.fit_transform( data_space[['avg_ticket']].values )\n",
    "data_space['avg_recency_days'] = rs.fit_transform( data_space[['avg_recency_days']].values )\n",
    "data_space['avg_variety'] = mm.fit_transform( data_space[['avg_variety']].values )\n",
    "#data_space['avg_variety'] = rs.fit_transform( data_space[['avg_variety']].values )\n",
    "#data_space['relative_quantity'] = rs.fit_transform( data_space[['relative_quantity']].values )\n",
    "#data_space['relative_invoices'] = rs.fit_transform( data_space[['relative_invoices']].values )\n",
    "#data_space['purchases_pday'] = rs.fit_transform( data_space[['purchases_pday']].values )\n",
    "\n",
    "#data_space['monetary_score'] = ss.fit_transform( data_space[['ticket_score']].values )\n",
    "#data_space['ticket_score'] = ss.fit_transform( data_space[['ticket_score']].values )\n",
    "#data_space['recency_score'] = ss.fit_transform( data_space[['recency_score']].values )\n",
    "#data_space['behavior_score'] = ss.fit_transform( data_space[['behavior_score']].values )"
   ]
  },
  {
   "cell_type": "markdown",
   "metadata": {},
   "source": [
    "# 6. Feature selection"
   ]
  },
  {
   "cell_type": "markdown",
   "metadata": {},
   "source": [
    "# 7. Hyperparameter fine tuning"
   ]
  },
  {
   "cell_type": "markdown",
   "metadata": {},
   "source": [
    "There are 3 types of major problems within data problems to solve with machine learning algorithms: regression, classification and clusterization. The first two problems, regression and classification, there is a necessity to split the dataset between training and testing and there is a target variable to analyze the accuracy and precision of the model, while the clusterization problems does not have the need in dataset spliting. Because of that, there is a necessity to first determine the number of clusters which the dataset will be split, before training and finding the model."
   ]
  },
  {
   "cell_type": "code",
   "execution_count": 47,
   "metadata": {
    "ExecuteTime": {
     "end_time": "2021-09-15T22:55:59.538443Z",
     "start_time": "2021-09-15T22:55:59.526554Z"
    }
   },
   "outputs": [
    {
     "name": "stdout",
     "output_type": "stream",
     "text": [
      "(4362, 104)\n"
     ]
    }
   ],
   "source": [
    "#df7 = df6.copy()\n",
    "df7_embbed = df_leaf.copy()\n",
    "#print(df7.head())\n",
    "#print(df7_embbed.head())\n",
    "print(df7_embbed.shape)"
   ]
  },
  {
   "cell_type": "code",
   "execution_count": 48,
   "metadata": {
    "ExecuteTime": {
     "end_time": "2021-09-15T22:55:59.580274Z",
     "start_time": "2021-09-15T22:55:59.548076Z"
    }
   },
   "outputs": [
    {
     "name": "stdout",
     "output_type": "stream",
     "text": [
      "(4362, 104)\n"
     ]
    }
   ],
   "source": [
    "tree_cols_to_drop = []\n",
    "for i in range( 0, (df7_embbed.shape[1]-4),1 ):\n",
    "    tree_cols_to_drop.append(i)\n",
    "    i = i + 1\n",
    "\n",
    "X_embbed = df7_embbed.drop(columns=tree_cols_to_drop, axis=1)\n",
    "X_embbed = X_embbed.drop(columns=['customer_id'], axis=1)\n",
    "customers_to_cluster = df7_embbed['customer_id'].to_list()\n",
    "print(df7_embbed.shape)\n",
    "#X = df7.drop(columns=['customer_id'], axis=0)\n",
    "#print(X.head())\n",
    "#print(X_embbed.head())"
   ]
  },
  {
   "cell_type": "markdown",
   "metadata": {},
   "source": [
    "### 7.4.1. Hierarchical clustering on embbeded space"
   ]
  },
  {
   "cell_type": "code",
   "execution_count": 111,
   "metadata": {
    "ExecuteTime": {
     "end_time": "2021-09-15T23:09:29.117476Z",
     "start_time": "2021-09-15T23:09:20.783383Z"
    }
   },
   "outputs": [],
   "source": [
    "#clusters = [2, 4, 6, 7, 8, 9, 10, 11, 12, 13, 14, 15, 16, 17, 18, 19, 20]\n",
    "clusters = [6, 8, 10, 12, 14]\n",
    "hc_emb_list =[]\n",
    "\n",
    "for k in clusters:\n",
    "    # model definition & training\n",
    "    hc_emb_model = hc.linkage(X_embbed, 'ward')\n",
    "\n",
    "    # model predict\n",
    "    labels = hc.fcluster(hc_emb_model, k, criterion='maxclust')\n",
    "\n",
    "    # model performance\n",
    "    sil = metrics.silhouette_score(X_embbed, labels, metric='euclidean')\n",
    "    hc_emb_list.append(sil)"
   ]
  },
  {
   "cell_type": "code",
   "execution_count": 112,
   "metadata": {
    "ExecuteTime": {
     "end_time": "2021-09-15T23:11:44.015351Z",
     "start_time": "2021-09-15T23:09:29.119102Z"
    }
   },
   "outputs": [
    {
     "data": {
      "image/png": "[encoded data removed]",
      "text/plain": [
       "<Figure size 432x288 with 1 Axes>"
      ]
     },
     "metadata": {
      "needs_background": "light"
     },
     "output_type": "display_data"
    }
   ],
   "source": [
    "hc.dendrogram(\n",
    "    hc_emb_model,\n",
    "    leaf_rotation=90,\n",
    "    leaf_font_size=8\n",
    "    )\n",
    "plt.plot()\n",
    "plt.show()"
   ]
  },
  {
   "cell_type": "markdown",
   "metadata": {},
   "source": [
    "# 8. Model training"
   ]
  },
  {
   "cell_type": "markdown",
   "metadata": {},
   "source": [
    "## 8.1. Hierarchical model"
   ]
  },
  {
   "cell_type": "code",
   "execution_count": 113,
   "metadata": {
    "ExecuteTime": {
     "end_time": "2021-09-15T23:11:45.693972Z",
     "start_time": "2021-09-15T23:11:44.020359Z"
    }
   },
   "outputs": [],
   "source": [
    "k = 12\n",
    "\n",
    "# model definition\n",
    "#gmm_emb_model = mx.GaussianMixture(n_components=k)\n",
    "\n",
    "# model training\n",
    "#gmm_emb_model.fit(X_embbed)\n",
    "\n",
    "# model predict\n",
    "#labels = gmm_emb_model.predict(X_embbed)\n",
    "\n",
    "# model performance\n",
    "#sil = metrics.silhouette_score(X_embbed, labels, metric='euclidean')\n",
    "\n",
    "#labels = gmm_emb_model.labels_\n",
    "\n",
    "\n",
    "# model definition & training\n",
    "hc_emb_model = hc.linkage(X_embbed, 'ward')\n",
    "\n",
    "# model predict\n",
    "labels = hc.fcluster(hc_emb_model, k, criterion='maxclust')\n",
    "\n",
    "# model performance\n",
    "sil = metrics.silhouette_score(X_embbed, labels, metric='euclidean')"
   ]
  },
  {
   "cell_type": "code",
   "execution_count": 114,
   "metadata": {
    "ExecuteTime": {
     "end_time": "2021-09-15T23:11:45.711134Z",
     "start_time": "2021-09-15T23:11:45.698328Z"
    }
   },
   "outputs": [
    {
     "data": {
      "text/plain": [
       "4362"
      ]
     },
     "execution_count": 114,
     "metadata": {},
     "output_type": "execute_result"
    }
   ],
   "source": [
    "labels.shape\n",
    "len(customers_to_cluster)"
   ]
  },
  {
   "cell_type": "markdown",
   "metadata": {},
   "source": [
    "# 9. Cluster analysis"
   ]
  },
  {
   "cell_type": "markdown",
   "metadata": {},
   "source": [
    "## 9.1. Final model"
   ]
  },
  {
   "cell_type": "code",
   "execution_count": 116,
   "metadata": {
    "ExecuteTime": {
     "end_time": "2021-09-15T23:11:45.769194Z",
     "start_time": "2021-09-15T23:11:45.749114Z"
    }
   },
   "outputs": [
    {
     "name": "stdout",
     "output_type": "stream",
     "text": [
      "(5971, 17)\n",
      "(4362, 17)\n",
      "(4362,)\n",
      "(4362, 104)\n",
      "(4362, 105)\n"
     ]
    }
   ],
   "source": [
    "df9 = df_ref.copy()\n",
    "print(df9.shape)\n",
    "\n",
    "df9 = df9[df9['customer_id'].isin(customers_to_cluster)]\n",
    "print(df9.shape)\n",
    "print(labels.shape)\n",
    "df9['cluster'] = labels\n",
    "#df7['cluster'] = labels\n",
    "print(df_leaf.shape)\n",
    "df_leaf['cluster'] = labels\n",
    "print(df_leaf.shape)\n",
    "#df9.head(10)\n"
   ]
  },
  {
   "cell_type": "markdown",
   "metadata": {},
   "source": [
    "### 9.1.1. Visualization Inspection"
   ]
  },
  {
   "cell_type": "code",
   "execution_count": 117,
   "metadata": {
    "ExecuteTime": {
     "end_time": "2021-09-15T23:11:46.203202Z",
     "start_time": "2021-09-15T23:11:45.773738Z"
    }
   },
   "outputs": [
    {
     "data": {
      "image/png": "[encoded data removed]",
      "text/plain": [
       "<Figure size 432x288 with 1 Axes>"
      ]
     },
     "metadata": {
      "needs_background": "light"
     },
     "output_type": "display_data"
    },
    {
     "data": {
      "text/plain": [
       "<Figure size 720x720 with 0 Axes>"
      ]
     },
     "metadata": {},
     "output_type": "display_data"
    }
   ],
   "source": [
    "fig = plt.figure()\n",
    "ax = fig.add_subplot(111, projection='3d')\n",
    "ax.scatter(df_leaf['embedding_x'], df_leaf['embedding_y'], df_leaf['embedding_z'], c=df_leaf['cluster'])\n",
    "\n",
    "plt.figure(figsize=(10,10))\n",
    "\n",
    "plt.show()\n"
   ]
  },
  {
   "cell_type": "markdown",
   "metadata": {},
   "source": [
    "### 9.1.4. Cluster profile"
   ]
  },
  {
   "cell_type": "markdown",
   "metadata": {},
   "source": [
    "The profile of each cluster can be represented as a persona, and the persona is the mean or median behavior of all other customers inside the cluster"
   ]
  },
  {
   "cell_type": "code",
   "execution_count": 118,
   "metadata": {
    "ExecuteTime": {
     "end_time": "2021-09-15T23:11:46.397076Z",
     "start_time": "2021-09-15T23:11:46.207711Z"
    }
   },
   "outputs": [
    {
     "data": {
      "text/html": [
       "<div>\n",
       "<style scoped>\n",
       "    .dataframe tbody tr th:only-of-type {\n",
       "        vertical-align: middle;\n",
       "    }\n",
       "\n",
       "    .dataframe tbody tr th {\n",
       "        vertical-align: top;\n",
       "    }\n",
       "\n",
       "    .dataframe thead th {\n",
       "        text-align: right;\n",
       "    }\n",
       "</style>\n",
       "<table border=\"1\" class=\"dataframe\">\n",
       "  <thead>\n",
       "    <tr style=\"text-align: right;\">\n",
       "      <th></th>\n",
       "      <th>cluster</th>\n",
       "      <th>customer_id</th>\n",
       "      <th>perc_customer</th>\n",
       "      <th>gross_revenue</th>\n",
       "      <th>devolutions</th>\n",
       "      <th>recency_p</th>\n",
       "      <th>quantity_p</th>\n",
       "      <th>avg_ticket</th>\n",
       "      <th>avg_recency_days</th>\n",
       "      <th>avg_variety</th>\n",
       "    </tr>\n",
       "  </thead>\n",
       "  <tbody>\n",
       "    <tr>\n",
       "      <th>0</th>\n",
       "      <td>1</td>\n",
       "      <td>595</td>\n",
       "      <td>13.641</td>\n",
       "      <td>7810.70</td>\n",
       "      <td>328.58</td>\n",
       "      <td>44.92</td>\n",
       "      <td>1255.35</td>\n",
       "      <td>93.10</td>\n",
       "      <td>51.16</td>\n",
       "      <td>20.97</td>\n",
       "    </tr>\n",
       "    <tr>\n",
       "      <th>1</th>\n",
       "      <td>2</td>\n",
       "      <td>362</td>\n",
       "      <td>8.299</td>\n",
       "      <td>1067.25</td>\n",
       "      <td>0.08</td>\n",
       "      <td>79.12</td>\n",
       "      <td>180.42</td>\n",
       "      <td>32.23</td>\n",
       "      <td>88.44</td>\n",
       "      <td>24.37</td>\n",
       "    </tr>\n",
       "    <tr>\n",
       "      <th>2</th>\n",
       "      <td>3</td>\n",
       "      <td>373</td>\n",
       "      <td>8.551</td>\n",
       "      <td>1955.85</td>\n",
       "      <td>83.93</td>\n",
       "      <td>52.44</td>\n",
       "      <td>194.88</td>\n",
       "      <td>21.83</td>\n",
       "      <td>54.07</td>\n",
       "      <td>24.49</td>\n",
       "    </tr>\n",
       "    <tr>\n",
       "      <th>3</th>\n",
       "      <td>4</td>\n",
       "      <td>442</td>\n",
       "      <td>10.133</td>\n",
       "      <td>2469.28</td>\n",
       "      <td>55.51</td>\n",
       "      <td>49.61</td>\n",
       "      <td>295.00</td>\n",
       "      <td>28.03</td>\n",
       "      <td>57.45</td>\n",
       "      <td>27.09</td>\n",
       "    </tr>\n",
       "    <tr>\n",
       "      <th>4</th>\n",
       "      <td>5</td>\n",
       "      <td>290</td>\n",
       "      <td>6.648</td>\n",
       "      <td>223.71</td>\n",
       "      <td>9.10</td>\n",
       "      <td>157.65</td>\n",
       "      <td>21.88</td>\n",
       "      <td>23.04</td>\n",
       "      <td>152.68</td>\n",
       "      <td>20.48</td>\n",
       "    </tr>\n",
       "    <tr>\n",
       "      <th>5</th>\n",
       "      <td>6</td>\n",
       "      <td>154</td>\n",
       "      <td>3.530</td>\n",
       "      <td>212.04</td>\n",
       "      <td>20.21</td>\n",
       "      <td>135.94</td>\n",
       "      <td>43.19</td>\n",
       "      <td>38.38</td>\n",
       "      <td>126.62</td>\n",
       "      <td>5.07</td>\n",
       "    </tr>\n",
       "    <tr>\n",
       "      <th>6</th>\n",
       "      <td>7</td>\n",
       "      <td>167</td>\n",
       "      <td>3.829</td>\n",
       "      <td>89.21</td>\n",
       "      <td>14.52</td>\n",
       "      <td>213.46</td>\n",
       "      <td>10.63</td>\n",
       "      <td>35.57</td>\n",
       "      <td>196.61</td>\n",
       "      <td>3.32</td>\n",
       "    </tr>\n",
       "    <tr>\n",
       "      <th>7</th>\n",
       "      <td>8</td>\n",
       "      <td>219</td>\n",
       "      <td>5.021</td>\n",
       "      <td>475.54</td>\n",
       "      <td>14.30</td>\n",
       "      <td>129.93</td>\n",
       "      <td>61.74</td>\n",
       "      <td>20.96</td>\n",
       "      <td>123.57</td>\n",
       "      <td>20.92</td>\n",
       "    </tr>\n",
       "    <tr>\n",
       "      <th>8</th>\n",
       "      <td>9</td>\n",
       "      <td>424</td>\n",
       "      <td>9.720</td>\n",
       "      <td>370.53</td>\n",
       "      <td>31.81</td>\n",
       "      <td>130.48</td>\n",
       "      <td>44.43</td>\n",
       "      <td>14.01</td>\n",
       "      <td>126.18</td>\n",
       "      <td>24.05</td>\n",
       "    </tr>\n",
       "    <tr>\n",
       "      <th>9</th>\n",
       "      <td>10</td>\n",
       "      <td>726</td>\n",
       "      <td>16.644</td>\n",
       "      <td>649.46</td>\n",
       "      <td>13.06</td>\n",
       "      <td>104.52</td>\n",
       "      <td>82.96</td>\n",
       "      <td>21.59</td>\n",
       "      <td>103.90</td>\n",
       "      <td>23.45</td>\n",
       "    </tr>\n",
       "    <tr>\n",
       "      <th>10</th>\n",
       "      <td>11</td>\n",
       "      <td>353</td>\n",
       "      <td>8.093</td>\n",
       "      <td>1024.58</td>\n",
       "      <td>33.56</td>\n",
       "      <td>82.66</td>\n",
       "      <td>130.82</td>\n",
       "      <td>22.99</td>\n",
       "      <td>87.68</td>\n",
       "      <td>23.77</td>\n",
       "    </tr>\n",
       "    <tr>\n",
       "      <th>11</th>\n",
       "      <td>12</td>\n",
       "      <td>257</td>\n",
       "      <td>5.892</td>\n",
       "      <td>826.46</td>\n",
       "      <td>23.01</td>\n",
       "      <td>85.60</td>\n",
       "      <td>110.07</td>\n",
       "      <td>18.99</td>\n",
       "      <td>81.24</td>\n",
       "      <td>24.27</td>\n",
       "    </tr>\n",
       "  </tbody>\n",
       "</table>\n",
       "</div>"
      ],
      "text/plain": [
       "    cluster  customer_id  perc_customer  gross_revenue  devolutions  \\\n",
       "0         1          595         13.641        7810.70       328.58   \n",
       "1         2          362          8.299        1067.25         0.08   \n",
       "2         3          373          8.551        1955.85        83.93   \n",
       "3         4          442         10.133        2469.28        55.51   \n",
       "4         5          290          6.648         223.71         9.10   \n",
       "5         6          154          3.530         212.04        20.21   \n",
       "6         7          167          3.829          89.21        14.52   \n",
       "7         8          219          5.021         475.54        14.30   \n",
       "8         9          424          9.720         370.53        31.81   \n",
       "9        10          726         16.644         649.46        13.06   \n",
       "10       11          353          8.093        1024.58        33.56   \n",
       "11       12          257          5.892         826.46        23.01   \n",
       "\n",
       "    recency_p  quantity_p  avg_ticket  avg_recency_days  avg_variety  \n",
       "0       44.92     1255.35       93.10             51.16        20.97  \n",
       "1       79.12      180.42       32.23             88.44        24.37  \n",
       "2       52.44      194.88       21.83             54.07        24.49  \n",
       "3       49.61      295.00       28.03             57.45        27.09  \n",
       "4      157.65       21.88       23.04            152.68        20.48  \n",
       "5      135.94       43.19       38.38            126.62         5.07  \n",
       "6      213.46       10.63       35.57            196.61         3.32  \n",
       "7      129.93       61.74       20.96            123.57        20.92  \n",
       "8      130.48       44.43       14.01            126.18        24.05  \n",
       "9      104.52       82.96       21.59            103.90        23.45  \n",
       "10      82.66      130.82       22.99             87.68        23.77  \n",
       "11      85.60      110.07       18.99             81.24        24.27  "
      ]
     },
     "execution_count": 118,
     "metadata": {},
     "output_type": "execute_result"
    }
   ],
   "source": [
    "df_cluster = df9[['customer_id','cluster']].groupby('cluster').count().reset_index()\n",
    "df_cluster['perc_customer'] = round(100*(df_cluster['customer_id'] / df_cluster['customer_id'].sum()), 3)\n",
    "\n",
    "df_gross_revenue = round(df9[['gross_revenue', 'cluster']].groupby('cluster').mean().reset_index(), 2)\n",
    "df_avg_devolutions = round(df9[['devolutions', 'cluster']].groupby('cluster').mean().reset_index(), 2)\n",
    "#df_avg_relation = round(df9[['purc_dev','cluster']].groupby('cluster').mean().reset_index() , 2)\n",
    "\n",
    "df_avg_recency_p = round(df9[['cluster', 'recency_p']].groupby('cluster').mean().reset_index(), 2)\n",
    "#df_avg_quantity_d = round(df9[['cluster', 'quantity_d']].groupby('cluster').mean().reset_index(), 2)\n",
    "\n",
    "df_avg_frequency_p = round(df9[['cluster','quantity_p']].groupby('cluster').mean().reset_index(), 2)\n",
    "#df_avg_frequency_d = round(df9[['cluster','quantity_d']].groupby('cluster').mean().reset_index(), 2)\n",
    "\n",
    "df_avg_ticket = round(df9[['cluster','avg_ticket']].groupby('cluster').mean().reset_index(), 2)\n",
    "df_avg_recency_days = round(df9[['cluster','avg_recency_days']].groupby('cluster').mean().reset_index(), 2)\n",
    "df_avg_variety = round(df9[['cluster','avg_variety']].groupby('cluster').mean().reset_index(), 2)\n",
    "\n",
    "df_cluster = pd.merge(df_cluster, df_gross_revenue, on='cluster', how='inner')\n",
    "df_cluster = pd.merge(df_cluster, df_avg_devolutions, on='cluster', how='inner')\n",
    "#df_cluster = pd.merge(df_cluster, df_avg_relation, on='cluster', how='inner')\n",
    "df_cluster = pd.merge(df_cluster, df_avg_recency_p, on='cluster', how='inner')\n",
    "#df_cluster = pd.merge(df_cluster, df_avg_quantity_d, on='cluster', how='inner')\n",
    "df_cluster = pd.merge(df_cluster, df_avg_frequency_p, on='cluster', how='inner')\n",
    "#df_cluster = pd.merge(df_cluster, df_avg_frequency_d, on='cluster', how='inner')\n",
    "df_cluster = pd.merge(df_cluster, df_avg_ticket, on='cluster', how='inner')\n",
    "df_cluster = pd.merge(df_cluster, df_avg_recency_days, on='cluster', how='inner')\n",
    "df_cluster = pd.merge(df_cluster, df_avg_variety, on='cluster', how='inner')\n",
    "\n",
    "df_cluster"
   ]
  },
  {
   "cell_type": "markdown",
   "metadata": {},
   "source": [
    "# 10. Clusters insights"
   ]
  },
  {
   "cell_type": "code",
   "execution_count": 57,
   "metadata": {
    "ExecuteTime": {
     "end_time": "2021-09-15T22:58:44.888849Z",
     "start_time": "2021-09-15T22:58:44.884477Z"
    }
   },
   "outputs": [],
   "source": [
    "df10 = df9.copy()"
   ]
  },
  {
   "cell_type": "markdown",
   "metadata": {},
   "source": [
    "## Hypothesis for insights"
   ]
  },
  {
   "cell_type": "markdown",
   "metadata": {},
   "source": [
    "1. Affirmation\n",
    "2. Features comparison or clusters comparison\n",
    "3. Base value for comparison and classification in true or false for each hypothesis\n",
    "\n",
    "Example: Cluster | Feature analyzed | Base value for comparison"
   ]
  },
  {
   "cell_type": "markdown",
   "metadata": {},
   "source": [
    "### Purchase hypothesis"
   ]
  },
  {
   "cell_type": "markdown",
   "metadata": {},
   "source": [
    "1. More than 80% of Insiders customers use credit card for payment\n",
    "2. **Insiders clusters have an average ticket of at least 10% higher than any other cluster**\n",
    "3. **Insiders customers have a basket size higher than 5 products**\n",
    "4. **Insiders customers have a contribution of at least 10% of the total purchases**\n",
    "5. **Insiders customers have a smaller proportion of devolutions than the average of all customers**"
   ]
  },
  {
   "cell_type": "markdown",
   "metadata": {},
   "source": [
    "### Client hypothesis"
   ]
  },
  {
   "cell_type": "markdown",
   "metadata": {},
   "source": [
    "1. 60% of Insiders customers are single\n",
    "2. 10% of Insiders customers are aged between 24 - 35 years old\n",
    "3. 40% of Insiders customers are located in a radius of 50 km\n",
    "4. 5%  of Insiders customers earn a salary higher than USD 100.000 yearly\n",
    "5. 90% of Insiders customers have a high education degree"
   ]
  },
  {
   "cell_type": "markdown",
   "metadata": {},
   "source": [
    "### Product hypothesis"
   ]
  },
  {
   "cell_type": "markdown",
   "metadata": {},
   "source": [
    "1. 30% of the all products are bought by Insiders customers\n",
    "2. Insiders customers buys products that have a higher median than the median of all customers\n",
    "3. "
   ]
  },
  {
   "cell_type": "code",
   "execution_count": null,
   "metadata": {},
   "outputs": [],
   "source": []
  },
  {
   "cell_type": "code",
   "execution_count": null,
   "metadata": {},
   "outputs": [],
   "source": []
  },
  {
   "cell_type": "code",
   "execution_count": null,
   "metadata": {},
   "outputs": [],
   "source": []
  },
  {
   "cell_type": "markdown",
   "metadata": {},
   "source": [
    "### Hx. The median of revenues from insiders customers is 10% higher than the median of other customers"
   ]
  },
  {
   "cell_type": "code",
   "execution_count": 58,
   "metadata": {
    "ExecuteTime": {
     "end_time": "2021-09-15T22:58:44.909794Z",
     "start_time": "2021-09-15T22:58:44.891254Z"
    }
   },
   "outputs": [
    {
     "name": "stdout",
     "output_type": "stream",
     "text": [
      "Insiders revenue median is 387.24% higher than the median revenue\n"
     ]
    }
   ],
   "source": [
    "insiders_gnv_median = df10.loc[df10['cluster']==1, 'gross_revenue'].median()\n",
    "total_gnv_median = df10.loc[:,'gross_revenue'].median()\n",
    "\n",
    "revenue_diff_median = (insiders_gnv_median - total_gnv_median) / total_gnv_median\n",
    "\n",
    "print('Insiders revenue median is {}% higher than the median revenue'.format(round(revenue_diff_median*100, 2)))"
   ]
  },
  {
   "cell_type": "markdown",
   "metadata": {},
   "source": [
    "### Hx. The percentile of revenue from insiders customers is higher than third quartile"
   ]
  },
  {
   "cell_type": "code",
   "execution_count": 59,
   "metadata": {
    "ExecuteTime": {
     "end_time": "2021-09-15T22:58:45.217360Z",
     "start_time": "2021-09-15T22:58:44.913357Z"
    }
   },
   "outputs": [
    {
     "data": {
      "text/plain": [
       "<AxesSubplot:xlabel='gross_revenue'>"
      ]
     },
     "execution_count": 59,
     "metadata": {},
     "output_type": "execute_result"
    },
    {
     "data": {
      "image/png": "[encoded data removed]",
      "text/plain": [
       "<Figure size 432x288 with 1 Axes>"
      ]
     },
     "metadata": {
      "needs_background": "light"
     },
     "output_type": "display_data"
    }
   ],
   "source": [
    "df_aux = df10.loc[(df10['cluster']==1) & (df10['gross_revenue'] < 50000), 'gross_revenue'] \n",
    "sns.violinplot(x=df_aux)# hue=df10.loc[df10['cluster'] != 1])"
   ]
  },
  {
   "cell_type": "markdown",
   "metadata": {},
   "source": [
    "## 10.1. Business questions"
   ]
  },
  {
   "cell_type": "markdown",
   "metadata": {},
   "source": [
    "### 1. Who are electible to participate in the Insiders program?"
   ]
  },
  {
   "cell_type": "code",
   "execution_count": 60,
   "metadata": {
    "ExecuteTime": {
     "end_time": "2021-09-15T22:58:45.232818Z",
     "start_time": "2021-09-15T22:58:45.220398Z"
    }
   },
   "outputs": [
    {
     "data": {
      "text/plain": [
       "2    12583\n",
       "5    15291\n",
       "6    14688\n",
       "7    17809\n",
       "8    15311\n",
       "Name: customer_id, dtype: int64"
      ]
     },
     "execution_count": 60,
     "metadata": {},
     "output_type": "execute_result"
    }
   ],
   "source": [
    "df10.loc[df10['cluster']==1, 'customer_id'].head()"
   ]
  },
  {
   "cell_type": "markdown",
   "metadata": {},
   "source": [
    "### 2. How many customers will be part of the group?"
   ]
  },
  {
   "cell_type": "code",
   "execution_count": 61,
   "metadata": {
    "ExecuteTime": {
     "end_time": "2021-09-15T22:58:45.255610Z",
     "start_time": "2021-09-15T22:58:45.235703Z"
    }
   },
   "outputs": [
    {
     "data": {
      "text/plain": [
       "595"
      ]
     },
     "execution_count": 61,
     "metadata": {},
     "output_type": "execute_result"
    }
   ],
   "source": [
    "df10.loc[df10['cluster']==1, 'customer_id'].size"
   ]
  },
  {
   "cell_type": "markdown",
   "metadata": {},
   "source": [
    "### 3. What are the main characteristic of those customers?"
   ]
  },
  {
   "cell_type": "markdown",
   "metadata": {},
   "source": [
    "    - Gross revenue: $7810.07;\n",
    "    - Returns: $328.58;\n",
    "    - Recency of last purchase: 44.92 dias;\n",
    "    - Quantity of products bought: 1255 products;\n",
    "    - Average ticket: $93.10;\n",
    "    - Average time between purchases: 51.16 days;\n",
    "    - Average variety of products purchased: 20.97."
   ]
  },
  {
   "cell_type": "markdown",
   "metadata": {},
   "source": [
    "### 4. What are the contribution of those customers in revenue?"
   ]
  },
  {
   "cell_type": "code",
   "execution_count": 62,
   "metadata": {
    "ExecuteTime": {
     "end_time": "2021-09-15T22:58:45.277484Z",
     "start_time": "2021-09-15T22:58:45.262409Z"
    }
   },
   "outputs": [
    {
     "name": "stdout",
     "output_type": "stream",
     "text": [
      "Insiders contribution in gross revenue is 56.17% of total revenue\n"
     ]
    }
   ],
   "source": [
    "insiders_total_revenue = df10.loc[df10['cluster']==1, 'gross_revenue'].sum()\n",
    "all_total_revenue = df10.loc[:, 'gross_revenue'].sum()\n",
    "\n",
    "print('Insiders contribution in gross revenue is {}% of total revenue'.format(round(insiders_total_revenue*100 / all_total_revenue, 2)))"
   ]
  },
  {
   "cell_type": "markdown",
   "metadata": {},
   "source": [
    "### 5. What are the future expectations for revenue in the next months for these customers?"
   ]
  },
  {
   "cell_type": "code",
   "execution_count": 63,
   "metadata": {
    "ExecuteTime": {
     "end_time": "2021-09-15T22:58:45.337454Z",
     "start_time": "2021-09-15T22:58:45.284517Z"
    }
   },
   "outputs": [
    {
     "data": {
      "text/html": [
       "<div>\n",
       "<style scoped>\n",
       "    .dataframe tbody tr th:only-of-type {\n",
       "        vertical-align: middle;\n",
       "    }\n",
       "\n",
       "    .dataframe tbody tr th {\n",
       "        vertical-align: top;\n",
       "    }\n",
       "\n",
       "    .dataframe thead th {\n",
       "        text-align: right;\n",
       "    }\n",
       "</style>\n",
       "<table border=\"1\" class=\"dataframe\">\n",
       "  <thead>\n",
       "    <tr style=\"text-align: right;\">\n",
       "      <th></th>\n",
       "      <th>cluster</th>\n",
       "      <th>customer_id</th>\n",
       "      <th>perc_customer</th>\n",
       "      <th>gross_revenue</th>\n",
       "      <th>devolutions</th>\n",
       "      <th>recency_p</th>\n",
       "      <th>quantity_p</th>\n",
       "      <th>avg_ticket</th>\n",
       "      <th>avg_recency_days</th>\n",
       "      <th>avg_variety</th>\n",
       "    </tr>\n",
       "  </thead>\n",
       "  <tbody>\n",
       "    <tr>\n",
       "      <th>0</th>\n",
       "      <td>1</td>\n",
       "      <td>595</td>\n",
       "      <td>13.641</td>\n",
       "      <td>7810.70</td>\n",
       "      <td>328.58</td>\n",
       "      <td>44.92</td>\n",
       "      <td>1255.35</td>\n",
       "      <td>93.10</td>\n",
       "      <td>51.16</td>\n",
       "      <td>20.97</td>\n",
       "    </tr>\n",
       "    <tr>\n",
       "      <th>1</th>\n",
       "      <td>2</td>\n",
       "      <td>362</td>\n",
       "      <td>8.299</td>\n",
       "      <td>1067.25</td>\n",
       "      <td>0.08</td>\n",
       "      <td>79.12</td>\n",
       "      <td>180.42</td>\n",
       "      <td>32.23</td>\n",
       "      <td>88.44</td>\n",
       "      <td>24.37</td>\n",
       "    </tr>\n",
       "    <tr>\n",
       "      <th>2</th>\n",
       "      <td>3</td>\n",
       "      <td>373</td>\n",
       "      <td>8.551</td>\n",
       "      <td>1955.85</td>\n",
       "      <td>83.93</td>\n",
       "      <td>52.44</td>\n",
       "      <td>194.88</td>\n",
       "      <td>21.83</td>\n",
       "      <td>54.07</td>\n",
       "      <td>24.49</td>\n",
       "    </tr>\n",
       "    <tr>\n",
       "      <th>3</th>\n",
       "      <td>4</td>\n",
       "      <td>442</td>\n",
       "      <td>10.133</td>\n",
       "      <td>2469.28</td>\n",
       "      <td>55.51</td>\n",
       "      <td>49.61</td>\n",
       "      <td>295.00</td>\n",
       "      <td>28.03</td>\n",
       "      <td>57.45</td>\n",
       "      <td>27.09</td>\n",
       "    </tr>\n",
       "    <tr>\n",
       "      <th>4</th>\n",
       "      <td>5</td>\n",
       "      <td>290</td>\n",
       "      <td>6.648</td>\n",
       "      <td>223.71</td>\n",
       "      <td>9.10</td>\n",
       "      <td>157.65</td>\n",
       "      <td>21.88</td>\n",
       "      <td>23.04</td>\n",
       "      <td>152.68</td>\n",
       "      <td>20.48</td>\n",
       "    </tr>\n",
       "    <tr>\n",
       "      <th>5</th>\n",
       "      <td>6</td>\n",
       "      <td>154</td>\n",
       "      <td>3.530</td>\n",
       "      <td>212.04</td>\n",
       "      <td>20.21</td>\n",
       "      <td>135.94</td>\n",
       "      <td>43.19</td>\n",
       "      <td>38.38</td>\n",
       "      <td>126.62</td>\n",
       "      <td>5.07</td>\n",
       "    </tr>\n",
       "    <tr>\n",
       "      <th>6</th>\n",
       "      <td>7</td>\n",
       "      <td>167</td>\n",
       "      <td>3.829</td>\n",
       "      <td>89.21</td>\n",
       "      <td>14.52</td>\n",
       "      <td>213.46</td>\n",
       "      <td>10.63</td>\n",
       "      <td>35.57</td>\n",
       "      <td>196.61</td>\n",
       "      <td>3.32</td>\n",
       "    </tr>\n",
       "    <tr>\n",
       "      <th>7</th>\n",
       "      <td>8</td>\n",
       "      <td>219</td>\n",
       "      <td>5.021</td>\n",
       "      <td>475.54</td>\n",
       "      <td>14.30</td>\n",
       "      <td>129.93</td>\n",
       "      <td>61.74</td>\n",
       "      <td>20.96</td>\n",
       "      <td>123.57</td>\n",
       "      <td>20.92</td>\n",
       "    </tr>\n",
       "    <tr>\n",
       "      <th>8</th>\n",
       "      <td>9</td>\n",
       "      <td>424</td>\n",
       "      <td>9.720</td>\n",
       "      <td>370.53</td>\n",
       "      <td>31.81</td>\n",
       "      <td>130.48</td>\n",
       "      <td>44.43</td>\n",
       "      <td>14.01</td>\n",
       "      <td>126.18</td>\n",
       "      <td>24.05</td>\n",
       "    </tr>\n",
       "    <tr>\n",
       "      <th>9</th>\n",
       "      <td>10</td>\n",
       "      <td>726</td>\n",
       "      <td>16.644</td>\n",
       "      <td>649.46</td>\n",
       "      <td>13.06</td>\n",
       "      <td>104.52</td>\n",
       "      <td>82.96</td>\n",
       "      <td>21.59</td>\n",
       "      <td>103.90</td>\n",
       "      <td>23.45</td>\n",
       "    </tr>\n",
       "    <tr>\n",
       "      <th>10</th>\n",
       "      <td>11</td>\n",
       "      <td>353</td>\n",
       "      <td>8.093</td>\n",
       "      <td>1024.58</td>\n",
       "      <td>33.56</td>\n",
       "      <td>82.66</td>\n",
       "      <td>130.82</td>\n",
       "      <td>22.99</td>\n",
       "      <td>87.68</td>\n",
       "      <td>23.77</td>\n",
       "    </tr>\n",
       "    <tr>\n",
       "      <th>11</th>\n",
       "      <td>12</td>\n",
       "      <td>257</td>\n",
       "      <td>5.892</td>\n",
       "      <td>826.46</td>\n",
       "      <td>23.01</td>\n",
       "      <td>85.60</td>\n",
       "      <td>110.07</td>\n",
       "      <td>18.99</td>\n",
       "      <td>81.24</td>\n",
       "      <td>24.27</td>\n",
       "    </tr>\n",
       "  </tbody>\n",
       "</table>\n",
       "</div>"
      ],
      "text/plain": [
       "    cluster  customer_id  perc_customer  gross_revenue  devolutions  \\\n",
       "0         1          595         13.641        7810.70       328.58   \n",
       "1         2          362          8.299        1067.25         0.08   \n",
       "2         3          373          8.551        1955.85        83.93   \n",
       "3         4          442         10.133        2469.28        55.51   \n",
       "4         5          290          6.648         223.71         9.10   \n",
       "5         6          154          3.530         212.04        20.21   \n",
       "6         7          167          3.829          89.21        14.52   \n",
       "7         8          219          5.021         475.54        14.30   \n",
       "8         9          424          9.720         370.53        31.81   \n",
       "9        10          726         16.644         649.46        13.06   \n",
       "10       11          353          8.093        1024.58        33.56   \n",
       "11       12          257          5.892         826.46        23.01   \n",
       "\n",
       "    recency_p  quantity_p  avg_ticket  avg_recency_days  avg_variety  \n",
       "0       44.92     1255.35       93.10             51.16        20.97  \n",
       "1       79.12      180.42       32.23             88.44        24.37  \n",
       "2       52.44      194.88       21.83             54.07        24.49  \n",
       "3       49.61      295.00       28.03             57.45        27.09  \n",
       "4      157.65       21.88       23.04            152.68        20.48  \n",
       "5      135.94       43.19       38.38            126.62         5.07  \n",
       "6      213.46       10.63       35.57            196.61         3.32  \n",
       "7      129.93       61.74       20.96            123.57        20.92  \n",
       "8      130.48       44.43       14.01            126.18        24.05  \n",
       "9      104.52       82.96       21.59            103.90        23.45  \n",
       "10      82.66      130.82       22.99             87.68        23.77  \n",
       "11      85.60      110.07       18.99             81.24        24.27  "
      ]
     },
     "execution_count": 63,
     "metadata": {},
     "output_type": "execute_result"
    }
   ],
   "source": [
    "df_cluster"
   ]
  },
  {
   "cell_type": "markdown",
   "metadata": {},
   "source": [
    "### 6. What are the conditions for a person to be elected in the Insiders program?"
   ]
  },
  {
   "cell_type": "markdown",
   "metadata": {},
   "source": [
    "### 7. What are the conditions for a person to be removed from the Insiders program?"
   ]
  },
  {
   "cell_type": "markdown",
   "metadata": {},
   "source": [
    "### 8. How we can be sure that a Insider customer is better than the others customers?"
   ]
  },
  {
   "cell_type": "markdown",
   "metadata": {},
   "source": [
    "### 9. What actions are available for the marketing team to improve revenue?"
   ]
  },
  {
   "cell_type": "code",
   "execution_count": null,
   "metadata": {},
   "outputs": [],
   "source": []
  },
  {
   "cell_type": "code",
   "execution_count": null,
   "metadata": {},
   "outputs": [],
   "source": []
  },
  {
   "cell_type": "code",
   "execution_count": null,
   "metadata": {},
   "outputs": [],
   "source": []
  },
  {
   "cell_type": "code",
   "execution_count": null,
   "metadata": {},
   "outputs": [],
   "source": []
  },
  {
   "cell_type": "code",
   "execution_count": null,
   "metadata": {},
   "outputs": [],
   "source": []
  },
  {
   "cell_type": "code",
   "execution_count": null,
   "metadata": {},
   "outputs": [],
   "source": []
  },
  {
   "cell_type": "code",
   "execution_count": null,
   "metadata": {},
   "outputs": [],
   "source": []
  },
  {
   "cell_type": "code",
   "execution_count": null,
   "metadata": {},
   "outputs": [],
   "source": []
  },
  {
   "cell_type": "markdown",
   "metadata": {},
   "source": [
    "# 11. Deploy to production"
   ]
  },
  {
   "cell_type": "code",
   "execution_count": 119,
   "metadata": {
    "ExecuteTime": {
     "end_time": "2021-09-15T23:23:02.706101Z",
     "start_time": "2021-09-15T23:23:02.694372Z"
    }
   },
   "outputs": [],
   "source": [
    "df11 = df10.copy()\n",
    "df11 = df11.drop(columns=['purchases_pday', 'relative_revenue', 'relative_quantity'], axis=1)"
   ]
  },
  {
   "cell_type": "markdown",
   "metadata": {},
   "source": [
    "## 11.1. Insert into SQLITE"
   ]
  },
  {
   "cell_type": "code",
   "execution_count": 120,
   "metadata": {
    "ExecuteTime": {
     "end_time": "2021-09-15T23:23:05.352412Z",
     "start_time": "2021-09-15T23:23:05.329041Z"
    }
   },
   "outputs": [],
   "source": [
    "df11['recency_p'] = df11['recency_p'].astype(int)\n",
    "df11['recency_d'] = df11['recency_d'].astype(int)\n",
    "df11['quantity_p'] = df11['quantity_p'].astype(int)\n",
    "df11['quantity_d'] = df11['quantity_d'].astype(int)\n",
    "df11['invoices_p'] = df11['invoices_p'].astype(int)\n",
    "df11['invoices_d'] = df11['invoices_d'].astype(int)\n",
    "df11['cluster'] = df11['cluster'].astype(int)"
   ]
  },
  {
   "cell_type": "code",
   "execution_count": 121,
   "metadata": {
    "ExecuteTime": {
     "end_time": "2021-09-15T23:23:09.438776Z",
     "start_time": "2021-09-15T23:23:09.426246Z"
    }
   },
   "outputs": [
    {
     "data": {
      "text/plain": [
       "customer_id           int64\n",
       "purchases           float64\n",
       "devolutions         float64\n",
       "recency_p             int64\n",
       "recency_d             int64\n",
       "quantity_p            int64\n",
       "quantity_d            int64\n",
       "invoices_p            int64\n",
       "invoices_d            int64\n",
       "avg_ticket          float64\n",
       "avg_recency_days    float64\n",
       "avg_basket_size     float64\n",
       "avg_variety         float64\n",
       "gross_revenue       float64\n",
       "cluster               int64\n",
       "dtype: object"
      ]
     },
     "execution_count": 121,
     "metadata": {},
     "output_type": "execute_result"
    }
   ],
   "source": [
    "df11.dtypes"
   ]
  },
  {
   "cell_type": "code",
   "execution_count": 67,
   "metadata": {
    "ExecuteTime": {
     "end_time": "2021-09-15T22:58:45.590464Z",
     "start_time": "2021-09-15T22:58:45.441828Z"
    }
   },
   "outputs": [],
   "source": [
    "# create table\n",
    "query_create_table_insiders = '''\n",
    "    CREATE TABLE insiders (\n",
    "    customer_id          INTEGER,\n",
    "    purchases            REAL,\n",
    "    devolutions          REAL,\n",
    "    recency_p            INTEGER,\n",
    "    recency_d            INTEGER,\n",
    "    quantity_p           INTEGER,\n",
    "    quantity_d           INTEGER,\n",
    "    invoices_p           INTEGER,\n",
    "    invoices_d           INTEGER,\n",
    "    avg_ticket           REAL,\n",
    "    avg_recency_days     REAL,\n",
    "    avg_basket_size      REAL,\n",
    "    avg_variety          REAL,\n",
    "    gross_revenue        REAL,\n",
    "    cluster              INTEGER\n",
    "    )\n",
    "'''\n",
    "\n",
    "#conn = sqlite3.connect('../insiders_db.sqlite')\n",
    "#conn.execute(query_create_table_insiders)\n",
    "#conn.commit()\n",
    "#conn.close()\n",
    "\n",
    "# insert data\n",
    "conn = create_engine('sqlite:////home/pedro/Documentos/repositories/3-insiders-clustering/insiders_db.sqlite')\n",
    "df11.to_sql('insiders', con=conn, if_exists='append', index=False)\n"
   ]
  },
  {
   "cell_type": "code",
   "execution_count": 68,
   "metadata": {
    "ExecuteTime": {
     "end_time": "2021-09-15T22:58:45.776363Z",
     "start_time": "2021-09-15T22:58:45.594038Z"
    }
   },
   "outputs": [
    {
     "data": {
      "text/html": [
       "<div>\n",
       "<style scoped>\n",
       "    .dataframe tbody tr th:only-of-type {\n",
       "        vertical-align: middle;\n",
       "    }\n",
       "\n",
       "    .dataframe tbody tr th {\n",
       "        vertical-align: top;\n",
       "    }\n",
       "\n",
       "    .dataframe thead th {\n",
       "        text-align: right;\n",
       "    }\n",
       "</style>\n",
       "<table border=\"1\" class=\"dataframe\">\n",
       "  <thead>\n",
       "    <tr style=\"text-align: right;\">\n",
       "      <th></th>\n",
       "      <th>customer_id</th>\n",
       "      <th>purchases</th>\n",
       "      <th>devolutions</th>\n",
       "      <th>recency_p</th>\n",
       "      <th>recency_d</th>\n",
       "      <th>quantity_p</th>\n",
       "      <th>quantity_d</th>\n",
       "      <th>invoices_p</th>\n",
       "      <th>invoices_d</th>\n",
       "      <th>avg_ticket</th>\n",
       "      <th>avg_recency_days</th>\n",
       "      <th>avg_basket_size</th>\n",
       "      <th>avg_variety</th>\n",
       "      <th>gross_revenue</th>\n",
       "      <th>cluster</th>\n",
       "    </tr>\n",
       "  </thead>\n",
       "  <tbody>\n",
       "    <tr>\n",
       "      <th>0</th>\n",
       "      <td>17850</td>\n",
       "      <td>5391.21</td>\n",
       "      <td>102.58</td>\n",
       "      <td>372</td>\n",
       "      <td>302</td>\n",
       "      <td>35</td>\n",
       "      <td>21</td>\n",
       "      <td>34</td>\n",
       "      <td>1</td>\n",
       "      <td>18.152222</td>\n",
       "      <td>124.333333</td>\n",
       "      <td>50.970588</td>\n",
       "      <td>8.735294</td>\n",
       "      <td>5288.63</td>\n",
       "      <td>9</td>\n",
       "    </tr>\n",
       "    <tr>\n",
       "      <th>1</th>\n",
       "      <td>13047</td>\n",
       "      <td>3237.54</td>\n",
       "      <td>158.44</td>\n",
       "      <td>31</td>\n",
       "      <td>31</td>\n",
       "      <td>132</td>\n",
       "      <td>6</td>\n",
       "      <td>10</td>\n",
       "      <td>8</td>\n",
       "      <td>18.822907</td>\n",
       "      <td>26.642857</td>\n",
       "      <td>139.100000</td>\n",
       "      <td>17.200000</td>\n",
       "      <td>3079.10</td>\n",
       "      <td>11</td>\n",
       "    </tr>\n",
       "    <tr>\n",
       "      <th>2</th>\n",
       "      <td>12583</td>\n",
       "      <td>7281.38</td>\n",
       "      <td>94.04</td>\n",
       "      <td>2</td>\n",
       "      <td>56</td>\n",
       "      <td>1569</td>\n",
       "      <td>50</td>\n",
       "      <td>15</td>\n",
       "      <td>3</td>\n",
       "      <td>29.479271</td>\n",
       "      <td>20.722222</td>\n",
       "      <td>337.333333</td>\n",
       "      <td>16.466667</td>\n",
       "      <td>7187.34</td>\n",
       "      <td>1</td>\n",
       "    </tr>\n",
       "    <tr>\n",
       "      <th>3</th>\n",
       "      <td>13748</td>\n",
       "      <td>948.25</td>\n",
       "      <td>0.00</td>\n",
       "      <td>95</td>\n",
       "      <td>365</td>\n",
       "      <td>169</td>\n",
       "      <td>0</td>\n",
       "      <td>5</td>\n",
       "      <td>0</td>\n",
       "      <td>33.866071</td>\n",
       "      <td>93.250000</td>\n",
       "      <td>87.800000</td>\n",
       "      <td>5.600000</td>\n",
       "      <td>948.25</td>\n",
       "      <td>2</td>\n",
       "    </tr>\n",
       "    <tr>\n",
       "      <th>4</th>\n",
       "      <td>15100</td>\n",
       "      <td>876.00</td>\n",
       "      <td>240.90</td>\n",
       "      <td>333</td>\n",
       "      <td>330</td>\n",
       "      <td>48</td>\n",
       "      <td>22</td>\n",
       "      <td>3</td>\n",
       "      <td>3</td>\n",
       "      <td>292.000000</td>\n",
       "      <td>62.166667</td>\n",
       "      <td>26.666667</td>\n",
       "      <td>1.000000</td>\n",
       "      <td>635.10</td>\n",
       "      <td>6</td>\n",
       "    </tr>\n",
       "  </tbody>\n",
       "</table>\n",
       "</div>"
      ],
      "text/plain": [
       "   customer_id  purchases  devolutions  recency_p  recency_d  quantity_p  \\\n",
       "0        17850    5391.21       102.58        372        302          35   \n",
       "1        13047    3237.54       158.44         31         31         132   \n",
       "2        12583    7281.38        94.04          2         56        1569   \n",
       "3        13748     948.25         0.00         95        365         169   \n",
       "4        15100     876.00       240.90        333        330          48   \n",
       "\n",
       "   quantity_d  invoices_p  invoices_d  avg_ticket  avg_recency_days  \\\n",
       "0          21          34           1   18.152222        124.333333   \n",
       "1           6          10           8   18.822907         26.642857   \n",
       "2          50          15           3   29.479271         20.722222   \n",
       "3           0           5           0   33.866071         93.250000   \n",
       "4          22           3           3  292.000000         62.166667   \n",
       "\n",
       "   avg_basket_size  avg_variety  gross_revenue  cluster  \n",
       "0        50.970588     8.735294        5288.63        9  \n",
       "1       139.100000    17.200000        3079.10       11  \n",
       "2       337.333333    16.466667        7187.34        1  \n",
       "3        87.800000     5.600000         948.25        2  \n",
       "4        26.666667     1.000000         635.10        6  "
      ]
     },
     "execution_count": 68,
     "metadata": {},
     "output_type": "execute_result"
    }
   ],
   "source": [
    "# select data and testing the process\n",
    "query_test = '''\n",
    "    SELECT * FROM insiders\n",
    "'''\n",
    "\n",
    "df_test = pd.read_sql_query(query_test, conn)\n",
    "df_test.head()"
   ]
  },
  {
   "cell_type": "code",
   "execution_count": null,
   "metadata": {},
   "outputs": [],
   "source": []
  },
  {
   "cell_type": "code",
   "execution_count": null,
   "metadata": {},
   "outputs": [],
   "source": []
  },
  {
   "cell_type": "code",
   "execution_count": null,
   "metadata": {},
   "outputs": [],
   "source": []
  },
  {
   "cell_type": "code",
   "execution_count": null,
   "metadata": {},
   "outputs": [],
   "source": []
  }
 ],
 "metadata": {
  "kernelspec": {
   "display_name": "Python 3",
   "language": "python",
   "name": "python3"
  },
  "language_info": {
   "codemirror_mode": {
    "name": "ipython",
    "version": 3
   },
   "file_extension": ".py",
   "mimetype": "text/x-python",
   "name": "python",
   "nbconvert_exporter": "python",
   "pygments_lexer": "ipython3",
   "version": "3.8.0"
  },
  "latex_envs": {
   "LaTeX_envs_menu_present": true,
   "autoclose": true,
   "autocomplete": true,
   "bibliofile": "biblio.bib",
   "cite_by": "apalike",
   "current_citInitial": 1,
   "eqLabelWithNumbers": true,
   "eqNumInitial": 1,
   "hotkeys": {
    "equation": "Ctrl-E",
    "itemize": "Ctrl-I"
   },
   "labels_anchors": false,
   "latex_user_defs": false,
   "report_style_numbering": false,
   "user_envs_cfg": false
  }
 },
 "nbformat": 4,
 "nbformat_minor": 5
}
