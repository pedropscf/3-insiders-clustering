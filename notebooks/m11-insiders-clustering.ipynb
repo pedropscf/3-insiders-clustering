{
 "cells": [
  {
   "cell_type": "markdown",
   "metadata": {},
   "source": [
    "# 0. Imports packages, modules and functions"
   ]
  },
  {
   "cell_type": "markdown",
   "metadata": {},
   "source": [
    "## 0.1. Import modules"
   ]
  },
  {
   "cell_type": "code",
   "execution_count": 161,
   "metadata": {
    "ExecuteTime": {
     "end_time": "2021-09-07T21:40:19.405934Z",
     "start_time": "2021-09-07T21:40:19.389770Z"
    }
   },
   "outputs": [],
   "source": [
    "import pandas                   as pd\n",
    "import numpy                    as np\n",
    "import seaborn                  as sns\n",
    "import matplotlib.pyplot        as plt\n",
    "import umap.umap_               as ump\n",
    "\n",
    "from plotly      import express as px\n",
    "\n",
    "from scipy                      import stats\n",
    "from scipy.cluster              import hierarchy    as hc \n",
    "from sklearn                    import cluster\n",
    "from sklearn                    import decomposition\n",
    "from sklearn                    import metrics\n",
    "from sklearn.preprocessing      import RobustScaler, MinMaxScaler, StandardScaler\n",
    "from yellowbrick.cluster        import KElbowVisualizer, SilhouetteVisualizer\n",
    "\n",
    "import datetime\n",
    "import inflection\n",
    "import math\n",
    "import random\n",
    "import warnings\n",
    "\n",
    "warnings.filterwarnings('ignore')\n",
    "%matplotlib inline"
   ]
  },
  {
   "cell_type": "markdown",
   "metadata": {},
   "source": [
    "## 0.2. Helper functions"
   ]
  },
  {
   "cell_type": "code",
   "execution_count": 105,
   "metadata": {
    "ExecuteTime": {
     "end_time": "2021-09-07T21:33:24.330183Z",
     "start_time": "2021-09-07T21:33:24.306806Z"
    },
    "code_folding": [
     0,
     12,
     17,
     22,
     39,
     63
    ]
   },
   "outputs": [],
   "source": [
    "def cramer_v(x, y):\n",
    "    cm = pd.crosstab(x, y).as_matrix()\n",
    "    n = cm.sum()\n",
    "    r, k = cm.shape\n",
    "    \n",
    "    chi2 = stats.chi2_contingency(cm)[0]\n",
    "    chi2_corrected = chi2 - ((k - 1)*(r - 1))/(n - 1)\n",
    "    k_corrected = k - ((k - 1)**2)/(n - 1)\n",
    "    r_corrected = r - ((r - 1)**2)/(n - 1)\n",
    "    \n",
    "    return np.sqrt((chi2_corrected/n) / (min(k_corrected - 1, r_corrected - 1)))\n",
    "\n",
    "def get_class_count(df, identification, target_var):\n",
    "    \n",
    "    class_count = df.groupby([target_var])[identification].nunique()\n",
    "    return {key: class_count[key] for key in list(class_count.keys())}\n",
    "\n",
    "def get_class_proportion(df, identification, target_var):\n",
    "    \n",
    "    class_counts = get_class_count(df, identification , target_var)\n",
    "    return {val[0]: round(100 * val[1]/df.shape[0], 2) for val in class_counts.items()}\n",
    "\n",
    "def performance(model, x_train, y_train):\n",
    "    # define scoring metrics\n",
    "    scoring = {'accuracy': 'accuracy',\n",
    "               'precision': make_scorer(precision_score),\n",
    "               'recall': make_scorer(recall_score),\n",
    "               'f1_score': make_scorer(f1_score),\n",
    "               'roc_auc_score': make_scorer(roc_auc_score),\n",
    "               'mcc': make_scorer(matthews_corrcoef)}\n",
    "\n",
    "    # calculate scores with cross_validate\n",
    "    scores = cross_validate(model, x_train, y_train, cv=10, scoring=scoring)\n",
    "\n",
    "    # performance data frame\n",
    "    performance = pd.DataFrame.from_dict(scores).drop(['fit_time', 'score_time'], axis=1)\n",
    "    performance = pd.DataFrame(performance.mean()).T\n",
    "    return performance\n",
    "\n",
    "def performance_test(model_name, model, x_test, y_test):\n",
    "    # predcitions\n",
    "    yhat = model.predict(x_test)\n",
    "    \n",
    "    # Performance metrics\n",
    "    precision = precision_score(y_test, yhat)\n",
    "    recall = recall_score(y_test, yhat)\n",
    "    f1 = f1_score(y_test, yhat)\n",
    "    roc_auc = roc_auc_score(y_test, yhat)\n",
    "    mcc = matthews_corrcoef(y_test, yhat)\n",
    "\n",
    "    # Performance dataframe\n",
    "    performance_df = pd.DataFrame({'precision': precision, 'recall': recall, 'f1_score': f1, \n",
    "                               'roc_auc_score': roc_auc, 'mcc': mcc}, index=[model_name])\n",
    "\n",
    "    # confusion matrix\n",
    "    cm = confusion_matrix(y_test, yhat)\n",
    "\n",
    "    # dataframe for heatmap\n",
    "    cm_df = pd.DataFrame(cm, columns=['predicted_not_churn', 'predicted_churn'], \n",
    "                         index=['actual_not_churn', 'actual_churn'])\n",
    "    \n",
    "    return performance_df, cm_df\n",
    "\n",
    "def silhouette_analysis(n_clusters, labels, data):\n",
    "    '''\n",
    "    Functions that analyzes the silhouette of a previous trained clustering model, for n chosen clusters and data.\n",
    "    \n",
    "    param n_clusters\n",
    "    List of integers representing the number of clusters that will be analyzed.\n",
    "    \n",
    "    param labels\n",
    "    Array of labels obtained from the model prediction. Attention that the data used to create the labels, must be coherent with the data used in this function.\n",
    "    \n",
    "    param data\n",
    "    The dataframe used to generate the labels.\n",
    "    '''\n",
    "    from sklearn.metrics import silhouette_samples\n",
    "    \n",
    "    fig, ax = plt.subplots( int(len(n_clusters)/2.0) + 1, 2 )\n",
    "    fig.set_size_inches(25,20)\n",
    "    \n",
    "    for k in n_clusters:\n",
    "        \n",
    "        q,mod = divmod(k, 2)\n",
    "        \n",
    "        ax[q-1, mod].set_xlim([-0.1, 1])\n",
    "        ax[q-1, mod].set_ylim([0, len(data)])\n",
    "        \n",
    "        silhouette_samples_values = silhouette_samples(data, labels)\n",
    "        \n",
    "        y_start = 0\n",
    "        \n",
    "        for i in range(k):\n",
    "            \n",
    "            # selecting the cluster i\n",
    "            i_th_samples = silhouette_samples_values[labels == i]\n",
    "            \n",
    "            # sorting the values\n",
    "            i_th_samples.sort()\n",
    "            \n",
    "            # sizing the cluster i\n",
    "            size_cluster_i = i_th_samples.shape[0]\n",
    "            y_end = y_start + size_cluster_i\n",
    "            \n",
    "            # updating the color\n",
    "            cmap = cm.get_cmap('Spectral')\n",
    "            color = cmap(i / k)\n",
    "            \n",
    "            # ploting the silhouette for cluster i\n",
    "            ax[q-1,mod].fill_betweenx(np.arange(y_start, y_end), 0, i_th_samples)\n",
    "            \n",
    "            # updating y axis\n",
    "            y_start = y_end\n",
    "            \n",
    "        ax[q-1,mod].set_yticks([])\n",
    "        ax[q-1,mod].set_xticks([-0.1, 0, 0.2, 0.4, 0.6, 0.8, 1])\n",
    "        \n",
    "    plt.show()"
   ]
  },
  {
   "cell_type": "markdown",
   "metadata": {},
   "source": [
    "## 0.3. Loading data"
   ]
  },
  {
   "cell_type": "code",
   "execution_count": 106,
   "metadata": {
    "ExecuteTime": {
     "end_time": "2021-09-07T21:33:30.030965Z",
     "start_time": "2021-09-07T21:33:29.511019Z"
    }
   },
   "outputs": [],
   "source": [
    " # load data\n",
    "df_raw = pd.read_csv( '../data/raw/Ecommerce.csv', encoding = \"ISO-8859-1\" )\n",
    "\n",
    "# drop extra column\n",
    "df_raw = df_raw.drop( columns=['Unnamed: 8'], axis=1 )"
   ]
  },
  {
   "cell_type": "markdown",
   "metadata": {},
   "source": [
    "## 0.4. Image controls"
   ]
  },
  {
   "cell_type": "code",
   "execution_count": 107,
   "metadata": {
    "ExecuteTime": {
     "end_time": "2021-09-07T21:33:36.903233Z",
     "start_time": "2021-09-07T21:33:36.887270Z"
    }
   },
   "outputs": [
    {
     "name": "stdout",
     "output_type": "stream",
     "text": [
      "Populating the interactive namespace from numpy and matplotlib\n"
     ]
    },
    {
     "data": {
      "text/html": [
       "<style>.container { width:100% !important; }</style>"
      ],
      "text/plain": [
       "<IPython.core.display.HTML object>"
      ]
     },
     "metadata": {},
     "output_type": "display_data"
    }
   ],
   "source": [
    " def jupyter_settings():\n",
    "    %matplotlib inline\n",
    "    %pylab inline\n",
    "    \n",
    "    plt.style.use( 'ggplot')\n",
    "    plt.rcParams['figure.figsize'] = [24, 15]\n",
    "    plt.rcParams['font.size'] = 24\n",
    "    \n",
    "    display( HTML( '<style>.container { width:100% !important; }</style>') )\n",
    "    pd.options.display.max_columns = None\n",
    "    pd.options.display.max_rows = None\n",
    "    pd.set_option( 'display.expand_frame_repr', False )\n",
    "    \n",
    "    sns.set()\n",
    "    \n",
    "jupyter_settings()"
   ]
  },
  {
   "cell_type": "markdown",
   "metadata": {},
   "source": [
    "# 1. Data description"
   ]
  },
  {
   "cell_type": "markdown",
   "metadata": {},
   "source": []
  },
  {
   "cell_type": "code",
   "execution_count": 108,
   "metadata": {
    "ExecuteTime": {
     "end_time": "2021-09-07T21:33:38.999238Z",
     "start_time": "2021-09-07T21:33:38.986922Z"
    }
   },
   "outputs": [],
   "source": [
    "df1 = df_raw.copy()"
   ]
  },
  {
   "cell_type": "markdown",
   "metadata": {},
   "source": [
    "## 1.1. Rename columns"
   ]
  },
  {
   "cell_type": "code",
   "execution_count": 109,
   "metadata": {
    "ExecuteTime": {
     "end_time": "2021-09-07T21:33:40.319250Z",
     "start_time": "2021-09-07T21:33:40.315396Z"
    }
   },
   "outputs": [
    {
     "data": {
      "text/plain": [
       "Index(['InvoiceNo', 'StockCode', 'Description', 'Quantity', 'InvoiceDate',\n",
       "       'UnitPrice', 'CustomerID', 'Country'],\n",
       "      dtype='object')"
      ]
     },
     "execution_count": 109,
     "metadata": {},
     "output_type": "execute_result"
    }
   ],
   "source": [
    "df1.columns"
   ]
  },
  {
   "cell_type": "code",
   "execution_count": 110,
   "metadata": {
    "ExecuteTime": {
     "end_time": "2021-09-07T21:33:40.839482Z",
     "start_time": "2021-09-07T21:33:40.829336Z"
    }
   },
   "outputs": [
    {
     "data": {
      "text/html": [
       "<div>\n",
       "<style scoped>\n",
       "    .dataframe tbody tr th:only-of-type {\n",
       "        vertical-align: middle;\n",
       "    }\n",
       "\n",
       "    .dataframe tbody tr th {\n",
       "        vertical-align: top;\n",
       "    }\n",
       "\n",
       "    .dataframe thead th {\n",
       "        text-align: right;\n",
       "    }\n",
       "</style>\n",
       "<table border=\"1\" class=\"dataframe\">\n",
       "  <thead>\n",
       "    <tr style=\"text-align: right;\">\n",
       "      <th></th>\n",
       "      <th>invoice_no</th>\n",
       "      <th>stock_code</th>\n",
       "      <th>description</th>\n",
       "      <th>quantity</th>\n",
       "      <th>invoice_date</th>\n",
       "      <th>unit_price</th>\n",
       "      <th>customer_id</th>\n",
       "      <th>country</th>\n",
       "    </tr>\n",
       "  </thead>\n",
       "  <tbody>\n",
       "    <tr>\n",
       "      <th>0</th>\n",
       "      <td>536365</td>\n",
       "      <td>85123A</td>\n",
       "      <td>WHITE HANGING HEART T-LIGHT HOLDER</td>\n",
       "      <td>6</td>\n",
       "      <td>29-Nov-16</td>\n",
       "      <td>2.55</td>\n",
       "      <td>17850.0</td>\n",
       "      <td>United Kingdom</td>\n",
       "    </tr>\n",
       "    <tr>\n",
       "      <th>1</th>\n",
       "      <td>536365</td>\n",
       "      <td>71053</td>\n",
       "      <td>WHITE METAL LANTERN</td>\n",
       "      <td>6</td>\n",
       "      <td>29-Nov-16</td>\n",
       "      <td>3.39</td>\n",
       "      <td>17850.0</td>\n",
       "      <td>United Kingdom</td>\n",
       "    </tr>\n",
       "    <tr>\n",
       "      <th>2</th>\n",
       "      <td>536365</td>\n",
       "      <td>84406B</td>\n",
       "      <td>CREAM CUPID HEARTS COAT HANGER</td>\n",
       "      <td>8</td>\n",
       "      <td>29-Nov-16</td>\n",
       "      <td>2.75</td>\n",
       "      <td>17850.0</td>\n",
       "      <td>United Kingdom</td>\n",
       "    </tr>\n",
       "    <tr>\n",
       "      <th>3</th>\n",
       "      <td>536365</td>\n",
       "      <td>84029G</td>\n",
       "      <td>KNITTED UNION FLAG HOT WATER BOTTLE</td>\n",
       "      <td>6</td>\n",
       "      <td>29-Nov-16</td>\n",
       "      <td>3.39</td>\n",
       "      <td>17850.0</td>\n",
       "      <td>United Kingdom</td>\n",
       "    </tr>\n",
       "    <tr>\n",
       "      <th>4</th>\n",
       "      <td>536365</td>\n",
       "      <td>84029E</td>\n",
       "      <td>RED WOOLLY HOTTIE WHITE HEART.</td>\n",
       "      <td>6</td>\n",
       "      <td>29-Nov-16</td>\n",
       "      <td>3.39</td>\n",
       "      <td>17850.0</td>\n",
       "      <td>United Kingdom</td>\n",
       "    </tr>\n",
       "  </tbody>\n",
       "</table>\n",
       "</div>"
      ],
      "text/plain": [
       "  invoice_no stock_code                          description  quantity invoice_date  unit_price  customer_id         country\n",
       "0     536365     85123A   WHITE HANGING HEART T-LIGHT HOLDER         6    29-Nov-16        2.55      17850.0  United Kingdom\n",
       "1     536365      71053                  WHITE METAL LANTERN         6    29-Nov-16        3.39      17850.0  United Kingdom\n",
       "2     536365     84406B       CREAM CUPID HEARTS COAT HANGER         8    29-Nov-16        2.75      17850.0  United Kingdom\n",
       "3     536365     84029G  KNITTED UNION FLAG HOT WATER BOTTLE         6    29-Nov-16        3.39      17850.0  United Kingdom\n",
       "4     536365     84029E       RED WOOLLY HOTTIE WHITE HEART.         6    29-Nov-16        3.39      17850.0  United Kingdom"
      ]
     },
     "execution_count": 110,
     "metadata": {},
     "output_type": "execute_result"
    }
   ],
   "source": [
    "cols_new = ['invoice_no', 'stock_code', 'description', 'quantity', 'invoice_date', 'unit_price', 'customer_id', 'country']\n",
    "\n",
    "df1.columns = cols_new\n",
    "df1.head()"
   ]
  },
  {
   "cell_type": "markdown",
   "metadata": {},
   "source": [
    "## 1.2. Data dimensions"
   ]
  },
  {
   "cell_type": "code",
   "execution_count": 111,
   "metadata": {
    "ExecuteTime": {
     "end_time": "2021-09-07T21:33:42.514147Z",
     "start_time": "2021-09-07T21:33:42.511219Z"
    }
   },
   "outputs": [
    {
     "name": "stdout",
     "output_type": "stream",
     "text": [
      "Number of rows: 541909\n",
      "Number of cols: 8\n"
     ]
    }
   ],
   "source": [
    "print( 'Number of rows: {}'.format( df1.shape[0] ) )\n",
    "print( 'Number of cols: {}'.format( df1.shape[1] ) )"
   ]
  },
  {
   "cell_type": "markdown",
   "metadata": {},
   "source": [
    "The dataset consist of more than 500,000 items purchases with different purchases must refer to the same purchase order and customer, while it has only 8 columns."
   ]
  },
  {
   "cell_type": "markdown",
   "metadata": {},
   "source": [
    "## 1.3. Data types"
   ]
  },
  {
   "cell_type": "code",
   "execution_count": 112,
   "metadata": {
    "ExecuteTime": {
     "end_time": "2021-09-07T21:33:43.304504Z",
     "start_time": "2021-09-07T21:33:43.298651Z"
    }
   },
   "outputs": [
    {
     "data": {
      "text/plain": [
       "invoice_no       object\n",
       "stock_code       object\n",
       "description      object\n",
       "quantity          int64\n",
       "invoice_date     object\n",
       "unit_price      float64\n",
       "customer_id     float64\n",
       "country          object\n",
       "dtype: object"
      ]
     },
     "execution_count": 112,
     "metadata": {},
     "output_type": "execute_result"
    }
   ],
   "source": [
    "df1.dtypes"
   ]
  },
  {
   "cell_type": "markdown",
   "metadata": {},
   "source": [
    "The types of the invoice number, customer id and invoice date seem to have the wrong type. Customer ID and invoice number should be represented by the int number type, while the invoice date should be represented by a datetime."
   ]
  },
  {
   "cell_type": "markdown",
   "metadata": {},
   "source": [
    "## 1.4. Check NA"
   ]
  },
  {
   "cell_type": "code",
   "execution_count": 113,
   "metadata": {
    "ExecuteTime": {
     "end_time": "2021-09-07T21:33:44.281625Z",
     "start_time": "2021-09-07T21:33:44.181670Z"
    }
   },
   "outputs": [
    {
     "data": {
      "text/plain": [
       "invoice_no           0\n",
       "stock_code           0\n",
       "description       1454\n",
       "quantity             0\n",
       "invoice_date         0\n",
       "unit_price           0\n",
       "customer_id     135080\n",
       "country              0\n",
       "dtype: int64"
      ]
     },
     "execution_count": 113,
     "metadata": {},
     "output_type": "execute_result"
    }
   ],
   "source": [
    "df1.isna().sum()"
   ]
  },
  {
   "cell_type": "markdown",
   "metadata": {},
   "source": [
    "## 1.5. Replacing NA"
   ]
  },
  {
   "cell_type": "code",
   "execution_count": 114,
   "metadata": {
    "ExecuteTime": {
     "end_time": "2021-09-07T21:33:44.886113Z",
     "start_time": "2021-09-07T21:33:44.590948Z"
    }
   },
   "outputs": [],
   "source": [
    "df_missing = df1.loc[df1['customer_id'].isna(),:]\n",
    "df_not_missing = df1.loc[~df1['customer_id'].isna(),:]\n",
    "\n",
    "# create reference\n",
    "df_backup = pd.DataFrame(df_missing['invoice_no'].drop_duplicates())\n",
    "df_backup['customer_id'] = np.arange(19000, 19000+len(df_backup), 1)\n",
    "\n",
    "# merge original with reference dataframe\n",
    "df1 = pd.merge(df1, df_backup, on='invoice_no', how='left')\n",
    "\n",
    "# Coalescing columns customer_id_x and customer_id_y\n",
    "df1['customer_id'] = df1['customer_id_x'].combine_first(df1['customer_id_y'])\n",
    "\n",
    "# Droping extra customer_id columns\n",
    "df1 = df1.drop(columns=['customer_id_x', 'customer_id_y'], axis=1)"
   ]
  },
  {
   "cell_type": "code",
   "execution_count": 115,
   "metadata": {
    "ExecuteTime": {
     "end_time": "2021-09-07T21:33:44.959354Z",
     "start_time": "2021-09-07T21:33:44.887649Z"
    }
   },
   "outputs": [
    {
     "name": "stdout",
     "output_type": "stream",
     "text": [
      "Removed data: 0.27%\n"
     ]
    }
   ],
   "source": [
    "df1 = df1.dropna(subset=['description', 'customer_id'])\n",
    "\n",
    "print('Removed data: {:.2f}%'.format(100*(1 - (df1.shape[0]/df_raw.shape[0]))))"
   ]
  },
  {
   "cell_type": "code",
   "execution_count": 116,
   "metadata": {
    "ExecuteTime": {
     "end_time": "2021-09-07T21:33:45.428174Z",
     "start_time": "2021-09-07T21:33:45.318168Z"
    }
   },
   "outputs": [
    {
     "data": {
      "text/plain": [
       "invoice_no      0\n",
       "stock_code      0\n",
       "description     0\n",
       "quantity        0\n",
       "invoice_date    0\n",
       "unit_price      0\n",
       "country         0\n",
       "customer_id     0\n",
       "dtype: int64"
      ]
     },
     "execution_count": 116,
     "metadata": {},
     "output_type": "execute_result"
    }
   ],
   "source": [
    "df1.isna().sum()"
   ]
  },
  {
   "cell_type": "markdown",
   "metadata": {},
   "source": [
    "The data has many problems with NA purchase orders, that may be represented by some business problem or relevant information, such as reversed logistics to product change or devolution. It can be represented by both the negative quantities and the letters whitin the invoice number. All those data will be removed from the dataset."
   ]
  },
  {
   "cell_type": "markdown",
   "metadata": {},
   "source": [
    "## 1.6. Change dtypes"
   ]
  },
  {
   "cell_type": "code",
   "execution_count": 117,
   "metadata": {
    "ExecuteTime": {
     "end_time": "2021-09-07T21:33:48.045976Z",
     "start_time": "2021-09-07T21:33:47.962245Z"
    }
   },
   "outputs": [
    {
     "data": {
      "text/html": [
       "<div>\n",
       "<style scoped>\n",
       "    .dataframe tbody tr th:only-of-type {\n",
       "        vertical-align: middle;\n",
       "    }\n",
       "\n",
       "    .dataframe tbody tr th {\n",
       "        vertical-align: top;\n",
       "    }\n",
       "\n",
       "    .dataframe thead th {\n",
       "        text-align: right;\n",
       "    }\n",
       "</style>\n",
       "<table border=\"1\" class=\"dataframe\">\n",
       "  <thead>\n",
       "    <tr style=\"text-align: right;\">\n",
       "      <th></th>\n",
       "      <th>invoice_no</th>\n",
       "      <th>stock_code</th>\n",
       "      <th>description</th>\n",
       "      <th>quantity</th>\n",
       "      <th>invoice_date</th>\n",
       "      <th>unit_price</th>\n",
       "      <th>country</th>\n",
       "      <th>customer_id</th>\n",
       "    </tr>\n",
       "  </thead>\n",
       "  <tbody>\n",
       "    <tr>\n",
       "      <th>0</th>\n",
       "      <td>536365</td>\n",
       "      <td>85123A</td>\n",
       "      <td>WHITE HANGING HEART T-LIGHT HOLDER</td>\n",
       "      <td>6</td>\n",
       "      <td>2016-11-29</td>\n",
       "      <td>2.55</td>\n",
       "      <td>United Kingdom</td>\n",
       "      <td>17850</td>\n",
       "    </tr>\n",
       "    <tr>\n",
       "      <th>1</th>\n",
       "      <td>536365</td>\n",
       "      <td>71053</td>\n",
       "      <td>WHITE METAL LANTERN</td>\n",
       "      <td>6</td>\n",
       "      <td>2016-11-29</td>\n",
       "      <td>3.39</td>\n",
       "      <td>United Kingdom</td>\n",
       "      <td>17850</td>\n",
       "    </tr>\n",
       "    <tr>\n",
       "      <th>2</th>\n",
       "      <td>536365</td>\n",
       "      <td>84406B</td>\n",
       "      <td>CREAM CUPID HEARTS COAT HANGER</td>\n",
       "      <td>8</td>\n",
       "      <td>2016-11-29</td>\n",
       "      <td>2.75</td>\n",
       "      <td>United Kingdom</td>\n",
       "      <td>17850</td>\n",
       "    </tr>\n",
       "    <tr>\n",
       "      <th>3</th>\n",
       "      <td>536365</td>\n",
       "      <td>84029G</td>\n",
       "      <td>KNITTED UNION FLAG HOT WATER BOTTLE</td>\n",
       "      <td>6</td>\n",
       "      <td>2016-11-29</td>\n",
       "      <td>3.39</td>\n",
       "      <td>United Kingdom</td>\n",
       "      <td>17850</td>\n",
       "    </tr>\n",
       "    <tr>\n",
       "      <th>4</th>\n",
       "      <td>536365</td>\n",
       "      <td>84029E</td>\n",
       "      <td>RED WOOLLY HOTTIE WHITE HEART.</td>\n",
       "      <td>6</td>\n",
       "      <td>2016-11-29</td>\n",
       "      <td>3.39</td>\n",
       "      <td>United Kingdom</td>\n",
       "      <td>17850</td>\n",
       "    </tr>\n",
       "  </tbody>\n",
       "</table>\n",
       "</div>"
      ],
      "text/plain": [
       "  invoice_no stock_code                          description  quantity invoice_date  unit_price         country  customer_id\n",
       "0     536365     85123A   WHITE HANGING HEART T-LIGHT HOLDER         6   2016-11-29        2.55  United Kingdom        17850\n",
       "1     536365      71053                  WHITE METAL LANTERN         6   2016-11-29        3.39  United Kingdom        17850\n",
       "2     536365     84406B       CREAM CUPID HEARTS COAT HANGER         8   2016-11-29        2.75  United Kingdom        17850\n",
       "3     536365     84029G  KNITTED UNION FLAG HOT WATER BOTTLE         6   2016-11-29        3.39  United Kingdom        17850\n",
       "4     536365     84029E       RED WOOLLY HOTTIE WHITE HEART.         6   2016-11-29        3.39  United Kingdom        17850"
      ]
     },
     "execution_count": 117,
     "metadata": {},
     "output_type": "execute_result"
    }
   ],
   "source": [
    " # invoice date\n",
    "df1['invoice_date'] = pd.to_datetime( df1['invoice_date'], format='%d-%b-%y' )\n",
    "\n",
    "# customer id\n",
    "df1['customer_id'] = df1['customer_id'].astype( int )\n",
    "df1.head()"
   ]
  },
  {
   "cell_type": "code",
   "execution_count": 118,
   "metadata": {
    "ExecuteTime": {
     "end_time": "2021-09-07T21:33:48.304352Z",
     "start_time": "2021-09-07T21:33:48.300188Z"
    }
   },
   "outputs": [
    {
     "data": {
      "text/plain": [
       "invoice_no              object\n",
       "stock_code              object\n",
       "description             object\n",
       "quantity                 int64\n",
       "invoice_date    datetime64[ns]\n",
       "unit_price             float64\n",
       "country                 object\n",
       "customer_id              int64\n",
       "dtype: object"
      ]
     },
     "execution_count": 118,
     "metadata": {},
     "output_type": "execute_result"
    }
   ],
   "source": [
    "df1.dtypes"
   ]
  },
  {
   "cell_type": "markdown",
   "metadata": {},
   "source": [
    "Even after the removal of NA values, it was not possible to remove all invoice numbers with a letter in it. So, it was not possible to change the invoice number type. Maybe it could be necessary to create features that properly represents the business problem behind the reason of a letter to appear in it. "
   ]
  },
  {
   "cell_type": "markdown",
   "metadata": {},
   "source": [
    "## 1.7. Descriptive statistics"
   ]
  },
  {
   "cell_type": "markdown",
   "metadata": {},
   "source": [
    "It is intended to solve the clusterization problem with the RFM model, the descriptive statistics will be done again after the creation of the variables necessary to create the model."
   ]
  },
  {
   "cell_type": "code",
   "execution_count": 119,
   "metadata": {
    "ExecuteTime": {
     "end_time": "2021-09-07T21:33:49.687436Z",
     "start_time": "2021-09-07T21:33:49.656818Z"
    }
   },
   "outputs": [],
   "source": [
    "num_att = df1.select_dtypes(include=['int64', 'float64'])\n",
    "cat_att = df1.select_dtypes(exclude=['int64','float64','datetime64[ns]'])"
   ]
  },
  {
   "cell_type": "markdown",
   "metadata": {},
   "source": [
    "### 1.7.1. Numerical attributes"
   ]
  },
  {
   "cell_type": "code",
   "execution_count": 120,
   "metadata": {
    "ExecuteTime": {
     "end_time": "2021-09-07T21:33:50.453803Z",
     "start_time": "2021-09-07T21:33:50.065583Z"
    }
   },
   "outputs": [
    {
     "data": {
      "text/html": [
       "<div>\n",
       "<style scoped>\n",
       "    .dataframe tbody tr th:only-of-type {\n",
       "        vertical-align: middle;\n",
       "    }\n",
       "\n",
       "    .dataframe tbody tr th {\n",
       "        vertical-align: top;\n",
       "    }\n",
       "\n",
       "    .dataframe thead th {\n",
       "        text-align: right;\n",
       "    }\n",
       "</style>\n",
       "<table border=\"1\" class=\"dataframe\">\n",
       "  <thead>\n",
       "    <tr style=\"text-align: right;\">\n",
       "      <th></th>\n",
       "      <th>attributes</th>\n",
       "      <th>min</th>\n",
       "      <th>max</th>\n",
       "      <th>range</th>\n",
       "      <th>mean</th>\n",
       "      <th>median</th>\n",
       "      <th>std</th>\n",
       "      <th>skew</th>\n",
       "      <th>kurtosis</th>\n",
       "    </tr>\n",
       "  </thead>\n",
       "  <tbody>\n",
       "    <tr>\n",
       "      <th>0</th>\n",
       "      <td>quantity</td>\n",
       "      <td>-80995.00</td>\n",
       "      <td>80995.0</td>\n",
       "      <td>161990.00</td>\n",
       "      <td>9.603129</td>\n",
       "      <td>3.00</td>\n",
       "      <td>218.007397</td>\n",
       "      <td>-0.281253</td>\n",
       "      <td>120252.449063</td>\n",
       "    </tr>\n",
       "    <tr>\n",
       "      <th>1</th>\n",
       "      <td>unit_price</td>\n",
       "      <td>-11062.06</td>\n",
       "      <td>38970.0</td>\n",
       "      <td>50032.06</td>\n",
       "      <td>4.623519</td>\n",
       "      <td>2.08</td>\n",
       "      <td>96.889538</td>\n",
       "      <td>186.257919</td>\n",
       "      <td>58848.017575</td>\n",
       "    </tr>\n",
       "    <tr>\n",
       "      <th>2</th>\n",
       "      <td>customer_id</td>\n",
       "      <td>12346.00</td>\n",
       "      <td>22709.0</td>\n",
       "      <td>10363.00</td>\n",
       "      <td>16678.153600</td>\n",
       "      <td>16241.00</td>\n",
       "      <td>2907.570262</td>\n",
       "      <td>0.493600</td>\n",
       "      <td>-0.792496</td>\n",
       "    </tr>\n",
       "  </tbody>\n",
       "</table>\n",
       "</div>"
      ],
      "text/plain": [
       "    attributes       min      max      range          mean    median          std        skew       kurtosis\n",
       "0     quantity -80995.00  80995.0  161990.00      9.603129      3.00   218.007397   -0.281253  120252.449063\n",
       "1   unit_price -11062.06  38970.0   50032.06      4.623519      2.08    96.889538  186.257919   58848.017575\n",
       "2  customer_id  12346.00  22709.0   10363.00  16678.153600  16241.00  2907.570262    0.493600      -0.792496"
      ]
     },
     "execution_count": 120,
     "metadata": {},
     "output_type": "execute_result"
    }
   ],
   "source": [
    "# Central tendency - mean, median\n",
    "\n",
    "mean = pd.DataFrame(num_att.apply(np.mean)).T\n",
    "median = pd.DataFrame(num_att.apply(np.median)).T\n",
    "\n",
    "# Dispersion - std, min, max, range, skew, kurtosis\n",
    "\n",
    "std_deviation = pd.DataFrame(num_att.apply(np.std)).T\n",
    "min_value = pd.DataFrame(num_att.apply(min)).T\n",
    "max_value = pd.DataFrame(num_att.apply(max)).T\n",
    "range_values = pd.DataFrame(num_att.apply(lambda x: x.max() - x.min())).T\n",
    "skew = pd.DataFrame(num_att.apply(lambda x: x.skew())).T\n",
    "kurtosis = pd.DataFrame(num_att.apply(lambda x: x.kurtosis())).T\n",
    "\n",
    "desc_stat = pd.concat([min_value, max_value, range_values, mean, median, std_deviation, skew, kurtosis]).T.reset_index()\n",
    "desc_stat.columns = ['attributes', 'min', 'max', 'range', 'mean', 'median', 'std', 'skew', 'kurtosis']\n",
    "desc_stat"
   ]
  },
  {
   "cell_type": "markdown",
   "metadata": {},
   "source": [
    "From the results we can observe values of standard deviation one order higher than the mean and the median, also with negative values. For the unit price, we can see that there are some occurrencies of products with price 0."
   ]
  },
  {
   "cell_type": "markdown",
   "metadata": {},
   "source": [
    "### 1.7.2. Categorical attributes"
   ]
  },
  {
   "cell_type": "code",
   "execution_count": 121,
   "metadata": {
    "ExecuteTime": {
     "end_time": "2021-09-07T21:33:53.446123Z",
     "start_time": "2021-09-07T21:33:51.278783Z"
    }
   },
   "outputs": [],
   "source": [
    "strings1 = len( cat_att.loc[ cat_att['invoice_no'].apply( lambda x: bool(re.search( '[^0-9]+', x ) ) ), 'invoice_no' ].drop_duplicates() )\n",
    "strings2 = len( cat_att.loc[ cat_att['stock_code'].apply( lambda x: bool(re.search( '[^0-9]+', x ) ) ), 'stock_code' ].drop_duplicates() )\n",
    "strings3 = len(cat_att.loc[ cat_att['stock_code'].apply( lambda x: bool(re.search( '^[a-zA-Z]+$', x ) ) ), 'stock_code' ])\n",
    "\n",
    "strings = cat_att.loc[ cat_att['stock_code'].apply( lambda x: bool(re.search( '^[a-zA-Z]+$', x ) ) ), 'stock_code' ].unique()\n",
    "\n",
    "total1 = len(cat_att['invoice_no'].drop_duplicates())\n",
    "total2 = len(cat_att['stock_code'].drop_duplicates())\n",
    "\n",
    "perc1 = 100 * strings1 / total1\n",
    "perc2 = 100 * strings2 / total2"
   ]
  },
  {
   "cell_type": "code",
   "execution_count": 122,
   "metadata": {
    "ExecuteTime": {
     "end_time": "2021-09-07T21:33:53.450944Z",
     "start_time": "2021-09-07T21:33:53.447571Z"
    }
   },
   "outputs": [
    {
     "name": "stdout",
     "output_type": "stream",
     "text": [
      "There are a total of 3839/24446 (15.70 %)) different invoice numbers with a letter in it, 1073/3958 (27.11 %) different stock codes with a letter in it and 2754 appearances of the letters ['POST' 'D' 'DOT' 'M' 'S' 'AMAZONFEE' 'm' 'DCGSSBOY' 'DCGSSGIRL' 'PADS'\n",
      " 'B' 'CRUK'] as a stock code\n"
     ]
    }
   ],
   "source": [
    "print('There are a total of {}/{} ({:,.2f} %)) different invoice numbers with a letter in it, {}/{} ({:,.2f} %) different stock codes with a letter in it and {} appearances of the letters {} as a stock code'.format( strings1, total1, perc1, strings2, total2, perc2, strings3, strings ))"
   ]
  },
  {
   "cell_type": "markdown",
   "metadata": {},
   "source": [
    "# 2. Variable filtering"
   ]
  },
  {
   "cell_type": "code",
   "execution_count": 123,
   "metadata": {
    "ExecuteTime": {
     "end_time": "2021-09-07T21:34:00.128875Z",
     "start_time": "2021-09-07T21:34:00.106625Z"
    }
   },
   "outputs": [],
   "source": [
    "df2 = df1.copy()"
   ]
  },
  {
   "cell_type": "markdown",
   "metadata": {},
   "source": [
    "All values of clients with a quantity equal or lesser than 0 will be removed from the dataset, since this type of customer will not be elected as a insider anyway. Afterwards, the quantity column will be removed, since its information is contained inside the ticket per product."
   ]
  },
  {
   "cell_type": "code",
   "execution_count": 124,
   "metadata": {
    "ExecuteTime": {
     "end_time": "2021-09-07T21:34:01.330012Z",
     "start_time": "2021-09-07T21:34:01.159931Z"
    }
   },
   "outputs": [],
   "source": [
    "# prices higher than 1 cent\n",
    "df2 = df2.loc[(df1['unit_price'] > 0.01), :]\n",
    "\n",
    "# customer from a known region\n",
    "df2 = df2[~df2['country'].isin(['European Community', 'Unspecified' ] ) ]\n",
    "\n",
    "# stock code different from not explained codes\n",
    "df2 = df2[~df2['stock_code'].isin( ['POST' 'D' 'DOT' 'M' 'S' 'AMAZONFEE' 'm' 'DCGSSBOY' 'DCGSSGIRL' 'PADS' 'B' 'CRUK'] ) ]\n",
    "\n",
    "# returned products\n",
    "df2_returns = df2.loc[df2['quantity'] < 0, :]\n",
    "df2_returns['gross_returns'] = df2_returns['quantity'] * df2_returns['unit_price'] * (- 1)\n",
    "\n",
    "# positive quantities\n",
    "df2_purchase = df2.loc[(df2['quantity'] > 0), :]\n",
    "df2_purchase.loc[:,'gross_purchases'] = df2_purchase.loc[:,'quantity'] * df2_purchase.loc[:,'unit_price']\n"
   ]
  },
  {
   "cell_type": "markdown",
   "metadata": {},
   "source": [
    "# 3. Feature engineering"
   ]
  },
  {
   "cell_type": "code",
   "execution_count": 125,
   "metadata": {
    "ExecuteTime": {
     "end_time": "2021-09-07T21:34:05.206814Z",
     "start_time": "2021-09-07T21:34:05.190862Z"
    }
   },
   "outputs": [],
   "source": [
    "df3 = df2.copy()"
   ]
  },
  {
   "cell_type": "markdown",
   "metadata": {},
   "source": [
    "## 3.1. Feature creation"
   ]
  },
  {
   "cell_type": "markdown",
   "metadata": {},
   "source": [
    "The features will be created in order to adjust the clusterization problem with a RFM model solution. For this, the main features within the model will be the monetary, frequency and recency. The monetary consists of the total amount of revenue from a given client, the frequency measures how many different purchases the client has made, while the recency measures the difference between the actual date (highest date within the dataset) and the last purchase date."
   ]
  },
  {
   "cell_type": "code",
   "execution_count": 126,
   "metadata": {
    "ExecuteTime": {
     "end_time": "2021-09-07T21:34:11.956873Z",
     "start_time": "2021-09-07T21:34:11.942854Z"
    }
   },
   "outputs": [],
   "source": [
    " # data reference\n",
    "df_ref = df3.drop( ['invoice_no', 'stock_code', 'description', 'quantity',\n",
    "                    'invoice_date', 'unit_price', 'country'], axis=1 ).drop_duplicates().reset_index(drop=True)"
   ]
  },
  {
   "cell_type": "markdown",
   "metadata": {},
   "source": [
    "### 3.1.1. Gross purchases and devolutions"
   ]
  },
  {
   "cell_type": "code",
   "execution_count": 127,
   "metadata": {
    "ExecuteTime": {
     "end_time": "2021-09-07T21:34:12.596099Z",
     "start_time": "2021-09-07T21:34:12.527492Z"
    }
   },
   "outputs": [
    {
     "data": {
      "text/html": [
       "<div>\n",
       "<style scoped>\n",
       "    .dataframe tbody tr th:only-of-type {\n",
       "        vertical-align: middle;\n",
       "    }\n",
       "\n",
       "    .dataframe tbody tr th {\n",
       "        vertical-align: top;\n",
       "    }\n",
       "\n",
       "    .dataframe thead th {\n",
       "        text-align: right;\n",
       "    }\n",
       "</style>\n",
       "<table border=\"1\" class=\"dataframe\">\n",
       "  <thead>\n",
       "    <tr style=\"text-align: right;\">\n",
       "      <th></th>\n",
       "      <th>customer_id</th>\n",
       "      <th>purchases</th>\n",
       "      <th>devolutions</th>\n",
       "    </tr>\n",
       "  </thead>\n",
       "  <tbody>\n",
       "    <tr>\n",
       "      <th>0</th>\n",
       "      <td>17850</td>\n",
       "      <td>5391.21</td>\n",
       "      <td>-102.58</td>\n",
       "    </tr>\n",
       "    <tr>\n",
       "      <th>1</th>\n",
       "      <td>13047</td>\n",
       "      <td>3237.54</td>\n",
       "      <td>-158.44</td>\n",
       "    </tr>\n",
       "    <tr>\n",
       "      <th>2</th>\n",
       "      <td>12583</td>\n",
       "      <td>7281.38</td>\n",
       "      <td>-94.04</td>\n",
       "    </tr>\n",
       "    <tr>\n",
       "      <th>3</th>\n",
       "      <td>13748</td>\n",
       "      <td>948.25</td>\n",
       "      <td>0.00</td>\n",
       "    </tr>\n",
       "    <tr>\n",
       "      <th>4</th>\n",
       "      <td>15100</td>\n",
       "      <td>876.00</td>\n",
       "      <td>-240.90</td>\n",
       "    </tr>\n",
       "    <tr>\n",
       "      <th>5</th>\n",
       "      <td>15291</td>\n",
       "      <td>4668.30</td>\n",
       "      <td>-71.79</td>\n",
       "    </tr>\n",
       "    <tr>\n",
       "      <th>6</th>\n",
       "      <td>14688</td>\n",
       "      <td>5630.87</td>\n",
       "      <td>-523.49</td>\n",
       "    </tr>\n",
       "    <tr>\n",
       "      <th>7</th>\n",
       "      <td>17809</td>\n",
       "      <td>5411.91</td>\n",
       "      <td>-784.29</td>\n",
       "    </tr>\n",
       "    <tr>\n",
       "      <th>8</th>\n",
       "      <td>15311</td>\n",
       "      <td>60767.90</td>\n",
       "      <td>-1348.56</td>\n",
       "    </tr>\n",
       "    <tr>\n",
       "      <th>9</th>\n",
       "      <td>14527</td>\n",
       "      <td>8508.82</td>\n",
       "      <td>-797.44</td>\n",
       "    </tr>\n",
       "  </tbody>\n",
       "</table>\n",
       "</div>"
      ],
      "text/plain": [
       "   customer_id  purchases  devolutions\n",
       "0        17850    5391.21      -102.58\n",
       "1        13047    3237.54      -158.44\n",
       "2        12583    7281.38       -94.04\n",
       "3        13748     948.25         0.00\n",
       "4        15100     876.00      -240.90\n",
       "5        15291    4668.30       -71.79\n",
       "6        14688    5630.87      -523.49\n",
       "7        17809    5411.91      -784.29\n",
       "8        15311   60767.90     -1348.56\n",
       "9        14527    8508.82      -797.44"
      ]
     },
     "execution_count": 127,
     "metadata": {},
     "output_type": "execute_result"
    }
   ],
   "source": [
    "# Purchases\n",
    "df3['purchases'] = df2_purchase['quantity'] * df2_purchase['unit_price']\n",
    "df3['devolutions'] = df2_returns['quantity'] * df2_returns['unit_price']\n",
    "\n",
    "# Monetary\n",
    "df_monetary = df3[['customer_id', 'purchases', 'devolutions']].groupby( 'customer_id' ).sum().reset_index()\n",
    "df_ref = pd.merge( df_ref, df_monetary, on='customer_id', how='left' )\n",
    "df_ref.head(10)"
   ]
  },
  {
   "cell_type": "markdown",
   "metadata": {},
   "source": [
    "### 3.1.2. Recency for purchases and devolutions - newest occurence"
   ]
  },
  {
   "cell_type": "code",
   "execution_count": 128,
   "metadata": {
    "ExecuteTime": {
     "end_time": "2021-09-07T21:34:13.023090Z",
     "start_time": "2021-09-07T21:34:12.970267Z"
    }
   },
   "outputs": [
    {
     "data": {
      "text/html": [
       "<div>\n",
       "<style scoped>\n",
       "    .dataframe tbody tr th:only-of-type {\n",
       "        vertical-align: middle;\n",
       "    }\n",
       "\n",
       "    .dataframe tbody tr th {\n",
       "        vertical-align: top;\n",
       "    }\n",
       "\n",
       "    .dataframe thead th {\n",
       "        text-align: right;\n",
       "    }\n",
       "</style>\n",
       "<table border=\"1\" class=\"dataframe\">\n",
       "  <thead>\n",
       "    <tr style=\"text-align: right;\">\n",
       "      <th></th>\n",
       "      <th>customer_id</th>\n",
       "      <th>purchases</th>\n",
       "      <th>devolutions</th>\n",
       "      <th>recency_p</th>\n",
       "      <th>recency_d</th>\n",
       "    </tr>\n",
       "  </thead>\n",
       "  <tbody>\n",
       "    <tr>\n",
       "      <th>0</th>\n",
       "      <td>17850</td>\n",
       "      <td>5391.21</td>\n",
       "      <td>-102.58</td>\n",
       "      <td>372.0</td>\n",
       "      <td>302.0</td>\n",
       "    </tr>\n",
       "    <tr>\n",
       "      <th>1</th>\n",
       "      <td>13047</td>\n",
       "      <td>3237.54</td>\n",
       "      <td>-158.44</td>\n",
       "      <td>31.0</td>\n",
       "      <td>31.0</td>\n",
       "    </tr>\n",
       "    <tr>\n",
       "      <th>2</th>\n",
       "      <td>12583</td>\n",
       "      <td>7281.38</td>\n",
       "      <td>-94.04</td>\n",
       "      <td>2.0</td>\n",
       "      <td>56.0</td>\n",
       "    </tr>\n",
       "    <tr>\n",
       "      <th>3</th>\n",
       "      <td>13748</td>\n",
       "      <td>948.25</td>\n",
       "      <td>0.00</td>\n",
       "      <td>95.0</td>\n",
       "      <td>NaN</td>\n",
       "    </tr>\n",
       "    <tr>\n",
       "      <th>4</th>\n",
       "      <td>15100</td>\n",
       "      <td>876.00</td>\n",
       "      <td>-240.90</td>\n",
       "      <td>333.0</td>\n",
       "      <td>330.0</td>\n",
       "    </tr>\n",
       "    <tr>\n",
       "      <th>5</th>\n",
       "      <td>15291</td>\n",
       "      <td>4668.30</td>\n",
       "      <td>-71.79</td>\n",
       "      <td>25.0</td>\n",
       "      <td>172.0</td>\n",
       "    </tr>\n",
       "    <tr>\n",
       "      <th>6</th>\n",
       "      <td>14688</td>\n",
       "      <td>5630.87</td>\n",
       "      <td>-523.49</td>\n",
       "      <td>7.0</td>\n",
       "      <td>7.0</td>\n",
       "    </tr>\n",
       "    <tr>\n",
       "      <th>7</th>\n",
       "      <td>17809</td>\n",
       "      <td>5411.91</td>\n",
       "      <td>-784.29</td>\n",
       "      <td>16.0</td>\n",
       "      <td>16.0</td>\n",
       "    </tr>\n",
       "    <tr>\n",
       "      <th>8</th>\n",
       "      <td>15311</td>\n",
       "      <td>60767.90</td>\n",
       "      <td>-1348.56</td>\n",
       "      <td>0.0</td>\n",
       "      <td>0.0</td>\n",
       "    </tr>\n",
       "    <tr>\n",
       "      <th>9</th>\n",
       "      <td>14527</td>\n",
       "      <td>8508.82</td>\n",
       "      <td>-797.44</td>\n",
       "      <td>2.0</td>\n",
       "      <td>8.0</td>\n",
       "    </tr>\n",
       "  </tbody>\n",
       "</table>\n",
       "</div>"
      ],
      "text/plain": [
       "   customer_id  purchases  devolutions  recency_p  recency_d\n",
       "0        17850    5391.21      -102.58      372.0      302.0\n",
       "1        13047    3237.54      -158.44       31.0       31.0\n",
       "2        12583    7281.38       -94.04        2.0       56.0\n",
       "3        13748     948.25         0.00       95.0        NaN\n",
       "4        15100     876.00      -240.90      333.0      330.0\n",
       "5        15291    4668.30       -71.79       25.0      172.0\n",
       "6        14688    5630.87      -523.49        7.0        7.0\n",
       "7        17809    5411.91      -784.29       16.0       16.0\n",
       "8        15311   60767.90     -1348.56        0.0        0.0\n",
       "9        14527    8508.82      -797.44        2.0        8.0"
      ]
     },
     "execution_count": 128,
     "metadata": {},
     "output_type": "execute_result"
    }
   ],
   "source": [
    "# Recency - Last day purchase\n",
    "df_recency_p = df2_purchase[['customer_id', 'invoice_date']].groupby( 'customer_id' ).max().reset_index()\n",
    "df_recency_p['recency_p'] = ( df3['invoice_date'].max() - df_recency_p['invoice_date'] ).dt.days\n",
    "df_recency_p = df_recency_p[['customer_id', 'recency_p']].copy()\n",
    "df_ref = pd.merge( df_ref, df_recency_p, on='customer_id', how='left' )\n",
    "\n",
    "# Recency - Last day devolution\n",
    "df_recency_d = df2_returns[['customer_id', 'invoice_date']].groupby( 'customer_id' ).max().reset_index()\n",
    "df_recency_d['recency_d'] = ( df3['invoice_date'].max() - df_recency_d['invoice_date'] ).dt.days\n",
    "df_recency_d = df_recency_d[['customer_id', 'recency_d']].copy()\n",
    "df_ref = pd.merge( df_ref, df_recency_d, on='customer_id', how='left' )\n",
    "df_ref.head(10)"
   ]
  },
  {
   "cell_type": "markdown",
   "metadata": {},
   "source": [
    "### 3.1.3. Quantity of product pruchased or returned"
   ]
  },
  {
   "cell_type": "code",
   "execution_count": 129,
   "metadata": {
    "ExecuteTime": {
     "end_time": "2021-09-07T21:34:13.361479Z",
     "start_time": "2021-09-07T21:34:13.307536Z"
    }
   },
   "outputs": [
    {
     "data": {
      "text/html": [
       "<div>\n",
       "<style scoped>\n",
       "    .dataframe tbody tr th:only-of-type {\n",
       "        vertical-align: middle;\n",
       "    }\n",
       "\n",
       "    .dataframe tbody tr th {\n",
       "        vertical-align: top;\n",
       "    }\n",
       "\n",
       "    .dataframe thead th {\n",
       "        text-align: right;\n",
       "    }\n",
       "</style>\n",
       "<table border=\"1\" class=\"dataframe\">\n",
       "  <thead>\n",
       "    <tr style=\"text-align: right;\">\n",
       "      <th></th>\n",
       "      <th>customer_id</th>\n",
       "      <th>purchases</th>\n",
       "      <th>devolutions</th>\n",
       "      <th>recency_p</th>\n",
       "      <th>recency_d</th>\n",
       "      <th>quantity_p</th>\n",
       "      <th>quantity_d</th>\n",
       "    </tr>\n",
       "  </thead>\n",
       "  <tbody>\n",
       "    <tr>\n",
       "      <th>0</th>\n",
       "      <td>17850</td>\n",
       "      <td>5391.21</td>\n",
       "      <td>-102.58</td>\n",
       "      <td>372.0</td>\n",
       "      <td>302.0</td>\n",
       "      <td>35.0</td>\n",
       "      <td>-21.0</td>\n",
       "    </tr>\n",
       "    <tr>\n",
       "      <th>1</th>\n",
       "      <td>13047</td>\n",
       "      <td>3237.54</td>\n",
       "      <td>-158.44</td>\n",
       "      <td>31.0</td>\n",
       "      <td>31.0</td>\n",
       "      <td>132.0</td>\n",
       "      <td>-6.0</td>\n",
       "    </tr>\n",
       "    <tr>\n",
       "      <th>2</th>\n",
       "      <td>12583</td>\n",
       "      <td>7281.38</td>\n",
       "      <td>-94.04</td>\n",
       "      <td>2.0</td>\n",
       "      <td>56.0</td>\n",
       "      <td>1569.0</td>\n",
       "      <td>-50.0</td>\n",
       "    </tr>\n",
       "    <tr>\n",
       "      <th>3</th>\n",
       "      <td>13748</td>\n",
       "      <td>948.25</td>\n",
       "      <td>0.00</td>\n",
       "      <td>95.0</td>\n",
       "      <td>NaN</td>\n",
       "      <td>169.0</td>\n",
       "      <td>NaN</td>\n",
       "    </tr>\n",
       "    <tr>\n",
       "      <th>4</th>\n",
       "      <td>15100</td>\n",
       "      <td>876.00</td>\n",
       "      <td>-240.90</td>\n",
       "      <td>333.0</td>\n",
       "      <td>330.0</td>\n",
       "      <td>48.0</td>\n",
       "      <td>-22.0</td>\n",
       "    </tr>\n",
       "    <tr>\n",
       "      <th>5</th>\n",
       "      <td>15291</td>\n",
       "      <td>4668.30</td>\n",
       "      <td>-71.79</td>\n",
       "      <td>25.0</td>\n",
       "      <td>172.0</td>\n",
       "      <td>508.0</td>\n",
       "      <td>-27.0</td>\n",
       "    </tr>\n",
       "    <tr>\n",
       "      <th>6</th>\n",
       "      <td>14688</td>\n",
       "      <td>5630.87</td>\n",
       "      <td>-523.49</td>\n",
       "      <td>7.0</td>\n",
       "      <td>7.0</td>\n",
       "      <td>579.0</td>\n",
       "      <td>-281.0</td>\n",
       "    </tr>\n",
       "    <tr>\n",
       "      <th>7</th>\n",
       "      <td>17809</td>\n",
       "      <td>5411.91</td>\n",
       "      <td>-784.29</td>\n",
       "      <td>16.0</td>\n",
       "      <td>16.0</td>\n",
       "      <td>961.0</td>\n",
       "      <td>-41.0</td>\n",
       "    </tr>\n",
       "    <tr>\n",
       "      <th>8</th>\n",
       "      <td>15311</td>\n",
       "      <td>60767.90</td>\n",
       "      <td>-1348.56</td>\n",
       "      <td>0.0</td>\n",
       "      <td>0.0</td>\n",
       "      <td>2167.0</td>\n",
       "      <td>-231.0</td>\n",
       "    </tr>\n",
       "    <tr>\n",
       "      <th>9</th>\n",
       "      <td>14527</td>\n",
       "      <td>8508.82</td>\n",
       "      <td>-797.44</td>\n",
       "      <td>2.0</td>\n",
       "      <td>8.0</td>\n",
       "      <td>198.0</td>\n",
       "      <td>-3.0</td>\n",
       "    </tr>\n",
       "  </tbody>\n",
       "</table>\n",
       "</div>"
      ],
      "text/plain": [
       "   customer_id  purchases  devolutions  recency_p  recency_d  quantity_p  quantity_d\n",
       "0        17850    5391.21      -102.58      372.0      302.0        35.0       -21.0\n",
       "1        13047    3237.54      -158.44       31.0       31.0       132.0        -6.0\n",
       "2        12583    7281.38       -94.04        2.0       56.0      1569.0       -50.0\n",
       "3        13748     948.25         0.00       95.0        NaN       169.0         NaN\n",
       "4        15100     876.00      -240.90      333.0      330.0        48.0       -22.0\n",
       "5        15291    4668.30       -71.79       25.0      172.0       508.0       -27.0\n",
       "6        14688    5630.87      -523.49        7.0        7.0       579.0      -281.0\n",
       "7        17809    5411.91      -784.29       16.0       16.0       961.0       -41.0\n",
       "8        15311   60767.90     -1348.56        0.0        0.0      2167.0      -231.0\n",
       "9        14527    8508.82      -797.44        2.0        8.0       198.0        -3.0"
      ]
     },
     "execution_count": 129,
     "metadata": {},
     "output_type": "execute_result"
    }
   ],
   "source": [
    "# Frequency - both purchases and returns\n",
    "df_freq_p = df2_purchase[['customer_id', 'quantity']].drop_duplicates().groupby( 'customer_id' ).sum().reset_index().rename(columns={'quantity':'quantity_p'})\n",
    "df_ref = pd.merge( df_ref, df_freq_p, on='customer_id', how='left' )\n",
    "\n",
    "df_freq_d = df2_returns[['customer_id', 'quantity']].drop_duplicates().groupby( 'customer_id' ).sum().reset_index().rename(columns={'quantity':'quantity_d'})\n",
    "df_ref = pd.merge( df_ref, df_freq_d, on='customer_id', how='left' )\n",
    "df_ref.head(10)"
   ]
  },
  {
   "cell_type": "markdown",
   "metadata": {},
   "source": [
    "### 3.1.4. Quantity of invoices for purchases and returns"
   ]
  },
  {
   "cell_type": "code",
   "execution_count": 130,
   "metadata": {
    "ExecuteTime": {
     "end_time": "2021-09-07T21:34:13.741139Z",
     "start_time": "2021-09-07T21:34:13.653232Z"
    }
   },
   "outputs": [
    {
     "data": {
      "text/html": [
       "<div>\n",
       "<style scoped>\n",
       "    .dataframe tbody tr th:only-of-type {\n",
       "        vertical-align: middle;\n",
       "    }\n",
       "\n",
       "    .dataframe tbody tr th {\n",
       "        vertical-align: top;\n",
       "    }\n",
       "\n",
       "    .dataframe thead th {\n",
       "        text-align: right;\n",
       "    }\n",
       "</style>\n",
       "<table border=\"1\" class=\"dataframe\">\n",
       "  <thead>\n",
       "    <tr style=\"text-align: right;\">\n",
       "      <th></th>\n",
       "      <th>customer_id</th>\n",
       "      <th>purchases</th>\n",
       "      <th>devolutions</th>\n",
       "      <th>recency_p</th>\n",
       "      <th>recency_d</th>\n",
       "      <th>quantity_p</th>\n",
       "      <th>quantity_d</th>\n",
       "      <th>invoices_p</th>\n",
       "      <th>invoices_d</th>\n",
       "    </tr>\n",
       "  </thead>\n",
       "  <tbody>\n",
       "    <tr>\n",
       "      <th>0</th>\n",
       "      <td>17850</td>\n",
       "      <td>5391.21</td>\n",
       "      <td>-102.58</td>\n",
       "      <td>372.0</td>\n",
       "      <td>302.0</td>\n",
       "      <td>35.0</td>\n",
       "      <td>-21.0</td>\n",
       "      <td>34.0</td>\n",
       "      <td>1.0</td>\n",
       "    </tr>\n",
       "    <tr>\n",
       "      <th>1</th>\n",
       "      <td>13047</td>\n",
       "      <td>3237.54</td>\n",
       "      <td>-158.44</td>\n",
       "      <td>31.0</td>\n",
       "      <td>31.0</td>\n",
       "      <td>132.0</td>\n",
       "      <td>-6.0</td>\n",
       "      <td>10.0</td>\n",
       "      <td>8.0</td>\n",
       "    </tr>\n",
       "    <tr>\n",
       "      <th>2</th>\n",
       "      <td>12583</td>\n",
       "      <td>7281.38</td>\n",
       "      <td>-94.04</td>\n",
       "      <td>2.0</td>\n",
       "      <td>56.0</td>\n",
       "      <td>1569.0</td>\n",
       "      <td>-50.0</td>\n",
       "      <td>15.0</td>\n",
       "      <td>3.0</td>\n",
       "    </tr>\n",
       "    <tr>\n",
       "      <th>3</th>\n",
       "      <td>13748</td>\n",
       "      <td>948.25</td>\n",
       "      <td>0.00</td>\n",
       "      <td>95.0</td>\n",
       "      <td>NaN</td>\n",
       "      <td>169.0</td>\n",
       "      <td>NaN</td>\n",
       "      <td>5.0</td>\n",
       "      <td>NaN</td>\n",
       "    </tr>\n",
       "    <tr>\n",
       "      <th>4</th>\n",
       "      <td>15100</td>\n",
       "      <td>876.00</td>\n",
       "      <td>-240.90</td>\n",
       "      <td>333.0</td>\n",
       "      <td>330.0</td>\n",
       "      <td>48.0</td>\n",
       "      <td>-22.0</td>\n",
       "      <td>3.0</td>\n",
       "      <td>3.0</td>\n",
       "    </tr>\n",
       "    <tr>\n",
       "      <th>5</th>\n",
       "      <td>15291</td>\n",
       "      <td>4668.30</td>\n",
       "      <td>-71.79</td>\n",
       "      <td>25.0</td>\n",
       "      <td>172.0</td>\n",
       "      <td>508.0</td>\n",
       "      <td>-27.0</td>\n",
       "      <td>15.0</td>\n",
       "      <td>5.0</td>\n",
       "    </tr>\n",
       "    <tr>\n",
       "      <th>6</th>\n",
       "      <td>14688</td>\n",
       "      <td>5630.87</td>\n",
       "      <td>-523.49</td>\n",
       "      <td>7.0</td>\n",
       "      <td>7.0</td>\n",
       "      <td>579.0</td>\n",
       "      <td>-281.0</td>\n",
       "      <td>21.0</td>\n",
       "      <td>6.0</td>\n",
       "    </tr>\n",
       "    <tr>\n",
       "      <th>7</th>\n",
       "      <td>17809</td>\n",
       "      <td>5411.91</td>\n",
       "      <td>-784.29</td>\n",
       "      <td>16.0</td>\n",
       "      <td>16.0</td>\n",
       "      <td>961.0</td>\n",
       "      <td>-41.0</td>\n",
       "      <td>12.0</td>\n",
       "      <td>3.0</td>\n",
       "    </tr>\n",
       "    <tr>\n",
       "      <th>8</th>\n",
       "      <td>15311</td>\n",
       "      <td>60767.90</td>\n",
       "      <td>-1348.56</td>\n",
       "      <td>0.0</td>\n",
       "      <td>0.0</td>\n",
       "      <td>2167.0</td>\n",
       "      <td>-231.0</td>\n",
       "      <td>91.0</td>\n",
       "      <td>27.0</td>\n",
       "    </tr>\n",
       "    <tr>\n",
       "      <th>9</th>\n",
       "      <td>14527</td>\n",
       "      <td>8508.82</td>\n",
       "      <td>-797.44</td>\n",
       "      <td>2.0</td>\n",
       "      <td>8.0</td>\n",
       "      <td>198.0</td>\n",
       "      <td>-3.0</td>\n",
       "      <td>55.0</td>\n",
       "      <td>31.0</td>\n",
       "    </tr>\n",
       "  </tbody>\n",
       "</table>\n",
       "</div>"
      ],
      "text/plain": [
       "   customer_id  purchases  devolutions  recency_p  recency_d  quantity_p  quantity_d  invoices_p  invoices_d\n",
       "0        17850    5391.21      -102.58      372.0      302.0        35.0       -21.0        34.0         1.0\n",
       "1        13047    3237.54      -158.44       31.0       31.0       132.0        -6.0        10.0         8.0\n",
       "2        12583    7281.38       -94.04        2.0       56.0      1569.0       -50.0        15.0         3.0\n",
       "3        13748     948.25         0.00       95.0        NaN       169.0         NaN         5.0         NaN\n",
       "4        15100     876.00      -240.90      333.0      330.0        48.0       -22.0         3.0         3.0\n",
       "5        15291    4668.30       -71.79       25.0      172.0       508.0       -27.0        15.0         5.0\n",
       "6        14688    5630.87      -523.49        7.0        7.0       579.0      -281.0        21.0         6.0\n",
       "7        17809    5411.91      -784.29       16.0       16.0       961.0       -41.0        12.0         3.0\n",
       "8        15311   60767.90     -1348.56        0.0        0.0      2167.0      -231.0        91.0        27.0\n",
       "9        14527    8508.82      -797.44        2.0        8.0       198.0        -3.0        55.0        31.0"
      ]
     },
     "execution_count": 130,
     "metadata": {},
     "output_type": "execute_result"
    }
   ],
   "source": [
    "# Frequency - both purchases and returns\n",
    "df_invoices_p = df2_purchase[['customer_id', 'invoice_no']].drop_duplicates().groupby( 'customer_id' ).count().reset_index().rename(columns={'invoice_no':'invoices_p'})\n",
    "df_ref = pd.merge( df_ref, df_invoices_p, on='customer_id', how='left' )\n",
    "\n",
    "df_invoices_d = df2_returns[['customer_id', 'invoice_no']].drop_duplicates().groupby( 'customer_id' ).count().reset_index().rename(columns={'invoice_no':'invoices_d'})\n",
    "df_ref = pd.merge( df_ref, df_invoices_d, on='customer_id', how='left' )\n",
    "df_ref.head(10)"
   ]
  },
  {
   "cell_type": "markdown",
   "metadata": {},
   "source": [
    "### 3.1.5. Average ticket value"
   ]
  },
  {
   "cell_type": "code",
   "execution_count": 131,
   "metadata": {
    "ExecuteTime": {
     "end_time": "2021-09-07T21:34:14.056171Z",
     "start_time": "2021-09-07T21:34:14.021411Z"
    }
   },
   "outputs": [
    {
     "data": {
      "text/html": [
       "<div>\n",
       "<style scoped>\n",
       "    .dataframe tbody tr th:only-of-type {\n",
       "        vertical-align: middle;\n",
       "    }\n",
       "\n",
       "    .dataframe tbody tr th {\n",
       "        vertical-align: top;\n",
       "    }\n",
       "\n",
       "    .dataframe thead th {\n",
       "        text-align: right;\n",
       "    }\n",
       "</style>\n",
       "<table border=\"1\" class=\"dataframe\">\n",
       "  <thead>\n",
       "    <tr style=\"text-align: right;\">\n",
       "      <th></th>\n",
       "      <th>customer_id</th>\n",
       "      <th>purchases</th>\n",
       "      <th>devolutions</th>\n",
       "      <th>recency_p</th>\n",
       "      <th>recency_d</th>\n",
       "      <th>quantity_p</th>\n",
       "      <th>quantity_d</th>\n",
       "      <th>invoices_p</th>\n",
       "      <th>invoices_d</th>\n",
       "      <th>avg_ticket</th>\n",
       "    </tr>\n",
       "  </thead>\n",
       "  <tbody>\n",
       "    <tr>\n",
       "      <th>0</th>\n",
       "      <td>17850</td>\n",
       "      <td>5391.21</td>\n",
       "      <td>-102.58</td>\n",
       "      <td>372.0</td>\n",
       "      <td>302.0</td>\n",
       "      <td>35.0</td>\n",
       "      <td>-21.0</td>\n",
       "      <td>34.0</td>\n",
       "      <td>1.0</td>\n",
       "      <td>18.152222</td>\n",
       "    </tr>\n",
       "    <tr>\n",
       "      <th>1</th>\n",
       "      <td>13047</td>\n",
       "      <td>3237.54</td>\n",
       "      <td>-158.44</td>\n",
       "      <td>31.0</td>\n",
       "      <td>31.0</td>\n",
       "      <td>132.0</td>\n",
       "      <td>-6.0</td>\n",
       "      <td>10.0</td>\n",
       "      <td>8.0</td>\n",
       "      <td>18.822907</td>\n",
       "    </tr>\n",
       "    <tr>\n",
       "      <th>2</th>\n",
       "      <td>12583</td>\n",
       "      <td>7281.38</td>\n",
       "      <td>-94.04</td>\n",
       "      <td>2.0</td>\n",
       "      <td>56.0</td>\n",
       "      <td>1569.0</td>\n",
       "      <td>-50.0</td>\n",
       "      <td>15.0</td>\n",
       "      <td>3.0</td>\n",
       "      <td>29.479271</td>\n",
       "    </tr>\n",
       "    <tr>\n",
       "      <th>3</th>\n",
       "      <td>13748</td>\n",
       "      <td>948.25</td>\n",
       "      <td>0.00</td>\n",
       "      <td>95.0</td>\n",
       "      <td>NaN</td>\n",
       "      <td>169.0</td>\n",
       "      <td>NaN</td>\n",
       "      <td>5.0</td>\n",
       "      <td>NaN</td>\n",
       "      <td>33.866071</td>\n",
       "    </tr>\n",
       "    <tr>\n",
       "      <th>4</th>\n",
       "      <td>15100</td>\n",
       "      <td>876.00</td>\n",
       "      <td>-240.90</td>\n",
       "      <td>333.0</td>\n",
       "      <td>330.0</td>\n",
       "      <td>48.0</td>\n",
       "      <td>-22.0</td>\n",
       "      <td>3.0</td>\n",
       "      <td>3.0</td>\n",
       "      <td>292.000000</td>\n",
       "    </tr>\n",
       "    <tr>\n",
       "      <th>5</th>\n",
       "      <td>15291</td>\n",
       "      <td>4668.30</td>\n",
       "      <td>-71.79</td>\n",
       "      <td>25.0</td>\n",
       "      <td>172.0</td>\n",
       "      <td>508.0</td>\n",
       "      <td>-27.0</td>\n",
       "      <td>15.0</td>\n",
       "      <td>5.0</td>\n",
       "      <td>45.323301</td>\n",
       "    </tr>\n",
       "    <tr>\n",
       "      <th>6</th>\n",
       "      <td>14688</td>\n",
       "      <td>5630.87</td>\n",
       "      <td>-523.49</td>\n",
       "      <td>7.0</td>\n",
       "      <td>7.0</td>\n",
       "      <td>579.0</td>\n",
       "      <td>-281.0</td>\n",
       "      <td>21.0</td>\n",
       "      <td>6.0</td>\n",
       "      <td>17.219786</td>\n",
       "    </tr>\n",
       "    <tr>\n",
       "      <th>7</th>\n",
       "      <td>17809</td>\n",
       "      <td>5411.91</td>\n",
       "      <td>-784.29</td>\n",
       "      <td>16.0</td>\n",
       "      <td>16.0</td>\n",
       "      <td>961.0</td>\n",
       "      <td>-41.0</td>\n",
       "      <td>12.0</td>\n",
       "      <td>3.0</td>\n",
       "      <td>88.719836</td>\n",
       "    </tr>\n",
       "    <tr>\n",
       "      <th>8</th>\n",
       "      <td>15311</td>\n",
       "      <td>60767.90</td>\n",
       "      <td>-1348.56</td>\n",
       "      <td>0.0</td>\n",
       "      <td>0.0</td>\n",
       "      <td>2167.0</td>\n",
       "      <td>-231.0</td>\n",
       "      <td>91.0</td>\n",
       "      <td>27.0</td>\n",
       "      <td>25.543464</td>\n",
       "    </tr>\n",
       "    <tr>\n",
       "      <th>9</th>\n",
       "      <td>14527</td>\n",
       "      <td>8508.82</td>\n",
       "      <td>-797.44</td>\n",
       "      <td>2.0</td>\n",
       "      <td>8.0</td>\n",
       "      <td>198.0</td>\n",
       "      <td>-3.0</td>\n",
       "      <td>55.0</td>\n",
       "      <td>31.0</td>\n",
       "      <td>8.753930</td>\n",
       "    </tr>\n",
       "  </tbody>\n",
       "</table>\n",
       "</div>"
      ],
      "text/plain": [
       "   customer_id  purchases  devolutions  recency_p  recency_d  quantity_p  quantity_d  invoices_p  invoices_d  avg_ticket\n",
       "0        17850    5391.21      -102.58      372.0      302.0        35.0       -21.0        34.0         1.0   18.152222\n",
       "1        13047    3237.54      -158.44       31.0       31.0       132.0        -6.0        10.0         8.0   18.822907\n",
       "2        12583    7281.38       -94.04        2.0       56.0      1569.0       -50.0        15.0         3.0   29.479271\n",
       "3        13748     948.25         0.00       95.0        NaN       169.0         NaN         5.0         NaN   33.866071\n",
       "4        15100     876.00      -240.90      333.0      330.0        48.0       -22.0         3.0         3.0  292.000000\n",
       "5        15291    4668.30       -71.79       25.0      172.0       508.0       -27.0        15.0         5.0   45.323301\n",
       "6        14688    5630.87      -523.49        7.0        7.0       579.0      -281.0        21.0         6.0   17.219786\n",
       "7        17809    5411.91      -784.29       16.0       16.0       961.0       -41.0        12.0         3.0   88.719836\n",
       "8        15311   60767.90     -1348.56        0.0        0.0      2167.0      -231.0        91.0        27.0   25.543464\n",
       "9        14527    8508.82      -797.44        2.0        8.0       198.0        -3.0        55.0        31.0    8.753930"
      ]
     },
     "execution_count": 131,
     "metadata": {},
     "output_type": "execute_result"
    }
   ],
   "source": [
    "# average ticket - for purchases only\n",
    "df_avg_ticket = df2_purchase.loc[:,['customer_id', 'gross_purchases']].groupby('customer_id').mean().reset_index().rename(columns={'gross_purchases':'avg_ticket'})\n",
    "df_ref = pd.merge( df_ref, df_avg_ticket, on='customer_id', how='left' )\n",
    "df_ref.head(10)"
   ]
  },
  {
   "cell_type": "markdown",
   "metadata": {},
   "source": [
    "### 3.1.6. Average recency days"
   ]
  },
  {
   "cell_type": "code",
   "execution_count": 132,
   "metadata": {
    "ExecuteTime": {
     "end_time": "2021-09-07T21:34:15.678038Z",
     "start_time": "2021-09-07T21:34:14.694698Z"
    }
   },
   "outputs": [
    {
     "name": "stdout",
     "output_type": "stream",
     "text": [
      "        customer_id invoice_date  next_customer_id  next_next_customer_id next_invoice_date  avg_recency_days\n",
      "61619         12346   2017-01-16           12347.0                12347.0        2016-12-05               325\n",
      "14938         12347   2016-12-05           12347.0                12347.0        2017-01-24                50\n",
      "72246         12347   2017-01-24           12347.0                12347.0        2017-04-05                71\n",
      "148285        12347   2017-04-05           12347.0                12347.0        2017-06-07                63\n",
      "220572        12347   2017-06-07           12347.0                12347.0        2017-07-31                54\n",
      "286621        12347   2017-07-31           12347.0                12347.0        2017-10-29                90\n",
      "428957        12347   2017-10-29           12347.0                12348.0        2017-12-05                37\n",
      "535004        12347   2017-12-05           12348.0                12348.0        2016-12-14                 2\n",
      "34083         12348   2016-12-14           12348.0                12348.0        2017-01-23                40\n",
      "70051         12348   2017-01-23           12348.0                12348.0        2017-04-03                70\n",
      "   customer_id  purchases  devolutions  recency_p  recency_d  quantity_p  quantity_d  invoices_p  invoices_d  avg_ticket  avg_recency_days\n",
      "0        17850    5391.21      -102.58      372.0      302.0        35.0       -21.0        34.0         1.0   18.152222        124.333333\n",
      "1        13047    3237.54      -158.44       31.0       31.0       132.0        -6.0        10.0         8.0   18.822907         26.642857\n",
      "2        12583    7281.38       -94.04        2.0       56.0      1569.0       -50.0        15.0         3.0   29.479271         20.722222\n",
      "3        13748     948.25         0.00       95.0        NaN       169.0         NaN         5.0         NaN   33.866071         93.250000\n",
      "4        15100     876.00      -240.90      333.0      330.0        48.0       -22.0         3.0         3.0  292.000000         62.166667\n"
     ]
    }
   ],
   "source": [
    "df_aux = df3[['customer_id', 'invoice_date']].drop_duplicates().sort_values(['customer_id','invoice_date'], ascending=['True','False'])\n",
    "df_aux['next_customer_id'] = df_aux['customer_id'].shift(-1) # next customer\n",
    "df_aux['next_next_customer_id'] = df_aux['next_customer_id'].shift(-1) # next customer\n",
    "df_aux['next_invoice_date'] = df_aux['invoice_date'].shift(-1) # next invoice date\n",
    "\n",
    "#today =  datetime.datetime.fromtimestamp(df3['invoice_date'].max().to_datetime())\n",
    "#today_date = datetime.datetime.strptime( today, '%Y-%m-%d')\n",
    "today_date = df3['invoice_date'].max()\n",
    "\n",
    "df_aux['avg_recency_days'] = df_aux.apply(lambda x: (x['next_invoice_date'] - x['invoice_date']).days if (x['customer_id'] == x['next_customer_id']) \n",
    "                                                                                                    else ( (x['next_invoice_date'] - x['invoice_date']) if (x['customer_id'] == x['next_next_customer_id']) \n",
    "                                                                                                                                                        else (today_date - x['invoice_date']).days), axis=1)\n",
    "df_avg_recency_days = df_aux[['customer_id','avg_recency_days']].groupby('customer_id').mean().reset_index()\n",
    "\n",
    "# Merging\n",
    "df_ref = pd.merge(df_ref, df_avg_recency_days, on='customer_id', how='left')\n",
    "\n",
    "print(df_aux.head(10))\n",
    "print(df_ref.head())"
   ]
  },
  {
   "cell_type": "markdown",
   "metadata": {},
   "source": [
    "### 3.1.7. Basket size and unique products"
   ]
  },
  {
   "cell_type": "code",
   "execution_count": 133,
   "metadata": {
    "ExecuteTime": {
     "end_time": "2021-09-07T21:34:15.862074Z",
     "start_time": "2021-09-07T21:34:15.679785Z"
    }
   },
   "outputs": [],
   "source": [
    "df_aux = ( df2_purchase.loc[:,['customer_id','invoice_no','quantity']].groupby('customer_id')\n",
    "                                                                       .agg(n_purchase=('invoice_no', 'nunique'),\n",
    "                                                                            n_products=('quantity', 'sum'))\n",
    "                                                                       .reset_index() )\n",
    "\n",
    "df_aux['avg_basket_size'] = df_aux['n_products'] / df_aux['n_purchase']\n",
    "\n",
    "# Merge\n",
    "df_ref = pd.merge(df_ref, df_aux, how='left', on='customer_id')\n",
    "\n",
    "df_aux = ( df2_purchase.loc[:,['customer_id','invoice_no','stock_code']].groupby('customer_id')\n",
    "                                                                       .agg(n_purchase=('invoice_no', 'nunique'),\n",
    "                                                                            n_products=('stock_code', 'count'))\n",
    "                                                                       .reset_index() )\n",
    "\n",
    "df_aux['avg_variety'] = df_aux['n_products'] / df_aux['n_purchase']\n",
    "\n",
    "# Merge\n",
    "df_ref = pd.merge(df_ref, df_aux, how='left', on='customer_id')"
   ]
  },
  {
   "cell_type": "markdown",
   "metadata": {},
   "source": [
    "### 3.1.8. Frequency - purchases per day"
   ]
  },
  {
   "cell_type": "code",
   "execution_count": 134,
   "metadata": {
    "ExecuteTime": {
     "end_time": "2021-09-07T21:34:16.377177Z",
     "start_time": "2021-09-07T21:34:15.863829Z"
    }
   },
   "outputs": [
    {
     "data": {
      "text/html": [
       "<div>\n",
       "<style scoped>\n",
       "    .dataframe tbody tr th:only-of-type {\n",
       "        vertical-align: middle;\n",
       "    }\n",
       "\n",
       "    .dataframe tbody tr th {\n",
       "        vertical-align: top;\n",
       "    }\n",
       "\n",
       "    .dataframe thead th {\n",
       "        text-align: right;\n",
       "    }\n",
       "</style>\n",
       "<table border=\"1\" class=\"dataframe\">\n",
       "  <thead>\n",
       "    <tr style=\"text-align: right;\">\n",
       "      <th></th>\n",
       "      <th>customer_id</th>\n",
       "      <th>purchases</th>\n",
       "      <th>devolutions</th>\n",
       "      <th>recency_p</th>\n",
       "      <th>recency_d</th>\n",
       "      <th>quantity_p</th>\n",
       "      <th>quantity_d</th>\n",
       "      <th>invoices_p</th>\n",
       "      <th>invoices_d</th>\n",
       "      <th>avg_ticket</th>\n",
       "      <th>avg_recency_days</th>\n",
       "      <th>n_purchase_x</th>\n",
       "      <th>n_products_x</th>\n",
       "      <th>avg_basket_size</th>\n",
       "      <th>n_purchase_y</th>\n",
       "      <th>n_products_y</th>\n",
       "      <th>avg_variety</th>\n",
       "      <th>purchases_pday</th>\n",
       "    </tr>\n",
       "  </thead>\n",
       "  <tbody>\n",
       "    <tr>\n",
       "      <th>4937</th>\n",
       "      <td>16101</td>\n",
       "      <td>1290.70</td>\n",
       "      <td>-44.74</td>\n",
       "      <td>70.0</td>\n",
       "      <td>9.0</td>\n",
       "      <td>111.0</td>\n",
       "      <td>-9.0</td>\n",
       "      <td>1.0</td>\n",
       "      <td>2.0</td>\n",
       "      <td>16.982895</td>\n",
       "      <td>23.333333</td>\n",
       "      <td>1.0</td>\n",
       "      <td>757.0</td>\n",
       "      <td>757.000000</td>\n",
       "      <td>1.0</td>\n",
       "      <td>76.0</td>\n",
       "      <td>76.000000</td>\n",
       "      <td>1.000000</td>\n",
       "    </tr>\n",
       "    <tr>\n",
       "      <th>13</th>\n",
       "      <td>16029</td>\n",
       "      <td>81024.84</td>\n",
       "      <td>-30032.23</td>\n",
       "      <td>38.0</td>\n",
       "      <td>52.0</td>\n",
       "      <td>10828.0</td>\n",
       "      <td>-4873.0</td>\n",
       "      <td>63.0</td>\n",
       "      <td>13.0</td>\n",
       "      <td>334.813388</td>\n",
       "      <td>8.288889</td>\n",
       "      <td>63.0</td>\n",
       "      <td>40208.0</td>\n",
       "      <td>638.222222</td>\n",
       "      <td>63.0</td>\n",
       "      <td>242.0</td>\n",
       "      <td>3.841270</td>\n",
       "      <td>0.187500</td>\n",
       "    </tr>\n",
       "    <tr>\n",
       "      <th>5411</th>\n",
       "      <td>15748</td>\n",
       "      <td>149.31</td>\n",
       "      <td>0.00</td>\n",
       "      <td>40.0</td>\n",
       "      <td>NaN</td>\n",
       "      <td>16.0</td>\n",
       "      <td>NaN</td>\n",
       "      <td>1.0</td>\n",
       "      <td>NaN</td>\n",
       "      <td>7.110000</td>\n",
       "      <td>40.000000</td>\n",
       "      <td>1.0</td>\n",
       "      <td>51.0</td>\n",
       "      <td>51.000000</td>\n",
       "      <td>1.0</td>\n",
       "      <td>21.0</td>\n",
       "      <td>21.000000</td>\n",
       "      <td>1.000000</td>\n",
       "    </tr>\n",
       "    <tr>\n",
       "      <th>626</th>\n",
       "      <td>13240</td>\n",
       "      <td>663.65</td>\n",
       "      <td>0.00</td>\n",
       "      <td>96.0</td>\n",
       "      <td>NaN</td>\n",
       "      <td>52.0</td>\n",
       "      <td>NaN</td>\n",
       "      <td>4.0</td>\n",
       "      <td>NaN</td>\n",
       "      <td>9.905224</td>\n",
       "      <td>91.250000</td>\n",
       "      <td>4.0</td>\n",
       "      <td>298.0</td>\n",
       "      <td>74.500000</td>\n",
       "      <td>4.0</td>\n",
       "      <td>67.0</td>\n",
       "      <td>16.750000</td>\n",
       "      <td>0.014815</td>\n",
       "    </tr>\n",
       "    <tr>\n",
       "      <th>2189</th>\n",
       "      <td>15622</td>\n",
       "      <td>3709.56</td>\n",
       "      <td>-485.03</td>\n",
       "      <td>43.0</td>\n",
       "      <td>3.0</td>\n",
       "      <td>159.0</td>\n",
       "      <td>-58.0</td>\n",
       "      <td>9.0</td>\n",
       "      <td>7.0</td>\n",
       "      <td>20.051676</td>\n",
       "      <td>23.500000</td>\n",
       "      <td>9.0</td>\n",
       "      <td>1674.0</td>\n",
       "      <td>186.000000</td>\n",
       "      <td>9.0</td>\n",
       "      <td>185.0</td>\n",
       "      <td>20.555556</td>\n",
       "      <td>0.037500</td>\n",
       "    </tr>\n",
       "    <tr>\n",
       "      <th>2689</th>\n",
       "      <td>20052</td>\n",
       "      <td>1385.13</td>\n",
       "      <td>0.00</td>\n",
       "      <td>255.0</td>\n",
       "      <td>NaN</td>\n",
       "      <td>84.0</td>\n",
       "      <td>NaN</td>\n",
       "      <td>1.0</td>\n",
       "      <td>NaN</td>\n",
       "      <td>8.244821</td>\n",
       "      <td>255.000000</td>\n",
       "      <td>1.0</td>\n",
       "      <td>357.0</td>\n",
       "      <td>357.000000</td>\n",
       "      <td>1.0</td>\n",
       "      <td>168.0</td>\n",
       "      <td>168.000000</td>\n",
       "      <td>1.000000</td>\n",
       "    </tr>\n",
       "    <tr>\n",
       "      <th>2179</th>\n",
       "      <td>19754</td>\n",
       "      <td>1734.52</td>\n",
       "      <td>0.00</td>\n",
       "      <td>283.0</td>\n",
       "      <td>NaN</td>\n",
       "      <td>167.0</td>\n",
       "      <td>NaN</td>\n",
       "      <td>1.0</td>\n",
       "      <td>NaN</td>\n",
       "      <td>10.840750</td>\n",
       "      <td>283.000000</td>\n",
       "      <td>1.0</td>\n",
       "      <td>429.0</td>\n",
       "      <td>429.000000</td>\n",
       "      <td>1.0</td>\n",
       "      <td>160.0</td>\n",
       "      <td>160.000000</td>\n",
       "      <td>1.000000</td>\n",
       "    </tr>\n",
       "    <tr>\n",
       "      <th>888</th>\n",
       "      <td>15822</td>\n",
       "      <td>885.47</td>\n",
       "      <td>0.00</td>\n",
       "      <td>3.0</td>\n",
       "      <td>NaN</td>\n",
       "      <td>133.0</td>\n",
       "      <td>NaN</td>\n",
       "      <td>2.0</td>\n",
       "      <td>NaN</td>\n",
       "      <td>26.832424</td>\n",
       "      <td>179.500000</td>\n",
       "      <td>2.0</td>\n",
       "      <td>375.0</td>\n",
       "      <td>187.500000</td>\n",
       "      <td>2.0</td>\n",
       "      <td>33.0</td>\n",
       "      <td>16.500000</td>\n",
       "      <td>0.005602</td>\n",
       "    </tr>\n",
       "    <tr>\n",
       "      <th>2655</th>\n",
       "      <td>20006</td>\n",
       "      <td>0.00</td>\n",
       "      <td>-684.91</td>\n",
       "      <td>NaN</td>\n",
       "      <td>256.0</td>\n",
       "      <td>NaN</td>\n",
       "      <td>-1.0</td>\n",
       "      <td>NaN</td>\n",
       "      <td>1.0</td>\n",
       "      <td>NaN</td>\n",
       "      <td>256.000000</td>\n",
       "      <td>NaN</td>\n",
       "      <td>NaN</td>\n",
       "      <td>NaN</td>\n",
       "      <td>NaN</td>\n",
       "      <td>NaN</td>\n",
       "      <td>NaN</td>\n",
       "      <td>NaN</td>\n",
       "    </tr>\n",
       "    <tr>\n",
       "      <th>2413</th>\n",
       "      <td>16061</td>\n",
       "      <td>0.00</td>\n",
       "      <td>-29.95</td>\n",
       "      <td>NaN</td>\n",
       "      <td>269.0</td>\n",
       "      <td>NaN</td>\n",
       "      <td>-1.0</td>\n",
       "      <td>NaN</td>\n",
       "      <td>1.0</td>\n",
       "      <td>NaN</td>\n",
       "      <td>269.000000</td>\n",
       "      <td>NaN</td>\n",
       "      <td>NaN</td>\n",
       "      <td>NaN</td>\n",
       "      <td>NaN</td>\n",
       "      <td>NaN</td>\n",
       "      <td>NaN</td>\n",
       "      <td>NaN</td>\n",
       "    </tr>\n",
       "    <tr>\n",
       "      <th>4154</th>\n",
       "      <td>21260</td>\n",
       "      <td>1592.49</td>\n",
       "      <td>0.00</td>\n",
       "      <td>144.0</td>\n",
       "      <td>NaN</td>\n",
       "      <td>1.0</td>\n",
       "      <td>NaN</td>\n",
       "      <td>1.0</td>\n",
       "      <td>NaN</td>\n",
       "      <td>1592.490000</td>\n",
       "      <td>144.000000</td>\n",
       "      <td>1.0</td>\n",
       "      <td>1.0</td>\n",
       "      <td>1.000000</td>\n",
       "      <td>1.0</td>\n",
       "      <td>1.0</td>\n",
       "      <td>1.000000</td>\n",
       "      <td>1.000000</td>\n",
       "    </tr>\n",
       "    <tr>\n",
       "      <th>5609</th>\n",
       "      <td>22354</td>\n",
       "      <td>14.28</td>\n",
       "      <td>0.00</td>\n",
       "      <td>28.0</td>\n",
       "      <td>NaN</td>\n",
       "      <td>1.0</td>\n",
       "      <td>NaN</td>\n",
       "      <td>1.0</td>\n",
       "      <td>NaN</td>\n",
       "      <td>1.020000</td>\n",
       "      <td>28.000000</td>\n",
       "      <td>1.0</td>\n",
       "      <td>14.0</td>\n",
       "      <td>14.000000</td>\n",
       "      <td>1.0</td>\n",
       "      <td>14.0</td>\n",
       "      <td>14.000000</td>\n",
       "      <td>1.000000</td>\n",
       "    </tr>\n",
       "    <tr>\n",
       "      <th>1001</th>\n",
       "      <td>13033</td>\n",
       "      <td>190.55</td>\n",
       "      <td>0.00</td>\n",
       "      <td>357.0</td>\n",
       "      <td>NaN</td>\n",
       "      <td>28.0</td>\n",
       "      <td>NaN</td>\n",
       "      <td>1.0</td>\n",
       "      <td>NaN</td>\n",
       "      <td>17.322727</td>\n",
       "      <td>357.000000</td>\n",
       "      <td>1.0</td>\n",
       "      <td>83.0</td>\n",
       "      <td>83.000000</td>\n",
       "      <td>1.0</td>\n",
       "      <td>11.0</td>\n",
       "      <td>11.000000</td>\n",
       "      <td>1.000000</td>\n",
       "    </tr>\n",
       "    <tr>\n",
       "      <th>3275</th>\n",
       "      <td>13242</td>\n",
       "      <td>270.40</td>\n",
       "      <td>0.00</td>\n",
       "      <td>112.0</td>\n",
       "      <td>NaN</td>\n",
       "      <td>10.0</td>\n",
       "      <td>NaN</td>\n",
       "      <td>3.0</td>\n",
       "      <td>NaN</td>\n",
       "      <td>20.800000</td>\n",
       "      <td>106.500000</td>\n",
       "      <td>3.0</td>\n",
       "      <td>130.0</td>\n",
       "      <td>43.333333</td>\n",
       "      <td>3.0</td>\n",
       "      <td>13.0</td>\n",
       "      <td>4.333333</td>\n",
       "      <td>0.029412</td>\n",
       "    </tr>\n",
       "    <tr>\n",
       "      <th>3516</th>\n",
       "      <td>12815</td>\n",
       "      <td>1063.46</td>\n",
       "      <td>0.00</td>\n",
       "      <td>147.0</td>\n",
       "      <td>NaN</td>\n",
       "      <td>95.0</td>\n",
       "      <td>NaN</td>\n",
       "      <td>2.0</td>\n",
       "      <td>NaN</td>\n",
       "      <td>22.626809</td>\n",
       "      <td>99.000000</td>\n",
       "      <td>2.0</td>\n",
       "      <td>379.0</td>\n",
       "      <td>189.500000</td>\n",
       "      <td>2.0</td>\n",
       "      <td>47.0</td>\n",
       "      <td>23.500000</td>\n",
       "      <td>0.038462</td>\n",
       "    </tr>\n",
       "    <tr>\n",
       "      <th>5849</th>\n",
       "      <td>14480</td>\n",
       "      <td>279.05</td>\n",
       "      <td>0.00</td>\n",
       "      <td>11.0</td>\n",
       "      <td>NaN</td>\n",
       "      <td>45.0</td>\n",
       "      <td>NaN</td>\n",
       "      <td>1.0</td>\n",
       "      <td>NaN</td>\n",
       "      <td>21.465385</td>\n",
       "      <td>11.000000</td>\n",
       "      <td>1.0</td>\n",
       "      <td>143.0</td>\n",
       "      <td>143.000000</td>\n",
       "      <td>1.0</td>\n",
       "      <td>13.0</td>\n",
       "      <td>13.000000</td>\n",
       "      <td>1.000000</td>\n",
       "    </tr>\n",
       "    <tr>\n",
       "      <th>733</th>\n",
       "      <td>18016</td>\n",
       "      <td>1483.56</td>\n",
       "      <td>0.00</td>\n",
       "      <td>32.0</td>\n",
       "      <td>NaN</td>\n",
       "      <td>383.0</td>\n",
       "      <td>NaN</td>\n",
       "      <td>5.0</td>\n",
       "      <td>NaN</td>\n",
       "      <td>12.061463</td>\n",
       "      <td>72.800000</td>\n",
       "      <td>5.0</td>\n",
       "      <td>1029.0</td>\n",
       "      <td>205.800000</td>\n",
       "      <td>5.0</td>\n",
       "      <td>123.0</td>\n",
       "      <td>24.600000</td>\n",
       "      <td>0.015015</td>\n",
       "    </tr>\n",
       "    <tr>\n",
       "      <th>2457</th>\n",
       "      <td>19885</td>\n",
       "      <td>1464.43</td>\n",
       "      <td>0.00</td>\n",
       "      <td>267.0</td>\n",
       "      <td>NaN</td>\n",
       "      <td>104.0</td>\n",
       "      <td>NaN</td>\n",
       "      <td>1.0</td>\n",
       "      <td>NaN</td>\n",
       "      <td>8.273616</td>\n",
       "      <td>267.000000</td>\n",
       "      <td>1.0</td>\n",
       "      <td>385.0</td>\n",
       "      <td>385.000000</td>\n",
       "      <td>1.0</td>\n",
       "      <td>177.0</td>\n",
       "      <td>177.000000</td>\n",
       "      <td>1.000000</td>\n",
       "    </tr>\n",
       "    <tr>\n",
       "      <th>5762</th>\n",
       "      <td>22483</td>\n",
       "      <td>4444.83</td>\n",
       "      <td>0.00</td>\n",
       "      <td>18.0</td>\n",
       "      <td>NaN</td>\n",
       "      <td>228.0</td>\n",
       "      <td>NaN</td>\n",
       "      <td>1.0</td>\n",
       "      <td>NaN</td>\n",
       "      <td>8.450247</td>\n",
       "      <td>18.000000</td>\n",
       "      <td>1.0</td>\n",
       "      <td>1198.0</td>\n",
       "      <td>1198.000000</td>\n",
       "      <td>1.0</td>\n",
       "      <td>526.0</td>\n",
       "      <td>526.000000</td>\n",
       "      <td>1.000000</td>\n",
       "    </tr>\n",
       "    <tr>\n",
       "      <th>920</th>\n",
       "      <td>13890</td>\n",
       "      <td>1883.81</td>\n",
       "      <td>-22.95</td>\n",
       "      <td>1.0</td>\n",
       "      <td>18.0</td>\n",
       "      <td>70.0</td>\n",
       "      <td>-3.0</td>\n",
       "      <td>10.0</td>\n",
       "      <td>4.0</td>\n",
       "      <td>17.125545</td>\n",
       "      <td>27.538462</td>\n",
       "      <td>10.0</td>\n",
       "      <td>831.0</td>\n",
       "      <td>83.100000</td>\n",
       "      <td>10.0</td>\n",
       "      <td>110.0</td>\n",
       "      <td>11.000000</td>\n",
       "      <td>0.027933</td>\n",
       "    </tr>\n",
       "  </tbody>\n",
       "</table>\n",
       "</div>"
      ],
      "text/plain": [
       "      customer_id  purchases  devolutions  recency_p  recency_d  quantity_p  quantity_d  invoices_p  invoices_d   avg_ticket  avg_recency_days  n_purchase_x  n_products_x  avg_basket_size  n_purchase_y  n_products_y  avg_variety  purchases_pday\n",
       "4937        16101    1290.70       -44.74       70.0        9.0       111.0        -9.0         1.0         2.0    16.982895         23.333333           1.0         757.0       757.000000           1.0          76.0    76.000000        1.000000\n",
       "13          16029   81024.84    -30032.23       38.0       52.0     10828.0     -4873.0        63.0        13.0   334.813388          8.288889          63.0       40208.0       638.222222          63.0         242.0     3.841270        0.187500\n",
       "5411        15748     149.31         0.00       40.0        NaN        16.0         NaN         1.0         NaN     7.110000         40.000000           1.0          51.0        51.000000           1.0          21.0    21.000000        1.000000\n",
       "626         13240     663.65         0.00       96.0        NaN        52.0         NaN         4.0         NaN     9.905224         91.250000           4.0         298.0        74.500000           4.0          67.0    16.750000        0.014815\n",
       "2189        15622    3709.56      -485.03       43.0        3.0       159.0       -58.0         9.0         7.0    20.051676         23.500000           9.0        1674.0       186.000000           9.0         185.0    20.555556        0.037500\n",
       "2689        20052    1385.13         0.00      255.0        NaN        84.0         NaN         1.0         NaN     8.244821        255.000000           1.0         357.0       357.000000           1.0         168.0   168.000000        1.000000\n",
       "2179        19754    1734.52         0.00      283.0        NaN       167.0         NaN         1.0         NaN    10.840750        283.000000           1.0         429.0       429.000000           1.0         160.0   160.000000        1.000000\n",
       "888         15822     885.47         0.00        3.0        NaN       133.0         NaN         2.0         NaN    26.832424        179.500000           2.0         375.0       187.500000           2.0          33.0    16.500000        0.005602\n",
       "2655        20006       0.00      -684.91        NaN      256.0         NaN        -1.0         NaN         1.0          NaN        256.000000           NaN           NaN              NaN           NaN           NaN          NaN             NaN\n",
       "2413        16061       0.00       -29.95        NaN      269.0         NaN        -1.0         NaN         1.0          NaN        269.000000           NaN           NaN              NaN           NaN           NaN          NaN             NaN\n",
       "4154        21260    1592.49         0.00      144.0        NaN         1.0         NaN         1.0         NaN  1592.490000        144.000000           1.0           1.0         1.000000           1.0           1.0     1.000000        1.000000\n",
       "5609        22354      14.28         0.00       28.0        NaN         1.0         NaN         1.0         NaN     1.020000         28.000000           1.0          14.0        14.000000           1.0          14.0    14.000000        1.000000\n",
       "1001        13033     190.55         0.00      357.0        NaN        28.0         NaN         1.0         NaN    17.322727        357.000000           1.0          83.0        83.000000           1.0          11.0    11.000000        1.000000\n",
       "3275        13242     270.40         0.00      112.0        NaN        10.0         NaN         3.0         NaN    20.800000        106.500000           3.0         130.0        43.333333           3.0          13.0     4.333333        0.029412\n",
       "3516        12815    1063.46         0.00      147.0        NaN        95.0         NaN         2.0         NaN    22.626809         99.000000           2.0         379.0       189.500000           2.0          47.0    23.500000        0.038462\n",
       "5849        14480     279.05         0.00       11.0        NaN        45.0         NaN         1.0         NaN    21.465385         11.000000           1.0         143.0       143.000000           1.0          13.0    13.000000        1.000000\n",
       "733         18016    1483.56         0.00       32.0        NaN       383.0         NaN         5.0         NaN    12.061463         72.800000           5.0        1029.0       205.800000           5.0         123.0    24.600000        0.015015\n",
       "2457        19885    1464.43         0.00      267.0        NaN       104.0         NaN         1.0         NaN     8.273616        267.000000           1.0         385.0       385.000000           1.0         177.0   177.000000        1.000000\n",
       "5762        22483    4444.83         0.00       18.0        NaN       228.0         NaN         1.0         NaN     8.450247         18.000000           1.0        1198.0      1198.000000           1.0         526.0   526.000000        1.000000\n",
       "920         13890    1883.81       -22.95        1.0       18.0        70.0        -3.0        10.0         4.0    17.125545         27.538462          10.0         831.0        83.100000          10.0         110.0    11.000000        0.027933"
      ]
     },
     "execution_count": 134,
     "metadata": {},
     "output_type": "execute_result"
    }
   ],
   "source": [
    "df_aux = ( df2_purchase[['customer_id', 'invoice_no', 'invoice_date']].drop_duplicates()\n",
    "                                                            .groupby('customer_id')\n",
    "                                                            .agg( max_=('invoice_date', 'max'),\n",
    "                                                                  min_=('invoice_date', 'min'),\n",
    "                                                                  buys_=('invoice_no','count'))\n",
    "                                                            .reset_index()  )\n",
    "# Calculating the days\n",
    "df_aux['days_'] = df_aux[['max_','min_']].apply(lambda x: (x['max_'] - x['min_']).days + 1 , axis=1)\n",
    "\n",
    "# Frequency\n",
    "df_aux['purchases_pday'] = df_aux[['buys_','days_']].apply(lambda x: x['buys_'] / x['days_'] if (x['days_'] !=0 ) else 0, axis=1)\n",
    "\n",
    "# Merging\n",
    "df_ref = pd.merge(df_ref, df_aux[['customer_id','purchases_pday']], on='customer_id', how='left')\n",
    "df_ref.sample(20)"
   ]
  },
  {
   "cell_type": "code",
   "execution_count": 135,
   "metadata": {
    "ExecuteTime": {
     "end_time": "2021-09-07T21:34:18.716393Z",
     "start_time": "2021-09-07T21:34:18.711399Z"
    }
   },
   "outputs": [
    {
     "data": {
      "text/plain": [
       "customer_id            0\n",
       "purchases              0\n",
       "devolutions            0\n",
       "recency_p            215\n",
       "recency_d           4201\n",
       "quantity_p           215\n",
       "quantity_d          4201\n",
       "invoices_p           215\n",
       "invoices_d          4201\n",
       "avg_ticket           215\n",
       "avg_recency_days       0\n",
       "n_purchase_x         215\n",
       "n_products_x         215\n",
       "avg_basket_size      215\n",
       "n_purchase_y         215\n",
       "n_products_y         215\n",
       "avg_variety          215\n",
       "purchases_pday       215\n",
       "dtype: int64"
      ]
     },
     "execution_count": 135,
     "metadata": {},
     "output_type": "execute_result"
    }
   ],
   "source": [
    "df_ref.isna().sum()"
   ]
  },
  {
   "cell_type": "code",
   "execution_count": 136,
   "metadata": {
    "ExecuteTime": {
     "end_time": "2021-09-07T21:34:19.104214Z",
     "start_time": "2021-09-07T21:34:19.100937Z"
    }
   },
   "outputs": [
    {
     "name": "stdout",
     "output_type": "stream",
     "text": [
      "Number of rows: 5971\n",
      "Number of cols: 18\n"
     ]
    }
   ],
   "source": [
    "print( 'Number of rows: {}'.format( df_ref.shape[0] ) )\n",
    "print( 'Number of cols: {}'.format( df_ref.shape[1] ) )"
   ]
  },
  {
   "cell_type": "markdown",
   "metadata": {},
   "source": [
    "## 3.2. Feature engineering"
   ]
  },
  {
   "cell_type": "code",
   "execution_count": 137,
   "metadata": {
    "ExecuteTime": {
     "end_time": "2021-09-07T21:34:23.560541Z",
     "start_time": "2021-09-07T21:34:23.497462Z"
    }
   },
   "outputs": [
    {
     "data": {
      "text/html": [
       "<div>\n",
       "<style scoped>\n",
       "    .dataframe tbody tr th:only-of-type {\n",
       "        vertical-align: middle;\n",
       "    }\n",
       "\n",
       "    .dataframe tbody tr th {\n",
       "        vertical-align: top;\n",
       "    }\n",
       "\n",
       "    .dataframe thead th {\n",
       "        text-align: right;\n",
       "    }\n",
       "</style>\n",
       "<table border=\"1\" class=\"dataframe\">\n",
       "  <thead>\n",
       "    <tr style=\"text-align: right;\">\n",
       "      <th></th>\n",
       "      <th>customer_id</th>\n",
       "      <th>purchases</th>\n",
       "      <th>devolutions</th>\n",
       "      <th>recency_p</th>\n",
       "      <th>recency_d</th>\n",
       "      <th>quantity_p</th>\n",
       "      <th>quantity_d</th>\n",
       "      <th>invoices_p</th>\n",
       "      <th>invoices_d</th>\n",
       "      <th>avg_ticket</th>\n",
       "      <th>avg_recency_days</th>\n",
       "      <th>avg_basket_size</th>\n",
       "      <th>avg_variety</th>\n",
       "      <th>purchases_pday</th>\n",
       "    </tr>\n",
       "  </thead>\n",
       "  <tbody>\n",
       "    <tr>\n",
       "      <th>2673</th>\n",
       "      <td>17874</td>\n",
       "      <td>683.46</td>\n",
       "      <td>25.20</td>\n",
       "      <td>185.0</td>\n",
       "      <td>225.0</td>\n",
       "      <td>135.0</td>\n",
       "      <td>12.0</td>\n",
       "      <td>6.0</td>\n",
       "      <td>1.0</td>\n",
       "      <td>14.857826</td>\n",
       "      <td>85.000000</td>\n",
       "      <td>36.833333</td>\n",
       "      <td>7.666667</td>\n",
       "      <td>0.084507</td>\n",
       "    </tr>\n",
       "    <tr>\n",
       "      <th>3747</th>\n",
       "      <td>20918</td>\n",
       "      <td>0.00</td>\n",
       "      <td>106.53</td>\n",
       "      <td>365.0</td>\n",
       "      <td>178.0</td>\n",
       "      <td>0.0</td>\n",
       "      <td>1.0</td>\n",
       "      <td>0.0</td>\n",
       "      <td>1.0</td>\n",
       "      <td>0.000000</td>\n",
       "      <td>178.000000</td>\n",
       "      <td>0.000000</td>\n",
       "      <td>0.000000</td>\n",
       "      <td>0.000000</td>\n",
       "    </tr>\n",
       "    <tr>\n",
       "      <th>3631</th>\n",
       "      <td>16825</td>\n",
       "      <td>775.18</td>\n",
       "      <td>0.00</td>\n",
       "      <td>38.0</td>\n",
       "      <td>365.0</td>\n",
       "      <td>210.0</td>\n",
       "      <td>-0.0</td>\n",
       "      <td>2.0</td>\n",
       "      <td>0.0</td>\n",
       "      <td>27.685000</td>\n",
       "      <td>92.500000</td>\n",
       "      <td>283.000000</td>\n",
       "      <td>14.000000</td>\n",
       "      <td>0.013514</td>\n",
       "    </tr>\n",
       "    <tr>\n",
       "      <th>1568</th>\n",
       "      <td>13098</td>\n",
       "      <td>28882.44</td>\n",
       "      <td>223.56</td>\n",
       "      <td>1.0</td>\n",
       "      <td>3.0</td>\n",
       "      <td>1936.0</td>\n",
       "      <td>21.0</td>\n",
       "      <td>28.0</td>\n",
       "      <td>13.0</td>\n",
       "      <td>50.493776</td>\n",
       "      <td>9.323529</td>\n",
       "      <td>570.285714</td>\n",
       "      <td>20.428571</td>\n",
       "      <td>0.088328</td>\n",
       "    </tr>\n",
       "    <tr>\n",
       "      <th>4274</th>\n",
       "      <td>15118</td>\n",
       "      <td>244.80</td>\n",
       "      <td>0.00</td>\n",
       "      <td>134.0</td>\n",
       "      <td>365.0</td>\n",
       "      <td>1440.0</td>\n",
       "      <td>-0.0</td>\n",
       "      <td>1.0</td>\n",
       "      <td>0.0</td>\n",
       "      <td>244.800000</td>\n",
       "      <td>134.000000</td>\n",
       "      <td>1440.000000</td>\n",
       "      <td>1.000000</td>\n",
       "      <td>1.000000</td>\n",
       "    </tr>\n",
       "    <tr>\n",
       "      <th>5867</th>\n",
       "      <td>13521</td>\n",
       "      <td>1093.65</td>\n",
       "      <td>0.00</td>\n",
       "      <td>1.0</td>\n",
       "      <td>365.0</td>\n",
       "      <td>46.0</td>\n",
       "      <td>-0.0</td>\n",
       "      <td>3.0</td>\n",
       "      <td>0.0</td>\n",
       "      <td>2.508372</td>\n",
       "      <td>3.333333</td>\n",
       "      <td>245.333333</td>\n",
       "      <td>145.333333</td>\n",
       "      <td>0.300000</td>\n",
       "    </tr>\n",
       "    <tr>\n",
       "      <th>5882</th>\n",
       "      <td>17911</td>\n",
       "      <td>366.23</td>\n",
       "      <td>0.00</td>\n",
       "      <td>9.0</td>\n",
       "      <td>365.0</td>\n",
       "      <td>100.0</td>\n",
       "      <td>-0.0</td>\n",
       "      <td>1.0</td>\n",
       "      <td>0.0</td>\n",
       "      <td>9.390513</td>\n",
       "      <td>9.000000</td>\n",
       "      <td>223.000000</td>\n",
       "      <td>39.000000</td>\n",
       "      <td>1.000000</td>\n",
       "    </tr>\n",
       "    <tr>\n",
       "      <th>3910</th>\n",
       "      <td>21035</td>\n",
       "      <td>749.72</td>\n",
       "      <td>0.00</td>\n",
       "      <td>165.0</td>\n",
       "      <td>365.0</td>\n",
       "      <td>40.0</td>\n",
       "      <td>-0.0</td>\n",
       "      <td>1.0</td>\n",
       "      <td>0.0</td>\n",
       "      <td>12.707119</td>\n",
       "      <td>165.000000</td>\n",
       "      <td>121.000000</td>\n",
       "      <td>59.000000</td>\n",
       "      <td>1.000000</td>\n",
       "    </tr>\n",
       "    <tr>\n",
       "      <th>718</th>\n",
       "      <td>14107</td>\n",
       "      <td>2703.23</td>\n",
       "      <td>14.75</td>\n",
       "      <td>51.0</td>\n",
       "      <td>354.0</td>\n",
       "      <td>180.0</td>\n",
       "      <td>5.0</td>\n",
       "      <td>7.0</td>\n",
       "      <td>1.0</td>\n",
       "      <td>21.977480</td>\n",
       "      <td>45.500000</td>\n",
       "      <td>256.142857</td>\n",
       "      <td>17.571429</td>\n",
       "      <td>0.022293</td>\n",
       "    </tr>\n",
       "    <tr>\n",
       "      <th>814</th>\n",
       "      <td>13008</td>\n",
       "      <td>229.47</td>\n",
       "      <td>51.00</td>\n",
       "      <td>323.0</td>\n",
       "      <td>360.0</td>\n",
       "      <td>65.0</td>\n",
       "      <td>60.0</td>\n",
       "      <td>1.0</td>\n",
       "      <td>1.0</td>\n",
       "      <td>16.390714</td>\n",
       "      <td>180.000000</td>\n",
       "      <td>175.000000</td>\n",
       "      <td>14.000000</td>\n",
       "      <td>1.000000</td>\n",
       "    </tr>\n",
       "  </tbody>\n",
       "</table>\n",
       "</div>"
      ],
      "text/plain": [
       "      customer_id  purchases  devolutions  recency_p  recency_d  quantity_p  quantity_d  invoices_p  invoices_d  avg_ticket  avg_recency_days  avg_basket_size  avg_variety  purchases_pday\n",
       "2673        17874     683.46        25.20      185.0      225.0       135.0        12.0         6.0         1.0   14.857826         85.000000        36.833333     7.666667        0.084507\n",
       "3747        20918       0.00       106.53      365.0      178.0         0.0         1.0         0.0         1.0    0.000000        178.000000         0.000000     0.000000        0.000000\n",
       "3631        16825     775.18         0.00       38.0      365.0       210.0        -0.0         2.0         0.0   27.685000         92.500000       283.000000    14.000000        0.013514\n",
       "1568        13098   28882.44       223.56        1.0        3.0      1936.0        21.0        28.0        13.0   50.493776          9.323529       570.285714    20.428571        0.088328\n",
       "4274        15118     244.80         0.00      134.0      365.0      1440.0        -0.0         1.0         0.0  244.800000        134.000000      1440.000000     1.000000        1.000000\n",
       "5867        13521    1093.65         0.00        1.0      365.0        46.0        -0.0         3.0         0.0    2.508372          3.333333       245.333333   145.333333        0.300000\n",
       "5882        17911     366.23         0.00        9.0      365.0       100.0        -0.0         1.0         0.0    9.390513          9.000000       223.000000    39.000000        1.000000\n",
       "3910        21035     749.72         0.00      165.0      365.0        40.0        -0.0         1.0         0.0   12.707119        165.000000       121.000000    59.000000        1.000000\n",
       "718         14107    2703.23        14.75       51.0      354.0       180.0         5.0         7.0         1.0   21.977480         45.500000       256.142857    17.571429        0.022293\n",
       "814         13008     229.47        51.00      323.0      360.0        65.0        60.0         1.0         1.0   16.390714        180.000000       175.000000    14.000000        1.000000"
      ]
     },
     "execution_count": 137,
     "metadata": {},
     "output_type": "execute_result"
    }
   ],
   "source": [
    "df_ref = df_ref.drop(['n_purchase_x', 'n_purchase_y', 'n_products_x', 'n_products_y'], axis=1)\n",
    "\n",
    "df_ref['devolutions'] = df_ref['devolutions'].apply(lambda x: (-1*x) if x < 0   else x )\n",
    "\n",
    "df_ref['quantity_d'] = df_ref['quantity_d'].apply( lambda x: 0.00 if math.isnan(x) else x )\n",
    "df_ref['recency_d'] = df_ref['recency_d'].apply( lambda x: 365 if math.isnan(x) else x )\n",
    "df_ref['quantity_d'] = df_ref['quantity_d'].apply( lambda x: 0.00 if math.isnan(x) else x*(-1) )\n",
    "df_ref['invoices_d'] = df_ref['invoices_d'].apply( lambda x: 0.00 if math.isnan(x) else x )\n",
    "\n",
    "df_ref['quantity_p'] = df_ref['quantity_p'].apply( lambda x: 0.00 if math.isnan(x) else x )\n",
    "df_ref['recency_p'] = df_ref['recency_p'].apply( lambda x: 365 if math.isnan(x) else x )\n",
    "df_ref['quantity_p'] = df_ref['quantity_p'].apply( lambda x: 0.00 if math.isnan(x) else x )\n",
    "df_ref['invoices_p'] = df_ref['invoices_p'].apply( lambda x: 0.00 if math.isnan(x) else x )\n",
    "df_ref['avg_ticket'] = df_ref['avg_ticket'].apply( lambda x: 0.00 if math.isnan(x) else x )\n",
    "df_ref['purchases_pday'] = df_ref['purchases_pday'].apply( lambda x: 0.00 if math.isnan(x) else x )\n",
    "\n",
    "df_ref['avg_variety'] = df_ref['avg_variety'].apply( lambda x: 0.00 if math.isnan(x) else x )\n",
    "df_ref['avg_basket_size'] = df_ref['avg_basket_size'].apply( lambda x: 0.00 if math.isnan(x) else x )\n",
    "\n",
    "df_ref.sample(10)"
   ]
  },
  {
   "cell_type": "code",
   "execution_count": 138,
   "metadata": {
    "ExecuteTime": {
     "end_time": "2021-09-07T21:34:26.015305Z",
     "start_time": "2021-09-07T21:34:26.006390Z"
    }
   },
   "outputs": [],
   "source": [
    "df_ref['gross_revenue'] = (df_ref['purchases'] - df_ref['devolutions'])\n",
    "df_ref['relative_revenue'] = (df_ref['purchases'] - df_ref['devolutions']) / (df_ref['purchases'] + df_ref['devolutions'])\n",
    "df_ref['relative_quantity'] = (df_ref['quantity_p'] - df_ref['quantity_d']) / (df_ref['quantity_p'] + df_ref['quantity_d'])\n",
    "\n",
    "#df_ref['relative_invoices'] = (df_ref['invoices_p'] - df_ref['invoices_d'])\n",
    "#df_ref = df_ref.drop(columns=['purchases','devolutions','invoices_p','invoices_d','recency_d'], axis=1)"
   ]
  },
  {
   "cell_type": "code",
   "execution_count": 140,
   "metadata": {
    "ExecuteTime": {
     "end_time": "2021-09-07T21:34:31.142278Z",
     "start_time": "2021-09-07T21:34:31.102211Z"
    }
   },
   "outputs": [
    {
     "data": {
      "text/plain": [
       "4041"
      ]
     },
     "execution_count": 140,
     "metadata": {},
     "output_type": "execute_result"
    }
   ],
   "source": [
    "df_ref.isna().sum()\n",
    "total_variety = len(df2['description'].drop_duplicates())\n",
    "total_variety\n",
    "\n",
    "#print( math.log( (df_ref['avg_variety'].mean()), 10))"
   ]
  },
  {
   "cell_type": "markdown",
   "metadata": {
    "ExecuteTime": {
     "end_time": "2021-05-03T20:14:35.082157Z",
     "start_time": "2021-05-03T20:14:35.073528Z"
    }
   },
   "source": [
    "There were a problem whith clients that did not have made any purchase in the analyzed period or did not have done any devolution. For those clients, recency was considered as 365 days or 1 year and the frequency of purchase or devolution was considered 0."
   ]
  },
  {
   "cell_type": "markdown",
   "metadata": {},
   "source": [
    "# 4. Exploratory data analysis"
   ]
  },
  {
   "cell_type": "code",
   "execution_count": 149,
   "metadata": {
    "ExecuteTime": {
     "end_time": "2021-09-07T21:36:56.246480Z",
     "start_time": "2021-09-07T21:36:56.241180Z"
    }
   },
   "outputs": [],
   "source": [
    "df4 = df_ref.copy()"
   ]
  },
  {
   "cell_type": "code",
   "execution_count": 150,
   "metadata": {
    "ExecuteTime": {
     "end_time": "2021-09-07T21:36:56.661037Z",
     "start_time": "2021-09-07T21:36:56.655634Z"
    }
   },
   "outputs": [],
   "source": [
    "# filter to analyze only valid customers\n",
    "# returned products\n",
    "df4 = df4.loc[df4['customer_id'] <19000, :]"
   ]
  },
  {
   "cell_type": "markdown",
   "metadata": {},
   "source": []
  },
  {
   "cell_type": "markdown",
   "metadata": {},
   "source": [
    "### 4.1.1. Looking for outliers"
   ]
  },
  {
   "cell_type": "markdown",
   "metadata": {},
   "source": [
    "- Features for attention\n",
    "    - quantity_p for values above 20k\n",
    "    - quantity_d for values above 4k\n",
    "    - avg_ticket for values above 4k\n",
    "    - avg_basket_size for values above 4k\n",
    "    - purchases_pday for value 17\n",
    "    - gross_revenue for above 70k\n",
    "- Features with high correlation\n",
    "    - recency_p w/ avg_recency_days\n",
    "    - quantity_p w/ quantity_d\n",
    "    - quantity_p w/ avg_basket_size\n",
    "    - quantity_p w/ gross_revenue\n",
    "    - quantity_d w/ relative variables (all)\n",
    "    - relative variables are highly correlated between themselves"
   ]
  },
  {
   "cell_type": "markdown",
   "metadata": {},
   "source": [
    "It seems that customers 12346 and 16446 had some problem with the data quality in database, since they have bought a high number of items and returned them. They will be removed from the dataset in order to increase the model result. Other customers with a high number of returns also had a high number of purchases, which seems reasonable."
   ]
  },
  {
   "cell_type": "markdown",
   "metadata": {},
   "source": [
    "Again, clients 12346 and 16446 shows as an outliers to the average ticket, due to the high amount of items purchases, however with no gross revenue. At this point, it seems that customers 15098 also had some problem, since it has a liquid purchased quantity of 0, however with some gross revenue (purchases higher than returns), this customer will also be removed from the dataset. Also customer 15749 have the same behavior as 15098 and will be removed."
   ]
  },
  {
   "cell_type": "markdown",
   "metadata": {},
   "source": [
    "All clients with gross revenue higher than 50000 seems to behave similarly, with small values for recency of purchases and high values for relative revenue and relative invoices (where 1 means that the customer has only purchases and -1 meaning that the customer only returns). At this point, only 4 customers will be considered as outliers and removed from the dataset: 12346,15098,15749,16446."
   ]
  },
  {
   "cell_type": "code",
   "execution_count": 151,
   "metadata": {
    "ExecuteTime": {
     "end_time": "2021-09-07T21:36:58.512448Z",
     "start_time": "2021-09-07T21:36:58.505294Z"
    }
   },
   "outputs": [],
   "source": [
    "customers_outliers = [12346,15098,15749,16446]\n",
    "df4 = df4[~df4['customer_id'].isin(customers_outliers)]"
   ]
  },
  {
   "cell_type": "markdown",
   "metadata": {},
   "source": [
    "## 4.3. Data space analysis"
   ]
  },
  {
   "cell_type": "code",
   "execution_count": 152,
   "metadata": {
    "ExecuteTime": {
     "end_time": "2021-09-07T21:36:58.833000Z",
     "start_time": "2021-09-07T21:36:58.818463Z"
    }
   },
   "outputs": [],
   "source": [
    "data_space = df4.copy()\n",
    "customers_to_cluster = data_space['customer_id']\n",
    "data_space = data_space.drop(columns=['customer_id', 'purchases', 'recency_d', 'quantity_d', 'invoices_p', 'invoices_d', 'avg_basket_size', 'purchases_pday','relative_revenue', 'relative_quantity'], axis=1)\n",
    "\n",
    "rs = RobustScaler()\n",
    "mm = MinMaxScaler()\n",
    "ss = StandardScaler()\n",
    "\n",
    "#data_space['purchases'] = mm.fit_transform( data_space[['purchases']].values )\n",
    "data_space['devolutions'] = mm.fit_transform( data_space[['devolutions']].values )\n",
    "#data_space['purc_dev'] = rs.fit_transform( data_space[['purc_dev']].values )\n",
    "data_space['recency_p'] = rs.fit_transform( data_space[['recency_p']].values )\n",
    "#data_space['recency_d'] = rs.fit_transform( data_space[['recency_d']].values )\n",
    "data_space['quantity_p'] = mm.fit_transform( data_space[['quantity_p']].values )\n",
    "#data_space['quantity_d'] = mm.fit_transform( data_space[['quantity_d']].values )\n",
    "#data_space['invoices_p'] = rs.fit_transform( data_space[['invoices_p']].values )\n",
    "#data_space['invoices_d'] = rs.fit_transform( data_space[['invoices_d']].values )\n",
    "\n",
    "data_space['gross_revenue'] = mm.fit_transform( data_space[['gross_revenue']].values )\n",
    "data_space['avg_ticket'] = mm.fit_transform( data_space[['avg_ticket']].values )\n",
    "data_space['avg_recency_days'] = rs.fit_transform( data_space[['avg_recency_days']].values )\n",
    "data_space['avg_variety'] = mm.fit_transform( data_space[['avg_variety']].values )\n",
    "#data_space['avg_variety'] = rs.fit_transform( data_space[['avg_variety']].values )\n",
    "#data_space['relative_quantity'] = rs.fit_transform( data_space[['relative_quantity']].values )\n",
    "#data_space['relative_invoices'] = rs.fit_transform( data_space[['relative_invoices']].values )\n",
    "#data_space['purchases_pday'] = rs.fit_transform( data_space[['purchases_pday']].values )\n",
    "\n",
    "#data_space['monetary_score'] = ss.fit_transform( data_space[['ticket_score']].values )\n",
    "#data_space['ticket_score'] = ss.fit_transform( data_space[['ticket_score']].values )\n",
    "#data_space['recency_score'] = ss.fit_transform( data_space[['recency_score']].values )\n",
    "#data_space['behavior_score'] = ss.fit_transform( data_space[['behavior_score']].values )"
   ]
  },
  {
   "cell_type": "markdown",
   "metadata": {},
   "source": [
    "### 4.3.4. Tree-based embedding"
   ]
  },
  {
   "cell_type": "code",
   "execution_count": 153,
   "metadata": {
    "ExecuteTime": {
     "end_time": "2021-09-07T21:37:01.479668Z",
     "start_time": "2021-09-07T21:36:59.693667Z"
    }
   },
   "outputs": [
    {
     "data": {
      "text/plain": [
       "(4362, 100)"
      ]
     },
     "execution_count": 153,
     "metadata": {},
     "output_type": "execute_result"
    }
   ],
   "source": [
    "# training dataset\n",
    "x_trees = data_space.drop(columns=['gross_revenue'], axis=1)\n",
    "y_trees = data_space['gross_revenue']\n",
    "\n",
    "#model definition\n",
    "rf_model = RandomForestRegressor(n_estimators=100, random_state=42)\n",
    "\n",
    "# model training\n",
    "rf_model.fit(x_trees, y_trees)\n",
    "\n",
    "#Leaves\n",
    "df_leaf = pd.DataFrame(rf_model.apply(x_trees))\n",
    "\n",
    "#Leaves dataFrame\n",
    "df_leaf.shape"
   ]
  },
  {
   "cell_type": "code",
   "execution_count": 154,
   "metadata": {
    "ExecuteTime": {
     "end_time": "2021-09-07T21:37:12.179032Z",
     "start_time": "2021-09-07T21:37:01.481031Z"
    }
   },
   "outputs": [
    {
     "data": {
      "image/png": "[encoded data removed]",
      "text/plain": [
       "<Figure size 432x288 with 1 Axes>"
      ]
     },
     "metadata": {
      "needs_background": "light"
     },
     "output_type": "display_data"
    },
    {
     "data": {
      "text/plain": [
       "<Figure size 720x720 with 0 Axes>"
      ]
     },
     "metadata": {},
     "output_type": "display_data"
    }
   ],
   "source": [
    "n_components=3\n",
    "\n",
    "reducer = ump.UMAP( random_state=42, n_components=n_components )\n",
    "embedding = reducer.fit_transform(df_leaf)\n",
    "\n",
    "#df_leaf['embedding_x'] = embedding[:,0]\n",
    "#df_leaf['embedding_y'] = embedding[:,1]\n",
    "#df_leaf['embedding_z'] = embedding[:,2]\n",
    "\n",
    "fig = plt.figure()\n",
    "\n",
    "if n_components == 1:\n",
    "\n",
    "    df_leaf['embedding_x'] = embedding[:,0]\n",
    "\n",
    "    ax = fig.add_subplot(111)\n",
    "    ax.scatter(df_leaf['embedding_x'], range(len(df_leaf[['embedding_x']])))\n",
    "elif n_components == 2:\n",
    "\n",
    "    df_leaf['embedding_x'] = embedding[:,0]\n",
    "    df_leaf['embedding_y'] = embedding[:,1]\n",
    "    \n",
    "    ax = fig.add_subplot(111)\n",
    "    ax.scatter(df_leaf['embedding_x'], df_leaf['embedding_y'])\n",
    "elif n_components == 3:\n",
    "    \n",
    "    df_leaf['embedding_x'] = embedding[:,0]\n",
    "    df_leaf['embedding_y'] = embedding[:,1]\n",
    "    df_leaf['embedding_z'] = embedding[:,2]\n",
    "    \n",
    "    ax = fig.add_subplot(111, projection='3d')\n",
    "    ax.scatter(df_leaf['embedding_x'], df_leaf['embedding_y'], df_leaf['embedding_z'])\n",
    "\n",
    "plt.figure(figsize=(10,10))\n",
    "\n",
    "plt.show()"
   ]
  },
  {
   "cell_type": "code",
   "execution_count": 156,
   "metadata": {
    "ExecuteTime": {
     "end_time": "2021-09-07T21:37:22.946618Z",
     "start_time": "2021-09-07T21:37:22.943350Z"
    }
   },
   "outputs": [],
   "source": [
    "df_leaf['customer_id'] = customers_to_cluster\n",
    "#for i in range(len(df_leaf), 1):\n",
    "#    df_leaf.loc[i,'customer_id'] = customers_to_cluster[i]"
   ]
  },
  {
   "cell_type": "markdown",
   "metadata": {},
   "source": [
    "# 5. Data preparation"
   ]
  },
  {
   "cell_type": "markdown",
   "metadata": {},
   "source": [
    "**Rules of thumb**\n",
    "\n",
    "Standardization -> assumption that the feature follows a normal distribution (test for normal distribution QQ Plot or KS Test)\n",
    "Rescale         -> assumption that the feature does not follow a normal distribution\n",
    "\n",
    "**Based on features:**\n",
    "1. Normal distribution and abscence of outliers -> Standard scaler;\n",
    "2. Normal distribution and have outliers        -> Robust scaler;\n",
    "3. Does not follow a normal distribution        -> Min-max scaler;"
   ]
  },
  {
   "cell_type": "markdown",
   "metadata": {},
   "source": [
    "## 5.1. Data rescaling"
   ]
  },
  {
   "cell_type": "code",
   "execution_count": 157,
   "metadata": {
    "ExecuteTime": {
     "end_time": "2021-09-07T21:37:24.957922Z",
     "start_time": "2021-09-07T21:37:24.953329Z"
    }
   },
   "outputs": [],
   "source": [
    "df_rescaled = df4.copy()\n",
    "#df_rescaled = data_space.copy()\n",
    "df_rescaled = df_rescaled.drop(columns=['purchases', 'recency_d', 'quantity_d', 'invoices_p', 'invoices_d', 'avg_basket_size', 'purchases_pday','relative_revenue', 'relative_quantity'], axis=1)\n",
    "\n",
    "rs = RobustScaler()\n",
    "mm = MinMaxScaler()\n",
    "ss = StandardScaler()"
   ]
  },
  {
   "cell_type": "code",
   "execution_count": 158,
   "metadata": {
    "ExecuteTime": {
     "end_time": "2021-09-07T21:37:27.088681Z",
     "start_time": "2021-09-07T21:37:27.064973Z"
    }
   },
   "outputs": [],
   "source": [
    "#data_space['purchases'] = mm.fit_transform( data_space[['purchases']].values )\n",
    "data_space['devolutions'] = mm.fit_transform( data_space[['devolutions']].values )\n",
    "#data_space['purc_dev'] = rs.fit_transform( data_space[['purc_dev']].values )\n",
    "data_space['recency_p'] = rs.fit_transform( data_space[['recency_p']].values )\n",
    "#data_space['recency_d'] = rs.fit_transform( data_space[['recency_d']].values )\n",
    "data_space['quantity_p'] = mm.fit_transform( data_space[['quantity_p']].values )\n",
    "#data_space['quantity_d'] = mm.fit_transform( data_space[['quantity_d']].values )\n",
    "#data_space['invoices_p'] = rs.fit_transform( data_space[['invoices_p']].values )\n",
    "#data_space['invoices_d'] = rs.fit_transform( data_space[['invoices_d']].values )\n",
    "\n",
    "data_space['gross_revenue'] = mm.fit_transform( data_space[['gross_revenue']].values )\n",
    "data_space['avg_ticket'] = mm.fit_transform( data_space[['avg_ticket']].values )\n",
    "data_space['avg_recency_days'] = rs.fit_transform( data_space[['avg_recency_days']].values )\n",
    "data_space['avg_variety'] = mm.fit_transform( data_space[['avg_variety']].values )\n",
    "#data_space['avg_variety'] = rs.fit_transform( data_space[['avg_variety']].values )\n",
    "#data_space['relative_quantity'] = rs.fit_transform( data_space[['relative_quantity']].values )\n",
    "#data_space['relative_invoices'] = rs.fit_transform( data_space[['relative_invoices']].values )\n",
    "#data_space['purchases_pday'] = rs.fit_transform( data_space[['purchases_pday']].values )\n",
    "\n",
    "#data_space['monetary_score'] = ss.fit_transform( data_space[['ticket_score']].values )\n",
    "#data_space['ticket_score'] = ss.fit_transform( data_space[['ticket_score']].values )\n",
    "#data_space['recency_score'] = ss.fit_transform( data_space[['recency_score']].values )\n",
    "#data_space['behavior_score'] = ss.fit_transform( data_space[['behavior_score']].values )"
   ]
  },
  {
   "cell_type": "markdown",
   "metadata": {},
   "source": [
    "# 6. Feature selection"
   ]
  },
  {
   "cell_type": "markdown",
   "metadata": {},
   "source": [
    "# 7. Hyperparameter fine tuning"
   ]
  },
  {
   "cell_type": "markdown",
   "metadata": {},
   "source": [
    "There are 3 types of major problems within data problems to solve with machine learning algorithms: regression, classification and clusterization. The first two problems, regression and classification, there is a necessity to split the dataset between training and testing and there is a target variable to analyze the accuracy and precision of the model, while the clusterization problems does not have the need in dataset spliting. Because of that, there is a necessity to first determine the number of clusters which the dataset will be split, before training and finding the model."
   ]
  },
  {
   "cell_type": "code",
   "execution_count": 159,
   "metadata": {
    "ExecuteTime": {
     "end_time": "2021-09-07T21:38:05.217881Z",
     "start_time": "2021-09-07T21:38:05.212500Z"
    }
   },
   "outputs": [
    {
     "name": "stdout",
     "output_type": "stream",
     "text": [
      "(4362, 104)\n"
     ]
    }
   ],
   "source": [
    "#df7 = df6.copy()\n",
    "df7_embbed = df_leaf.copy()\n",
    "#print(df7.head())\n",
    "#print(df7_embbed.head())\n",
    "print(df7_embbed.shape)"
   ]
  },
  {
   "cell_type": "code",
   "execution_count": 160,
   "metadata": {
    "ExecuteTime": {
     "end_time": "2021-09-07T21:38:06.229823Z",
     "start_time": "2021-09-07T21:38:06.209888Z"
    }
   },
   "outputs": [
    {
     "name": "stdout",
     "output_type": "stream",
     "text": [
      "   devolutions  recency_p  quantity_p  avg_ticket  avg_recency_days  avg_variety  gross_revenue  cluster\n",
      "0       102.58      372.0        35.0   18.152222        124.333333     8.735294        5288.63        9\n",
      "1       158.44       31.0       132.0   18.822907         26.642857    17.200000        3079.10       11\n",
      "2        94.04        2.0      1569.0   29.479271         20.722222    16.466667        7187.34        1\n",
      "3         0.00       95.0       169.0   33.866071         93.250000     5.600000         948.25        2\n",
      "4       240.90      333.0        48.0  292.000000         62.166667     1.000000         635.10        6\n",
      "   embedding_x  embedding_y  embedding_z\n",
      "0     1.054695     7.173187     9.336242\n",
      "1    12.162703    11.087784    -3.617847\n",
      "2    11.633012     2.327265    15.316863\n",
      "3    10.791920    -0.056241    -4.320868\n",
      "4    -0.067407    -0.466358     1.514187\n"
     ]
    }
   ],
   "source": [
    "tree_cols_to_drop = []\n",
    "for i in range( 0, (df7_embbed.shape[1]-4),1 ):\n",
    "    tree_cols_to_drop.append(i)\n",
    "    i = i + 1\n",
    "\n",
    "\n",
    "X_embbed = df7_embbed.drop(columns=tree_cols_to_drop, axis=1)\n",
    "X_embbed = X_embbed.drop(columns=['customer_id'], axis=1)\n",
    "customers_to_cluster = df7['customer_id'].to_list()\n",
    "X = df7.drop(columns=['customer_id'], axis=0)\n",
    "print(X.head())\n",
    "print(X_embbed.head())"
   ]
  },
  {
   "cell_type": "markdown",
   "metadata": {},
   "source": [
    "### 7.4.1. Hierarchical clustering on embbeded space"
   ]
  },
  {
   "cell_type": "code",
   "execution_count": 164,
   "metadata": {
    "ExecuteTime": {
     "end_time": "2021-09-07T21:42:41.484268Z",
     "start_time": "2021-09-07T21:42:24.446364Z"
    }
   },
   "outputs": [],
   "source": [
    "hc_emb_list =[]\n",
    "\n",
    "for k in clusters:\n",
    "    # model definition & training\n",
    "    hc_emb_model = hc.linkage(X_embbed, 'ward')\n",
    "\n",
    "    # model predict\n",
    "    labels = hc.fcluster(hc_emb_model, k, criterion='maxclust')\n",
    "\n",
    "    # model performance\n",
    "    sil = metrics.silhouette_score(X_embbed, labels, metric='euclidean')\n",
    "    hc_emb_list.append(sil)"
   ]
  },
  {
   "cell_type": "code",
   "execution_count": 165,
   "metadata": {
    "ExecuteTime": {
     "end_time": "2021-09-07T21:43:56.792650Z",
     "start_time": "2021-09-07T21:42:41.485712Z"
    }
   },
   "outputs": [
    {
     "data": {
      "image/png": "[encoded data removed]",
      "text/plain": [
       "<Figure size 432x288 with 1 Axes>"
      ]
     },
     "metadata": {
      "needs_background": "light"
     },
     "output_type": "display_data"
    }
   ],
   "source": [
    "hc.dendrogram(\n",
    "    hc_emb_model,\n",
    "    leaf_rotation=90,\n",
    "    leaf_font_size=8\n",
    "    )\n",
    "plt.plot()\n",
    "plt.show()"
   ]
  },
  {
   "cell_type": "markdown",
   "metadata": {},
   "source": [
    "# 8. Model training"
   ]
  },
  {
   "cell_type": "markdown",
   "metadata": {},
   "source": [
    "## 8.1. Hierarchical model"
   ]
  },
  {
   "cell_type": "code",
   "execution_count": 166,
   "metadata": {
    "ExecuteTime": {
     "end_time": "2021-09-07T21:44:36.439025Z",
     "start_time": "2021-09-07T21:44:35.740017Z"
    }
   },
   "outputs": [],
   "source": [
    "k = 12\n",
    "\n",
    "# model definition\n",
    "#gmm_emb_model = mx.GaussianMixture(n_components=k)\n",
    "\n",
    "# model training\n",
    "#gmm_emb_model.fit(X_embbed)\n",
    "\n",
    "# model predict\n",
    "#labels = gmm_emb_model.predict(X_embbed)\n",
    "\n",
    "# model performance\n",
    "#sil = metrics.silhouette_score(X_embbed, labels, metric='euclidean')\n",
    "\n",
    "#labels = gmm_emb_model.labels_\n",
    "\n",
    "\n",
    "# model definition & training\n",
    "hc_emb_model = hc.linkage(X_embbed, 'ward')\n",
    "\n",
    "# model predict\n",
    "labels = hc.fcluster(hc_emb_model, k, criterion='maxclust')\n",
    "\n",
    "# model performance\n",
    "sil = metrics.silhouette_score(X_embbed, labels, metric='euclidean')"
   ]
  },
  {
   "cell_type": "markdown",
   "metadata": {},
   "source": [
    "# 9. Cluster analysis"
   ]
  },
  {
   "cell_type": "markdown",
   "metadata": {},
   "source": [
    "## 9.1. Final model"
   ]
  },
  {
   "cell_type": "code",
   "execution_count": 169,
   "metadata": {
    "ExecuteTime": {
     "end_time": "2021-09-07T21:46:13.898170Z",
     "start_time": "2021-09-07T21:46:13.890850Z"
    }
   },
   "outputs": [],
   "source": [
    "df9 = df_ref.copy()\n",
    "df9 = df9[df9['customer_id'].isin(customers_to_cluster)]\n",
    "df9['cluster'] = labels\n",
    "#df7['cluster'] = labels\n",
    "df_leaf['cluster'] = labels\n",
    "#df9.head(10)\n"
   ]
  },
  {
   "cell_type": "markdown",
   "metadata": {},
   "source": [
    "### 9.1.1. Visualization Inspection"
   ]
  },
  {
   "cell_type": "code",
   "execution_count": 170,
   "metadata": {
    "ExecuteTime": {
     "end_time": "2021-09-07T21:46:15.027182Z",
     "start_time": "2021-09-07T21:46:14.838896Z"
    }
   },
   "outputs": [
    {
     "data": {
      "image/png": "[encoded data removed]",
      "text/plain": [
       "<Figure size 432x288 with 1 Axes>"
      ]
     },
     "metadata": {
      "needs_background": "light"
     },
     "output_type": "display_data"
    },
    {
     "data": {
      "text/plain": [
       "<Figure size 720x720 with 0 Axes>"
      ]
     },
     "metadata": {},
     "output_type": "display_data"
    }
   ],
   "source": [
    "fig = plt.figure()\n",
    "ax = fig.add_subplot(111, projection='3d')\n",
    "ax.scatter(df_leaf['embedding_x'], df_leaf['embedding_y'], df_leaf['embedding_z'], c=df_leaf['cluster'])\n",
    "\n",
    "plt.figure(figsize=(10,10))\n",
    "\n",
    "plt.show()\n"
   ]
  },
  {
   "cell_type": "markdown",
   "metadata": {},
   "source": [
    "### 9.1.4. Cluster profile"
   ]
  },
  {
   "cell_type": "markdown",
   "metadata": {},
   "source": [
    "The profile of each cluster can be represented as a persona, and the persona is the mean or median behavior of all other customers inside the cluster"
   ]
  },
  {
   "cell_type": "code",
   "execution_count": 171,
   "metadata": {
    "ExecuteTime": {
     "end_time": "2021-09-07T21:46:20.112914Z",
     "start_time": "2021-09-07T21:46:20.037304Z"
    }
   },
   "outputs": [
    {
     "data": {
      "text/html": [
       "<div>\n",
       "<style scoped>\n",
       "    .dataframe tbody tr th:only-of-type {\n",
       "        vertical-align: middle;\n",
       "    }\n",
       "\n",
       "    .dataframe tbody tr th {\n",
       "        vertical-align: top;\n",
       "    }\n",
       "\n",
       "    .dataframe thead th {\n",
       "        text-align: right;\n",
       "    }\n",
       "</style>\n",
       "<table border=\"1\" class=\"dataframe\">\n",
       "  <thead>\n",
       "    <tr style=\"text-align: right;\">\n",
       "      <th></th>\n",
       "      <th>cluster</th>\n",
       "      <th>customer_id</th>\n",
       "      <th>perc_customer</th>\n",
       "      <th>gross_revenue</th>\n",
       "      <th>devolutions</th>\n",
       "      <th>recency_p</th>\n",
       "      <th>quantity_p</th>\n",
       "      <th>avg_ticket</th>\n",
       "      <th>avg_recency_days</th>\n",
       "      <th>avg_variety</th>\n",
       "    </tr>\n",
       "  </thead>\n",
       "  <tbody>\n",
       "    <tr>\n",
       "      <th>0</th>\n",
       "      <td>1</td>\n",
       "      <td>595</td>\n",
       "      <td>13.641</td>\n",
       "      <td>7810.70</td>\n",
       "      <td>328.58</td>\n",
       "      <td>44.92</td>\n",
       "      <td>1255.35</td>\n",
       "      <td>93.10</td>\n",
       "      <td>51.16</td>\n",
       "      <td>20.97</td>\n",
       "    </tr>\n",
       "    <tr>\n",
       "      <th>1</th>\n",
       "      <td>2</td>\n",
       "      <td>362</td>\n",
       "      <td>8.299</td>\n",
       "      <td>1067.25</td>\n",
       "      <td>0.08</td>\n",
       "      <td>79.12</td>\n",
       "      <td>180.42</td>\n",
       "      <td>32.23</td>\n",
       "      <td>88.44</td>\n",
       "      <td>24.37</td>\n",
       "    </tr>\n",
       "    <tr>\n",
       "      <th>2</th>\n",
       "      <td>3</td>\n",
       "      <td>373</td>\n",
       "      <td>8.551</td>\n",
       "      <td>1955.85</td>\n",
       "      <td>83.93</td>\n",
       "      <td>52.44</td>\n",
       "      <td>194.88</td>\n",
       "      <td>21.83</td>\n",
       "      <td>54.07</td>\n",
       "      <td>24.49</td>\n",
       "    </tr>\n",
       "    <tr>\n",
       "      <th>3</th>\n",
       "      <td>4</td>\n",
       "      <td>442</td>\n",
       "      <td>10.133</td>\n",
       "      <td>2469.28</td>\n",
       "      <td>55.51</td>\n",
       "      <td>49.61</td>\n",
       "      <td>295.00</td>\n",
       "      <td>28.03</td>\n",
       "      <td>57.45</td>\n",
       "      <td>27.09</td>\n",
       "    </tr>\n",
       "    <tr>\n",
       "      <th>4</th>\n",
       "      <td>5</td>\n",
       "      <td>290</td>\n",
       "      <td>6.648</td>\n",
       "      <td>223.71</td>\n",
       "      <td>9.10</td>\n",
       "      <td>157.65</td>\n",
       "      <td>21.88</td>\n",
       "      <td>23.04</td>\n",
       "      <td>152.68</td>\n",
       "      <td>20.48</td>\n",
       "    </tr>\n",
       "    <tr>\n",
       "      <th>5</th>\n",
       "      <td>6</td>\n",
       "      <td>154</td>\n",
       "      <td>3.530</td>\n",
       "      <td>212.04</td>\n",
       "      <td>20.21</td>\n",
       "      <td>135.94</td>\n",
       "      <td>43.19</td>\n",
       "      <td>38.38</td>\n",
       "      <td>126.62</td>\n",
       "      <td>5.07</td>\n",
       "    </tr>\n",
       "    <tr>\n",
       "      <th>6</th>\n",
       "      <td>7</td>\n",
       "      <td>167</td>\n",
       "      <td>3.829</td>\n",
       "      <td>89.21</td>\n",
       "      <td>14.52</td>\n",
       "      <td>213.46</td>\n",
       "      <td>10.63</td>\n",
       "      <td>35.57</td>\n",
       "      <td>196.61</td>\n",
       "      <td>3.32</td>\n",
       "    </tr>\n",
       "    <tr>\n",
       "      <th>7</th>\n",
       "      <td>8</td>\n",
       "      <td>219</td>\n",
       "      <td>5.021</td>\n",
       "      <td>475.54</td>\n",
       "      <td>14.30</td>\n",
       "      <td>129.93</td>\n",
       "      <td>61.74</td>\n",
       "      <td>20.96</td>\n",
       "      <td>123.57</td>\n",
       "      <td>20.92</td>\n",
       "    </tr>\n",
       "    <tr>\n",
       "      <th>8</th>\n",
       "      <td>9</td>\n",
       "      <td>424</td>\n",
       "      <td>9.720</td>\n",
       "      <td>370.53</td>\n",
       "      <td>31.81</td>\n",
       "      <td>130.48</td>\n",
       "      <td>44.43</td>\n",
       "      <td>14.01</td>\n",
       "      <td>126.18</td>\n",
       "      <td>24.05</td>\n",
       "    </tr>\n",
       "    <tr>\n",
       "      <th>9</th>\n",
       "      <td>10</td>\n",
       "      <td>726</td>\n",
       "      <td>16.644</td>\n",
       "      <td>649.46</td>\n",
       "      <td>13.06</td>\n",
       "      <td>104.52</td>\n",
       "      <td>82.96</td>\n",
       "      <td>21.59</td>\n",
       "      <td>103.90</td>\n",
       "      <td>23.45</td>\n",
       "    </tr>\n",
       "    <tr>\n",
       "      <th>10</th>\n",
       "      <td>11</td>\n",
       "      <td>353</td>\n",
       "      <td>8.093</td>\n",
       "      <td>1024.58</td>\n",
       "      <td>33.56</td>\n",
       "      <td>82.66</td>\n",
       "      <td>130.82</td>\n",
       "      <td>22.99</td>\n",
       "      <td>87.68</td>\n",
       "      <td>23.77</td>\n",
       "    </tr>\n",
       "    <tr>\n",
       "      <th>11</th>\n",
       "      <td>12</td>\n",
       "      <td>257</td>\n",
       "      <td>5.892</td>\n",
       "      <td>826.46</td>\n",
       "      <td>23.01</td>\n",
       "      <td>85.60</td>\n",
       "      <td>110.07</td>\n",
       "      <td>18.99</td>\n",
       "      <td>81.24</td>\n",
       "      <td>24.27</td>\n",
       "    </tr>\n",
       "  </tbody>\n",
       "</table>\n",
       "</div>"
      ],
      "text/plain": [
       "    cluster  customer_id  perc_customer  gross_revenue  devolutions  recency_p  quantity_p  avg_ticket  avg_recency_days  avg_variety\n",
       "0         1          595         13.641        7810.70       328.58      44.92     1255.35       93.10             51.16        20.97\n",
       "1         2          362          8.299        1067.25         0.08      79.12      180.42       32.23             88.44        24.37\n",
       "2         3          373          8.551        1955.85        83.93      52.44      194.88       21.83             54.07        24.49\n",
       "3         4          442         10.133        2469.28        55.51      49.61      295.00       28.03             57.45        27.09\n",
       "4         5          290          6.648         223.71         9.10     157.65       21.88       23.04            152.68        20.48\n",
       "5         6          154          3.530         212.04        20.21     135.94       43.19       38.38            126.62         5.07\n",
       "6         7          167          3.829          89.21        14.52     213.46       10.63       35.57            196.61         3.32\n",
       "7         8          219          5.021         475.54        14.30     129.93       61.74       20.96            123.57        20.92\n",
       "8         9          424          9.720         370.53        31.81     130.48       44.43       14.01            126.18        24.05\n",
       "9        10          726         16.644         649.46        13.06     104.52       82.96       21.59            103.90        23.45\n",
       "10       11          353          8.093        1024.58        33.56      82.66      130.82       22.99             87.68        23.77\n",
       "11       12          257          5.892         826.46        23.01      85.60      110.07       18.99             81.24        24.27"
      ]
     },
     "execution_count": 171,
     "metadata": {},
     "output_type": "execute_result"
    }
   ],
   "source": [
    "df_cluster = df9[['customer_id','cluster']].groupby('cluster').count().reset_index()\n",
    "df_cluster['perc_customer'] = round(100*(df_cluster['customer_id'] / df_cluster['customer_id'].sum()), 3)\n",
    "\n",
    "df_gross_revenue = round(df9[['gross_revenue', 'cluster']].groupby('cluster').mean().reset_index(), 2)\n",
    "df_avg_devolutions = round(df9[['devolutions', 'cluster']].groupby('cluster').mean().reset_index(), 2)\n",
    "#df_avg_relation = round(df9[['purc_dev','cluster']].groupby('cluster').mean().reset_index() , 2)\n",
    "\n",
    "df_avg_recency_p = round(df9[['cluster', 'recency_p']].groupby('cluster').mean().reset_index(), 2)\n",
    "#df_avg_quantity_d = round(df9[['cluster', 'quantity_d']].groupby('cluster').mean().reset_index(), 2)\n",
    "\n",
    "df_avg_frequency_p = round(df9[['cluster','quantity_p']].groupby('cluster').mean().reset_index(), 2)\n",
    "#df_avg_frequency_d = round(df9[['cluster','quantity_d']].groupby('cluster').mean().reset_index(), 2)\n",
    "\n",
    "df_avg_ticket = round(df9[['cluster','avg_ticket']].groupby('cluster').mean().reset_index(), 2)\n",
    "df_avg_recency_days = round(df9[['cluster','avg_recency_days']].groupby('cluster').mean().reset_index(), 2)\n",
    "df_avg_variety = round(df9[['cluster','avg_variety']].groupby('cluster').mean().reset_index(), 2)\n",
    "\n",
    "df_cluster = pd.merge(df_cluster, df_gross_revenue, on='cluster', how='inner')\n",
    "df_cluster = pd.merge(df_cluster, df_avg_devolutions, on='cluster', how='inner')\n",
    "#df_cluster = pd.merge(df_cluster, df_avg_relation, on='cluster', how='inner')\n",
    "df_cluster = pd.merge(df_cluster, df_avg_recency_p, on='cluster', how='inner')\n",
    "#df_cluster = pd.merge(df_cluster, df_avg_quantity_d, on='cluster', how='inner')\n",
    "df_cluster = pd.merge(df_cluster, df_avg_frequency_p, on='cluster', how='inner')\n",
    "#df_cluster = pd.merge(df_cluster, df_avg_frequency_d, on='cluster', how='inner')\n",
    "df_cluster = pd.merge(df_cluster, df_avg_ticket, on='cluster', how='inner')\n",
    "df_cluster = pd.merge(df_cluster, df_avg_recency_days, on='cluster', how='inner')\n",
    "df_cluster = pd.merge(df_cluster, df_avg_variety, on='cluster', how='inner')\n",
    "\n",
    "df_cluster"
   ]
  },
  {
   "cell_type": "markdown",
   "metadata": {},
   "source": [
    "# 10. Clusters insights"
   ]
  },
  {
   "cell_type": "code",
   "execution_count": 172,
   "metadata": {
    "ExecuteTime": {
     "end_time": "2021-09-07T21:46:23.092341Z",
     "start_time": "2021-09-07T21:46:23.089313Z"
    }
   },
   "outputs": [],
   "source": [
    "df10 = df9.copy()"
   ]
  },
  {
   "cell_type": "markdown",
   "metadata": {},
   "source": [
    "## Hypothesis for insights"
   ]
  },
  {
   "cell_type": "markdown",
   "metadata": {},
   "source": [
    "1. Affirmation\n",
    "2. Features comparison or clusters comparison\n",
    "3. Base value for comparison and classification in true or false for each hypothesis\n",
    "\n",
    "Example: Cluster | Feature analyzed | Base value for comparison"
   ]
  },
  {
   "cell_type": "markdown",
   "metadata": {},
   "source": [
    "### Purchase hypothesis"
   ]
  },
  {
   "cell_type": "markdown",
   "metadata": {},
   "source": [
    "1. More than 80% of Insiders customers use credit card for payment\n",
    "2. **Insiders clusters have an average ticket of at least 10% higher than any other cluster**\n",
    "3. **Insiders customers have a basket size higher than 5 products**\n",
    "4. **Insiders customers have a contribution of at least 10% of the total purchases**\n",
    "5. **Insiders customers have a smaller proportion of devolutions than the average of all customers**"
   ]
  },
  {
   "cell_type": "markdown",
   "metadata": {},
   "source": [
    "### Client hypothesis"
   ]
  },
  {
   "cell_type": "markdown",
   "metadata": {},
   "source": [
    "1. 60% of Insiders customers are single\n",
    "2. 10% of Insiders customers are aged between 24 - 35 years old\n",
    "3. 40% of Insiders customers are located in a radius of 50 km\n",
    "4. 5%  of Insiders customers earn a salary higher than USD 100.000 yearly\n",
    "5. 90% of Insiders customers have a high education degree"
   ]
  },
  {
   "cell_type": "markdown",
   "metadata": {},
   "source": [
    "### Product hypothesis"
   ]
  },
  {
   "cell_type": "markdown",
   "metadata": {},
   "source": [
    "1. 30% of the all products are bought by Insiders customers\n",
    "2. Insiders customers buys products that have a higher median than the median of all customers\n",
    "3. "
   ]
  },
  {
   "cell_type": "code",
   "execution_count": null,
   "metadata": {},
   "outputs": [],
   "source": []
  },
  {
   "cell_type": "code",
   "execution_count": null,
   "metadata": {},
   "outputs": [],
   "source": []
  },
  {
   "cell_type": "code",
   "execution_count": null,
   "metadata": {},
   "outputs": [],
   "source": []
  },
  {
   "cell_type": "markdown",
   "metadata": {},
   "source": [
    "### Hx. The median of revenues from insiders customers is 10% higher than the median of other customers"
   ]
  },
  {
   "cell_type": "code",
   "execution_count": 173,
   "metadata": {
    "ExecuteTime": {
     "end_time": "2021-09-07T21:46:25.285378Z",
     "start_time": "2021-09-07T21:46:25.278978Z"
    }
   },
   "outputs": [
    {
     "name": "stdout",
     "output_type": "stream",
     "text": [
      "Insiders revenue median is 387.24% higher than the median revenue\n"
     ]
    }
   ],
   "source": [
    "insiders_gnv_median = df10.loc[df10['cluster']==1, 'gross_revenue'].median()\n",
    "total_gnv_median = df10.loc[:,'gross_revenue'].median()\n",
    "\n",
    "revenue_diff_median = (insiders_gnv_median - total_gnv_median) / total_gnv_median\n",
    "\n",
    "print('Insiders revenue median is {}% higher than the median revenue'.format(round(revenue_diff_median*100, 2)))"
   ]
  },
  {
   "cell_type": "markdown",
   "metadata": {},
   "source": [
    "### Hx. The percentile of revenue from insiders customers is higher than third quartile"
   ]
  },
  {
   "cell_type": "code",
   "execution_count": 174,
   "metadata": {
    "ExecuteTime": {
     "end_time": "2021-09-07T21:46:25.813215Z",
     "start_time": "2021-09-07T21:46:25.641977Z"
    }
   },
   "outputs": [
    {
     "data": {
      "text/plain": [
       "<AxesSubplot:xlabel='gross_revenue'>"
      ]
     },
     "execution_count": 174,
     "metadata": {},
     "output_type": "execute_result"
    },
    {
     "data": {
      "image/png": "[encoded data removed]",
      "text/plain": [
       "<Figure size 432x288 with 1 Axes>"
      ]
     },
     "metadata": {
      "needs_background": "light"
     },
     "output_type": "display_data"
    }
   ],
   "source": [
    "df_aux = df10.loc[(df10['cluster']==1) & (df10['gross_revenue'] < 50000), 'gross_revenue'] \n",
    "sns.violinplot(x=df_aux)# hue=df10.loc[df10['cluster'] != 1])"
   ]
  },
  {
   "cell_type": "markdown",
   "metadata": {},
   "source": [
    "## 10.1. Business questions"
   ]
  },
  {
   "cell_type": "markdown",
   "metadata": {},
   "source": [
    "### 1. Who are electible to participate in the Insiders program?"
   ]
  },
  {
   "cell_type": "code",
   "execution_count": 175,
   "metadata": {
    "ExecuteTime": {
     "end_time": "2021-09-07T21:46:27.003622Z",
     "start_time": "2021-09-07T21:46:26.997601Z"
    }
   },
   "outputs": [
    {
     "data": {
      "text/plain": [
       "2    12583\n",
       "5    15291\n",
       "6    14688\n",
       "7    17809\n",
       "8    15311\n",
       "Name: customer_id, dtype: int64"
      ]
     },
     "execution_count": 175,
     "metadata": {},
     "output_type": "execute_result"
    }
   ],
   "source": [
    "df10.loc[df10['cluster']==1, 'customer_id'].head()"
   ]
  },
  {
   "cell_type": "markdown",
   "metadata": {},
   "source": [
    "### 2. How many customers will be part of the group?"
   ]
  },
  {
   "cell_type": "code",
   "execution_count": 176,
   "metadata": {
    "ExecuteTime": {
     "end_time": "2021-09-07T21:46:27.826193Z",
     "start_time": "2021-09-07T21:46:27.821967Z"
    }
   },
   "outputs": [
    {
     "data": {
      "text/plain": [
       "595"
      ]
     },
     "execution_count": 176,
     "metadata": {},
     "output_type": "execute_result"
    }
   ],
   "source": [
    "df10.loc[df10['cluster']==1, 'customer_id'].size"
   ]
  },
  {
   "cell_type": "markdown",
   "metadata": {},
   "source": [
    "### 3. What are the main characteristic of those customers?"
   ]
  },
  {
   "cell_type": "markdown",
   "metadata": {},
   "source": [
    "    - Gross revenue: $7810.07;\n",
    "    - Returns: $328.58;\n",
    "    - Recency of last purchase: 44.92 dias;\n",
    "    - Quantity of products bought: 1255 products;\n",
    "    - Average ticket: $93.10;\n",
    "    - Average time between purchases: 51.16 days;\n",
    "    - Average variety of products purchased: 20.97."
   ]
  },
  {
   "cell_type": "markdown",
   "metadata": {},
   "source": [
    "### 4. What are the contribution of those customers in revenue?"
   ]
  },
  {
   "cell_type": "code",
   "execution_count": 177,
   "metadata": {
    "ExecuteTime": {
     "end_time": "2021-09-07T21:46:28.561232Z",
     "start_time": "2021-09-07T21:46:28.551414Z"
    }
   },
   "outputs": [
    {
     "name": "stdout",
     "output_type": "stream",
     "text": [
      "Insiders contribution in gross revenue is 56.17% of total revenue\n"
     ]
    }
   ],
   "source": [
    "insiders_total_revenue = df10.loc[df10['cluster']==1, 'gross_revenue'].sum()\n",
    "all_total_revenue = df10.loc[:, 'gross_revenue'].sum()\n",
    "\n",
    "print('Insiders contribution in gross revenue is {}% of total revenue'.format(round(insiders_total_revenue*100 / all_total_revenue, 2)))"
   ]
  },
  {
   "cell_type": "markdown",
   "metadata": {},
   "source": [
    "### 5. What are the future expectations for revenue in the next months for these customers?"
   ]
  },
  {
   "cell_type": "code",
   "execution_count": 178,
   "metadata": {
    "ExecuteTime": {
     "end_time": "2021-09-07T21:46:28.886496Z",
     "start_time": "2021-09-07T21:46:28.871505Z"
    }
   },
   "outputs": [
    {
     "data": {
      "text/html": [
       "<div>\n",
       "<style scoped>\n",
       "    .dataframe tbody tr th:only-of-type {\n",
       "        vertical-align: middle;\n",
       "    }\n",
       "\n",
       "    .dataframe tbody tr th {\n",
       "        vertical-align: top;\n",
       "    }\n",
       "\n",
       "    .dataframe thead th {\n",
       "        text-align: right;\n",
       "    }\n",
       "</style>\n",
       "<table border=\"1\" class=\"dataframe\">\n",
       "  <thead>\n",
       "    <tr style=\"text-align: right;\">\n",
       "      <th></th>\n",
       "      <th>cluster</th>\n",
       "      <th>customer_id</th>\n",
       "      <th>perc_customer</th>\n",
       "      <th>gross_revenue</th>\n",
       "      <th>devolutions</th>\n",
       "      <th>recency_p</th>\n",
       "      <th>quantity_p</th>\n",
       "      <th>avg_ticket</th>\n",
       "      <th>avg_recency_days</th>\n",
       "      <th>avg_variety</th>\n",
       "    </tr>\n",
       "  </thead>\n",
       "  <tbody>\n",
       "    <tr>\n",
       "      <th>0</th>\n",
       "      <td>1</td>\n",
       "      <td>595</td>\n",
       "      <td>13.641</td>\n",
       "      <td>7810.70</td>\n",
       "      <td>328.58</td>\n",
       "      <td>44.92</td>\n",
       "      <td>1255.35</td>\n",
       "      <td>93.10</td>\n",
       "      <td>51.16</td>\n",
       "      <td>20.97</td>\n",
       "    </tr>\n",
       "    <tr>\n",
       "      <th>1</th>\n",
       "      <td>2</td>\n",
       "      <td>362</td>\n",
       "      <td>8.299</td>\n",
       "      <td>1067.25</td>\n",
       "      <td>0.08</td>\n",
       "      <td>79.12</td>\n",
       "      <td>180.42</td>\n",
       "      <td>32.23</td>\n",
       "      <td>88.44</td>\n",
       "      <td>24.37</td>\n",
       "    </tr>\n",
       "    <tr>\n",
       "      <th>2</th>\n",
       "      <td>3</td>\n",
       "      <td>373</td>\n",
       "      <td>8.551</td>\n",
       "      <td>1955.85</td>\n",
       "      <td>83.93</td>\n",
       "      <td>52.44</td>\n",
       "      <td>194.88</td>\n",
       "      <td>21.83</td>\n",
       "      <td>54.07</td>\n",
       "      <td>24.49</td>\n",
       "    </tr>\n",
       "    <tr>\n",
       "      <th>3</th>\n",
       "      <td>4</td>\n",
       "      <td>442</td>\n",
       "      <td>10.133</td>\n",
       "      <td>2469.28</td>\n",
       "      <td>55.51</td>\n",
       "      <td>49.61</td>\n",
       "      <td>295.00</td>\n",
       "      <td>28.03</td>\n",
       "      <td>57.45</td>\n",
       "      <td>27.09</td>\n",
       "    </tr>\n",
       "    <tr>\n",
       "      <th>4</th>\n",
       "      <td>5</td>\n",
       "      <td>290</td>\n",
       "      <td>6.648</td>\n",
       "      <td>223.71</td>\n",
       "      <td>9.10</td>\n",
       "      <td>157.65</td>\n",
       "      <td>21.88</td>\n",
       "      <td>23.04</td>\n",
       "      <td>152.68</td>\n",
       "      <td>20.48</td>\n",
       "    </tr>\n",
       "    <tr>\n",
       "      <th>5</th>\n",
       "      <td>6</td>\n",
       "      <td>154</td>\n",
       "      <td>3.530</td>\n",
       "      <td>212.04</td>\n",
       "      <td>20.21</td>\n",
       "      <td>135.94</td>\n",
       "      <td>43.19</td>\n",
       "      <td>38.38</td>\n",
       "      <td>126.62</td>\n",
       "      <td>5.07</td>\n",
       "    </tr>\n",
       "    <tr>\n",
       "      <th>6</th>\n",
       "      <td>7</td>\n",
       "      <td>167</td>\n",
       "      <td>3.829</td>\n",
       "      <td>89.21</td>\n",
       "      <td>14.52</td>\n",
       "      <td>213.46</td>\n",
       "      <td>10.63</td>\n",
       "      <td>35.57</td>\n",
       "      <td>196.61</td>\n",
       "      <td>3.32</td>\n",
       "    </tr>\n",
       "    <tr>\n",
       "      <th>7</th>\n",
       "      <td>8</td>\n",
       "      <td>219</td>\n",
       "      <td>5.021</td>\n",
       "      <td>475.54</td>\n",
       "      <td>14.30</td>\n",
       "      <td>129.93</td>\n",
       "      <td>61.74</td>\n",
       "      <td>20.96</td>\n",
       "      <td>123.57</td>\n",
       "      <td>20.92</td>\n",
       "    </tr>\n",
       "    <tr>\n",
       "      <th>8</th>\n",
       "      <td>9</td>\n",
       "      <td>424</td>\n",
       "      <td>9.720</td>\n",
       "      <td>370.53</td>\n",
       "      <td>31.81</td>\n",
       "      <td>130.48</td>\n",
       "      <td>44.43</td>\n",
       "      <td>14.01</td>\n",
       "      <td>126.18</td>\n",
       "      <td>24.05</td>\n",
       "    </tr>\n",
       "    <tr>\n",
       "      <th>9</th>\n",
       "      <td>10</td>\n",
       "      <td>726</td>\n",
       "      <td>16.644</td>\n",
       "      <td>649.46</td>\n",
       "      <td>13.06</td>\n",
       "      <td>104.52</td>\n",
       "      <td>82.96</td>\n",
       "      <td>21.59</td>\n",
       "      <td>103.90</td>\n",
       "      <td>23.45</td>\n",
       "    </tr>\n",
       "    <tr>\n",
       "      <th>10</th>\n",
       "      <td>11</td>\n",
       "      <td>353</td>\n",
       "      <td>8.093</td>\n",
       "      <td>1024.58</td>\n",
       "      <td>33.56</td>\n",
       "      <td>82.66</td>\n",
       "      <td>130.82</td>\n",
       "      <td>22.99</td>\n",
       "      <td>87.68</td>\n",
       "      <td>23.77</td>\n",
       "    </tr>\n",
       "    <tr>\n",
       "      <th>11</th>\n",
       "      <td>12</td>\n",
       "      <td>257</td>\n",
       "      <td>5.892</td>\n",
       "      <td>826.46</td>\n",
       "      <td>23.01</td>\n",
       "      <td>85.60</td>\n",
       "      <td>110.07</td>\n",
       "      <td>18.99</td>\n",
       "      <td>81.24</td>\n",
       "      <td>24.27</td>\n",
       "    </tr>\n",
       "  </tbody>\n",
       "</table>\n",
       "</div>"
      ],
      "text/plain": [
       "    cluster  customer_id  perc_customer  gross_revenue  devolutions  recency_p  quantity_p  avg_ticket  avg_recency_days  avg_variety\n",
       "0         1          595         13.641        7810.70       328.58      44.92     1255.35       93.10             51.16        20.97\n",
       "1         2          362          8.299        1067.25         0.08      79.12      180.42       32.23             88.44        24.37\n",
       "2         3          373          8.551        1955.85        83.93      52.44      194.88       21.83             54.07        24.49\n",
       "3         4          442         10.133        2469.28        55.51      49.61      295.00       28.03             57.45        27.09\n",
       "4         5          290          6.648         223.71         9.10     157.65       21.88       23.04            152.68        20.48\n",
       "5         6          154          3.530         212.04        20.21     135.94       43.19       38.38            126.62         5.07\n",
       "6         7          167          3.829          89.21        14.52     213.46       10.63       35.57            196.61         3.32\n",
       "7         8          219          5.021         475.54        14.30     129.93       61.74       20.96            123.57        20.92\n",
       "8         9          424          9.720         370.53        31.81     130.48       44.43       14.01            126.18        24.05\n",
       "9        10          726         16.644         649.46        13.06     104.52       82.96       21.59            103.90        23.45\n",
       "10       11          353          8.093        1024.58        33.56      82.66      130.82       22.99             87.68        23.77\n",
       "11       12          257          5.892         826.46        23.01      85.60      110.07       18.99             81.24        24.27"
      ]
     },
     "execution_count": 178,
     "metadata": {},
     "output_type": "execute_result"
    }
   ],
   "source": [
    "df_cluster"
   ]
  },
  {
   "cell_type": "markdown",
   "metadata": {},
   "source": [
    "### 6. What are the conditions for a person to be elected in the Insiders program?"
   ]
  },
  {
   "cell_type": "markdown",
   "metadata": {},
   "source": [
    "### 7. What are the conditions for a person to be removed from the Insiders program?"
   ]
  },
  {
   "cell_type": "markdown",
   "metadata": {},
   "source": [
    "### 8. How we can be sure that a Insider customer is better than the others customers?"
   ]
  },
  {
   "cell_type": "markdown",
   "metadata": {},
   "source": [
    "### 9. What actions are available for the marketing team to improve revenue?"
   ]
  },
  {
   "cell_type": "code",
   "execution_count": null,
   "metadata": {},
   "outputs": [],
   "source": []
  },
  {
   "cell_type": "code",
   "execution_count": null,
   "metadata": {},
   "outputs": [],
   "source": []
  },
  {
   "cell_type": "code",
   "execution_count": null,
   "metadata": {},
   "outputs": [],
   "source": []
  },
  {
   "cell_type": "code",
   "execution_count": null,
   "metadata": {},
   "outputs": [],
   "source": []
  },
  {
   "cell_type": "code",
   "execution_count": null,
   "metadata": {},
   "outputs": [],
   "source": []
  },
  {
   "cell_type": "code",
   "execution_count": null,
   "metadata": {},
   "outputs": [],
   "source": []
  },
  {
   "cell_type": "code",
   "execution_count": null,
   "metadata": {},
   "outputs": [],
   "source": []
  },
  {
   "cell_type": "code",
   "execution_count": null,
   "metadata": {},
   "outputs": [],
   "source": []
  },
  {
   "cell_type": "markdown",
   "metadata": {},
   "source": [
    "# 11. Deploy to production"
   ]
  },
  {
   "cell_type": "code",
   "execution_count": null,
   "metadata": {},
   "outputs": [],
   "source": []
  },
  {
   "cell_type": "code",
   "execution_count": null,
   "metadata": {},
   "outputs": [],
   "source": []
  },
  {
   "cell_type": "code",
   "execution_count": null,
   "metadata": {},
   "outputs": [],
   "source": []
  },
  {
   "cell_type": "code",
   "execution_count": null,
   "metadata": {},
   "outputs": [],
   "source": []
  },
  {
   "cell_type": "code",
   "execution_count": null,
   "metadata": {},
   "outputs": [],
   "source": []
  },
  {
   "cell_type": "code",
   "execution_count": null,
   "metadata": {},
   "outputs": [],
   "source": []
  }
 ],
 "metadata": {
  "kernelspec": {
   "display_name": "Python 3",
   "language": "python",
   "name": "python3"
  },
  "language_info": {
   "codemirror_mode": {
    "name": "ipython",
    "version": 3
   },
   "file_extension": ".py",
   "mimetype": "text/x-python",
   "name": "python",
   "nbconvert_exporter": "python",
   "pygments_lexer": "ipython3",
   "version": "3.8.0"
  },
  "latex_envs": {
   "LaTeX_envs_menu_present": true,
   "autoclose": true,
   "autocomplete": true,
   "bibliofile": "biblio.bib",
   "cite_by": "apalike",
   "current_citInitial": 1,
   "eqLabelWithNumbers": true,
   "eqNumInitial": 1,
   "hotkeys": {
    "equation": "Ctrl-E",
    "itemize": "Ctrl-I"
   },
   "labels_anchors": false,
   "latex_user_defs": false,
   "report_style_numbering": false,
   "user_envs_cfg": false
  }
 },
 "nbformat": 4,
 "nbformat_minor": 5
}
