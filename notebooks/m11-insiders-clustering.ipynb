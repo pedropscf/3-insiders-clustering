{
 "cells": [
  {
   "cell_type": "markdown",
   "metadata": {},
   "source": [
    "# 0. Imports packages, modules and functions"
   ]
  },
  {
   "cell_type": "markdown",
   "metadata": {},
   "source": [
    "## 0.1. Import modules"
   ]
  },
  {
   "cell_type": "code",
   "execution_count": 50,
   "metadata": {
    "ExecuteTime": {
     "end_time": "2021-09-09T23:54:08.967100Z",
     "start_time": "2021-09-09T23:54:08.941341Z"
    }
   },
   "outputs": [],
   "source": [
    "import pandas                   as pd\n",
    "import numpy                    as np\n",
    "import seaborn                  as sns\n",
    "import matplotlib.pyplot        as plt\n",
    "import umap.umap_               as ump\n",
    "\n",
    "from plotly      import express as px\n",
    "\n",
    "from scipy                      import stats\n",
    "from scipy.cluster              import hierarchy    as hc \n",
    "from sklearn                    import cluster\n",
    "from sklearn                    import decomposition\n",
    "from sklearn                    import metrics\n",
    "from sklearn.ensemble           import RandomForestRegressor\n",
    "from sklearn.preprocessing      import RobustScaler, MinMaxScaler, StandardScaler\n",
    "from yellowbrick.cluster        import KElbowVisualizer, SilhouetteVisualizer\n",
    "\n",
    "import datetime\n",
    "import inflection\n",
    "import math\n",
    "import random\n",
    "import warnings\n",
    "\n",
    "warnings.filterwarnings('ignore')\n",
    "%matplotlib inline"
   ]
  },
  {
   "cell_type": "markdown",
   "metadata": {},
   "source": [
    "## 0.2. Helper functions"
   ]
  },
  {
   "cell_type": "code",
   "execution_count": 2,
   "metadata": {
    "ExecuteTime": {
     "end_time": "2021-09-09T23:07:16.804257Z",
     "start_time": "2021-09-09T23:07:16.682077Z"
    },
    "code_folding": [
     0,
     12,
     17,
     22,
     39,
     63
    ]
   },
   "outputs": [],
   "source": [
    "def cramer_v(x, y):\n",
    "    cm = pd.crosstab(x, y).as_matrix()\n",
    "    n = cm.sum()\n",
    "    r, k = cm.shape\n",
    "    \n",
    "    chi2 = stats.chi2_contingency(cm)[0]\n",
    "    chi2_corrected = chi2 - ((k - 1)*(r - 1))/(n - 1)\n",
    "    k_corrected = k - ((k - 1)**2)/(n - 1)\n",
    "    r_corrected = r - ((r - 1)**2)/(n - 1)\n",
    "    \n",
    "    return np.sqrt((chi2_corrected/n) / (min(k_corrected - 1, r_corrected - 1)))\n",
    "\n",
    "def get_class_count(df, identification, target_var):\n",
    "    \n",
    "    class_count = df.groupby([target_var])[identification].nunique()\n",
    "    return {key: class_count[key] for key in list(class_count.keys())}\n",
    "\n",
    "def get_class_proportion(df, identification, target_var):\n",
    "    \n",
    "    class_counts = get_class_count(df, identification , target_var)\n",
    "    return {val[0]: round(100 * val[1]/df.shape[0], 2) for val in class_counts.items()}\n",
    "\n",
    "def performance(model, x_train, y_train):\n",
    "    # define scoring metrics\n",
    "    scoring = {'accuracy': 'accuracy',\n",
    "               'precision': make_scorer(precision_score),\n",
    "               'recall': make_scorer(recall_score),\n",
    "               'f1_score': make_scorer(f1_score),\n",
    "               'roc_auc_score': make_scorer(roc_auc_score),\n",
    "               'mcc': make_scorer(matthews_corrcoef)}\n",
    "\n",
    "    # calculate scores with cross_validate\n",
    "    scores = cross_validate(model, x_train, y_train, cv=10, scoring=scoring)\n",
    "\n",
    "    # performance data frame\n",
    "    performance = pd.DataFrame.from_dict(scores).drop(['fit_time', 'score_time'], axis=1)\n",
    "    performance = pd.DataFrame(performance.mean()).T\n",
    "    return performance\n",
    "\n",
    "def performance_test(model_name, model, x_test, y_test):\n",
    "    # predcitions\n",
    "    yhat = model.predict(x_test)\n",
    "    \n",
    "    # Performance metrics\n",
    "    precision = precision_score(y_test, yhat)\n",
    "    recall = recall_score(y_test, yhat)\n",
    "    f1 = f1_score(y_test, yhat)\n",
    "    roc_auc = roc_auc_score(y_test, yhat)\n",
    "    mcc = matthews_corrcoef(y_test, yhat)\n",
    "\n",
    "    # Performance dataframe\n",
    "    performance_df = pd.DataFrame({'precision': precision, 'recall': recall, 'f1_score': f1, \n",
    "                               'roc_auc_score': roc_auc, 'mcc': mcc}, index=[model_name])\n",
    "\n",
    "    # confusion matrix\n",
    "    cm = confusion_matrix(y_test, yhat)\n",
    "\n",
    "    # dataframe for heatmap\n",
    "    cm_df = pd.DataFrame(cm, columns=['predicted_not_churn', 'predicted_churn'], \n",
    "                         index=['actual_not_churn', 'actual_churn'])\n",
    "    \n",
    "    return performance_df, cm_df\n",
    "\n",
    "def silhouette_analysis(n_clusters, labels, data):\n",
    "    '''\n",
    "    Functions that analyzes the silhouette of a previous trained clustering model, for n chosen clusters and data.\n",
    "    \n",
    "    param n_clusters\n",
    "    List of integers representing the number of clusters that will be analyzed.\n",
    "    \n",
    "    param labels\n",
    "    Array of labels obtained from the model prediction. Attention that the data used to create the labels, must be coherent with the data used in this function.\n",
    "    \n",
    "    param data\n",
    "    The dataframe used to generate the labels.\n",
    "    '''\n",
    "    from sklearn.metrics import silhouette_samples\n",
    "    \n",
    "    fig, ax = plt.subplots( int(len(n_clusters)/2.0) + 1, 2 )\n",
    "    fig.set_size_inches(25,20)\n",
    "    \n",
    "    for k in n_clusters:\n",
    "        \n",
    "        q,mod = divmod(k, 2)\n",
    "        \n",
    "        ax[q-1, mod].set_xlim([-0.1, 1])\n",
    "        ax[q-1, mod].set_ylim([0, len(data)])\n",
    "        \n",
    "        silhouette_samples_values = silhouette_samples(data, labels)\n",
    "        \n",
    "        y_start = 0\n",
    "        \n",
    "        for i in range(k):\n",
    "            \n",
    "            # selecting the cluster i\n",
    "            i_th_samples = silhouette_samples_values[labels == i]\n",
    "            \n",
    "            # sorting the values\n",
    "            i_th_samples.sort()\n",
    "            \n",
    "            # sizing the cluster i\n",
    "            size_cluster_i = i_th_samples.shape[0]\n",
    "            y_end = y_start + size_cluster_i\n",
    "            \n",
    "            # updating the color\n",
    "            cmap = cm.get_cmap('Spectral')\n",
    "            color = cmap(i / k)\n",
    "            \n",
    "            # ploting the silhouette for cluster i\n",
    "            ax[q-1,mod].fill_betweenx(np.arange(y_start, y_end), 0, i_th_samples)\n",
    "            \n",
    "            # updating y axis\n",
    "            y_start = y_end\n",
    "            \n",
    "        ax[q-1,mod].set_yticks([])\n",
    "        ax[q-1,mod].set_xticks([-0.1, 0, 0.2, 0.4, 0.6, 0.8, 1])\n",
    "        \n",
    "    plt.show()"
   ]
  },
  {
   "cell_type": "markdown",
   "metadata": {},
   "source": [
    "## 0.3. Loading data"
   ]
  },
  {
   "cell_type": "code",
   "execution_count": 7,
   "metadata": {
    "ExecuteTime": {
     "end_time": "2021-09-09T23:53:04.698266Z",
     "start_time": "2021-09-09T23:53:04.174416Z"
    }
   },
   "outputs": [],
   "source": [
    " # load data\n",
    "df_raw = pd.read_csv( '../data/raw/Ecommerce.csv', encoding = \"ISO-8859-1\" )\n",
    "\n",
    "# drop extra column\n",
    "df_raw = df_raw.drop( columns=['Unnamed: 8'], axis=1 )"
   ]
  },
  {
   "cell_type": "markdown",
   "metadata": {},
   "source": [
    "## 0.4. Image controls"
   ]
  },
  {
   "cell_type": "code",
   "execution_count": 8,
   "metadata": {
    "ExecuteTime": {
     "end_time": "2021-09-09T23:53:04.801221Z",
     "start_time": "2021-09-09T23:53:04.794543Z"
    }
   },
   "outputs": [],
   "source": [
    " def jupyter_settings():\n",
    "    %matplotlib inline\n",
    "    %pylab inline\n",
    "    \n",
    "    plt.style.use( 'ggplot')\n",
    "    plt.rcParams['figure.figsize'] = [24, 15]\n",
    "    plt.rcParams['font.size'] = 24\n",
    "    \n",
    "    display( HTML( '<style>.container { width:100% !important; }</style>') )\n",
    "    pd.options.display.max_columns = None\n",
    "    pd.options.display.max_rows = None\n",
    "    pd.set_option( 'display.expand_frame_repr', False )\n",
    "    \n",
    "    sns.set()"
   ]
  },
  {
   "cell_type": "markdown",
   "metadata": {},
   "source": [
    "# 1. Data description"
   ]
  },
  {
   "cell_type": "markdown",
   "metadata": {},
   "source": []
  },
  {
   "cell_type": "code",
   "execution_count": 9,
   "metadata": {
    "ExecuteTime": {
     "end_time": "2021-09-09T23:53:06.871726Z",
     "start_time": "2021-09-09T23:53:06.856889Z"
    }
   },
   "outputs": [],
   "source": [
    "df1 = df_raw.copy()"
   ]
  },
  {
   "cell_type": "markdown",
   "metadata": {},
   "source": [
    "## 1.1. Rename columns"
   ]
  },
  {
   "cell_type": "code",
   "execution_count": 10,
   "metadata": {
    "ExecuteTime": {
     "end_time": "2021-09-09T23:53:07.192441Z",
     "start_time": "2021-09-09T23:53:07.187477Z"
    }
   },
   "outputs": [
    {
     "data": {
      "text/plain": [
       "Index(['InvoiceNo', 'StockCode', 'Description', 'Quantity', 'InvoiceDate',\n",
       "       'UnitPrice', 'CustomerID', 'Country'],\n",
       "      dtype='object')"
      ]
     },
     "execution_count": 10,
     "metadata": {},
     "output_type": "execute_result"
    }
   ],
   "source": [
    "df1.columns"
   ]
  },
  {
   "cell_type": "code",
   "execution_count": 11,
   "metadata": {
    "ExecuteTime": {
     "end_time": "2021-09-09T23:53:07.376913Z",
     "start_time": "2021-09-09T23:53:07.357700Z"
    }
   },
   "outputs": [
    {
     "data": {
      "text/html": [
       "<div>\n",
       "<style scoped>\n",
       "    .dataframe tbody tr th:only-of-type {\n",
       "        vertical-align: middle;\n",
       "    }\n",
       "\n",
       "    .dataframe tbody tr th {\n",
       "        vertical-align: top;\n",
       "    }\n",
       "\n",
       "    .dataframe thead th {\n",
       "        text-align: right;\n",
       "    }\n",
       "</style>\n",
       "<table border=\"1\" class=\"dataframe\">\n",
       "  <thead>\n",
       "    <tr style=\"text-align: right;\">\n",
       "      <th></th>\n",
       "      <th>invoice_no</th>\n",
       "      <th>stock_code</th>\n",
       "      <th>description</th>\n",
       "      <th>quantity</th>\n",
       "      <th>invoice_date</th>\n",
       "      <th>unit_price</th>\n",
       "      <th>customer_id</th>\n",
       "      <th>country</th>\n",
       "    </tr>\n",
       "  </thead>\n",
       "  <tbody>\n",
       "    <tr>\n",
       "      <th>0</th>\n",
       "      <td>536365</td>\n",
       "      <td>85123A</td>\n",
       "      <td>WHITE HANGING HEART T-LIGHT HOLDER</td>\n",
       "      <td>6</td>\n",
       "      <td>29-Nov-16</td>\n",
       "      <td>2.55</td>\n",
       "      <td>17850.0</td>\n",
       "      <td>United Kingdom</td>\n",
       "    </tr>\n",
       "    <tr>\n",
       "      <th>1</th>\n",
       "      <td>536365</td>\n",
       "      <td>71053</td>\n",
       "      <td>WHITE METAL LANTERN</td>\n",
       "      <td>6</td>\n",
       "      <td>29-Nov-16</td>\n",
       "      <td>3.39</td>\n",
       "      <td>17850.0</td>\n",
       "      <td>United Kingdom</td>\n",
       "    </tr>\n",
       "    <tr>\n",
       "      <th>2</th>\n",
       "      <td>536365</td>\n",
       "      <td>84406B</td>\n",
       "      <td>CREAM CUPID HEARTS COAT HANGER</td>\n",
       "      <td>8</td>\n",
       "      <td>29-Nov-16</td>\n",
       "      <td>2.75</td>\n",
       "      <td>17850.0</td>\n",
       "      <td>United Kingdom</td>\n",
       "    </tr>\n",
       "    <tr>\n",
       "      <th>3</th>\n",
       "      <td>536365</td>\n",
       "      <td>84029G</td>\n",
       "      <td>KNITTED UNION FLAG HOT WATER BOTTLE</td>\n",
       "      <td>6</td>\n",
       "      <td>29-Nov-16</td>\n",
       "      <td>3.39</td>\n",
       "      <td>17850.0</td>\n",
       "      <td>United Kingdom</td>\n",
       "    </tr>\n",
       "    <tr>\n",
       "      <th>4</th>\n",
       "      <td>536365</td>\n",
       "      <td>84029E</td>\n",
       "      <td>RED WOOLLY HOTTIE WHITE HEART.</td>\n",
       "      <td>6</td>\n",
       "      <td>29-Nov-16</td>\n",
       "      <td>3.39</td>\n",
       "      <td>17850.0</td>\n",
       "      <td>United Kingdom</td>\n",
       "    </tr>\n",
       "  </tbody>\n",
       "</table>\n",
       "</div>"
      ],
      "text/plain": [
       "  invoice_no stock_code                          description  quantity  \\\n",
       "0     536365     85123A   WHITE HANGING HEART T-LIGHT HOLDER         6   \n",
       "1     536365      71053                  WHITE METAL LANTERN         6   \n",
       "2     536365     84406B       CREAM CUPID HEARTS COAT HANGER         8   \n",
       "3     536365     84029G  KNITTED UNION FLAG HOT WATER BOTTLE         6   \n",
       "4     536365     84029E       RED WOOLLY HOTTIE WHITE HEART.         6   \n",
       "\n",
       "  invoice_date  unit_price  customer_id         country  \n",
       "0    29-Nov-16        2.55      17850.0  United Kingdom  \n",
       "1    29-Nov-16        3.39      17850.0  United Kingdom  \n",
       "2    29-Nov-16        2.75      17850.0  United Kingdom  \n",
       "3    29-Nov-16        3.39      17850.0  United Kingdom  \n",
       "4    29-Nov-16        3.39      17850.0  United Kingdom  "
      ]
     },
     "execution_count": 11,
     "metadata": {},
     "output_type": "execute_result"
    }
   ],
   "source": [
    "cols_new = ['invoice_no', 'stock_code', 'description', 'quantity', 'invoice_date', 'unit_price', 'customer_id', 'country']\n",
    "\n",
    "df1.columns = cols_new\n",
    "df1.head()"
   ]
  },
  {
   "cell_type": "markdown",
   "metadata": {},
   "source": [
    "## 1.2. Data dimensions"
   ]
  },
  {
   "cell_type": "code",
   "execution_count": 12,
   "metadata": {
    "ExecuteTime": {
     "end_time": "2021-09-09T23:53:07.645519Z",
     "start_time": "2021-09-09T23:53:07.642415Z"
    }
   },
   "outputs": [
    {
     "name": "stdout",
     "output_type": "stream",
     "text": [
      "Number of rows: 541909\n",
      "Number of cols: 8\n"
     ]
    }
   ],
   "source": [
    "print( 'Number of rows: {}'.format( df1.shape[0] ) )\n",
    "print( 'Number of cols: {}'.format( df1.shape[1] ) )"
   ]
  },
  {
   "cell_type": "markdown",
   "metadata": {},
   "source": [
    "The dataset consist of more than 500,000 items purchases with different purchases must refer to the same purchase order and customer, while it has only 8 columns."
   ]
  },
  {
   "cell_type": "markdown",
   "metadata": {},
   "source": [
    "## 1.3. Data types"
   ]
  },
  {
   "cell_type": "code",
   "execution_count": 13,
   "metadata": {
    "ExecuteTime": {
     "end_time": "2021-09-09T23:53:08.432950Z",
     "start_time": "2021-09-09T23:53:08.425082Z"
    }
   },
   "outputs": [
    {
     "data": {
      "text/plain": [
       "invoice_no       object\n",
       "stock_code       object\n",
       "description      object\n",
       "quantity          int64\n",
       "invoice_date     object\n",
       "unit_price      float64\n",
       "customer_id     float64\n",
       "country          object\n",
       "dtype: object"
      ]
     },
     "execution_count": 13,
     "metadata": {},
     "output_type": "execute_result"
    }
   ],
   "source": [
    "df1.dtypes"
   ]
  },
  {
   "cell_type": "markdown",
   "metadata": {},
   "source": [
    "The types of the invoice number, customer id and invoice date seem to have the wrong type. Customer ID and invoice number should be represented by the int number type, while the invoice date should be represented by a datetime."
   ]
  },
  {
   "cell_type": "markdown",
   "metadata": {},
   "source": [
    "## 1.4. Check NA"
   ]
  },
  {
   "cell_type": "code",
   "execution_count": 14,
   "metadata": {
    "ExecuteTime": {
     "end_time": "2021-09-09T23:53:08.986238Z",
     "start_time": "2021-09-09T23:53:08.885633Z"
    }
   },
   "outputs": [
    {
     "data": {
      "text/plain": [
       "invoice_no           0\n",
       "stock_code           0\n",
       "description       1454\n",
       "quantity             0\n",
       "invoice_date         0\n",
       "unit_price           0\n",
       "customer_id     135080\n",
       "country              0\n",
       "dtype: int64"
      ]
     },
     "execution_count": 14,
     "metadata": {},
     "output_type": "execute_result"
    }
   ],
   "source": [
    "df1.isna().sum()"
   ]
  },
  {
   "cell_type": "markdown",
   "metadata": {},
   "source": [
    "## 1.5. Replacing NA"
   ]
  },
  {
   "cell_type": "code",
   "execution_count": 101,
   "metadata": {
    "ExecuteTime": {
     "end_time": "2021-09-10T00:12:47.518331Z",
     "start_time": "2021-09-10T00:12:47.292715Z"
    }
   },
   "outputs": [],
   "source": [
    "df_missing = df1.loc[df1['customer_id'].isna(),:]\n",
    "df_not_missing = df1.loc[~df1['customer_id'].isna(),:]\n",
    "\n",
    "# create reference\n",
    "df_backup = pd.DataFrame(df_missing['invoice_no'].drop_duplicates())\n",
    "df_backup['customer_id'] = np.arange(19000, 19000+len(df_backup), 1)\n",
    "\n",
    "# merge original with reference dataframe\n",
    "df1 = pd.merge(df1, df_backup, on='invoice_no', how='left')\n",
    "\n",
    "# Coalescing columns customer_id_x and customer_id_y\n",
    "df1['customer_id'] = df1['customer_id_x'].combine_first(df1['customer_id_y'])\n",
    "\n",
    "# Droping extra customer_id columns\n",
    "df1 = df1.drop(columns=['customer_id_x', 'customer_id_y'], axis=1)"
   ]
  },
  {
   "cell_type": "code",
   "execution_count": 102,
   "metadata": {
    "ExecuteTime": {
     "end_time": "2021-09-10T00:12:49.489606Z",
     "start_time": "2021-09-10T00:12:49.417671Z"
    }
   },
   "outputs": [
    {
     "name": "stdout",
     "output_type": "stream",
     "text": [
      "Removed data: 0.27%\n"
     ]
    }
   ],
   "source": [
    "df1 = df1.dropna(subset=['description', 'customer_id'])\n",
    "\n",
    "print('Removed data: {:.2f}%'.format(100*(1 - (df1.shape[0]/df_raw.shape[0]))))"
   ]
  },
  {
   "cell_type": "code",
   "execution_count": 103,
   "metadata": {
    "ExecuteTime": {
     "end_time": "2021-09-10T00:12:50.533175Z",
     "start_time": "2021-09-10T00:12:50.450439Z"
    }
   },
   "outputs": [
    {
     "data": {
      "text/plain": [
       "invoice_no      0\n",
       "stock_code      0\n",
       "description     0\n",
       "quantity        0\n",
       "invoice_date    0\n",
       "unit_price      0\n",
       "country         0\n",
       "customer_id     0\n",
       "dtype: int64"
      ]
     },
     "execution_count": 103,
     "metadata": {},
     "output_type": "execute_result"
    }
   ],
   "source": [
    "df1.isna().sum()"
   ]
  },
  {
   "cell_type": "markdown",
   "metadata": {},
   "source": [
    "The data has many problems with NA purchase orders, that may be represented by some business problem or relevant information, such as reversed logistics to product change or devolution. It can be represented by both the negative quantities and the letters whitin the invoice number. All those data will be removed from the dataset."
   ]
  },
  {
   "cell_type": "markdown",
   "metadata": {},
   "source": [
    "## 1.6. Change dtypes"
   ]
  },
  {
   "cell_type": "code",
   "execution_count": 104,
   "metadata": {
    "ExecuteTime": {
     "end_time": "2021-09-10T00:12:53.406222Z",
     "start_time": "2021-09-10T00:12:53.376093Z"
    }
   },
   "outputs": [
    {
     "data": {
      "text/html": [
       "<div>\n",
       "<style scoped>\n",
       "    .dataframe tbody tr th:only-of-type {\n",
       "        vertical-align: middle;\n",
       "    }\n",
       "\n",
       "    .dataframe tbody tr th {\n",
       "        vertical-align: top;\n",
       "    }\n",
       "\n",
       "    .dataframe thead th {\n",
       "        text-align: right;\n",
       "    }\n",
       "</style>\n",
       "<table border=\"1\" class=\"dataframe\">\n",
       "  <thead>\n",
       "    <tr style=\"text-align: right;\">\n",
       "      <th></th>\n",
       "      <th>invoice_no</th>\n",
       "      <th>stock_code</th>\n",
       "      <th>description</th>\n",
       "      <th>quantity</th>\n",
       "      <th>invoice_date</th>\n",
       "      <th>unit_price</th>\n",
       "      <th>country</th>\n",
       "      <th>customer_id</th>\n",
       "    </tr>\n",
       "  </thead>\n",
       "  <tbody>\n",
       "    <tr>\n",
       "      <th>0</th>\n",
       "      <td>536365</td>\n",
       "      <td>85123A</td>\n",
       "      <td>WHITE HANGING HEART T-LIGHT HOLDER</td>\n",
       "      <td>6</td>\n",
       "      <td>2016-11-29</td>\n",
       "      <td>2.55</td>\n",
       "      <td>United Kingdom</td>\n",
       "      <td>17850</td>\n",
       "    </tr>\n",
       "    <tr>\n",
       "      <th>1</th>\n",
       "      <td>536365</td>\n",
       "      <td>71053</td>\n",
       "      <td>WHITE METAL LANTERN</td>\n",
       "      <td>6</td>\n",
       "      <td>2016-11-29</td>\n",
       "      <td>3.39</td>\n",
       "      <td>United Kingdom</td>\n",
       "      <td>17850</td>\n",
       "    </tr>\n",
       "    <tr>\n",
       "      <th>2</th>\n",
       "      <td>536365</td>\n",
       "      <td>84406B</td>\n",
       "      <td>CREAM CUPID HEARTS COAT HANGER</td>\n",
       "      <td>8</td>\n",
       "      <td>2016-11-29</td>\n",
       "      <td>2.75</td>\n",
       "      <td>United Kingdom</td>\n",
       "      <td>17850</td>\n",
       "    </tr>\n",
       "    <tr>\n",
       "      <th>3</th>\n",
       "      <td>536365</td>\n",
       "      <td>84029G</td>\n",
       "      <td>KNITTED UNION FLAG HOT WATER BOTTLE</td>\n",
       "      <td>6</td>\n",
       "      <td>2016-11-29</td>\n",
       "      <td>3.39</td>\n",
       "      <td>United Kingdom</td>\n",
       "      <td>17850</td>\n",
       "    </tr>\n",
       "    <tr>\n",
       "      <th>4</th>\n",
       "      <td>536365</td>\n",
       "      <td>84029E</td>\n",
       "      <td>RED WOOLLY HOTTIE WHITE HEART.</td>\n",
       "      <td>6</td>\n",
       "      <td>2016-11-29</td>\n",
       "      <td>3.39</td>\n",
       "      <td>United Kingdom</td>\n",
       "      <td>17850</td>\n",
       "    </tr>\n",
       "  </tbody>\n",
       "</table>\n",
       "</div>"
      ],
      "text/plain": [
       "  invoice_no stock_code                          description  quantity  \\\n",
       "0     536365     85123A   WHITE HANGING HEART T-LIGHT HOLDER         6   \n",
       "1     536365      71053                  WHITE METAL LANTERN         6   \n",
       "2     536365     84406B       CREAM CUPID HEARTS COAT HANGER         8   \n",
       "3     536365     84029G  KNITTED UNION FLAG HOT WATER BOTTLE         6   \n",
       "4     536365     84029E       RED WOOLLY HOTTIE WHITE HEART.         6   \n",
       "\n",
       "  invoice_date  unit_price         country  customer_id  \n",
       "0   2016-11-29        2.55  United Kingdom        17850  \n",
       "1   2016-11-29        3.39  United Kingdom        17850  \n",
       "2   2016-11-29        2.75  United Kingdom        17850  \n",
       "3   2016-11-29        3.39  United Kingdom        17850  \n",
       "4   2016-11-29        3.39  United Kingdom        17850  "
      ]
     },
     "execution_count": 104,
     "metadata": {},
     "output_type": "execute_result"
    }
   ],
   "source": [
    " # invoice date\n",
    "df1['invoice_date'] = pd.to_datetime( df1['invoice_date'], format='%d-%b-%y' )\n",
    "\n",
    "# customer id\n",
    "df1['customer_id'] = df1['customer_id'].astype( int )\n",
    "df1.head()"
   ]
  },
  {
   "cell_type": "code",
   "execution_count": 105,
   "metadata": {
    "ExecuteTime": {
     "end_time": "2021-09-10T00:13:00.058827Z",
     "start_time": "2021-09-10T00:13:00.052524Z"
    }
   },
   "outputs": [
    {
     "data": {
      "text/plain": [
       "invoice_no              object\n",
       "stock_code              object\n",
       "description             object\n",
       "quantity                 int64\n",
       "invoice_date    datetime64[ns]\n",
       "unit_price             float64\n",
       "country                 object\n",
       "customer_id              int64\n",
       "dtype: object"
      ]
     },
     "execution_count": 105,
     "metadata": {},
     "output_type": "execute_result"
    }
   ],
   "source": [
    "df1.dtypes"
   ]
  },
  {
   "cell_type": "markdown",
   "metadata": {},
   "source": [
    "Even after the removal of NA values, it was not possible to remove all invoice numbers with a letter in it. So, it was not possible to change the invoice number type. Maybe it could be necessary to create features that properly represents the business problem behind the reason of a letter to appear in it. "
   ]
  },
  {
   "cell_type": "markdown",
   "metadata": {},
   "source": [
    "## 1.7. Descriptive statistics"
   ]
  },
  {
   "cell_type": "markdown",
   "metadata": {},
   "source": [
    "It is intended to solve the clusterization problem with the RFM model, the descriptive statistics will be done again after the creation of the variables necessary to create the model."
   ]
  },
  {
   "cell_type": "code",
   "execution_count": 106,
   "metadata": {
    "ExecuteTime": {
     "end_time": "2021-09-10T00:13:03.809700Z",
     "start_time": "2021-09-10T00:13:03.779684Z"
    }
   },
   "outputs": [],
   "source": [
    "num_att = df1.select_dtypes(include=['int64', 'float64'])\n",
    "cat_att = df1.select_dtypes(exclude=['int64','float64','datetime64[ns]'])"
   ]
  },
  {
   "cell_type": "markdown",
   "metadata": {},
   "source": [
    "### 1.7.1. Numerical attributes"
   ]
  },
  {
   "cell_type": "code",
   "execution_count": 107,
   "metadata": {
    "ExecuteTime": {
     "end_time": "2021-09-10T00:13:04.843928Z",
     "start_time": "2021-09-10T00:13:04.478786Z"
    }
   },
   "outputs": [
    {
     "data": {
      "text/html": [
       "<div>\n",
       "<style scoped>\n",
       "    .dataframe tbody tr th:only-of-type {\n",
       "        vertical-align: middle;\n",
       "    }\n",
       "\n",
       "    .dataframe tbody tr th {\n",
       "        vertical-align: top;\n",
       "    }\n",
       "\n",
       "    .dataframe thead th {\n",
       "        text-align: right;\n",
       "    }\n",
       "</style>\n",
       "<table border=\"1\" class=\"dataframe\">\n",
       "  <thead>\n",
       "    <tr style=\"text-align: right;\">\n",
       "      <th></th>\n",
       "      <th>attributes</th>\n",
       "      <th>min</th>\n",
       "      <th>max</th>\n",
       "      <th>range</th>\n",
       "      <th>mean</th>\n",
       "      <th>median</th>\n",
       "      <th>std</th>\n",
       "      <th>skew</th>\n",
       "      <th>kurtosis</th>\n",
       "    </tr>\n",
       "  </thead>\n",
       "  <tbody>\n",
       "    <tr>\n",
       "      <th>0</th>\n",
       "      <td>quantity</td>\n",
       "      <td>-80995.00</td>\n",
       "      <td>80995.0</td>\n",
       "      <td>161990.00</td>\n",
       "      <td>9.603129</td>\n",
       "      <td>3.00</td>\n",
       "      <td>218.007397</td>\n",
       "      <td>-0.281253</td>\n",
       "      <td>120252.449063</td>\n",
       "    </tr>\n",
       "    <tr>\n",
       "      <th>1</th>\n",
       "      <td>unit_price</td>\n",
       "      <td>-11062.06</td>\n",
       "      <td>38970.0</td>\n",
       "      <td>50032.06</td>\n",
       "      <td>4.623519</td>\n",
       "      <td>2.08</td>\n",
       "      <td>96.889538</td>\n",
       "      <td>186.257919</td>\n",
       "      <td>58848.017575</td>\n",
       "    </tr>\n",
       "    <tr>\n",
       "      <th>2</th>\n",
       "      <td>customer_id</td>\n",
       "      <td>12346.00</td>\n",
       "      <td>22709.0</td>\n",
       "      <td>10363.00</td>\n",
       "      <td>16678.153600</td>\n",
       "      <td>16241.00</td>\n",
       "      <td>2907.570262</td>\n",
       "      <td>0.493600</td>\n",
       "      <td>-0.792496</td>\n",
       "    </tr>\n",
       "  </tbody>\n",
       "</table>\n",
       "</div>"
      ],
      "text/plain": [
       "    attributes       min      max      range          mean    median  \\\n",
       "0     quantity -80995.00  80995.0  161990.00      9.603129      3.00   \n",
       "1   unit_price -11062.06  38970.0   50032.06      4.623519      2.08   \n",
       "2  customer_id  12346.00  22709.0   10363.00  16678.153600  16241.00   \n",
       "\n",
       "           std        skew       kurtosis  \n",
       "0   218.007397   -0.281253  120252.449063  \n",
       "1    96.889538  186.257919   58848.017575  \n",
       "2  2907.570262    0.493600      -0.792496  "
      ]
     },
     "execution_count": 107,
     "metadata": {},
     "output_type": "execute_result"
    }
   ],
   "source": [
    "# Central tendency - mean, median\n",
    "\n",
    "mean = pd.DataFrame(num_att.apply(np.mean)).T\n",
    "median = pd.DataFrame(num_att.apply(np.median)).T\n",
    "\n",
    "# Dispersion - std, min, max, range, skew, kurtosis\n",
    "\n",
    "std_deviation = pd.DataFrame(num_att.apply(np.std)).T\n",
    "min_value = pd.DataFrame(num_att.apply(min)).T\n",
    "max_value = pd.DataFrame(num_att.apply(max)).T\n",
    "range_values = pd.DataFrame(num_att.apply(lambda x: x.max() - x.min())).T\n",
    "skew = pd.DataFrame(num_att.apply(lambda x: x.skew())).T\n",
    "kurtosis = pd.DataFrame(num_att.apply(lambda x: x.kurtosis())).T\n",
    "\n",
    "desc_stat = pd.concat([min_value, max_value, range_values, mean, median, std_deviation, skew, kurtosis]).T.reset_index()\n",
    "desc_stat.columns = ['attributes', 'min', 'max', 'range', 'mean', 'median', 'std', 'skew', 'kurtosis']\n",
    "desc_stat"
   ]
  },
  {
   "cell_type": "markdown",
   "metadata": {},
   "source": [
    "From the results we can observe values of standard deviation one order higher than the mean and the median, also with negative values. For the unit price, we can see that there are some occurrencies of products with price 0."
   ]
  },
  {
   "cell_type": "markdown",
   "metadata": {},
   "source": [
    "### 1.7.2. Categorical attributes"
   ]
  },
  {
   "cell_type": "code",
   "execution_count": 108,
   "metadata": {
    "ExecuteTime": {
     "end_time": "2021-09-10T00:13:11.061547Z",
     "start_time": "2021-09-10T00:13:08.951772Z"
    }
   },
   "outputs": [],
   "source": [
    "strings1 = len( cat_att.loc[ cat_att['invoice_no'].apply( lambda x: bool(re.search( '[^0-9]+', x ) ) ), 'invoice_no' ].drop_duplicates() )\n",
    "strings2 = len( cat_att.loc[ cat_att['stock_code'].apply( lambda x: bool(re.search( '[^0-9]+', x ) ) ), 'stock_code' ].drop_duplicates() )\n",
    "strings3 = len(cat_att.loc[ cat_att['stock_code'].apply( lambda x: bool(re.search( '^[a-zA-Z]+$', x ) ) ), 'stock_code' ])\n",
    "\n",
    "strings = cat_att.loc[ cat_att['stock_code'].apply( lambda x: bool(re.search( '^[a-zA-Z]+$', x ) ) ), 'stock_code' ].unique()\n",
    "\n",
    "total1 = len(cat_att['invoice_no'].drop_duplicates())\n",
    "total2 = len(cat_att['stock_code'].drop_duplicates())\n",
    "\n",
    "perc1 = 100 * strings1 / total1\n",
    "perc2 = 100 * strings2 / total2"
   ]
  },
  {
   "cell_type": "code",
   "execution_count": 109,
   "metadata": {
    "ExecuteTime": {
     "end_time": "2021-09-10T00:13:11.065976Z",
     "start_time": "2021-09-10T00:13:11.062793Z"
    }
   },
   "outputs": [
    {
     "name": "stdout",
     "output_type": "stream",
     "text": [
      "There are a total of 3839/24446 (15.70 %)) different invoice numbers with a letter in it, 1073/3958 (27.11 %) different stock codes with a letter in it and 2754 appearances of the letters ['POST' 'D' 'DOT' 'M' 'S' 'AMAZONFEE' 'm' 'DCGSSBOY' 'DCGSSGIRL' 'PADS'\n",
      " 'B' 'CRUK'] as a stock code\n"
     ]
    }
   ],
   "source": [
    "print('There are a total of {}/{} ({:,.2f} %)) different invoice numbers with a letter in it, {}/{} ({:,.2f} %) different stock codes with a letter in it and {} appearances of the letters {} as a stock code'.format( strings1, total1, perc1, strings2, total2, perc2, strings3, strings ))"
   ]
  },
  {
   "cell_type": "markdown",
   "metadata": {},
   "source": [
    "# 2. Variable filtering"
   ]
  },
  {
   "cell_type": "code",
   "execution_count": 110,
   "metadata": {
    "ExecuteTime": {
     "end_time": "2021-09-10T00:13:11.086515Z",
     "start_time": "2021-09-10T00:13:11.067470Z"
    }
   },
   "outputs": [],
   "source": [
    "df2 = df1.copy()"
   ]
  },
  {
   "cell_type": "markdown",
   "metadata": {},
   "source": [
    "All values of clients with a quantity equal or lesser than 0 will be removed from the dataset, since this type of customer will not be elected as a insider anyway. Afterwards, the quantity column will be removed, since its information is contained inside the ticket per product."
   ]
  },
  {
   "cell_type": "code",
   "execution_count": 111,
   "metadata": {
    "ExecuteTime": {
     "end_time": "2021-09-10T00:13:15.673378Z",
     "start_time": "2021-09-10T00:13:15.520378Z"
    }
   },
   "outputs": [],
   "source": [
    "# prices higher than 1 cent\n",
    "df2 = df2.loc[(df1['unit_price'] > 0.01), :]\n",
    "\n",
    "# customer from a known region\n",
    "df2 = df2[~df2['country'].isin(['European Community', 'Unspecified' ] ) ]\n",
    "\n",
    "# stock code different from not explained codes\n",
    "df2 = df2[~df2['stock_code'].isin( ['POST' 'D' 'DOT' 'M' 'S' 'AMAZONFEE' 'm' 'DCGSSBOY' 'DCGSSGIRL' 'PADS' 'B' 'CRUK'] ) ]\n",
    "\n",
    "# returned products\n",
    "df2_returns = df2.loc[df2['quantity'] < 0, :]\n",
    "df2_returns['gross_returns'] = df2_returns['quantity'] * df2_returns['unit_price'] * (- 1)\n",
    "\n",
    "# positive quantities\n",
    "df2_purchase = df2.loc[(df2['quantity'] > 0), :]\n",
    "df2_purchase.loc[:,'gross_purchases'] = df2_purchase.loc[:,'quantity'] * df2_purchase.loc[:,'unit_price']\n"
   ]
  },
  {
   "cell_type": "markdown",
   "metadata": {},
   "source": [
    "# 3. Feature engineering"
   ]
  },
  {
   "cell_type": "code",
   "execution_count": 112,
   "metadata": {
    "ExecuteTime": {
     "end_time": "2021-09-10T00:13:18.709864Z",
     "start_time": "2021-09-10T00:13:18.694341Z"
    }
   },
   "outputs": [],
   "source": [
    "df3 = df2.copy()"
   ]
  },
  {
   "cell_type": "markdown",
   "metadata": {},
   "source": [
    "## 3.1. Feature creation"
   ]
  },
  {
   "cell_type": "markdown",
   "metadata": {},
   "source": [
    "The features will be created in order to adjust the clusterization problem with a RFM model solution. For this, the main features within the model will be the monetary, frequency and recency. The monetary consists of the total amount of revenue from a given client, the frequency measures how many different purchases the client has made, while the recency measures the difference between the actual date (highest date within the dataset) and the last purchase date."
   ]
  },
  {
   "cell_type": "code",
   "execution_count": 113,
   "metadata": {
    "ExecuteTime": {
     "end_time": "2021-09-10T00:13:19.885356Z",
     "start_time": "2021-09-10T00:13:19.865624Z"
    }
   },
   "outputs": [],
   "source": [
    " # data reference\n",
    "df_ref = df3.drop( ['invoice_no', 'stock_code', 'description', 'quantity',\n",
    "                    'invoice_date', 'unit_price', 'country'], axis=1 ).drop_duplicates().reset_index(drop=True)"
   ]
  },
  {
   "cell_type": "markdown",
   "metadata": {},
   "source": [
    "### 3.1.1. Gross purchases and devolutions"
   ]
  },
  {
   "cell_type": "code",
   "execution_count": 114,
   "metadata": {
    "ExecuteTime": {
     "end_time": "2021-09-10T00:13:20.983435Z",
     "start_time": "2021-09-10T00:13:20.921146Z"
    }
   },
   "outputs": [
    {
     "data": {
      "text/html": [
       "<div>\n",
       "<style scoped>\n",
       "    .dataframe tbody tr th:only-of-type {\n",
       "        vertical-align: middle;\n",
       "    }\n",
       "\n",
       "    .dataframe tbody tr th {\n",
       "        vertical-align: top;\n",
       "    }\n",
       "\n",
       "    .dataframe thead th {\n",
       "        text-align: right;\n",
       "    }\n",
       "</style>\n",
       "<table border=\"1\" class=\"dataframe\">\n",
       "  <thead>\n",
       "    <tr style=\"text-align: right;\">\n",
       "      <th></th>\n",
       "      <th>customer_id</th>\n",
       "      <th>purchases</th>\n",
       "      <th>devolutions</th>\n",
       "    </tr>\n",
       "  </thead>\n",
       "  <tbody>\n",
       "    <tr>\n",
       "      <th>0</th>\n",
       "      <td>17850</td>\n",
       "      <td>5391.21</td>\n",
       "      <td>-102.58</td>\n",
       "    </tr>\n",
       "    <tr>\n",
       "      <th>1</th>\n",
       "      <td>13047</td>\n",
       "      <td>3237.54</td>\n",
       "      <td>-158.44</td>\n",
       "    </tr>\n",
       "    <tr>\n",
       "      <th>2</th>\n",
       "      <td>12583</td>\n",
       "      <td>7281.38</td>\n",
       "      <td>-94.04</td>\n",
       "    </tr>\n",
       "    <tr>\n",
       "      <th>3</th>\n",
       "      <td>13748</td>\n",
       "      <td>948.25</td>\n",
       "      <td>0.00</td>\n",
       "    </tr>\n",
       "    <tr>\n",
       "      <th>4</th>\n",
       "      <td>15100</td>\n",
       "      <td>876.00</td>\n",
       "      <td>-240.90</td>\n",
       "    </tr>\n",
       "    <tr>\n",
       "      <th>5</th>\n",
       "      <td>15291</td>\n",
       "      <td>4668.30</td>\n",
       "      <td>-71.79</td>\n",
       "    </tr>\n",
       "    <tr>\n",
       "      <th>6</th>\n",
       "      <td>14688</td>\n",
       "      <td>5630.87</td>\n",
       "      <td>-523.49</td>\n",
       "    </tr>\n",
       "    <tr>\n",
       "      <th>7</th>\n",
       "      <td>17809</td>\n",
       "      <td>5411.91</td>\n",
       "      <td>-784.29</td>\n",
       "    </tr>\n",
       "    <tr>\n",
       "      <th>8</th>\n",
       "      <td>15311</td>\n",
       "      <td>60767.90</td>\n",
       "      <td>-1348.56</td>\n",
       "    </tr>\n",
       "    <tr>\n",
       "      <th>9</th>\n",
       "      <td>14527</td>\n",
       "      <td>8508.82</td>\n",
       "      <td>-797.44</td>\n",
       "    </tr>\n",
       "  </tbody>\n",
       "</table>\n",
       "</div>"
      ],
      "text/plain": [
       "   customer_id  purchases  devolutions\n",
       "0        17850    5391.21      -102.58\n",
       "1        13047    3237.54      -158.44\n",
       "2        12583    7281.38       -94.04\n",
       "3        13748     948.25         0.00\n",
       "4        15100     876.00      -240.90\n",
       "5        15291    4668.30       -71.79\n",
       "6        14688    5630.87      -523.49\n",
       "7        17809    5411.91      -784.29\n",
       "8        15311   60767.90     -1348.56\n",
       "9        14527    8508.82      -797.44"
      ]
     },
     "execution_count": 114,
     "metadata": {},
     "output_type": "execute_result"
    }
   ],
   "source": [
    "# Purchases\n",
    "df3['purchases'] = df2_purchase['quantity'] * df2_purchase['unit_price']\n",
    "df3['devolutions'] = df2_returns['quantity'] * df2_returns['unit_price']\n",
    "\n",
    "# Monetary\n",
    "df_monetary = df3[['customer_id', 'purchases', 'devolutions']].groupby( 'customer_id' ).sum().reset_index()\n",
    "df_ref = pd.merge( df_ref, df_monetary, on='customer_id', how='left' )\n",
    "df_ref.head(10)"
   ]
  },
  {
   "cell_type": "markdown",
   "metadata": {},
   "source": [
    "### 3.1.2. Recency for purchases and devolutions - newest occurence"
   ]
  },
  {
   "cell_type": "code",
   "execution_count": 115,
   "metadata": {
    "ExecuteTime": {
     "end_time": "2021-09-10T00:13:24.153303Z",
     "start_time": "2021-09-10T00:13:24.100746Z"
    }
   },
   "outputs": [
    {
     "data": {
      "text/html": [
       "<div>\n",
       "<style scoped>\n",
       "    .dataframe tbody tr th:only-of-type {\n",
       "        vertical-align: middle;\n",
       "    }\n",
       "\n",
       "    .dataframe tbody tr th {\n",
       "        vertical-align: top;\n",
       "    }\n",
       "\n",
       "    .dataframe thead th {\n",
       "        text-align: right;\n",
       "    }\n",
       "</style>\n",
       "<table border=\"1\" class=\"dataframe\">\n",
       "  <thead>\n",
       "    <tr style=\"text-align: right;\">\n",
       "      <th></th>\n",
       "      <th>customer_id</th>\n",
       "      <th>purchases</th>\n",
       "      <th>devolutions</th>\n",
       "      <th>recency_p</th>\n",
       "      <th>recency_d</th>\n",
       "    </tr>\n",
       "  </thead>\n",
       "  <tbody>\n",
       "    <tr>\n",
       "      <th>0</th>\n",
       "      <td>17850</td>\n",
       "      <td>5391.21</td>\n",
       "      <td>-102.58</td>\n",
       "      <td>372.0</td>\n",
       "      <td>302.0</td>\n",
       "    </tr>\n",
       "    <tr>\n",
       "      <th>1</th>\n",
       "      <td>13047</td>\n",
       "      <td>3237.54</td>\n",
       "      <td>-158.44</td>\n",
       "      <td>31.0</td>\n",
       "      <td>31.0</td>\n",
       "    </tr>\n",
       "    <tr>\n",
       "      <th>2</th>\n",
       "      <td>12583</td>\n",
       "      <td>7281.38</td>\n",
       "      <td>-94.04</td>\n",
       "      <td>2.0</td>\n",
       "      <td>56.0</td>\n",
       "    </tr>\n",
       "    <tr>\n",
       "      <th>3</th>\n",
       "      <td>13748</td>\n",
       "      <td>948.25</td>\n",
       "      <td>0.00</td>\n",
       "      <td>95.0</td>\n",
       "      <td>NaN</td>\n",
       "    </tr>\n",
       "    <tr>\n",
       "      <th>4</th>\n",
       "      <td>15100</td>\n",
       "      <td>876.00</td>\n",
       "      <td>-240.90</td>\n",
       "      <td>333.0</td>\n",
       "      <td>330.0</td>\n",
       "    </tr>\n",
       "    <tr>\n",
       "      <th>5</th>\n",
       "      <td>15291</td>\n",
       "      <td>4668.30</td>\n",
       "      <td>-71.79</td>\n",
       "      <td>25.0</td>\n",
       "      <td>172.0</td>\n",
       "    </tr>\n",
       "    <tr>\n",
       "      <th>6</th>\n",
       "      <td>14688</td>\n",
       "      <td>5630.87</td>\n",
       "      <td>-523.49</td>\n",
       "      <td>7.0</td>\n",
       "      <td>7.0</td>\n",
       "    </tr>\n",
       "    <tr>\n",
       "      <th>7</th>\n",
       "      <td>17809</td>\n",
       "      <td>5411.91</td>\n",
       "      <td>-784.29</td>\n",
       "      <td>16.0</td>\n",
       "      <td>16.0</td>\n",
       "    </tr>\n",
       "    <tr>\n",
       "      <th>8</th>\n",
       "      <td>15311</td>\n",
       "      <td>60767.90</td>\n",
       "      <td>-1348.56</td>\n",
       "      <td>0.0</td>\n",
       "      <td>0.0</td>\n",
       "    </tr>\n",
       "    <tr>\n",
       "      <th>9</th>\n",
       "      <td>14527</td>\n",
       "      <td>8508.82</td>\n",
       "      <td>-797.44</td>\n",
       "      <td>2.0</td>\n",
       "      <td>8.0</td>\n",
       "    </tr>\n",
       "  </tbody>\n",
       "</table>\n",
       "</div>"
      ],
      "text/plain": [
       "   customer_id  purchases  devolutions  recency_p  recency_d\n",
       "0        17850    5391.21      -102.58      372.0      302.0\n",
       "1        13047    3237.54      -158.44       31.0       31.0\n",
       "2        12583    7281.38       -94.04        2.0       56.0\n",
       "3        13748     948.25         0.00       95.0        NaN\n",
       "4        15100     876.00      -240.90      333.0      330.0\n",
       "5        15291    4668.30       -71.79       25.0      172.0\n",
       "6        14688    5630.87      -523.49        7.0        7.0\n",
       "7        17809    5411.91      -784.29       16.0       16.0\n",
       "8        15311   60767.90     -1348.56        0.0        0.0\n",
       "9        14527    8508.82      -797.44        2.0        8.0"
      ]
     },
     "execution_count": 115,
     "metadata": {},
     "output_type": "execute_result"
    }
   ],
   "source": [
    "# Recency - Last day purchase\n",
    "df_recency_p = df2_purchase[['customer_id', 'invoice_date']].groupby( 'customer_id' ).max().reset_index()\n",
    "df_recency_p['recency_p'] = ( df3['invoice_date'].max() - df_recency_p['invoice_date'] ).dt.days\n",
    "df_recency_p = df_recency_p[['customer_id', 'recency_p']].copy()\n",
    "df_ref = pd.merge( df_ref, df_recency_p, on='customer_id', how='left' )\n",
    "\n",
    "# Recency - Last day devolution\n",
    "df_recency_d = df2_returns[['customer_id', 'invoice_date']].groupby( 'customer_id' ).max().reset_index()\n",
    "df_recency_d['recency_d'] = ( df3['invoice_date'].max() - df_recency_d['invoice_date'] ).dt.days\n",
    "df_recency_d = df_recency_d[['customer_id', 'recency_d']].copy()\n",
    "df_ref = pd.merge( df_ref, df_recency_d, on='customer_id', how='left' )\n",
    "df_ref.head(10)"
   ]
  },
  {
   "cell_type": "markdown",
   "metadata": {},
   "source": [
    "### 3.1.3. Quantity of product pruchased or returned"
   ]
  },
  {
   "cell_type": "code",
   "execution_count": 116,
   "metadata": {
    "ExecuteTime": {
     "end_time": "2021-09-10T00:13:26.209418Z",
     "start_time": "2021-09-10T00:13:26.157143Z"
    }
   },
   "outputs": [
    {
     "data": {
      "text/html": [
       "<div>\n",
       "<style scoped>\n",
       "    .dataframe tbody tr th:only-of-type {\n",
       "        vertical-align: middle;\n",
       "    }\n",
       "\n",
       "    .dataframe tbody tr th {\n",
       "        vertical-align: top;\n",
       "    }\n",
       "\n",
       "    .dataframe thead th {\n",
       "        text-align: right;\n",
       "    }\n",
       "</style>\n",
       "<table border=\"1\" class=\"dataframe\">\n",
       "  <thead>\n",
       "    <tr style=\"text-align: right;\">\n",
       "      <th></th>\n",
       "      <th>customer_id</th>\n",
       "      <th>purchases</th>\n",
       "      <th>devolutions</th>\n",
       "      <th>recency_p</th>\n",
       "      <th>recency_d</th>\n",
       "      <th>quantity_p</th>\n",
       "      <th>quantity_d</th>\n",
       "    </tr>\n",
       "  </thead>\n",
       "  <tbody>\n",
       "    <tr>\n",
       "      <th>0</th>\n",
       "      <td>17850</td>\n",
       "      <td>5391.21</td>\n",
       "      <td>-102.58</td>\n",
       "      <td>372.0</td>\n",
       "      <td>302.0</td>\n",
       "      <td>35.0</td>\n",
       "      <td>-21.0</td>\n",
       "    </tr>\n",
       "    <tr>\n",
       "      <th>1</th>\n",
       "      <td>13047</td>\n",
       "      <td>3237.54</td>\n",
       "      <td>-158.44</td>\n",
       "      <td>31.0</td>\n",
       "      <td>31.0</td>\n",
       "      <td>132.0</td>\n",
       "      <td>-6.0</td>\n",
       "    </tr>\n",
       "    <tr>\n",
       "      <th>2</th>\n",
       "      <td>12583</td>\n",
       "      <td>7281.38</td>\n",
       "      <td>-94.04</td>\n",
       "      <td>2.0</td>\n",
       "      <td>56.0</td>\n",
       "      <td>1569.0</td>\n",
       "      <td>-50.0</td>\n",
       "    </tr>\n",
       "    <tr>\n",
       "      <th>3</th>\n",
       "      <td>13748</td>\n",
       "      <td>948.25</td>\n",
       "      <td>0.00</td>\n",
       "      <td>95.0</td>\n",
       "      <td>NaN</td>\n",
       "      <td>169.0</td>\n",
       "      <td>NaN</td>\n",
       "    </tr>\n",
       "    <tr>\n",
       "      <th>4</th>\n",
       "      <td>15100</td>\n",
       "      <td>876.00</td>\n",
       "      <td>-240.90</td>\n",
       "      <td>333.0</td>\n",
       "      <td>330.0</td>\n",
       "      <td>48.0</td>\n",
       "      <td>-22.0</td>\n",
       "    </tr>\n",
       "    <tr>\n",
       "      <th>5</th>\n",
       "      <td>15291</td>\n",
       "      <td>4668.30</td>\n",
       "      <td>-71.79</td>\n",
       "      <td>25.0</td>\n",
       "      <td>172.0</td>\n",
       "      <td>508.0</td>\n",
       "      <td>-27.0</td>\n",
       "    </tr>\n",
       "    <tr>\n",
       "      <th>6</th>\n",
       "      <td>14688</td>\n",
       "      <td>5630.87</td>\n",
       "      <td>-523.49</td>\n",
       "      <td>7.0</td>\n",
       "      <td>7.0</td>\n",
       "      <td>579.0</td>\n",
       "      <td>-281.0</td>\n",
       "    </tr>\n",
       "    <tr>\n",
       "      <th>7</th>\n",
       "      <td>17809</td>\n",
       "      <td>5411.91</td>\n",
       "      <td>-784.29</td>\n",
       "      <td>16.0</td>\n",
       "      <td>16.0</td>\n",
       "      <td>961.0</td>\n",
       "      <td>-41.0</td>\n",
       "    </tr>\n",
       "    <tr>\n",
       "      <th>8</th>\n",
       "      <td>15311</td>\n",
       "      <td>60767.90</td>\n",
       "      <td>-1348.56</td>\n",
       "      <td>0.0</td>\n",
       "      <td>0.0</td>\n",
       "      <td>2167.0</td>\n",
       "      <td>-231.0</td>\n",
       "    </tr>\n",
       "    <tr>\n",
       "      <th>9</th>\n",
       "      <td>14527</td>\n",
       "      <td>8508.82</td>\n",
       "      <td>-797.44</td>\n",
       "      <td>2.0</td>\n",
       "      <td>8.0</td>\n",
       "      <td>198.0</td>\n",
       "      <td>-3.0</td>\n",
       "    </tr>\n",
       "  </tbody>\n",
       "</table>\n",
       "</div>"
      ],
      "text/plain": [
       "   customer_id  purchases  devolutions  recency_p  recency_d  quantity_p  \\\n",
       "0        17850    5391.21      -102.58      372.0      302.0        35.0   \n",
       "1        13047    3237.54      -158.44       31.0       31.0       132.0   \n",
       "2        12583    7281.38       -94.04        2.0       56.0      1569.0   \n",
       "3        13748     948.25         0.00       95.0        NaN       169.0   \n",
       "4        15100     876.00      -240.90      333.0      330.0        48.0   \n",
       "5        15291    4668.30       -71.79       25.0      172.0       508.0   \n",
       "6        14688    5630.87      -523.49        7.0        7.0       579.0   \n",
       "7        17809    5411.91      -784.29       16.0       16.0       961.0   \n",
       "8        15311   60767.90     -1348.56        0.0        0.0      2167.0   \n",
       "9        14527    8508.82      -797.44        2.0        8.0       198.0   \n",
       "\n",
       "   quantity_d  \n",
       "0       -21.0  \n",
       "1        -6.0  \n",
       "2       -50.0  \n",
       "3         NaN  \n",
       "4       -22.0  \n",
       "5       -27.0  \n",
       "6      -281.0  \n",
       "7       -41.0  \n",
       "8      -231.0  \n",
       "9        -3.0  "
      ]
     },
     "execution_count": 116,
     "metadata": {},
     "output_type": "execute_result"
    }
   ],
   "source": [
    "# Frequency - both purchases and returns\n",
    "df_freq_p = df2_purchase[['customer_id', 'quantity']].drop_duplicates().groupby( 'customer_id' ).sum().reset_index().rename(columns={'quantity':'quantity_p'})\n",
    "df_ref = pd.merge( df_ref, df_freq_p, on='customer_id', how='left' )\n",
    "\n",
    "df_freq_d = df2_returns[['customer_id', 'quantity']].drop_duplicates().groupby( 'customer_id' ).sum().reset_index().rename(columns={'quantity':'quantity_d'})\n",
    "df_ref = pd.merge( df_ref, df_freq_d, on='customer_id', how='left' )\n",
    "df_ref.head(10)"
   ]
  },
  {
   "cell_type": "markdown",
   "metadata": {},
   "source": [
    "### 3.1.4. Quantity of invoices for purchases and returns"
   ]
  },
  {
   "cell_type": "code",
   "execution_count": 117,
   "metadata": {
    "ExecuteTime": {
     "end_time": "2021-09-10T00:13:26.684602Z",
     "start_time": "2021-09-10T00:13:26.603447Z"
    }
   },
   "outputs": [
    {
     "data": {
      "text/html": [
       "<div>\n",
       "<style scoped>\n",
       "    .dataframe tbody tr th:only-of-type {\n",
       "        vertical-align: middle;\n",
       "    }\n",
       "\n",
       "    .dataframe tbody tr th {\n",
       "        vertical-align: top;\n",
       "    }\n",
       "\n",
       "    .dataframe thead th {\n",
       "        text-align: right;\n",
       "    }\n",
       "</style>\n",
       "<table border=\"1\" class=\"dataframe\">\n",
       "  <thead>\n",
       "    <tr style=\"text-align: right;\">\n",
       "      <th></th>\n",
       "      <th>customer_id</th>\n",
       "      <th>purchases</th>\n",
       "      <th>devolutions</th>\n",
       "      <th>recency_p</th>\n",
       "      <th>recency_d</th>\n",
       "      <th>quantity_p</th>\n",
       "      <th>quantity_d</th>\n",
       "      <th>invoices_p</th>\n",
       "      <th>invoices_d</th>\n",
       "    </tr>\n",
       "  </thead>\n",
       "  <tbody>\n",
       "    <tr>\n",
       "      <th>0</th>\n",
       "      <td>17850</td>\n",
       "      <td>5391.21</td>\n",
       "      <td>-102.58</td>\n",
       "      <td>372.0</td>\n",
       "      <td>302.0</td>\n",
       "      <td>35.0</td>\n",
       "      <td>-21.0</td>\n",
       "      <td>34.0</td>\n",
       "      <td>1.0</td>\n",
       "    </tr>\n",
       "    <tr>\n",
       "      <th>1</th>\n",
       "      <td>13047</td>\n",
       "      <td>3237.54</td>\n",
       "      <td>-158.44</td>\n",
       "      <td>31.0</td>\n",
       "      <td>31.0</td>\n",
       "      <td>132.0</td>\n",
       "      <td>-6.0</td>\n",
       "      <td>10.0</td>\n",
       "      <td>8.0</td>\n",
       "    </tr>\n",
       "    <tr>\n",
       "      <th>2</th>\n",
       "      <td>12583</td>\n",
       "      <td>7281.38</td>\n",
       "      <td>-94.04</td>\n",
       "      <td>2.0</td>\n",
       "      <td>56.0</td>\n",
       "      <td>1569.0</td>\n",
       "      <td>-50.0</td>\n",
       "      <td>15.0</td>\n",
       "      <td>3.0</td>\n",
       "    </tr>\n",
       "    <tr>\n",
       "      <th>3</th>\n",
       "      <td>13748</td>\n",
       "      <td>948.25</td>\n",
       "      <td>0.00</td>\n",
       "      <td>95.0</td>\n",
       "      <td>NaN</td>\n",
       "      <td>169.0</td>\n",
       "      <td>NaN</td>\n",
       "      <td>5.0</td>\n",
       "      <td>NaN</td>\n",
       "    </tr>\n",
       "    <tr>\n",
       "      <th>4</th>\n",
       "      <td>15100</td>\n",
       "      <td>876.00</td>\n",
       "      <td>-240.90</td>\n",
       "      <td>333.0</td>\n",
       "      <td>330.0</td>\n",
       "      <td>48.0</td>\n",
       "      <td>-22.0</td>\n",
       "      <td>3.0</td>\n",
       "      <td>3.0</td>\n",
       "    </tr>\n",
       "    <tr>\n",
       "      <th>5</th>\n",
       "      <td>15291</td>\n",
       "      <td>4668.30</td>\n",
       "      <td>-71.79</td>\n",
       "      <td>25.0</td>\n",
       "      <td>172.0</td>\n",
       "      <td>508.0</td>\n",
       "      <td>-27.0</td>\n",
       "      <td>15.0</td>\n",
       "      <td>5.0</td>\n",
       "    </tr>\n",
       "    <tr>\n",
       "      <th>6</th>\n",
       "      <td>14688</td>\n",
       "      <td>5630.87</td>\n",
       "      <td>-523.49</td>\n",
       "      <td>7.0</td>\n",
       "      <td>7.0</td>\n",
       "      <td>579.0</td>\n",
       "      <td>-281.0</td>\n",
       "      <td>21.0</td>\n",
       "      <td>6.0</td>\n",
       "    </tr>\n",
       "    <tr>\n",
       "      <th>7</th>\n",
       "      <td>17809</td>\n",
       "      <td>5411.91</td>\n",
       "      <td>-784.29</td>\n",
       "      <td>16.0</td>\n",
       "      <td>16.0</td>\n",
       "      <td>961.0</td>\n",
       "      <td>-41.0</td>\n",
       "      <td>12.0</td>\n",
       "      <td>3.0</td>\n",
       "    </tr>\n",
       "    <tr>\n",
       "      <th>8</th>\n",
       "      <td>15311</td>\n",
       "      <td>60767.90</td>\n",
       "      <td>-1348.56</td>\n",
       "      <td>0.0</td>\n",
       "      <td>0.0</td>\n",
       "      <td>2167.0</td>\n",
       "      <td>-231.0</td>\n",
       "      <td>91.0</td>\n",
       "      <td>27.0</td>\n",
       "    </tr>\n",
       "    <tr>\n",
       "      <th>9</th>\n",
       "      <td>14527</td>\n",
       "      <td>8508.82</td>\n",
       "      <td>-797.44</td>\n",
       "      <td>2.0</td>\n",
       "      <td>8.0</td>\n",
       "      <td>198.0</td>\n",
       "      <td>-3.0</td>\n",
       "      <td>55.0</td>\n",
       "      <td>31.0</td>\n",
       "    </tr>\n",
       "  </tbody>\n",
       "</table>\n",
       "</div>"
      ],
      "text/plain": [
       "   customer_id  purchases  devolutions  recency_p  recency_d  quantity_p  \\\n",
       "0        17850    5391.21      -102.58      372.0      302.0        35.0   \n",
       "1        13047    3237.54      -158.44       31.0       31.0       132.0   \n",
       "2        12583    7281.38       -94.04        2.0       56.0      1569.0   \n",
       "3        13748     948.25         0.00       95.0        NaN       169.0   \n",
       "4        15100     876.00      -240.90      333.0      330.0        48.0   \n",
       "5        15291    4668.30       -71.79       25.0      172.0       508.0   \n",
       "6        14688    5630.87      -523.49        7.0        7.0       579.0   \n",
       "7        17809    5411.91      -784.29       16.0       16.0       961.0   \n",
       "8        15311   60767.90     -1348.56        0.0        0.0      2167.0   \n",
       "9        14527    8508.82      -797.44        2.0        8.0       198.0   \n",
       "\n",
       "   quantity_d  invoices_p  invoices_d  \n",
       "0       -21.0        34.0         1.0  \n",
       "1        -6.0        10.0         8.0  \n",
       "2       -50.0        15.0         3.0  \n",
       "3         NaN         5.0         NaN  \n",
       "4       -22.0         3.0         3.0  \n",
       "5       -27.0        15.0         5.0  \n",
       "6      -281.0        21.0         6.0  \n",
       "7       -41.0        12.0         3.0  \n",
       "8      -231.0        91.0        27.0  \n",
       "9        -3.0        55.0        31.0  "
      ]
     },
     "execution_count": 117,
     "metadata": {},
     "output_type": "execute_result"
    }
   ],
   "source": [
    "# Frequency - both purchases and returns\n",
    "df_invoices_p = df2_purchase[['customer_id', 'invoice_no']].drop_duplicates().groupby( 'customer_id' ).count().reset_index().rename(columns={'invoice_no':'invoices_p'})\n",
    "df_ref = pd.merge( df_ref, df_invoices_p, on='customer_id', how='left' )\n",
    "\n",
    "df_invoices_d = df2_returns[['customer_id', 'invoice_no']].drop_duplicates().groupby( 'customer_id' ).count().reset_index().rename(columns={'invoice_no':'invoices_d'})\n",
    "df_ref = pd.merge( df_ref, df_invoices_d, on='customer_id', how='left' )\n",
    "df_ref.head(10)"
   ]
  },
  {
   "cell_type": "markdown",
   "metadata": {},
   "source": [
    "### 3.1.5. Average ticket value"
   ]
  },
  {
   "cell_type": "code",
   "execution_count": 118,
   "metadata": {
    "ExecuteTime": {
     "end_time": "2021-09-10T00:13:27.111402Z",
     "start_time": "2021-09-10T00:13:27.076244Z"
    }
   },
   "outputs": [
    {
     "data": {
      "text/html": [
       "<div>\n",
       "<style scoped>\n",
       "    .dataframe tbody tr th:only-of-type {\n",
       "        vertical-align: middle;\n",
       "    }\n",
       "\n",
       "    .dataframe tbody tr th {\n",
       "        vertical-align: top;\n",
       "    }\n",
       "\n",
       "    .dataframe thead th {\n",
       "        text-align: right;\n",
       "    }\n",
       "</style>\n",
       "<table border=\"1\" class=\"dataframe\">\n",
       "  <thead>\n",
       "    <tr style=\"text-align: right;\">\n",
       "      <th></th>\n",
       "      <th>customer_id</th>\n",
       "      <th>purchases</th>\n",
       "      <th>devolutions</th>\n",
       "      <th>recency_p</th>\n",
       "      <th>recency_d</th>\n",
       "      <th>quantity_p</th>\n",
       "      <th>quantity_d</th>\n",
       "      <th>invoices_p</th>\n",
       "      <th>invoices_d</th>\n",
       "      <th>avg_ticket</th>\n",
       "    </tr>\n",
       "  </thead>\n",
       "  <tbody>\n",
       "    <tr>\n",
       "      <th>0</th>\n",
       "      <td>17850</td>\n",
       "      <td>5391.21</td>\n",
       "      <td>-102.58</td>\n",
       "      <td>372.0</td>\n",
       "      <td>302.0</td>\n",
       "      <td>35.0</td>\n",
       "      <td>-21.0</td>\n",
       "      <td>34.0</td>\n",
       "      <td>1.0</td>\n",
       "      <td>18.152222</td>\n",
       "    </tr>\n",
       "    <tr>\n",
       "      <th>1</th>\n",
       "      <td>13047</td>\n",
       "      <td>3237.54</td>\n",
       "      <td>-158.44</td>\n",
       "      <td>31.0</td>\n",
       "      <td>31.0</td>\n",
       "      <td>132.0</td>\n",
       "      <td>-6.0</td>\n",
       "      <td>10.0</td>\n",
       "      <td>8.0</td>\n",
       "      <td>18.822907</td>\n",
       "    </tr>\n",
       "    <tr>\n",
       "      <th>2</th>\n",
       "      <td>12583</td>\n",
       "      <td>7281.38</td>\n",
       "      <td>-94.04</td>\n",
       "      <td>2.0</td>\n",
       "      <td>56.0</td>\n",
       "      <td>1569.0</td>\n",
       "      <td>-50.0</td>\n",
       "      <td>15.0</td>\n",
       "      <td>3.0</td>\n",
       "      <td>29.479271</td>\n",
       "    </tr>\n",
       "    <tr>\n",
       "      <th>3</th>\n",
       "      <td>13748</td>\n",
       "      <td>948.25</td>\n",
       "      <td>0.00</td>\n",
       "      <td>95.0</td>\n",
       "      <td>NaN</td>\n",
       "      <td>169.0</td>\n",
       "      <td>NaN</td>\n",
       "      <td>5.0</td>\n",
       "      <td>NaN</td>\n",
       "      <td>33.866071</td>\n",
       "    </tr>\n",
       "    <tr>\n",
       "      <th>4</th>\n",
       "      <td>15100</td>\n",
       "      <td>876.00</td>\n",
       "      <td>-240.90</td>\n",
       "      <td>333.0</td>\n",
       "      <td>330.0</td>\n",
       "      <td>48.0</td>\n",
       "      <td>-22.0</td>\n",
       "      <td>3.0</td>\n",
       "      <td>3.0</td>\n",
       "      <td>292.000000</td>\n",
       "    </tr>\n",
       "    <tr>\n",
       "      <th>5</th>\n",
       "      <td>15291</td>\n",
       "      <td>4668.30</td>\n",
       "      <td>-71.79</td>\n",
       "      <td>25.0</td>\n",
       "      <td>172.0</td>\n",
       "      <td>508.0</td>\n",
       "      <td>-27.0</td>\n",
       "      <td>15.0</td>\n",
       "      <td>5.0</td>\n",
       "      <td>45.323301</td>\n",
       "    </tr>\n",
       "    <tr>\n",
       "      <th>6</th>\n",
       "      <td>14688</td>\n",
       "      <td>5630.87</td>\n",
       "      <td>-523.49</td>\n",
       "      <td>7.0</td>\n",
       "      <td>7.0</td>\n",
       "      <td>579.0</td>\n",
       "      <td>-281.0</td>\n",
       "      <td>21.0</td>\n",
       "      <td>6.0</td>\n",
       "      <td>17.219786</td>\n",
       "    </tr>\n",
       "    <tr>\n",
       "      <th>7</th>\n",
       "      <td>17809</td>\n",
       "      <td>5411.91</td>\n",
       "      <td>-784.29</td>\n",
       "      <td>16.0</td>\n",
       "      <td>16.0</td>\n",
       "      <td>961.0</td>\n",
       "      <td>-41.0</td>\n",
       "      <td>12.0</td>\n",
       "      <td>3.0</td>\n",
       "      <td>88.719836</td>\n",
       "    </tr>\n",
       "    <tr>\n",
       "      <th>8</th>\n",
       "      <td>15311</td>\n",
       "      <td>60767.90</td>\n",
       "      <td>-1348.56</td>\n",
       "      <td>0.0</td>\n",
       "      <td>0.0</td>\n",
       "      <td>2167.0</td>\n",
       "      <td>-231.0</td>\n",
       "      <td>91.0</td>\n",
       "      <td>27.0</td>\n",
       "      <td>25.543464</td>\n",
       "    </tr>\n",
       "    <tr>\n",
       "      <th>9</th>\n",
       "      <td>14527</td>\n",
       "      <td>8508.82</td>\n",
       "      <td>-797.44</td>\n",
       "      <td>2.0</td>\n",
       "      <td>8.0</td>\n",
       "      <td>198.0</td>\n",
       "      <td>-3.0</td>\n",
       "      <td>55.0</td>\n",
       "      <td>31.0</td>\n",
       "      <td>8.753930</td>\n",
       "    </tr>\n",
       "  </tbody>\n",
       "</table>\n",
       "</div>"
      ],
      "text/plain": [
       "   customer_id  purchases  devolutions  recency_p  recency_d  quantity_p  \\\n",
       "0        17850    5391.21      -102.58      372.0      302.0        35.0   \n",
       "1        13047    3237.54      -158.44       31.0       31.0       132.0   \n",
       "2        12583    7281.38       -94.04        2.0       56.0      1569.0   \n",
       "3        13748     948.25         0.00       95.0        NaN       169.0   \n",
       "4        15100     876.00      -240.90      333.0      330.0        48.0   \n",
       "5        15291    4668.30       -71.79       25.0      172.0       508.0   \n",
       "6        14688    5630.87      -523.49        7.0        7.0       579.0   \n",
       "7        17809    5411.91      -784.29       16.0       16.0       961.0   \n",
       "8        15311   60767.90     -1348.56        0.0        0.0      2167.0   \n",
       "9        14527    8508.82      -797.44        2.0        8.0       198.0   \n",
       "\n",
       "   quantity_d  invoices_p  invoices_d  avg_ticket  \n",
       "0       -21.0        34.0         1.0   18.152222  \n",
       "1        -6.0        10.0         8.0   18.822907  \n",
       "2       -50.0        15.0         3.0   29.479271  \n",
       "3         NaN         5.0         NaN   33.866071  \n",
       "4       -22.0         3.0         3.0  292.000000  \n",
       "5       -27.0        15.0         5.0   45.323301  \n",
       "6      -281.0        21.0         6.0   17.219786  \n",
       "7       -41.0        12.0         3.0   88.719836  \n",
       "8      -231.0        91.0        27.0   25.543464  \n",
       "9        -3.0        55.0        31.0    8.753930  "
      ]
     },
     "execution_count": 118,
     "metadata": {},
     "output_type": "execute_result"
    }
   ],
   "source": [
    "# average ticket - for purchases only\n",
    "df_avg_ticket = df2_purchase.loc[:,['customer_id', 'gross_purchases']].groupby('customer_id').mean().reset_index().rename(columns={'gross_purchases':'avg_ticket'})\n",
    "df_ref = pd.merge( df_ref, df_avg_ticket, on='customer_id', how='left' )\n",
    "df_ref.head(10)"
   ]
  },
  {
   "cell_type": "markdown",
   "metadata": {},
   "source": [
    "### 3.1.6. Average recency days"
   ]
  },
  {
   "cell_type": "code",
   "execution_count": 119,
   "metadata": {
    "ExecuteTime": {
     "end_time": "2021-09-10T00:13:28.367480Z",
     "start_time": "2021-09-10T00:13:27.467651Z"
    }
   },
   "outputs": [
    {
     "name": "stdout",
     "output_type": "stream",
     "text": [
      "        customer_id invoice_date  next_customer_id  next_next_customer_id  \\\n",
      "61458         12346   2017-01-16           12347.0                12347.0   \n",
      "14878         12347   2016-12-05           12347.0                12347.0   \n",
      "72075         12347   2017-01-24           12347.0                12347.0   \n",
      "147719        12347   2017-04-05           12347.0                12347.0   \n",
      "219718        12347   2017-06-07           12347.0                12347.0   \n",
      "285538        12347   2017-07-31           12347.0                12347.0   \n",
      "427593        12347   2017-10-29           12347.0                12348.0   \n",
      "533555        12347   2017-12-05           12348.0                12348.0   \n",
      "33967         12348   2016-12-14           12348.0                12348.0   \n",
      "69881         12348   2017-01-23           12348.0                12348.0   \n",
      "\n",
      "       next_invoice_date  avg_recency_days  \n",
      "61458         2016-12-05               325  \n",
      "14878         2017-01-24                50  \n",
      "72075         2017-04-05                71  \n",
      "147719        2017-06-07                63  \n",
      "219718        2017-07-31                54  \n",
      "285538        2017-10-29                90  \n",
      "427593        2017-12-05                37  \n",
      "533555        2016-12-14                 2  \n",
      "33967         2017-01-23                40  \n",
      "69881         2017-04-03                70  \n",
      "   customer_id  purchases  devolutions  recency_p  recency_d  quantity_p  \\\n",
      "0        17850    5391.21      -102.58      372.0      302.0        35.0   \n",
      "1        13047    3237.54      -158.44       31.0       31.0       132.0   \n",
      "2        12583    7281.38       -94.04        2.0       56.0      1569.0   \n",
      "3        13748     948.25         0.00       95.0        NaN       169.0   \n",
      "4        15100     876.00      -240.90      333.0      330.0        48.0   \n",
      "\n",
      "   quantity_d  invoices_p  invoices_d  avg_ticket  avg_recency_days  \n",
      "0       -21.0        34.0         1.0   18.152222        124.333333  \n",
      "1        -6.0        10.0         8.0   18.822907         26.642857  \n",
      "2       -50.0        15.0         3.0   29.479271         20.722222  \n",
      "3         NaN         5.0         NaN   33.866071         93.250000  \n",
      "4       -22.0         3.0         3.0  292.000000         62.166667  \n"
     ]
    }
   ],
   "source": [
    "df_aux = df3[['customer_id', 'invoice_date']].drop_duplicates().sort_values(['customer_id','invoice_date'], ascending=['True','False'])\n",
    "df_aux['next_customer_id'] = df_aux['customer_id'].shift(-1) # next customer\n",
    "df_aux['next_next_customer_id'] = df_aux['next_customer_id'].shift(-1) # next customer\n",
    "df_aux['next_invoice_date'] = df_aux['invoice_date'].shift(-1) # next invoice date\n",
    "\n",
    "#today =  datetime.datetime.fromtimestamp(df3['invoice_date'].max().to_datetime())\n",
    "#today_date = datetime.datetime.strptime( today, '%Y-%m-%d')\n",
    "today_date = df3['invoice_date'].max()\n",
    "\n",
    "df_aux['avg_recency_days'] = df_aux.apply(lambda x: (x['next_invoice_date'] - x['invoice_date']).days if (x['customer_id'] == x['next_customer_id']) \n",
    "                                                                                                    else ( (x['next_invoice_date'] - x['invoice_date']) if (x['customer_id'] == x['next_next_customer_id']) \n",
    "                                                                                                                                                        else (today_date - x['invoice_date']).days), axis=1)\n",
    "df_avg_recency_days = df_aux[['customer_id','avg_recency_days']].groupby('customer_id').mean().reset_index()\n",
    "\n",
    "# Merging\n",
    "df_ref = pd.merge(df_ref, df_avg_recency_days, on='customer_id', how='left')\n",
    "\n",
    "print(df_aux.head(10))\n",
    "print(df_ref.head())"
   ]
  },
  {
   "cell_type": "markdown",
   "metadata": {},
   "source": [
    "### 3.1.7. Basket size and unique products"
   ]
  },
  {
   "cell_type": "code",
   "execution_count": 120,
   "metadata": {
    "ExecuteTime": {
     "end_time": "2021-09-10T00:13:28.536625Z",
     "start_time": "2021-09-10T00:13:28.369251Z"
    }
   },
   "outputs": [],
   "source": [
    "df_aux = ( df2_purchase.loc[:,['customer_id','invoice_no','quantity']].groupby('customer_id')\n",
    "                                                                       .agg(n_purchase=('invoice_no', 'nunique'),\n",
    "                                                                            n_products=('quantity', 'sum'))\n",
    "                                                                       .reset_index() )\n",
    "\n",
    "df_aux['avg_basket_size'] = df_aux['n_products'] / df_aux['n_purchase']\n",
    "\n",
    "# Merge\n",
    "df_ref = pd.merge(df_ref, df_aux, how='left', on='customer_id')\n",
    "\n",
    "df_aux = ( df2_purchase.loc[:,['customer_id','invoice_no','stock_code']].groupby('customer_id')\n",
    "                                                                       .agg(n_purchase=('invoice_no', 'nunique'),\n",
    "                                                                            n_products=('stock_code', 'count'))\n",
    "                                                                       .reset_index() )\n",
    "\n",
    "df_aux['avg_variety'] = df_aux['n_products'] / df_aux['n_purchase']\n",
    "\n",
    "# Merge\n",
    "df_ref = pd.merge(df_ref, df_aux, how='left', on='customer_id')"
   ]
  },
  {
   "cell_type": "markdown",
   "metadata": {},
   "source": [
    "### 3.1.8. Frequency - purchases per day"
   ]
  },
  {
   "cell_type": "code",
   "execution_count": 121,
   "metadata": {
    "ExecuteTime": {
     "end_time": "2021-09-10T00:13:29.856595Z",
     "start_time": "2021-09-10T00:13:29.383207Z"
    }
   },
   "outputs": [
    {
     "data": {
      "text/html": [
       "<div>\n",
       "<style scoped>\n",
       "    .dataframe tbody tr th:only-of-type {\n",
       "        vertical-align: middle;\n",
       "    }\n",
       "\n",
       "    .dataframe tbody tr th {\n",
       "        vertical-align: top;\n",
       "    }\n",
       "\n",
       "    .dataframe thead th {\n",
       "        text-align: right;\n",
       "    }\n",
       "</style>\n",
       "<table border=\"1\" class=\"dataframe\">\n",
       "  <thead>\n",
       "    <tr style=\"text-align: right;\">\n",
       "      <th></th>\n",
       "      <th>customer_id</th>\n",
       "      <th>purchases</th>\n",
       "      <th>devolutions</th>\n",
       "      <th>recency_p</th>\n",
       "      <th>recency_d</th>\n",
       "      <th>quantity_p</th>\n",
       "      <th>quantity_d</th>\n",
       "      <th>invoices_p</th>\n",
       "      <th>invoices_d</th>\n",
       "      <th>avg_ticket</th>\n",
       "      <th>avg_recency_days</th>\n",
       "      <th>n_purchase_x</th>\n",
       "      <th>n_products_x</th>\n",
       "      <th>avg_basket_size</th>\n",
       "      <th>n_purchase_y</th>\n",
       "      <th>n_products_y</th>\n",
       "      <th>avg_variety</th>\n",
       "      <th>purchases_pday</th>\n",
       "    </tr>\n",
       "  </thead>\n",
       "  <tbody>\n",
       "    <tr>\n",
       "      <th>5606</th>\n",
       "      <td>22351</td>\n",
       "      <td>4312.60</td>\n",
       "      <td>0.00</td>\n",
       "      <td>28.0</td>\n",
       "      <td>NaN</td>\n",
       "      <td>315.0</td>\n",
       "      <td>NaN</td>\n",
       "      <td>1.0</td>\n",
       "      <td>NaN</td>\n",
       "      <td>8.947303</td>\n",
       "      <td>28.000000</td>\n",
       "      <td>1.0</td>\n",
       "      <td>1287.0</td>\n",
       "      <td>1287.000000</td>\n",
       "      <td>1.0</td>\n",
       "      <td>482.0</td>\n",
       "      <td>482.000000</td>\n",
       "      <td>1.000000</td>\n",
       "    </tr>\n",
       "    <tr>\n",
       "      <th>2037</th>\n",
       "      <td>17499</td>\n",
       "      <td>622.88</td>\n",
       "      <td>0.00</td>\n",
       "      <td>289.0</td>\n",
       "      <td>NaN</td>\n",
       "      <td>186.0</td>\n",
       "      <td>NaN</td>\n",
       "      <td>1.0</td>\n",
       "      <td>NaN</td>\n",
       "      <td>15.572000</td>\n",
       "      <td>289.000000</td>\n",
       "      <td>1.0</td>\n",
       "      <td>711.0</td>\n",
       "      <td>711.000000</td>\n",
       "      <td>1.0</td>\n",
       "      <td>40.0</td>\n",
       "      <td>40.000000</td>\n",
       "      <td>1.000000</td>\n",
       "    </tr>\n",
       "    <tr>\n",
       "      <th>2141</th>\n",
       "      <td>12509</td>\n",
       "      <td>176.50</td>\n",
       "      <td>0.00</td>\n",
       "      <td>284.0</td>\n",
       "      <td>NaN</td>\n",
       "      <td>15.0</td>\n",
       "      <td>NaN</td>\n",
       "      <td>1.0</td>\n",
       "      <td>NaN</td>\n",
       "      <td>25.214286</td>\n",
       "      <td>284.000000</td>\n",
       "      <td>1.0</td>\n",
       "      <td>55.0</td>\n",
       "      <td>55.000000</td>\n",
       "      <td>1.0</td>\n",
       "      <td>7.0</td>\n",
       "      <td>7.000000</td>\n",
       "      <td>1.000000</td>\n",
       "    </tr>\n",
       "    <tr>\n",
       "      <th>3819</th>\n",
       "      <td>15921</td>\n",
       "      <td>336.03</td>\n",
       "      <td>0.00</td>\n",
       "      <td>172.0</td>\n",
       "      <td>NaN</td>\n",
       "      <td>110.0</td>\n",
       "      <td>NaN</td>\n",
       "      <td>1.0</td>\n",
       "      <td>NaN</td>\n",
       "      <td>13.441200</td>\n",
       "      <td>172.000000</td>\n",
       "      <td>1.0</td>\n",
       "      <td>166.0</td>\n",
       "      <td>166.000000</td>\n",
       "      <td>1.0</td>\n",
       "      <td>25.0</td>\n",
       "      <td>25.000000</td>\n",
       "      <td>1.000000</td>\n",
       "    </tr>\n",
       "    <tr>\n",
       "      <th>1430</th>\n",
       "      <td>17602</td>\n",
       "      <td>5102.97</td>\n",
       "      <td>-52.20</td>\n",
       "      <td>2.0</td>\n",
       "      <td>25.0</td>\n",
       "      <td>650.0</td>\n",
       "      <td>-14.0</td>\n",
       "      <td>6.0</td>\n",
       "      <td>2.0</td>\n",
       "      <td>9.112446</td>\n",
       "      <td>40.500000</td>\n",
       "      <td>6.0</td>\n",
       "      <td>4151.0</td>\n",
       "      <td>691.833333</td>\n",
       "      <td>6.0</td>\n",
       "      <td>560.0</td>\n",
       "      <td>93.333333</td>\n",
       "      <td>0.018576</td>\n",
       "    </tr>\n",
       "    <tr>\n",
       "      <th>1353</th>\n",
       "      <td>15033</td>\n",
       "      <td>2586.67</td>\n",
       "      <td>-15.65</td>\n",
       "      <td>4.0</td>\n",
       "      <td>159.0</td>\n",
       "      <td>161.0</td>\n",
       "      <td>-1.0</td>\n",
       "      <td>10.0</td>\n",
       "      <td>1.0</td>\n",
       "      <td>5.071902</td>\n",
       "      <td>32.900000</td>\n",
       "      <td>10.0</td>\n",
       "      <td>1695.0</td>\n",
       "      <td>169.500000</td>\n",
       "      <td>10.0</td>\n",
       "      <td>510.0</td>\n",
       "      <td>51.000000</td>\n",
       "      <td>0.030675</td>\n",
       "    </tr>\n",
       "    <tr>\n",
       "      <th>442</th>\n",
       "      <td>16059</td>\n",
       "      <td>1459.86</td>\n",
       "      <td>0.00</td>\n",
       "      <td>65.0</td>\n",
       "      <td>NaN</td>\n",
       "      <td>58.0</td>\n",
       "      <td>NaN</td>\n",
       "      <td>6.0</td>\n",
       "      <td>NaN</td>\n",
       "      <td>8.110333</td>\n",
       "      <td>61.166667</td>\n",
       "      <td>6.0</td>\n",
       "      <td>643.0</td>\n",
       "      <td>107.166667</td>\n",
       "      <td>6.0</td>\n",
       "      <td>180.0</td>\n",
       "      <td>30.000000</td>\n",
       "      <td>0.019802</td>\n",
       "    </tr>\n",
       "    <tr>\n",
       "      <th>2744</th>\n",
       "      <td>13918</td>\n",
       "      <td>1212.84</td>\n",
       "      <td>0.00</td>\n",
       "      <td>49.0</td>\n",
       "      <td>NaN</td>\n",
       "      <td>816.0</td>\n",
       "      <td>NaN</td>\n",
       "      <td>2.0</td>\n",
       "      <td>NaN</td>\n",
       "      <td>40.428000</td>\n",
       "      <td>126.500000</td>\n",
       "      <td>2.0</td>\n",
       "      <td>1140.0</td>\n",
       "      <td>570.000000</td>\n",
       "      <td>2.0</td>\n",
       "      <td>30.0</td>\n",
       "      <td>15.000000</td>\n",
       "      <td>0.009756</td>\n",
       "    </tr>\n",
       "    <tr>\n",
       "      <th>5351</th>\n",
       "      <td>14550</td>\n",
       "      <td>765.62</td>\n",
       "      <td>0.00</td>\n",
       "      <td>10.0</td>\n",
       "      <td>NaN</td>\n",
       "      <td>140.0</td>\n",
       "      <td>NaN</td>\n",
       "      <td>2.0</td>\n",
       "      <td>NaN</td>\n",
       "      <td>15.950417</td>\n",
       "      <td>22.000000</td>\n",
       "      <td>2.0</td>\n",
       "      <td>394.0</td>\n",
       "      <td>197.000000</td>\n",
       "      <td>2.0</td>\n",
       "      <td>48.0</td>\n",
       "      <td>24.000000</td>\n",
       "      <td>0.057143</td>\n",
       "    </tr>\n",
       "    <tr>\n",
       "      <th>4842</th>\n",
       "      <td>15762</td>\n",
       "      <td>583.75</td>\n",
       "      <td>0.00</td>\n",
       "      <td>65.0</td>\n",
       "      <td>NaN</td>\n",
       "      <td>70.0</td>\n",
       "      <td>NaN</td>\n",
       "      <td>2.0</td>\n",
       "      <td>NaN</td>\n",
       "      <td>15.777027</td>\n",
       "      <td>38.500000</td>\n",
       "      <td>2.0</td>\n",
       "      <td>251.0</td>\n",
       "      <td>125.500000</td>\n",
       "      <td>2.0</td>\n",
       "      <td>37.0</td>\n",
       "      <td>18.500000</td>\n",
       "      <td>0.153846</td>\n",
       "    </tr>\n",
       "    <tr>\n",
       "      <th>1018</th>\n",
       "      <td>14472</td>\n",
       "      <td>1936.84</td>\n",
       "      <td>0.00</td>\n",
       "      <td>103.0</td>\n",
       "      <td>NaN</td>\n",
       "      <td>171.0</td>\n",
       "      <td>NaN</td>\n",
       "      <td>8.0</td>\n",
       "      <td>NaN</td>\n",
       "      <td>6.892669</td>\n",
       "      <td>44.375000</td>\n",
       "      <td>8.0</td>\n",
       "      <td>1160.0</td>\n",
       "      <td>145.000000</td>\n",
       "      <td>8.0</td>\n",
       "      <td>281.0</td>\n",
       "      <td>35.125000</td>\n",
       "      <td>0.031621</td>\n",
       "    </tr>\n",
       "    <tr>\n",
       "      <th>233</th>\n",
       "      <td>19024</td>\n",
       "      <td>636.68</td>\n",
       "      <td>0.00</td>\n",
       "      <td>371.0</td>\n",
       "      <td>NaN</td>\n",
       "      <td>11.0</td>\n",
       "      <td>NaN</td>\n",
       "      <td>1.0</td>\n",
       "      <td>NaN</td>\n",
       "      <td>13.546383</td>\n",
       "      <td>371.000000</td>\n",
       "      <td>1.0</td>\n",
       "      <td>66.0</td>\n",
       "      <td>66.000000</td>\n",
       "      <td>1.0</td>\n",
       "      <td>47.0</td>\n",
       "      <td>47.000000</td>\n",
       "      <td>1.000000</td>\n",
       "    </tr>\n",
       "    <tr>\n",
       "      <th>679</th>\n",
       "      <td>19178</td>\n",
       "      <td>2215.27</td>\n",
       "      <td>0.00</td>\n",
       "      <td>365.0</td>\n",
       "      <td>NaN</td>\n",
       "      <td>39.0</td>\n",
       "      <td>NaN</td>\n",
       "      <td>1.0</td>\n",
       "      <td>NaN</td>\n",
       "      <td>19.957387</td>\n",
       "      <td>365.000000</td>\n",
       "      <td>1.0</td>\n",
       "      <td>225.0</td>\n",
       "      <td>225.000000</td>\n",
       "      <td>1.0</td>\n",
       "      <td>111.0</td>\n",
       "      <td>111.000000</td>\n",
       "      <td>1.000000</td>\n",
       "    </tr>\n",
       "    <tr>\n",
       "      <th>2319</th>\n",
       "      <td>13026</td>\n",
       "      <td>975.36</td>\n",
       "      <td>-39.21</td>\n",
       "      <td>1.0</td>\n",
       "      <td>24.0</td>\n",
       "      <td>612.0</td>\n",
       "      <td>-34.0</td>\n",
       "      <td>5.0</td>\n",
       "      <td>3.0</td>\n",
       "      <td>24.384000</td>\n",
       "      <td>39.285714</td>\n",
       "      <td>5.0</td>\n",
       "      <td>1620.0</td>\n",
       "      <td>324.000000</td>\n",
       "      <td>5.0</td>\n",
       "      <td>40.0</td>\n",
       "      <td>8.000000</td>\n",
       "      <td>0.018182</td>\n",
       "    </tr>\n",
       "    <tr>\n",
       "      <th>380</th>\n",
       "      <td>16719</td>\n",
       "      <td>1790.42</td>\n",
       "      <td>-16.50</td>\n",
       "      <td>14.0</td>\n",
       "      <td>288.0</td>\n",
       "      <td>314.0</td>\n",
       "      <td>-1.0</td>\n",
       "      <td>7.0</td>\n",
       "      <td>1.0</td>\n",
       "      <td>8.907562</td>\n",
       "      <td>52.571429</td>\n",
       "      <td>7.0</td>\n",
       "      <td>1204.0</td>\n",
       "      <td>172.000000</td>\n",
       "      <td>7.0</td>\n",
       "      <td>201.0</td>\n",
       "      <td>28.714286</td>\n",
       "      <td>0.019718</td>\n",
       "    </tr>\n",
       "    <tr>\n",
       "      <th>3645</th>\n",
       "      <td>20826</td>\n",
       "      <td>1366.71</td>\n",
       "      <td>0.00</td>\n",
       "      <td>185.0</td>\n",
       "      <td>NaN</td>\n",
       "      <td>124.0</td>\n",
       "      <td>NaN</td>\n",
       "      <td>1.0</td>\n",
       "      <td>NaN</td>\n",
       "      <td>9.491042</td>\n",
       "      <td>185.000000</td>\n",
       "      <td>1.0</td>\n",
       "      <td>340.0</td>\n",
       "      <td>340.000000</td>\n",
       "      <td>1.0</td>\n",
       "      <td>144.0</td>\n",
       "      <td>144.000000</td>\n",
       "      <td>1.000000</td>\n",
       "    </tr>\n",
       "    <tr>\n",
       "      <th>3947</th>\n",
       "      <td>17837</td>\n",
       "      <td>1593.38</td>\n",
       "      <td>-32.85</td>\n",
       "      <td>42.0</td>\n",
       "      <td>42.0</td>\n",
       "      <td>58.0</td>\n",
       "      <td>-1.0</td>\n",
       "      <td>8.0</td>\n",
       "      <td>2.0</td>\n",
       "      <td>9.428284</td>\n",
       "      <td>20.375000</td>\n",
       "      <td>8.0</td>\n",
       "      <td>518.0</td>\n",
       "      <td>64.750000</td>\n",
       "      <td>8.0</td>\n",
       "      <td>169.0</td>\n",
       "      <td>21.125000</td>\n",
       "      <td>0.065574</td>\n",
       "    </tr>\n",
       "    <tr>\n",
       "      <th>3878</th>\n",
       "      <td>17370</td>\n",
       "      <td>446.18</td>\n",
       "      <td>0.00</td>\n",
       "      <td>72.0</td>\n",
       "      <td>NaN</td>\n",
       "      <td>138.0</td>\n",
       "      <td>NaN</td>\n",
       "      <td>4.0</td>\n",
       "      <td>NaN</td>\n",
       "      <td>13.520606</td>\n",
       "      <td>42.250000</td>\n",
       "      <td>4.0</td>\n",
       "      <td>540.0</td>\n",
       "      <td>135.000000</td>\n",
       "      <td>4.0</td>\n",
       "      <td>33.0</td>\n",
       "      <td>8.250000</td>\n",
       "      <td>0.040816</td>\n",
       "    </tr>\n",
       "    <tr>\n",
       "      <th>2536</th>\n",
       "      <td>14245</td>\n",
       "      <td>1693.45</td>\n",
       "      <td>-15.97</td>\n",
       "      <td>219.0</td>\n",
       "      <td>176.0</td>\n",
       "      <td>111.0</td>\n",
       "      <td>-3.0</td>\n",
       "      <td>2.0</td>\n",
       "      <td>3.0</td>\n",
       "      <td>15.680093</td>\n",
       "      <td>52.600000</td>\n",
       "      <td>2.0</td>\n",
       "      <td>976.0</td>\n",
       "      <td>488.000000</td>\n",
       "      <td>2.0</td>\n",
       "      <td>108.0</td>\n",
       "      <td>54.000000</td>\n",
       "      <td>0.044444</td>\n",
       "    </tr>\n",
       "    <tr>\n",
       "      <th>4759</th>\n",
       "      <td>15500</td>\n",
       "      <td>1131.56</td>\n",
       "      <td>0.00</td>\n",
       "      <td>8.0</td>\n",
       "      <td>NaN</td>\n",
       "      <td>170.0</td>\n",
       "      <td>NaN</td>\n",
       "      <td>4.0</td>\n",
       "      <td>NaN</td>\n",
       "      <td>16.640588</td>\n",
       "      <td>20.250000</td>\n",
       "      <td>4.0</td>\n",
       "      <td>572.0</td>\n",
       "      <td>143.000000</td>\n",
       "      <td>4.0</td>\n",
       "      <td>68.0</td>\n",
       "      <td>17.000000</td>\n",
       "      <td>0.054054</td>\n",
       "    </tr>\n",
       "  </tbody>\n",
       "</table>\n",
       "</div>"
      ],
      "text/plain": [
       "      customer_id  purchases  devolutions  recency_p  recency_d  quantity_p  \\\n",
       "5606        22351    4312.60         0.00       28.0        NaN       315.0   \n",
       "2037        17499     622.88         0.00      289.0        NaN       186.0   \n",
       "2141        12509     176.50         0.00      284.0        NaN        15.0   \n",
       "3819        15921     336.03         0.00      172.0        NaN       110.0   \n",
       "1430        17602    5102.97       -52.20        2.0       25.0       650.0   \n",
       "1353        15033    2586.67       -15.65        4.0      159.0       161.0   \n",
       "442         16059    1459.86         0.00       65.0        NaN        58.0   \n",
       "2744        13918    1212.84         0.00       49.0        NaN       816.0   \n",
       "5351        14550     765.62         0.00       10.0        NaN       140.0   \n",
       "4842        15762     583.75         0.00       65.0        NaN        70.0   \n",
       "1018        14472    1936.84         0.00      103.0        NaN       171.0   \n",
       "233         19024     636.68         0.00      371.0        NaN        11.0   \n",
       "679         19178    2215.27         0.00      365.0        NaN        39.0   \n",
       "2319        13026     975.36       -39.21        1.0       24.0       612.0   \n",
       "380         16719    1790.42       -16.50       14.0      288.0       314.0   \n",
       "3645        20826    1366.71         0.00      185.0        NaN       124.0   \n",
       "3947        17837    1593.38       -32.85       42.0       42.0        58.0   \n",
       "3878        17370     446.18         0.00       72.0        NaN       138.0   \n",
       "2536        14245    1693.45       -15.97      219.0      176.0       111.0   \n",
       "4759        15500    1131.56         0.00        8.0        NaN       170.0   \n",
       "\n",
       "      quantity_d  invoices_p  invoices_d  avg_ticket  avg_recency_days  \\\n",
       "5606         NaN         1.0         NaN    8.947303         28.000000   \n",
       "2037         NaN         1.0         NaN   15.572000        289.000000   \n",
       "2141         NaN         1.0         NaN   25.214286        284.000000   \n",
       "3819         NaN         1.0         NaN   13.441200        172.000000   \n",
       "1430       -14.0         6.0         2.0    9.112446         40.500000   \n",
       "1353        -1.0        10.0         1.0    5.071902         32.900000   \n",
       "442          NaN         6.0         NaN    8.110333         61.166667   \n",
       "2744         NaN         2.0         NaN   40.428000        126.500000   \n",
       "5351         NaN         2.0         NaN   15.950417         22.000000   \n",
       "4842         NaN         2.0         NaN   15.777027         38.500000   \n",
       "1018         NaN         8.0         NaN    6.892669         44.375000   \n",
       "233          NaN         1.0         NaN   13.546383        371.000000   \n",
       "679          NaN         1.0         NaN   19.957387        365.000000   \n",
       "2319       -34.0         5.0         3.0   24.384000         39.285714   \n",
       "380         -1.0         7.0         1.0    8.907562         52.571429   \n",
       "3645         NaN         1.0         NaN    9.491042        185.000000   \n",
       "3947        -1.0         8.0         2.0    9.428284         20.375000   \n",
       "3878         NaN         4.0         NaN   13.520606         42.250000   \n",
       "2536        -3.0         2.0         3.0   15.680093         52.600000   \n",
       "4759         NaN         4.0         NaN   16.640588         20.250000   \n",
       "\n",
       "      n_purchase_x  n_products_x  avg_basket_size  n_purchase_y  n_products_y  \\\n",
       "5606           1.0        1287.0      1287.000000           1.0         482.0   \n",
       "2037           1.0         711.0       711.000000           1.0          40.0   \n",
       "2141           1.0          55.0        55.000000           1.0           7.0   \n",
       "3819           1.0         166.0       166.000000           1.0          25.0   \n",
       "1430           6.0        4151.0       691.833333           6.0         560.0   \n",
       "1353          10.0        1695.0       169.500000          10.0         510.0   \n",
       "442            6.0         643.0       107.166667           6.0         180.0   \n",
       "2744           2.0        1140.0       570.000000           2.0          30.0   \n",
       "5351           2.0         394.0       197.000000           2.0          48.0   \n",
       "4842           2.0         251.0       125.500000           2.0          37.0   \n",
       "1018           8.0        1160.0       145.000000           8.0         281.0   \n",
       "233            1.0          66.0        66.000000           1.0          47.0   \n",
       "679            1.0         225.0       225.000000           1.0         111.0   \n",
       "2319           5.0        1620.0       324.000000           5.0          40.0   \n",
       "380            7.0        1204.0       172.000000           7.0         201.0   \n",
       "3645           1.0         340.0       340.000000           1.0         144.0   \n",
       "3947           8.0         518.0        64.750000           8.0         169.0   \n",
       "3878           4.0         540.0       135.000000           4.0          33.0   \n",
       "2536           2.0         976.0       488.000000           2.0         108.0   \n",
       "4759           4.0         572.0       143.000000           4.0          68.0   \n",
       "\n",
       "      avg_variety  purchases_pday  \n",
       "5606   482.000000        1.000000  \n",
       "2037    40.000000        1.000000  \n",
       "2141     7.000000        1.000000  \n",
       "3819    25.000000        1.000000  \n",
       "1430    93.333333        0.018576  \n",
       "1353    51.000000        0.030675  \n",
       "442     30.000000        0.019802  \n",
       "2744    15.000000        0.009756  \n",
       "5351    24.000000        0.057143  \n",
       "4842    18.500000        0.153846  \n",
       "1018    35.125000        0.031621  \n",
       "233     47.000000        1.000000  \n",
       "679    111.000000        1.000000  \n",
       "2319     8.000000        0.018182  \n",
       "380     28.714286        0.019718  \n",
       "3645   144.000000        1.000000  \n",
       "3947    21.125000        0.065574  \n",
       "3878     8.250000        0.040816  \n",
       "2536    54.000000        0.044444  \n",
       "4759    17.000000        0.054054  "
      ]
     },
     "execution_count": 121,
     "metadata": {},
     "output_type": "execute_result"
    }
   ],
   "source": [
    "df_aux = ( df2_purchase[['customer_id', 'invoice_no', 'invoice_date']].drop_duplicates()\n",
    "                                                            .groupby('customer_id')\n",
    "                                                            .agg( max_=('invoice_date', 'max'),\n",
    "                                                                  min_=('invoice_date', 'min'),\n",
    "                                                                  buys_=('invoice_no','count'))\n",
    "                                                            .reset_index()  )\n",
    "# Calculating the days\n",
    "df_aux['days_'] = df_aux[['max_','min_']].apply(lambda x: (x['max_'] - x['min_']).days + 1 , axis=1)\n",
    "\n",
    "# Frequency\n",
    "df_aux['purchases_pday'] = df_aux[['buys_','days_']].apply(lambda x: x['buys_'] / x['days_'] if (x['days_'] !=0 ) else 0, axis=1)\n",
    "\n",
    "# Merging\n",
    "df_ref = pd.merge(df_ref, df_aux[['customer_id','purchases_pday']], on='customer_id', how='left')\n",
    "df_ref.sample(20)"
   ]
  },
  {
   "cell_type": "code",
   "execution_count": 122,
   "metadata": {
    "ExecuteTime": {
     "end_time": "2021-09-10T00:13:29.864201Z",
     "start_time": "2021-09-10T00:13:29.858267Z"
    }
   },
   "outputs": [
    {
     "data": {
      "text/plain": [
       "customer_id            0\n",
       "purchases              0\n",
       "devolutions            0\n",
       "recency_p            215\n",
       "recency_d           4201\n",
       "quantity_p           215\n",
       "quantity_d          4201\n",
       "invoices_p           215\n",
       "invoices_d          4201\n",
       "avg_ticket           215\n",
       "avg_recency_days       0\n",
       "n_purchase_x         215\n",
       "n_products_x         215\n",
       "avg_basket_size      215\n",
       "n_purchase_y         215\n",
       "n_products_y         215\n",
       "avg_variety          215\n",
       "purchases_pday       215\n",
       "dtype: int64"
      ]
     },
     "execution_count": 122,
     "metadata": {},
     "output_type": "execute_result"
    }
   ],
   "source": [
    "df_ref.isna().sum()"
   ]
  },
  {
   "cell_type": "code",
   "execution_count": 123,
   "metadata": {
    "ExecuteTime": {
     "end_time": "2021-09-10T00:13:39.385721Z",
     "start_time": "2021-09-10T00:13:39.379380Z"
    }
   },
   "outputs": [
    {
     "name": "stdout",
     "output_type": "stream",
     "text": [
      "Number of rows: 5971\n",
      "Number of cols: 18\n"
     ]
    }
   ],
   "source": [
    "print( 'Number of rows: {}'.format( df_ref.shape[0] ) )\n",
    "print( 'Number of cols: {}'.format( df_ref.shape[1] ) )"
   ]
  },
  {
   "cell_type": "markdown",
   "metadata": {},
   "source": [
    "## 3.2. Feature engineering"
   ]
  },
  {
   "cell_type": "code",
   "execution_count": 124,
   "metadata": {
    "ExecuteTime": {
     "end_time": "2021-09-10T00:13:40.451364Z",
     "start_time": "2021-09-10T00:13:40.397866Z"
    }
   },
   "outputs": [
    {
     "data": {
      "text/html": [
       "<div>\n",
       "<style scoped>\n",
       "    .dataframe tbody tr th:only-of-type {\n",
       "        vertical-align: middle;\n",
       "    }\n",
       "\n",
       "    .dataframe tbody tr th {\n",
       "        vertical-align: top;\n",
       "    }\n",
       "\n",
       "    .dataframe thead th {\n",
       "        text-align: right;\n",
       "    }\n",
       "</style>\n",
       "<table border=\"1\" class=\"dataframe\">\n",
       "  <thead>\n",
       "    <tr style=\"text-align: right;\">\n",
       "      <th></th>\n",
       "      <th>customer_id</th>\n",
       "      <th>purchases</th>\n",
       "      <th>devolutions</th>\n",
       "      <th>recency_p</th>\n",
       "      <th>recency_d</th>\n",
       "      <th>quantity_p</th>\n",
       "      <th>quantity_d</th>\n",
       "      <th>invoices_p</th>\n",
       "      <th>invoices_d</th>\n",
       "      <th>avg_ticket</th>\n",
       "      <th>avg_recency_days</th>\n",
       "      <th>avg_basket_size</th>\n",
       "      <th>avg_variety</th>\n",
       "      <th>purchases_pday</th>\n",
       "    </tr>\n",
       "  </thead>\n",
       "  <tbody>\n",
       "    <tr>\n",
       "      <th>3494</th>\n",
       "      <td>13213</td>\n",
       "      <td>1520.58</td>\n",
       "      <td>2.15</td>\n",
       "      <td>56.0</td>\n",
       "      <td>176.0</td>\n",
       "      <td>328.0</td>\n",
       "      <td>3.0</td>\n",
       "      <td>5.0</td>\n",
       "      <td>1.0</td>\n",
       "      <td>16.895333</td>\n",
       "      <td>39.800</td>\n",
       "      <td>272.00</td>\n",
       "      <td>18.000000</td>\n",
       "      <td>0.034722</td>\n",
       "    </tr>\n",
       "    <tr>\n",
       "      <th>1056</th>\n",
       "      <td>15034</td>\n",
       "      <td>4308.61</td>\n",
       "      <td>30.95</td>\n",
       "      <td>15.0</td>\n",
       "      <td>28.0</td>\n",
       "      <td>670.0</td>\n",
       "      <td>8.0</td>\n",
       "      <td>8.0</td>\n",
       "      <td>3.0</td>\n",
       "      <td>10.935558</td>\n",
       "      <td>44.125</td>\n",
       "      <td>302.75</td>\n",
       "      <td>49.250000</td>\n",
       "      <td>0.023599</td>\n",
       "    </tr>\n",
       "    <tr>\n",
       "      <th>3695</th>\n",
       "      <td>15267</td>\n",
       "      <td>1717.36</td>\n",
       "      <td>0.00</td>\n",
       "      <td>22.0</td>\n",
       "      <td>365.0</td>\n",
       "      <td>560.0</td>\n",
       "      <td>-0.0</td>\n",
       "      <td>5.0</td>\n",
       "      <td>0.0</td>\n",
       "      <td>156.123636</td>\n",
       "      <td>36.400</td>\n",
       "      <td>188.80</td>\n",
       "      <td>2.200000</td>\n",
       "      <td>0.031056</td>\n",
       "    </tr>\n",
       "    <tr>\n",
       "      <th>5124</th>\n",
       "      <td>12824</td>\n",
       "      <td>397.12</td>\n",
       "      <td>0.00</td>\n",
       "      <td>59.0</td>\n",
       "      <td>365.0</td>\n",
       "      <td>40.0</td>\n",
       "      <td>-0.0</td>\n",
       "      <td>1.0</td>\n",
       "      <td>0.0</td>\n",
       "      <td>15.884800</td>\n",
       "      <td>59.000</td>\n",
       "      <td>232.00</td>\n",
       "      <td>25.000000</td>\n",
       "      <td>1.000000</td>\n",
       "    </tr>\n",
       "    <tr>\n",
       "      <th>5843</th>\n",
       "      <td>17379</td>\n",
       "      <td>404.66</td>\n",
       "      <td>0.00</td>\n",
       "      <td>11.0</td>\n",
       "      <td>365.0</td>\n",
       "      <td>403.0</td>\n",
       "      <td>-0.0</td>\n",
       "      <td>1.0</td>\n",
       "      <td>0.0</td>\n",
       "      <td>4.875422</td>\n",
       "      <td>11.000</td>\n",
       "      <td>663.00</td>\n",
       "      <td>83.000000</td>\n",
       "      <td>1.000000</td>\n",
       "    </tr>\n",
       "    <tr>\n",
       "      <th>4477</th>\n",
       "      <td>21533</td>\n",
       "      <td>160.00</td>\n",
       "      <td>0.00</td>\n",
       "      <td>108.0</td>\n",
       "      <td>365.0</td>\n",
       "      <td>1.0</td>\n",
       "      <td>-0.0</td>\n",
       "      <td>1.0</td>\n",
       "      <td>0.0</td>\n",
       "      <td>160.000000</td>\n",
       "      <td>108.000</td>\n",
       "      <td>1.00</td>\n",
       "      <td>1.000000</td>\n",
       "      <td>1.000000</td>\n",
       "    </tr>\n",
       "    <tr>\n",
       "      <th>998</th>\n",
       "      <td>17007</td>\n",
       "      <td>889.93</td>\n",
       "      <td>12.50</td>\n",
       "      <td>50.0</td>\n",
       "      <td>353.0</td>\n",
       "      <td>215.0</td>\n",
       "      <td>10.0</td>\n",
       "      <td>6.0</td>\n",
       "      <td>1.0</td>\n",
       "      <td>17.114038</td>\n",
       "      <td>59.500</td>\n",
       "      <td>99.50</td>\n",
       "      <td>8.666667</td>\n",
       "      <td>0.019481</td>\n",
       "    </tr>\n",
       "    <tr>\n",
       "      <th>1261</th>\n",
       "      <td>19378</td>\n",
       "      <td>1787.82</td>\n",
       "      <td>0.00</td>\n",
       "      <td>333.0</td>\n",
       "      <td>365.0</td>\n",
       "      <td>68.0</td>\n",
       "      <td>-0.0</td>\n",
       "      <td>1.0</td>\n",
       "      <td>0.0</td>\n",
       "      <td>6.186228</td>\n",
       "      <td>333.000</td>\n",
       "      <td>593.00</td>\n",
       "      <td>289.000000</td>\n",
       "      <td>1.000000</td>\n",
       "    </tr>\n",
       "    <tr>\n",
       "      <th>4675</th>\n",
       "      <td>15522</td>\n",
       "      <td>398.84</td>\n",
       "      <td>0.00</td>\n",
       "      <td>32.0</td>\n",
       "      <td>365.0</td>\n",
       "      <td>240.0</td>\n",
       "      <td>-0.0</td>\n",
       "      <td>2.0</td>\n",
       "      <td>0.0</td>\n",
       "      <td>6.997193</td>\n",
       "      <td>43.500</td>\n",
       "      <td>286.50</td>\n",
       "      <td>28.500000</td>\n",
       "      <td>0.035714</td>\n",
       "    </tr>\n",
       "    <tr>\n",
       "      <th>1837</th>\n",
       "      <td>19640</td>\n",
       "      <td>697.95</td>\n",
       "      <td>0.00</td>\n",
       "      <td>302.0</td>\n",
       "      <td>365.0</td>\n",
       "      <td>40.0</td>\n",
       "      <td>-0.0</td>\n",
       "      <td>1.0</td>\n",
       "      <td>0.0</td>\n",
       "      <td>11.632500</td>\n",
       "      <td>302.000</td>\n",
       "      <td>109.00</td>\n",
       "      <td>60.000000</td>\n",
       "      <td>1.000000</td>\n",
       "    </tr>\n",
       "  </tbody>\n",
       "</table>\n",
       "</div>"
      ],
      "text/plain": [
       "      customer_id  purchases  devolutions  recency_p  recency_d  quantity_p  \\\n",
       "3494        13213    1520.58         2.15       56.0      176.0       328.0   \n",
       "1056        15034    4308.61        30.95       15.0       28.0       670.0   \n",
       "3695        15267    1717.36         0.00       22.0      365.0       560.0   \n",
       "5124        12824     397.12         0.00       59.0      365.0        40.0   \n",
       "5843        17379     404.66         0.00       11.0      365.0       403.0   \n",
       "4477        21533     160.00         0.00      108.0      365.0         1.0   \n",
       "998         17007     889.93        12.50       50.0      353.0       215.0   \n",
       "1261        19378    1787.82         0.00      333.0      365.0        68.0   \n",
       "4675        15522     398.84         0.00       32.0      365.0       240.0   \n",
       "1837        19640     697.95         0.00      302.0      365.0        40.0   \n",
       "\n",
       "      quantity_d  invoices_p  invoices_d  avg_ticket  avg_recency_days  \\\n",
       "3494         3.0         5.0         1.0   16.895333            39.800   \n",
       "1056         8.0         8.0         3.0   10.935558            44.125   \n",
       "3695        -0.0         5.0         0.0  156.123636            36.400   \n",
       "5124        -0.0         1.0         0.0   15.884800            59.000   \n",
       "5843        -0.0         1.0         0.0    4.875422            11.000   \n",
       "4477        -0.0         1.0         0.0  160.000000           108.000   \n",
       "998         10.0         6.0         1.0   17.114038            59.500   \n",
       "1261        -0.0         1.0         0.0    6.186228           333.000   \n",
       "4675        -0.0         2.0         0.0    6.997193            43.500   \n",
       "1837        -0.0         1.0         0.0   11.632500           302.000   \n",
       "\n",
       "      avg_basket_size  avg_variety  purchases_pday  \n",
       "3494           272.00    18.000000        0.034722  \n",
       "1056           302.75    49.250000        0.023599  \n",
       "3695           188.80     2.200000        0.031056  \n",
       "5124           232.00    25.000000        1.000000  \n",
       "5843           663.00    83.000000        1.000000  \n",
       "4477             1.00     1.000000        1.000000  \n",
       "998             99.50     8.666667        0.019481  \n",
       "1261           593.00   289.000000        1.000000  \n",
       "4675           286.50    28.500000        0.035714  \n",
       "1837           109.00    60.000000        1.000000  "
      ]
     },
     "execution_count": 124,
     "metadata": {},
     "output_type": "execute_result"
    }
   ],
   "source": [
    "df_ref = df_ref.drop(['n_purchase_x', 'n_purchase_y', 'n_products_x', 'n_products_y'], axis=1)\n",
    "\n",
    "df_ref['devolutions'] = df_ref['devolutions'].apply(lambda x: (-1*x) if x < 0   else x )\n",
    "\n",
    "df_ref['quantity_d'] = df_ref['quantity_d'].apply( lambda x: 0.00 if math.isnan(x) else x )\n",
    "df_ref['recency_d'] = df_ref['recency_d'].apply( lambda x: 365 if math.isnan(x) else x )\n",
    "df_ref['quantity_d'] = df_ref['quantity_d'].apply( lambda x: 0.00 if math.isnan(x) else x*(-1) )\n",
    "df_ref['invoices_d'] = df_ref['invoices_d'].apply( lambda x: 0.00 if math.isnan(x) else x )\n",
    "\n",
    "df_ref['quantity_p'] = df_ref['quantity_p'].apply( lambda x: 0.00 if math.isnan(x) else x )\n",
    "df_ref['recency_p'] = df_ref['recency_p'].apply( lambda x: 365 if math.isnan(x) else x )\n",
    "df_ref['quantity_p'] = df_ref['quantity_p'].apply( lambda x: 0.00 if math.isnan(x) else x )\n",
    "df_ref['invoices_p'] = df_ref['invoices_p'].apply( lambda x: 0.00 if math.isnan(x) else x )\n",
    "df_ref['avg_ticket'] = df_ref['avg_ticket'].apply( lambda x: 0.00 if math.isnan(x) else x )\n",
    "df_ref['purchases_pday'] = df_ref['purchases_pday'].apply( lambda x: 0.00 if math.isnan(x) else x )\n",
    "\n",
    "df_ref['avg_variety'] = df_ref['avg_variety'].apply( lambda x: 0.00 if math.isnan(x) else x )\n",
    "df_ref['avg_basket_size'] = df_ref['avg_basket_size'].apply( lambda x: 0.00 if math.isnan(x) else x )\n",
    "\n",
    "df_ref.sample(10)"
   ]
  },
  {
   "cell_type": "code",
   "execution_count": 125,
   "metadata": {
    "ExecuteTime": {
     "end_time": "2021-09-10T00:13:41.207560Z",
     "start_time": "2021-09-10T00:13:41.199321Z"
    }
   },
   "outputs": [],
   "source": [
    "df_ref['gross_revenue'] = (df_ref['purchases'] - df_ref['devolutions'])\n",
    "df_ref['relative_revenue'] = (df_ref['purchases'] - df_ref['devolutions']) / (df_ref['purchases'] + df_ref['devolutions'])\n",
    "df_ref['relative_quantity'] = (df_ref['quantity_p'] - df_ref['quantity_d']) / (df_ref['quantity_p'] + df_ref['quantity_d'])\n",
    "\n",
    "#df_ref['relative_invoices'] = (df_ref['invoices_p'] - df_ref['invoices_d'])\n",
    "#df_ref = df_ref.drop(columns=['purchases','devolutions','invoices_p','invoices_d','recency_d'], axis=1)"
   ]
  },
  {
   "cell_type": "code",
   "execution_count": 126,
   "metadata": {
    "ExecuteTime": {
     "end_time": "2021-09-10T00:13:41.873885Z",
     "start_time": "2021-09-10T00:13:41.839717Z"
    }
   },
   "outputs": [
    {
     "data": {
      "text/plain": [
       "4041"
      ]
     },
     "execution_count": 126,
     "metadata": {},
     "output_type": "execute_result"
    }
   ],
   "source": [
    "df_ref.isna().sum()\n",
    "total_variety = len(df2['description'].drop_duplicates())\n",
    "total_variety\n",
    "\n",
    "#print( math.log( (df_ref['avg_variety'].mean()), 10))"
   ]
  },
  {
   "cell_type": "markdown",
   "metadata": {
    "ExecuteTime": {
     "end_time": "2021-05-03T20:14:35.082157Z",
     "start_time": "2021-05-03T20:14:35.073528Z"
    }
   },
   "source": [
    "There were a problem whith clients that did not have made any purchase in the analyzed period or did not have done any devolution. For those clients, recency was considered as 365 days or 1 year and the frequency of purchase or devolution was considered 0."
   ]
  },
  {
   "cell_type": "markdown",
   "metadata": {},
   "source": [
    "# 4. Exploratory data analysis"
   ]
  },
  {
   "cell_type": "code",
   "execution_count": 127,
   "metadata": {
    "ExecuteTime": {
     "end_time": "2021-09-10T00:13:55.402891Z",
     "start_time": "2021-09-10T00:13:55.398665Z"
    }
   },
   "outputs": [],
   "source": [
    "df4 = df_ref.copy()"
   ]
  },
  {
   "cell_type": "code",
   "execution_count": 137,
   "metadata": {
    "ExecuteTime": {
     "end_time": "2021-09-10T00:18:04.694036Z",
     "start_time": "2021-09-10T00:18:04.680443Z"
    }
   },
   "outputs": [
    {
     "data": {
      "text/plain": [
       "customer_id          0\n",
       "purchases            0\n",
       "devolutions          0\n",
       "recency_p            0\n",
       "recency_d            0\n",
       "quantity_p           0\n",
       "quantity_d           0\n",
       "invoices_p           0\n",
       "invoices_d           0\n",
       "avg_ticket           0\n",
       "avg_recency_days     0\n",
       "avg_basket_size      0\n",
       "avg_variety          0\n",
       "purchases_pday       0\n",
       "gross_revenue        0\n",
       "relative_revenue     0\n",
       "relative_quantity    0\n",
       "dtype: int64"
      ]
     },
     "execution_count": 137,
     "metadata": {},
     "output_type": "execute_result"
    }
   ],
   "source": [
    "# filter to analyze only valid customers\n",
    "# returned products\n",
    "df4 = df4.loc[df4['customer_id'] <19000, :]\n",
    "df4.isna().sum()"
   ]
  },
  {
   "cell_type": "markdown",
   "metadata": {},
   "source": []
  },
  {
   "cell_type": "markdown",
   "metadata": {},
   "source": [
    "### 4.1.1. Looking for outliers"
   ]
  },
  {
   "cell_type": "markdown",
   "metadata": {},
   "source": [
    "- Features for attention\n",
    "    - quantity_p for values above 20k\n",
    "    - quantity_d for values above 4k\n",
    "    - avg_ticket for values above 4k\n",
    "    - avg_basket_size for values above 4k\n",
    "    - purchases_pday for value 17\n",
    "    - gross_revenue for above 70k\n",
    "- Features with high correlation\n",
    "    - recency_p w/ avg_recency_days\n",
    "    - quantity_p w/ quantity_d\n",
    "    - quantity_p w/ avg_basket_size\n",
    "    - quantity_p w/ gross_revenue\n",
    "    - quantity_d w/ relative variables (all)\n",
    "    - relative variables are highly correlated between themselves"
   ]
  },
  {
   "cell_type": "markdown",
   "metadata": {},
   "source": [
    "It seems that customers 12346 and 16446 had some problem with the data quality in database, since they have bought a high number of items and returned them. They will be removed from the dataset in order to increase the model result. Other customers with a high number of returns also had a high number of purchases, which seems reasonable."
   ]
  },
  {
   "cell_type": "markdown",
   "metadata": {},
   "source": [
    "Again, clients 12346 and 16446 shows as an outliers to the average ticket, due to the high amount of items purchases, however with no gross revenue. At this point, it seems that customers 15098 also had some problem, since it has a liquid purchased quantity of 0, however with some gross revenue (purchases higher than returns), this customer will also be removed from the dataset. Also customer 15749 have the same behavior as 15098 and will be removed."
   ]
  },
  {
   "cell_type": "markdown",
   "metadata": {},
   "source": [
    "All clients with gross revenue higher than 50000 seems to behave similarly, with small values for recency of purchases and high values for relative revenue and relative invoices (where 1 means that the customer has only purchases and -1 meaning that the customer only returns). At this point, only 4 customers will be considered as outliers and removed from the dataset: 12346,15098,15749,16446."
   ]
  },
  {
   "cell_type": "code",
   "execution_count": 139,
   "metadata": {
    "ExecuteTime": {
     "end_time": "2021-09-10T00:18:30.802702Z",
     "start_time": "2021-09-10T00:18:30.792377Z"
    }
   },
   "outputs": [
    {
     "name": "stdout",
     "output_type": "stream",
     "text": [
      "customer_id          0\n",
      "purchases            0\n",
      "devolutions          0\n",
      "recency_p            0\n",
      "recency_d            0\n",
      "quantity_p           0\n",
      "quantity_d           0\n",
      "invoices_p           0\n",
      "invoices_d           0\n",
      "avg_ticket           0\n",
      "avg_recency_days     0\n",
      "avg_basket_size      0\n",
      "avg_variety          0\n",
      "purchases_pday       0\n",
      "gross_revenue        0\n",
      "relative_revenue     0\n",
      "relative_quantity    0\n",
      "dtype: int64\n"
     ]
    }
   ],
   "source": [
    "customers_outliers = [12346,15098,15749,16446]\n",
    "df4 = df4.loc[~df4['customer_id'].isin(customers_outliers), :]\n",
    "print(df4.isna().sum())"
   ]
  },
  {
   "cell_type": "markdown",
   "metadata": {},
   "source": [
    "## 4.3. Data space analysis"
   ]
  },
  {
   "cell_type": "code",
   "execution_count": 151,
   "metadata": {
    "ExecuteTime": {
     "end_time": "2021-09-10T00:21:22.794338Z",
     "start_time": "2021-09-10T00:21:22.774330Z"
    }
   },
   "outputs": [
    {
     "name": "stdout",
     "output_type": "stream",
     "text": [
      "customer_id          0\n",
      "purchases            0\n",
      "devolutions          0\n",
      "recency_p            0\n",
      "recency_d            0\n",
      "quantity_p           0\n",
      "quantity_d           0\n",
      "invoices_p           0\n",
      "invoices_d           0\n",
      "avg_ticket           0\n",
      "avg_recency_days     0\n",
      "avg_basket_size      0\n",
      "avg_variety          0\n",
      "purchases_pday       0\n",
      "gross_revenue        0\n",
      "relative_revenue     0\n",
      "relative_quantity    0\n",
      "dtype: int64\n"
     ]
    }
   ],
   "source": [
    "data_space = df4.copy()\n",
    "customers_to_cluster = data_space.loc[:,'customer_id'].to_list()\n",
    "print(data_space.isna().sum())\n",
    "data_space = data_space.drop(columns=['customer_id', 'purchases', 'recency_d', 'quantity_d', 'invoices_p', 'invoices_d', 'avg_basket_size', 'purchases_pday','relative_revenue', 'relative_quantity'], axis=1)\n",
    "\n",
    "rs = RobustScaler()\n",
    "mm = MinMaxScaler()\n",
    "ss = StandardScaler()\n",
    "\n",
    "#data_space['purchases'] = mm.fit_transform( data_space[['purchases']].values )\n",
    "data_space['devolutions'] = mm.fit_transform( data_space[['devolutions']].values )\n",
    "#data_space['purc_dev'] = rs.fit_transform( data_space[['purc_dev']].values )\n",
    "data_space['recency_p'] = rs.fit_transform( data_space[['recency_p']].values )\n",
    "#data_space['recency_d'] = rs.fit_transform( data_space[['recency_d']].values )\n",
    "data_space['quantity_p'] = mm.fit_transform( data_space[['quantity_p']].values )\n",
    "#data_space['quantity_d'] = mm.fit_transform( data_space[['quantity_d']].values )\n",
    "#data_space['invoices_p'] = rs.fit_transform( data_space[['invoices_p']].values )\n",
    "#data_space['invoices_d'] = rs.fit_transform( data_space[['invoices_d']].values )\n",
    "\n",
    "data_space['gross_revenue'] = mm.fit_transform( data_space[['gross_revenue']].values )\n",
    "data_space['avg_ticket'] = mm.fit_transform( data_space[['avg_ticket']].values )\n",
    "data_space['avg_recency_days'] = rs.fit_transform( data_space[['avg_recency_days']].values )\n",
    "data_space['avg_variety'] = mm.fit_transform( data_space[['avg_variety']].values )\n",
    "#data_space['avg_variety'] = rs.fit_transform( data_space[['avg_variety']].values )\n",
    "#data_space['relative_quantity'] = rs.fit_transform( data_space[['relative_quantity']].values )\n",
    "#data_space['relative_invoices'] = rs.fit_transform( data_space[['relative_invoices']].values )\n",
    "#data_space['purchases_pday'] = rs.fit_transform( data_space[['purchases_pday']].values )\n",
    "\n",
    "#data_space['monetary_score'] = ss.fit_transform( data_space[['ticket_score']].values )\n",
    "#data_space['ticket_score'] = ss.fit_transform( data_space[['ticket_score']].values )\n",
    "#data_space['recency_score'] = ss.fit_transform( data_space[['recency_score']].values )\n",
    "#data_space['behavior_score'] = ss.fit_transform( data_space[['behavior_score']].values )"
   ]
  },
  {
   "cell_type": "markdown",
   "metadata": {},
   "source": [
    "### 4.3.4. Tree-based embedding"
   ]
  },
  {
   "cell_type": "code",
   "execution_count": 152,
   "metadata": {
    "ExecuteTime": {
     "end_time": "2021-09-10T00:21:26.623641Z",
     "start_time": "2021-09-10T00:21:24.911937Z"
    }
   },
   "outputs": [
    {
     "data": {
      "text/plain": [
       "(4362, 100)"
      ]
     },
     "execution_count": 152,
     "metadata": {},
     "output_type": "execute_result"
    }
   ],
   "source": [
    "# training dataset\n",
    "x_trees = data_space.drop(columns=['gross_revenue'], axis=1)\n",
    "y_trees = data_space['gross_revenue']\n",
    "\n",
    "#model definition\n",
    "rf_model = RandomForestRegressor(n_estimators=100, random_state=42)\n",
    "\n",
    "# model training\n",
    "rf_model.fit(x_trees, y_trees)\n",
    "\n",
    "#Leaves\n",
    "df_leaf = pd.DataFrame(rf_model.apply(x_trees))\n",
    "\n",
    "#Leaves dataFrame\n",
    "df_leaf.shape"
   ]
  },
  {
   "cell_type": "code",
   "execution_count": 153,
   "metadata": {
    "ExecuteTime": {
     "end_time": "2021-09-10T00:21:36.623815Z",
     "start_time": "2021-09-10T00:21:26.625292Z"
    }
   },
   "outputs": [
    {
     "data": {
      "image/png": "[encoded data removed]",
      "text/plain": [
       "<Figure size 432x288 with 1 Axes>"
      ]
     },
     "metadata": {
      "needs_background": "light"
     },
     "output_type": "display_data"
    },
    {
     "data": {
      "text/plain": [
       "<Figure size 720x720 with 0 Axes>"
      ]
     },
     "metadata": {},
     "output_type": "display_data"
    }
   ],
   "source": [
    "n_components=3\n",
    "\n",
    "reducer = ump.UMAP( random_state=42, n_components=n_components )\n",
    "embedding = reducer.fit_transform(df_leaf)\n",
    "\n",
    "#df_leaf['embedding_x'] = embedding[:,0]\n",
    "#df_leaf['embedding_y'] = embedding[:,1]\n",
    "#df_leaf['embedding_z'] = embedding[:,2]\n",
    "\n",
    "fig = plt.figure()\n",
    "\n",
    "if n_components == 1:\n",
    "\n",
    "    df_leaf['embedding_x'] = embedding[:,0]\n",
    "\n",
    "    ax = fig.add_subplot(111)\n",
    "    ax.scatter(df_leaf['embedding_x'], range(len(df_leaf[['embedding_x']])))\n",
    "elif n_components == 2:\n",
    "\n",
    "    df_leaf['embedding_x'] = embedding[:,0]\n",
    "    df_leaf['embedding_y'] = embedding[:,1]\n",
    "    \n",
    "    ax = fig.add_subplot(111)\n",
    "    ax.scatter(df_leaf['embedding_x'], df_leaf['embedding_y'])\n",
    "elif n_components == 3:\n",
    "    \n",
    "    df_leaf['embedding_x'] = embedding[:,0]\n",
    "    df_leaf['embedding_y'] = embedding[:,1]\n",
    "    df_leaf['embedding_z'] = embedding[:,2]\n",
    "    \n",
    "    ax = fig.add_subplot(111, projection='3d')\n",
    "    ax.scatter(df_leaf['embedding_x'], df_leaf['embedding_y'], df_leaf['embedding_z'])\n",
    "\n",
    "plt.figure(figsize=(10,10))\n",
    "\n",
    "plt.show()"
   ]
  },
  {
   "cell_type": "code",
   "execution_count": 154,
   "metadata": {
    "ExecuteTime": {
     "end_time": "2021-09-10T00:21:36.636283Z",
     "start_time": "2021-09-10T00:21:36.625350Z"
    }
   },
   "outputs": [
    {
     "name": "stdout",
     "output_type": "stream",
     "text": [
      "0              0\n",
      "1              0\n",
      "2              0\n",
      "3              0\n",
      "4              0\n",
      "              ..\n",
      "98             0\n",
      "99             0\n",
      "embedding_x    0\n",
      "embedding_y    0\n",
      "embedding_z    0\n",
      "Length: 103, dtype: int64\n"
     ]
    },
    {
     "data": {
      "text/plain": [
       "0              0\n",
       "1              0\n",
       "2              0\n",
       "3              0\n",
       "4              0\n",
       "              ..\n",
       "99             0\n",
       "embedding_x    0\n",
       "embedding_y    0\n",
       "embedding_z    0\n",
       "customer_id    0\n",
       "Length: 104, dtype: int64"
      ]
     },
     "execution_count": 154,
     "metadata": {},
     "output_type": "execute_result"
    }
   ],
   "source": [
    "print(df_leaf.isna().sum())\n",
    "df_leaf['customer_id'] = customers_to_cluster\n",
    "df_leaf.isna().sum()\n",
    "#for i in range(len(df_leaf), 1):\n",
    "#    df_leaf.loc[i,'customer_id'] = customers_to_cluster[i]"
   ]
  },
  {
   "cell_type": "code",
   "execution_count": 155,
   "metadata": {
    "ExecuteTime": {
     "end_time": "2021-09-10T00:21:36.644438Z",
     "start_time": "2021-09-10T00:21:36.637932Z"
    }
   },
   "outputs": [
    {
     "data": {
      "text/plain": [
       "0              0\n",
       "1              0\n",
       "2              0\n",
       "3              0\n",
       "4              0\n",
       "              ..\n",
       "99             0\n",
       "embedding_x    0\n",
       "embedding_y    0\n",
       "embedding_z    0\n",
       "customer_id    0\n",
       "Length: 104, dtype: int64"
      ]
     },
     "execution_count": 155,
     "metadata": {},
     "output_type": "execute_result"
    }
   ],
   "source": [
    "df_leaf.isna().sum()"
   ]
  },
  {
   "cell_type": "markdown",
   "metadata": {},
   "source": [
    "# 5. Data preparation"
   ]
  },
  {
   "cell_type": "markdown",
   "metadata": {},
   "source": [
    "**Rules of thumb**\n",
    "\n",
    "Standardization -> assumption that the feature follows a normal distribution (test for normal distribution QQ Plot or KS Test)\n",
    "Rescale         -> assumption that the feature does not follow a normal distribution\n",
    "\n",
    "**Based on features:**\n",
    "1. Normal distribution and abscence of outliers -> Standard scaler;\n",
    "2. Normal distribution and have outliers        -> Robust scaler;\n",
    "3. Does not follow a normal distribution        -> Min-max scaler;"
   ]
  },
  {
   "cell_type": "markdown",
   "metadata": {},
   "source": [
    "## 5.1. Data rescaling"
   ]
  },
  {
   "cell_type": "code",
   "execution_count": 156,
   "metadata": {
    "ExecuteTime": {
     "end_time": "2021-09-10T00:21:44.273064Z",
     "start_time": "2021-09-10T00:21:44.263628Z"
    }
   },
   "outputs": [],
   "source": [
    "df_rescaled = df4.copy()\n",
    "#df_rescaled = data_space.copy()\n",
    "df_rescaled = df_rescaled.drop(columns=['purchases', 'recency_d', 'quantity_d', 'invoices_p', 'invoices_d', 'avg_basket_size', 'purchases_pday','relative_revenue', 'relative_quantity'], axis=1)\n",
    "\n",
    "rs = RobustScaler()\n",
    "mm = MinMaxScaler()\n",
    "ss = StandardScaler()"
   ]
  },
  {
   "cell_type": "code",
   "execution_count": 157,
   "metadata": {
    "ExecuteTime": {
     "end_time": "2021-09-10T00:21:44.889125Z",
     "start_time": "2021-09-10T00:21:44.872709Z"
    }
   },
   "outputs": [],
   "source": [
    "#data_space['purchases'] = mm.fit_transform( data_space[['purchases']].values )\n",
    "data_space['devolutions'] = mm.fit_transform( data_space[['devolutions']].values )\n",
    "#data_space['purc_dev'] = rs.fit_transform( data_space[['purc_dev']].values )\n",
    "data_space['recency_p'] = rs.fit_transform( data_space[['recency_p']].values )\n",
    "#data_space['recency_d'] = rs.fit_transform( data_space[['recency_d']].values )\n",
    "data_space['quantity_p'] = mm.fit_transform( data_space[['quantity_p']].values )\n",
    "#data_space['quantity_d'] = mm.fit_transform( data_space[['quantity_d']].values )\n",
    "#data_space['invoices_p'] = rs.fit_transform( data_space[['invoices_p']].values )\n",
    "#data_space['invoices_d'] = rs.fit_transform( data_space[['invoices_d']].values )\n",
    "\n",
    "data_space['gross_revenue'] = mm.fit_transform( data_space[['gross_revenue']].values )\n",
    "data_space['avg_ticket'] = mm.fit_transform( data_space[['avg_ticket']].values )\n",
    "data_space['avg_recency_days'] = rs.fit_transform( data_space[['avg_recency_days']].values )\n",
    "data_space['avg_variety'] = mm.fit_transform( data_space[['avg_variety']].values )\n",
    "#data_space['avg_variety'] = rs.fit_transform( data_space[['avg_variety']].values )\n",
    "#data_space['relative_quantity'] = rs.fit_transform( data_space[['relative_quantity']].values )\n",
    "#data_space['relative_invoices'] = rs.fit_transform( data_space[['relative_invoices']].values )\n",
    "#data_space['purchases_pday'] = rs.fit_transform( data_space[['purchases_pday']].values )\n",
    "\n",
    "#data_space['monetary_score'] = ss.fit_transform( data_space[['ticket_score']].values )\n",
    "#data_space['ticket_score'] = ss.fit_transform( data_space[['ticket_score']].values )\n",
    "#data_space['recency_score'] = ss.fit_transform( data_space[['recency_score']].values )\n",
    "#data_space['behavior_score'] = ss.fit_transform( data_space[['behavior_score']].values )"
   ]
  },
  {
   "cell_type": "markdown",
   "metadata": {},
   "source": [
    "# 6. Feature selection"
   ]
  },
  {
   "cell_type": "markdown",
   "metadata": {},
   "source": [
    "# 7. Hyperparameter fine tuning"
   ]
  },
  {
   "cell_type": "markdown",
   "metadata": {},
   "source": [
    "There are 3 types of major problems within data problems to solve with machine learning algorithms: regression, classification and clusterization. The first two problems, regression and classification, there is a necessity to split the dataset between training and testing and there is a target variable to analyze the accuracy and precision of the model, while the clusterization problems does not have the need in dataset spliting. Because of that, there is a necessity to first determine the number of clusters which the dataset will be split, before training and finding the model."
   ]
  },
  {
   "cell_type": "code",
   "execution_count": 158,
   "metadata": {
    "ExecuteTime": {
     "end_time": "2021-09-10T00:21:46.461344Z",
     "start_time": "2021-09-10T00:21:46.457811Z"
    }
   },
   "outputs": [
    {
     "name": "stdout",
     "output_type": "stream",
     "text": [
      "(4362, 104)\n"
     ]
    }
   ],
   "source": [
    "#df7 = df6.copy()\n",
    "df7_embbed = df_leaf.copy()\n",
    "#print(df7.head())\n",
    "#print(df7_embbed.head())\n",
    "print(df7_embbed.shape)"
   ]
  },
  {
   "cell_type": "code",
   "execution_count": 159,
   "metadata": {
    "ExecuteTime": {
     "end_time": "2021-09-10T00:21:46.716230Z",
     "start_time": "2021-09-10T00:21:46.705132Z"
    }
   },
   "outputs": [
    {
     "name": "stdout",
     "output_type": "stream",
     "text": [
      "(4362, 104)\n"
     ]
    }
   ],
   "source": [
    "tree_cols_to_drop = []\n",
    "for i in range( 0, (df7_embbed.shape[1]-4),1 ):\n",
    "    tree_cols_to_drop.append(i)\n",
    "    i = i + 1\n",
    "\n",
    "X_embbed = df7_embbed.drop(columns=tree_cols_to_drop, axis=1)\n",
    "X_embbed = X_embbed.drop(columns=['customer_id'], axis=1)\n",
    "customers_to_cluster = df7_embbed['customer_id'].to_list()\n",
    "print(df7_embbed.shape)\n",
    "#X = df7.drop(columns=['customer_id'], axis=0)\n",
    "#print(X.head())\n",
    "#print(X_embbed.head())"
   ]
  },
  {
   "cell_type": "markdown",
   "metadata": {},
   "source": [
    "### 7.4.1. Hierarchical clustering on embbeded space"
   ]
  },
  {
   "cell_type": "code",
   "execution_count": 160,
   "metadata": {
    "ExecuteTime": {
     "end_time": "2021-09-10T00:21:59.115371Z",
     "start_time": "2021-09-10T00:21:47.487615Z"
    }
   },
   "outputs": [],
   "source": [
    "clusters = [2, 4, 6, 7, 8, 9, 10, 11, 12, 13, 14, 15, 16, 17, 18, 19, 20]\n",
    "\n",
    "hc_emb_list =[]\n",
    "\n",
    "for k in clusters:\n",
    "    # model definition & training\n",
    "    hc_emb_model = hc.linkage(X_embbed, 'ward')\n",
    "\n",
    "    # model predict\n",
    "    labels = hc.fcluster(hc_emb_model, k, criterion='maxclust')\n",
    "\n",
    "    # model performance\n",
    "    sil = metrics.silhouette_score(X_embbed, labels, metric='euclidean')\n",
    "    hc_emb_list.append(sil)"
   ]
  },
  {
   "cell_type": "code",
   "execution_count": null,
   "metadata": {
    "ExecuteTime": {
     "start_time": "2021-09-10T00:21:47.705Z"
    }
   },
   "outputs": [],
   "source": [
    "hc.dendrogram(\n",
    "    hc_emb_model,\n",
    "    leaf_rotation=90,\n",
    "    leaf_font_size=8\n",
    "    )\n",
    "plt.plot()\n",
    "plt.show()"
   ]
  },
  {
   "cell_type": "markdown",
   "metadata": {},
   "source": [
    "# 8. Model training"
   ]
  },
  {
   "cell_type": "markdown",
   "metadata": {},
   "source": [
    "## 8.1. Hierarchical model"
   ]
  },
  {
   "cell_type": "code",
   "execution_count": null,
   "metadata": {
    "ExecuteTime": {
     "start_time": "2021-09-10T00:21:48.557Z"
    }
   },
   "outputs": [],
   "source": [
    "k = 12\n",
    "\n",
    "# model definition\n",
    "#gmm_emb_model = mx.GaussianMixture(n_components=k)\n",
    "\n",
    "# model training\n",
    "#gmm_emb_model.fit(X_embbed)\n",
    "\n",
    "# model predict\n",
    "#labels = gmm_emb_model.predict(X_embbed)\n",
    "\n",
    "# model performance\n",
    "#sil = metrics.silhouette_score(X_embbed, labels, metric='euclidean')\n",
    "\n",
    "#labels = gmm_emb_model.labels_\n",
    "\n",
    "\n",
    "# model definition & training\n",
    "hc_emb_model = hc.linkage(X_embbed, 'ward')\n",
    "\n",
    "# model predict\n",
    "labels = hc.fcluster(hc_emb_model, k, criterion='maxclust')\n",
    "\n",
    "# model performance\n",
    "sil = metrics.silhouette_score(X_embbed, labels, metric='euclidean')"
   ]
  },
  {
   "cell_type": "code",
   "execution_count": null,
   "metadata": {
    "ExecuteTime": {
     "start_time": "2021-09-10T00:21:48.736Z"
    }
   },
   "outputs": [],
   "source": [
    "labels.shape\n",
    "len(customers_to_cluster)"
   ]
  },
  {
   "cell_type": "markdown",
   "metadata": {},
   "source": [
    "# 9. Cluster analysis"
   ]
  },
  {
   "cell_type": "markdown",
   "metadata": {},
   "source": [
    "## 9.1. Final model"
   ]
  },
  {
   "cell_type": "code",
   "execution_count": null,
   "metadata": {
    "ExecuteTime": {
     "start_time": "2021-09-10T00:21:49.824Z"
    }
   },
   "outputs": [],
   "source": [
    "customers_to_cluster"
   ]
  },
  {
   "cell_type": "code",
   "execution_count": null,
   "metadata": {},
   "outputs": [],
   "source": []
  },
  {
   "cell_type": "code",
   "execution_count": null,
   "metadata": {
    "ExecuteTime": {
     "start_time": "2021-09-10T00:21:50.456Z"
    }
   },
   "outputs": [],
   "source": [
    "df9 = df_ref.copy()\n",
    "print(df9.shape)\n",
    "\n",
    "df9 = df9[df9['customer_id'].isin(customers_to_cluster)]\n",
    "print(df9.shape)\n",
    "print(labels.shape)\n",
    "#df9['cluster'] = labels\n",
    "#df7['cluster'] = labels\n",
    "print(df_leaf.shape)\n",
    "df_leaf['cluster'] = labels\n",
    "print(df_leaf.shape)\n",
    "#df9.head(10)\n"
   ]
  },
  {
   "cell_type": "markdown",
   "metadata": {},
   "source": [
    "### 9.1.1. Visualization Inspection"
   ]
  },
  {
   "cell_type": "code",
   "execution_count": null,
   "metadata": {
    "ExecuteTime": {
     "start_time": "2021-09-10T00:21:50.833Z"
    }
   },
   "outputs": [],
   "source": [
    "fig = plt.figure()\n",
    "ax = fig.add_subplot(111, projection='3d')\n",
    "ax.scatter(df_leaf['embedding_x'], df_leaf['embedding_y'], df_leaf['embedding_z'], c=df_leaf['cluster'])\n",
    "\n",
    "plt.figure(figsize=(10,10))\n",
    "\n",
    "plt.show()\n"
   ]
  },
  {
   "cell_type": "markdown",
   "metadata": {},
   "source": [
    "### 9.1.4. Cluster profile"
   ]
  },
  {
   "cell_type": "markdown",
   "metadata": {},
   "source": [
    "The profile of each cluster can be represented as a persona, and the persona is the mean or median behavior of all other customers inside the cluster"
   ]
  },
  {
   "cell_type": "code",
   "execution_count": null,
   "metadata": {
    "ExecuteTime": {
     "start_time": "2021-09-10T00:21:52.080Z"
    }
   },
   "outputs": [],
   "source": [
    "df_cluster = df9[['customer_id','cluster']].groupby('cluster').count().reset_index()\n",
    "df_cluster['perc_customer'] = round(100*(df_cluster['customer_id'] / df_cluster['customer_id'].sum()), 3)\n",
    "\n",
    "df_gross_revenue = round(df9[['gross_revenue', 'cluster']].groupby('cluster').mean().reset_index(), 2)\n",
    "df_avg_devolutions = round(df9[['devolutions', 'cluster']].groupby('cluster').mean().reset_index(), 2)\n",
    "#df_avg_relation = round(df9[['purc_dev','cluster']].groupby('cluster').mean().reset_index() , 2)\n",
    "\n",
    "df_avg_recency_p = round(df9[['cluster', 'recency_p']].groupby('cluster').mean().reset_index(), 2)\n",
    "#df_avg_quantity_d = round(df9[['cluster', 'quantity_d']].groupby('cluster').mean().reset_index(), 2)\n",
    "\n",
    "df_avg_frequency_p = round(df9[['cluster','quantity_p']].groupby('cluster').mean().reset_index(), 2)\n",
    "#df_avg_frequency_d = round(df9[['cluster','quantity_d']].groupby('cluster').mean().reset_index(), 2)\n",
    "\n",
    "df_avg_ticket = round(df9[['cluster','avg_ticket']].groupby('cluster').mean().reset_index(), 2)\n",
    "df_avg_recency_days = round(df9[['cluster','avg_recency_days']].groupby('cluster').mean().reset_index(), 2)\n",
    "df_avg_variety = round(df9[['cluster','avg_variety']].groupby('cluster').mean().reset_index(), 2)\n",
    "\n",
    "df_cluster = pd.merge(df_cluster, df_gross_revenue, on='cluster', how='inner')\n",
    "df_cluster = pd.merge(df_cluster, df_avg_devolutions, on='cluster', how='inner')\n",
    "#df_cluster = pd.merge(df_cluster, df_avg_relation, on='cluster', how='inner')\n",
    "df_cluster = pd.merge(df_cluster, df_avg_recency_p, on='cluster', how='inner')\n",
    "#df_cluster = pd.merge(df_cluster, df_avg_quantity_d, on='cluster', how='inner')\n",
    "df_cluster = pd.merge(df_cluster, df_avg_frequency_p, on='cluster', how='inner')\n",
    "#df_cluster = pd.merge(df_cluster, df_avg_frequency_d, on='cluster', how='inner')\n",
    "df_cluster = pd.merge(df_cluster, df_avg_ticket, on='cluster', how='inner')\n",
    "df_cluster = pd.merge(df_cluster, df_avg_recency_days, on='cluster', how='inner')\n",
    "df_cluster = pd.merge(df_cluster, df_avg_variety, on='cluster', how='inner')\n",
    "\n",
    "df_cluster"
   ]
  },
  {
   "cell_type": "markdown",
   "metadata": {},
   "source": [
    "# 10. Clusters insights"
   ]
  },
  {
   "cell_type": "code",
   "execution_count": null,
   "metadata": {
    "ExecuteTime": {
     "end_time": "2021-09-09T23:57:48.690569Z",
     "start_time": "2021-09-09T23:56:42.305Z"
    }
   },
   "outputs": [],
   "source": [
    "df10 = df9.copy()"
   ]
  },
  {
   "cell_type": "markdown",
   "metadata": {},
   "source": [
    "## Hypothesis for insights"
   ]
  },
  {
   "cell_type": "markdown",
   "metadata": {},
   "source": [
    "1. Affirmation\n",
    "2. Features comparison or clusters comparison\n",
    "3. Base value for comparison and classification in true or false for each hypothesis\n",
    "\n",
    "Example: Cluster | Feature analyzed | Base value for comparison"
   ]
  },
  {
   "cell_type": "markdown",
   "metadata": {},
   "source": [
    "### Purchase hypothesis"
   ]
  },
  {
   "cell_type": "markdown",
   "metadata": {},
   "source": [
    "1. More than 80% of Insiders customers use credit card for payment\n",
    "2. **Insiders clusters have an average ticket of at least 10% higher than any other cluster**\n",
    "3. **Insiders customers have a basket size higher than 5 products**\n",
    "4. **Insiders customers have a contribution of at least 10% of the total purchases**\n",
    "5. **Insiders customers have a smaller proportion of devolutions than the average of all customers**"
   ]
  },
  {
   "cell_type": "markdown",
   "metadata": {},
   "source": [
    "### Client hypothesis"
   ]
  },
  {
   "cell_type": "markdown",
   "metadata": {},
   "source": [
    "1. 60% of Insiders customers are single\n",
    "2. 10% of Insiders customers are aged between 24 - 35 years old\n",
    "3. 40% of Insiders customers are located in a radius of 50 km\n",
    "4. 5%  of Insiders customers earn a salary higher than USD 100.000 yearly\n",
    "5. 90% of Insiders customers have a high education degree"
   ]
  },
  {
   "cell_type": "markdown",
   "metadata": {},
   "source": [
    "### Product hypothesis"
   ]
  },
  {
   "cell_type": "markdown",
   "metadata": {},
   "source": [
    "1. 30% of the all products are bought by Insiders customers\n",
    "2. Insiders customers buys products that have a higher median than the median of all customers\n",
    "3. "
   ]
  },
  {
   "cell_type": "code",
   "execution_count": null,
   "metadata": {},
   "outputs": [],
   "source": []
  },
  {
   "cell_type": "code",
   "execution_count": null,
   "metadata": {},
   "outputs": [],
   "source": []
  },
  {
   "cell_type": "code",
   "execution_count": null,
   "metadata": {},
   "outputs": [],
   "source": []
  },
  {
   "cell_type": "markdown",
   "metadata": {},
   "source": [
    "### Hx. The median of revenues from insiders customers is 10% higher than the median of other customers"
   ]
  },
  {
   "cell_type": "code",
   "execution_count": null,
   "metadata": {
    "ExecuteTime": {
     "end_time": "2021-09-09T23:57:48.691849Z",
     "start_time": "2021-09-09T23:56:45.097Z"
    }
   },
   "outputs": [],
   "source": [
    "insiders_gnv_median = df10.loc[df10['cluster']==1, 'gross_revenue'].median()\n",
    "total_gnv_median = df10.loc[:,'gross_revenue'].median()\n",
    "\n",
    "revenue_diff_median = (insiders_gnv_median - total_gnv_median) / total_gnv_median\n",
    "\n",
    "print('Insiders revenue median is {}% higher than the median revenue'.format(round(revenue_diff_median*100, 2)))"
   ]
  },
  {
   "cell_type": "markdown",
   "metadata": {},
   "source": [
    "### Hx. The percentile of revenue from insiders customers is higher than third quartile"
   ]
  },
  {
   "cell_type": "code",
   "execution_count": null,
   "metadata": {
    "ExecuteTime": {
     "end_time": "2021-09-09T23:57:48.692712Z",
     "start_time": "2021-09-09T23:56:45.453Z"
    }
   },
   "outputs": [],
   "source": [
    "df_aux = df10.loc[(df10['cluster']==1) & (df10['gross_revenue'] < 50000), 'gross_revenue'] \n",
    "sns.violinplot(x=df_aux)# hue=df10.loc[df10['cluster'] != 1])"
   ]
  },
  {
   "cell_type": "markdown",
   "metadata": {},
   "source": [
    "## 10.1. Business questions"
   ]
  },
  {
   "cell_type": "markdown",
   "metadata": {},
   "source": [
    "### 1. Who are electible to participate in the Insiders program?"
   ]
  },
  {
   "cell_type": "code",
   "execution_count": null,
   "metadata": {
    "ExecuteTime": {
     "end_time": "2021-09-09T23:57:48.693539Z",
     "start_time": "2021-09-09T23:56:45.996Z"
    }
   },
   "outputs": [],
   "source": [
    "df10.loc[df10['cluster']==1, 'customer_id'].head()"
   ]
  },
  {
   "cell_type": "markdown",
   "metadata": {},
   "source": [
    "### 2. How many customers will be part of the group?"
   ]
  },
  {
   "cell_type": "code",
   "execution_count": null,
   "metadata": {
    "ExecuteTime": {
     "end_time": "2021-09-09T23:57:48.695541Z",
     "start_time": "2021-09-09T23:56:46.371Z"
    }
   },
   "outputs": [],
   "source": [
    "df10.loc[df10['cluster']==1, 'customer_id'].size"
   ]
  },
  {
   "cell_type": "markdown",
   "metadata": {},
   "source": [
    "### 3. What are the main characteristic of those customers?"
   ]
  },
  {
   "cell_type": "markdown",
   "metadata": {},
   "source": [
    "    - Gross revenue: $7810.07;\n",
    "    - Returns: $328.58;\n",
    "    - Recency of last purchase: 44.92 dias;\n",
    "    - Quantity of products bought: 1255 products;\n",
    "    - Average ticket: $93.10;\n",
    "    - Average time between purchases: 51.16 days;\n",
    "    - Average variety of products purchased: 20.97."
   ]
  },
  {
   "cell_type": "markdown",
   "metadata": {},
   "source": [
    "### 4. What are the contribution of those customers in revenue?"
   ]
  },
  {
   "cell_type": "code",
   "execution_count": null,
   "metadata": {
    "ExecuteTime": {
     "end_time": "2021-09-09T23:57:48.696626Z",
     "start_time": "2021-09-09T23:56:47.132Z"
    }
   },
   "outputs": [],
   "source": [
    "insiders_total_revenue = df10.loc[df10['cluster']==1, 'gross_revenue'].sum()\n",
    "all_total_revenue = df10.loc[:, 'gross_revenue'].sum()\n",
    "\n",
    "print('Insiders contribution in gross revenue is {}% of total revenue'.format(round(insiders_total_revenue*100 / all_total_revenue, 2)))"
   ]
  },
  {
   "cell_type": "markdown",
   "metadata": {},
   "source": [
    "### 5. What are the future expectations for revenue in the next months for these customers?"
   ]
  },
  {
   "cell_type": "code",
   "execution_count": null,
   "metadata": {
    "ExecuteTime": {
     "end_time": "2021-09-09T23:57:48.697694Z",
     "start_time": "2021-09-09T23:56:47.540Z"
    }
   },
   "outputs": [],
   "source": [
    "df_cluster"
   ]
  },
  {
   "cell_type": "markdown",
   "metadata": {},
   "source": [
    "### 6. What are the conditions for a person to be elected in the Insiders program?"
   ]
  },
  {
   "cell_type": "markdown",
   "metadata": {},
   "source": [
    "### 7. What are the conditions for a person to be removed from the Insiders program?"
   ]
  },
  {
   "cell_type": "markdown",
   "metadata": {},
   "source": [
    "### 8. How we can be sure that a Insider customer is better than the others customers?"
   ]
  },
  {
   "cell_type": "markdown",
   "metadata": {},
   "source": [
    "### 9. What actions are available for the marketing team to improve revenue?"
   ]
  },
  {
   "cell_type": "code",
   "execution_count": null,
   "metadata": {},
   "outputs": [],
   "source": []
  },
  {
   "cell_type": "code",
   "execution_count": null,
   "metadata": {},
   "outputs": [],
   "source": []
  },
  {
   "cell_type": "code",
   "execution_count": null,
   "metadata": {},
   "outputs": [],
   "source": []
  },
  {
   "cell_type": "code",
   "execution_count": null,
   "metadata": {},
   "outputs": [],
   "source": []
  },
  {
   "cell_type": "code",
   "execution_count": null,
   "metadata": {},
   "outputs": [],
   "source": []
  },
  {
   "cell_type": "code",
   "execution_count": null,
   "metadata": {},
   "outputs": [],
   "source": []
  },
  {
   "cell_type": "code",
   "execution_count": null,
   "metadata": {},
   "outputs": [],
   "source": []
  },
  {
   "cell_type": "code",
   "execution_count": null,
   "metadata": {},
   "outputs": [],
   "source": []
  },
  {
   "cell_type": "markdown",
   "metadata": {},
   "source": [
    "# 11. Deploy to production"
   ]
  },
  {
   "cell_type": "code",
   "execution_count": null,
   "metadata": {
    "ExecuteTime": {
     "end_time": "2021-09-09T23:57:48.698552Z",
     "start_time": "2021-09-09T23:56:50.155Z"
    }
   },
   "outputs": [],
   "source": [
    "df10.head()"
   ]
  },
  {
   "cell_type": "markdown",
   "metadata": {},
   "source": [
    "## 11.1. Insert into SQLITE"
   ]
  },
  {
   "cell_type": "code",
   "execution_count": null,
   "metadata": {},
   "outputs": [],
   "source": []
  },
  {
   "cell_type": "code",
   "execution_count": null,
   "metadata": {},
   "outputs": [],
   "source": []
  },
  {
   "cell_type": "code",
   "execution_count": null,
   "metadata": {},
   "outputs": [],
   "source": []
  },
  {
   "cell_type": "code",
   "execution_count": null,
   "metadata": {},
   "outputs": [],
   "source": []
  }
 ],
 "metadata": {
  "kernelspec": {
   "display_name": "Python 3",
   "language": "python",
   "name": "python3"
  },
  "language_info": {
   "codemirror_mode": {
    "name": "ipython",
    "version": 3
   },
   "file_extension": ".py",
   "mimetype": "text/x-python",
   "name": "python",
   "nbconvert_exporter": "python",
   "pygments_lexer": "ipython3",
   "version": "3.8.0"
  },
  "latex_envs": {
   "LaTeX_envs_menu_present": true,
   "autoclose": true,
   "autocomplete": true,
   "bibliofile": "biblio.bib",
   "cite_by": "apalike",
   "current_citInitial": 1,
   "eqLabelWithNumbers": true,
   "eqNumInitial": 1,
   "hotkeys": {
    "equation": "Ctrl-E",
    "itemize": "Ctrl-I"
   },
   "labels_anchors": false,
   "latex_user_defs": false,
   "report_style_numbering": false,
   "user_envs_cfg": false
  }
 },
 "nbformat": 4,
 "nbformat_minor": 5
}
